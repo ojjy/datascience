{
 "cells": [
  {
   "cell_type": "code",
   "execution_count": 1,
   "metadata": {},
   "outputs": [],
   "source": [
    "import pandas as pd\n",
    "import seaborn as sns\n",
    "import matplotlib.pyplot as plt\n"
   ]
  },
  {
   "cell_type": "code",
   "execution_count": 2,
   "metadata": {},
   "outputs": [],
   "source": [
    "df = pd.read_csv(\"diabetes.csv\")"
   ]
  },
  {
   "cell_type": "code",
   "execution_count": 3,
   "metadata": {},
   "outputs": [
    {
     "data": {
      "image/png": "[encoded data removed]",
      "text/plain": [
       "<Figure size 432x288 with 1 Axes>"
      ]
     },
     "metadata": {},
     "output_type": "display_data"
    }
   ],
   "source": [
    "data = [(df[\"Pregnancies\"] >2 ).value_counts(normalize=True)[True], (df[\"Pregnancies\"]>2).value_counts(normalize=True)[False]]\n",
    "data\n",
    "categories=[\"True\", \"False\"]\n",
    "plt.pie(data, labels=categories, autopct='%0.1f')\n",
    "plt.show()"
   ]
  },
  {
   "cell_type": "markdown",
   "metadata": {},
   "source": [
    "Try- except 구문\n",
    "\n",
    "try - 에러가 발생하지 않았을때 실행되는 구문\n",
    "\n",
    "except - 에러가 발생했을때 실행되는 구문 (Exception 넣을수 있고 넣지 않을수 있다)\n",
    "넣지 않으면 모든 exception에서 수행, 특정 Ex 넣으면 특정 Ex에서만 수행\n",
    "\n",
    "else - 에러가 발생하지 않았을때 try절과 함께 실행되는 구문\n",
    "\n",
    "finally - 에러가 발생하든 하지 않든 실행되는 구문"
   ]
  },
  {
   "cell_type": "code",
   "execution_count": 4,
   "metadata": {},
   "outputs": [],
   "source": [
    "def show_pie(feature, number):\n",
    "    try:\n",
    "        data = [(df[feature] > number ).value_counts(normalize=True)[True], (df[feature]>number).value_counts(normalize=True)[False]]\n",
    "        data\n",
    "        categories=[\"True\", \"False\"]\n",
    "        plt.pie(data, labels=categories, autopct='%0.1f')\n",
    "        plt.show()\n",
    "    except KeyError as ke:\n",
    "        print(f\"KeyError occured: {feature} is not feature of this dataset\")\n",
    "    else:\n",
    "        print(\"else statement\")\n",
    "    finally:\n",
    "        print(\"finally statement\")"
   ]
  },
  {
   "cell_type": "code",
   "execution_count": 6,
   "metadata": {},
   "outputs": [
    {
     "data": {
      "image/png": "[encoded data removed]",
      "text/plain": [
       "<Figure size 432x288 with 1 Axes>"
      ]
     },
     "metadata": {},
     "output_type": "display_data"
    },
    {
     "name": "stdout",
     "output_type": "stream",
     "text": [
      "else statement\n",
      "finally statement\n"
     ]
    }
   ],
   "source": [
    "show_pie(\"Age\", 40)"
   ]
  },
  {
   "cell_type": "code",
   "execution_count": null,
   "metadata": {},
   "outputs": [],
   "source": []
  }
 ],
 "metadata": {
  "kernelspec": {
   "display_name": "Python 3",
   "language": "python",
   "name": "python3"
  },
  "language_info": {
   "codemirror_mode": {
    "name": "ipython",
    "version": 3
   },
   "file_extension": ".py",
   "mimetype": "text/x-python",
   "name": "python",
   "nbconvert_exporter": "python",
   "pygments_lexer": "ipython3",
   "version": "3.8.5"
  }
 },
 "nbformat": 4,
 "nbformat_minor": 4
}
