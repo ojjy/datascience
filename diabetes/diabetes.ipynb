{
 "cells": [
  {
   "cell_type": "code",
   "execution_count": 5,
   "metadata": {},
   "outputs": [],
   "source": [
    "import pandas as pd\n",
    "import seaborn as sns\n",
    "import matplotlib.pyplot as plt\n"
   ]
  },
  {
   "cell_type": "code",
   "execution_count": 2,
   "metadata": {},
   "outputs": [],
   "source": [
    "df = pd.read_csv(\"diabetes.csv\")"
   ]
  },
  {
   "cell_type": "code",
   "execution_count": 6,
   "metadata": {},
   "outputs": [
    {
     "data": {
      "image/png": "[encoded data removed]",
      "text/plain": [
       "<Figure size 432x288 with 1 Axes>"
      ]
     },
     "metadata": {},
     "output_type": "display_data"
    }
   ],
   "source": [
    "data = [(df[\"Pregnancies\"] >2 ).value_counts(normalize=True)[True], (df[\"Pregnancies\"]>2).value_counts(normalize=True)[False]]\n",
    "data\n",
    "categories=[\"True\", \"False\"]\n",
    "plt.pie(data, labels=categories, autopct='%0.1f')\n",
    "plt.show()"
   ]
  },
  {
   "cell_type": "code",
   "execution_count": 15,
   "metadata": {},
   "outputs": [],
   "source": [
    "def show_pie(feature, number):\n",
    "    try:\n",
    "        data = [(df[feature] > number ).value_counts(normalize=True)[True], (df[feature]>number).value_counts(normalize=True)[False]]\n",
    "        data\n",
    "        categories=[\"True\", \"False\"]\n",
    "        plt.pie(data, labels=categories, autopct='%0.1f')\n",
    "        plt.show()\n",
    "    except KeyError as ke:\n",
    "        print(f\"KeyError occured: {feature} is not feature of this dataset\")"
   ]
  },
  {
   "cell_type": "code",
   "execution_count": 19,
   "metadata": {},
   "outputs": [
    {
     "name": "stdout",
     "output_type": "stream",
     "text": [
      "KeyError occured: Ages is not feature of this dataset\n"
     ]
    }
   ],
   "source": [
    "show_pie(\"Ages\", 40)"
   ]
  },
  {
   "cell_type": "code",
   "execution_count": null,
   "metadata": {},
   "outputs": [],
   "source": []
  }
 ],
 "metadata": {
  "kernelspec": {
   "display_name": "Python 3",
   "language": "python",
   "name": "python3"
  },
  "language_info": {
   "codemirror_mode": {
    "name": "ipython",
    "version": 3
   },
   "file_extension": ".py",
   "mimetype": "text/x-python",
   "name": "python",
   "nbconvert_exporter": "python",
   "pygments_lexer": "ipython3",
   "version": "3.8.5"
  }
 },
 "nbformat": 4,
 "nbformat_minor": 4
}
