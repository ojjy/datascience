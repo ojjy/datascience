{
 "cells": [
  {
   "cell_type": "code",
   "execution_count": 15,
   "metadata": {},
   "outputs": [
    {
     "name": "stdout",
     "output_type": "stream",
     "text": [
      "WARNING:tensorflow:From /Users/yjjo/opt/anaconda3/lib/python3.8/site-packages/tensorflow/python/compat/v2_compat.py:96: disable_resource_variables (from tensorflow.python.ops.variable_scope) is deprecated and will be removed in a future version.\n",
      "Instructions for updating:\n",
      "non-resource variables are not supported in the long term\n"
     ]
    }
   ],
   "source": [
    "import tensorflow.compat.v1 as tf\n",
    "import pandas as pd\n",
    "import numpy as np\n",
    "tf.disable_v2_behavior()"
   ]
  },
  {
   "cell_type": "code",
   "execution_count": 17,
   "metadata": {},
   "outputs": [
    {
     "data": {
      "text/html": [
       "<div>\n",
       "<style scoped>\n",
       "    .dataframe tbody tr th:only-of-type {\n",
       "        vertical-align: middle;\n",
       "    }\n",
       "\n",
       "    .dataframe tbody tr th {\n",
       "        vertical-align: top;\n",
       "    }\n",
       "\n",
       "    .dataframe thead th {\n",
       "        text-align: right;\n",
       "    }\n",
       "</style>\n",
       "<table border=\"1\" class=\"dataframe\">\n",
       "  <thead>\n",
       "    <tr style=\"text-align: right;\">\n",
       "      <th></th>\n",
       "      <th>year</th>\n",
       "      <th>avgTemp</th>\n",
       "      <th>minTemp</th>\n",
       "      <th>maxTemp</th>\n",
       "      <th>rainFall</th>\n",
       "      <th>avgPrice</th>\n",
       "    </tr>\n",
       "  </thead>\n",
       "  <tbody>\n",
       "    <tr>\n",
       "      <th>0</th>\n",
       "      <td>20100101</td>\n",
       "      <td>-4.9</td>\n",
       "      <td>-11.0</td>\n",
       "      <td>0.9</td>\n",
       "      <td>0.0</td>\n",
       "      <td>2123</td>\n",
       "    </tr>\n",
       "    <tr>\n",
       "      <th>1</th>\n",
       "      <td>20100102</td>\n",
       "      <td>-3.1</td>\n",
       "      <td>-5.5</td>\n",
       "      <td>5.5</td>\n",
       "      <td>0.8</td>\n",
       "      <td>2123</td>\n",
       "    </tr>\n",
       "    <tr>\n",
       "      <th>2</th>\n",
       "      <td>20100103</td>\n",
       "      <td>-2.9</td>\n",
       "      <td>-6.9</td>\n",
       "      <td>1.4</td>\n",
       "      <td>0.0</td>\n",
       "      <td>2123</td>\n",
       "    </tr>\n",
       "    <tr>\n",
       "      <th>3</th>\n",
       "      <td>20100104</td>\n",
       "      <td>-1.8</td>\n",
       "      <td>-5.1</td>\n",
       "      <td>2.2</td>\n",
       "      <td>5.9</td>\n",
       "      <td>2020</td>\n",
       "    </tr>\n",
       "    <tr>\n",
       "      <th>4</th>\n",
       "      <td>20100105</td>\n",
       "      <td>-5.2</td>\n",
       "      <td>-8.7</td>\n",
       "      <td>-1.8</td>\n",
       "      <td>0.7</td>\n",
       "      <td>2060</td>\n",
       "    </tr>\n",
       "    <tr>\n",
       "      <th>...</th>\n",
       "      <td>...</td>\n",
       "      <td>...</td>\n",
       "      <td>...</td>\n",
       "      <td>...</td>\n",
       "      <td>...</td>\n",
       "      <td>...</td>\n",
       "    </tr>\n",
       "    <tr>\n",
       "      <th>2917</th>\n",
       "      <td>20171227</td>\n",
       "      <td>-3.9</td>\n",
       "      <td>-8.0</td>\n",
       "      <td>0.7</td>\n",
       "      <td>0.0</td>\n",
       "      <td>2865</td>\n",
       "    </tr>\n",
       "    <tr>\n",
       "      <th>2918</th>\n",
       "      <td>20171228</td>\n",
       "      <td>-1.5</td>\n",
       "      <td>-6.9</td>\n",
       "      <td>3.7</td>\n",
       "      <td>0.0</td>\n",
       "      <td>2884</td>\n",
       "    </tr>\n",
       "    <tr>\n",
       "      <th>2919</th>\n",
       "      <td>20171229</td>\n",
       "      <td>2.9</td>\n",
       "      <td>-2.1</td>\n",
       "      <td>8.0</td>\n",
       "      <td>0.0</td>\n",
       "      <td>2901</td>\n",
       "    </tr>\n",
       "    <tr>\n",
       "      <th>2920</th>\n",
       "      <td>20171230</td>\n",
       "      <td>2.9</td>\n",
       "      <td>-1.6</td>\n",
       "      <td>7.1</td>\n",
       "      <td>0.6</td>\n",
       "      <td>2901</td>\n",
       "    </tr>\n",
       "    <tr>\n",
       "      <th>2921</th>\n",
       "      <td>20171231</td>\n",
       "      <td>2.1</td>\n",
       "      <td>-2.0</td>\n",
       "      <td>5.8</td>\n",
       "      <td>0.4</td>\n",
       "      <td>2901</td>\n",
       "    </tr>\n",
       "  </tbody>\n",
       "</table>\n",
       "<p>2922 rows × 6 columns</p>\n",
       "</div>"
      ],
      "text/plain": [
       "          year  avgTemp  minTemp  maxTemp  rainFall  avgPrice\n",
       "0     20100101     -4.9    -11.0      0.9       0.0      2123\n",
       "1     20100102     -3.1     -5.5      5.5       0.8      2123\n",
       "2     20100103     -2.9     -6.9      1.4       0.0      2123\n",
       "3     20100104     -1.8     -5.1      2.2       5.9      2020\n",
       "4     20100105     -5.2     -8.7     -1.8       0.7      2060\n",
       "...        ...      ...      ...      ...       ...       ...\n",
       "2917  20171227     -3.9     -8.0      0.7       0.0      2865\n",
       "2918  20171228     -1.5     -6.9      3.7       0.0      2884\n",
       "2919  20171229      2.9     -2.1      8.0       0.0      2901\n",
       "2920  20171230      2.9     -1.6      7.1       0.6      2901\n",
       "2921  20171231      2.1     -2.0      5.8       0.4      2901\n",
       "\n",
       "[2922 rows x 6 columns]"
      ]
     },
     "execution_count": 17,
     "metadata": {},
     "output_type": "execute_result"
    }
   ],
   "source": [
    "model = tf.global_variables_initializer()\n",
    "df = pd.read_csv(\"price_data.csv\", sep=\",\")\n",
    "\n",
    "df"
   ]
  },
  {
   "cell_type": "code",
   "execution_count": 18,
   "metadata": {},
   "outputs": [
    {
     "data": {
      "text/plain": [
       "array([[ 2.0100100e+07, -4.9000001e+00, -1.1000000e+01,  8.9999998e-01,\n",
       "         0.0000000e+00,  2.1230000e+03],\n",
       "       [ 2.0100102e+07, -3.0999999e+00, -5.5000000e+00,  5.5000000e+00,\n",
       "         8.0000001e-01,  2.1230000e+03],\n",
       "       [ 2.0100104e+07, -2.9000001e+00, -6.9000001e+00,  1.4000000e+00,\n",
       "         0.0000000e+00,  2.1230000e+03],\n",
       "       ...,\n",
       "       [ 2.0171228e+07,  2.9000001e+00, -2.0999999e+00,  8.0000000e+00,\n",
       "         0.0000000e+00,  2.9010000e+03],\n",
       "       [ 2.0171230e+07,  2.9000001e+00, -1.6000000e+00,  7.0999999e+00,\n",
       "         6.0000002e-01,  2.9010000e+03],\n",
       "       [ 2.0171232e+07,  2.0999999e+00, -2.0000000e+00,  5.8000002e+00,\n",
       "         4.0000001e-01,  2.9010000e+03]], dtype=float32)"
      ]
     },
     "execution_count": 18,
     "metadata": {},
     "output_type": "execute_result"
    }
   ],
   "source": [
    "xy=np.array(df, dtype=np.float32)\n",
    "xy"
   ]
  },
  {
   "cell_type": "code",
   "execution_count": 19,
   "metadata": {},
   "outputs": [],
   "source": [
    "x_data = xy[:, 1:-1]\n",
    "y_data = xy[:, [-1]]"
   ]
  },
  {
   "cell_type": "code",
   "execution_count": 22,
   "metadata": {},
   "outputs": [],
   "source": [
    "X = tf.placeholder(tf.float32, shape=[None, 4])\n",
    "Y = tf.placeholder(tf.float32, shape=[None, 1])\n",
    "W = tf.Variable(tf.random_normal([4,1], name=\"weight\"))\n",
    "b = tf.Variable(tf.random_normal([1]), name=\"bias\")"
   ]
  },
  {
   "cell_type": "code",
   "execution_count": 23,
   "metadata": {},
   "outputs": [],
   "source": [
    "hypothesis = tf.matmul(X, W)+b"
   ]
  },
  {
   "cell_type": "code",
   "execution_count": 24,
   "metadata": {},
   "outputs": [],
   "source": [
    "cost = tf.reduce_mean(tf.square(hypothesis - Y))"
   ]
  },
  {
   "cell_type": "code",
   "execution_count": 25,
   "metadata": {},
   "outputs": [],
   "source": [
    "optimizer = tf.train.GradientDescentOptimizer(learning_rate=0.00005)\n",
    "train = optimizer.minimize(cost)"
   ]
  },
  {
   "cell_type": "code",
   "execution_count": 26,
   "metadata": {},
   "outputs": [],
   "source": [
    "sess = tf.Session()\n",
    "sess.run(tf.global_variables_initializer())"
   ]
  },
  {
   "cell_type": "code",
   "execution_count": null,
   "metadata": {},
   "outputs": [
    {
     "name": "stdout",
     "output_type": "stream",
     "text": [
      "# 0 손실비용:  11407459.0\n",
      "- 배추가격:  [-47.309917]\n",
      "# 500 손실비용:  2508785.0\n",
      "- 배추가격:  [1584.5012]\n",
      "# 1000 손실비용:  2298696.2\n",
      "- 배추가격:  [2270.9236]\n",
      "# 1500 손실비용:  2275913.5\n",
      "- 배추가격:  [2483.8447]\n",
      "# 2000 손실비용:  2271157.5\n",
      "- 배추가격:  [2550.055]\n",
      "# 2500 손실비용:  2268154.2\n",
      "- 배추가격:  [2570.7734]\n",
      "# 3000 손실비용:  2265337.8\n",
      "- 배추가격:  [2577.3855]\n",
      "# 3500 손실비용:  2262557.2\n",
      "- 배추가격:  [2579.624]\n",
      "# 4000 손실비용:  2259799.0\n",
      "- 배추가격:  [2580.5066]\n",
      "# 4500 손실비용:  2257060.2\n",
      "- 배추가격:  [2580.9763]\n",
      "# 5000 손실비용:  2254342.0\n",
      "- 배추가격:  [2581.321]\n",
      "# 5500 손실비용:  2251643.0\n",
      "- 배추가격:  [2581.6187]\n",
      "# 6000 손실비용:  2248963.5\n",
      "- 배추가격:  [2581.909]\n",
      "# 6500 손실비용:  2246303.0\n",
      "- 배추가격:  [2582.1963]\n",
      "# 7000 손실비용:  2243662.2\n",
      "- 배추가격:  [2582.4668]\n",
      "# 7500 손실비용:  2241040.0\n",
      "- 배추가격:  [2582.766]\n",
      "# 8000 손실비용:  2238436.8\n",
      "- 배추가격:  [2583.0566]\n",
      "# 8500 손실비용:  2235852.2\n",
      "- 배추가격:  [2583.3274]\n",
      "# 9000 손실비용:  2233286.0\n",
      "- 배추가격:  [2583.646]\n",
      "# 9500 손실비용:  2230738.2\n",
      "- 배추가격:  [2583.9226]\n",
      "# 10000 손실비용:  2228208.8\n",
      "- 배추가격:  [2584.2202]\n",
      "# 10500 손실비용:  2225697.2\n",
      "- 배추가격:  [2584.5198]\n",
      "# 11000 손실비용:  2223204.0\n",
      "- 배추가격:  [2584.804]\n",
      "# 11500 손실비용:  2220728.0\n",
      "- 배추가격:  [2585.118]\n",
      "# 12000 손실비용:  2218269.8\n",
      "- 배추가격:  [2585.4111]\n",
      "# 12500 손실비용:  2215828.8\n",
      "- 배추가격:  [2585.7102]\n",
      "# 13000 손실비용:  2213405.5\n",
      "- 배추가격:  [2586.0393]\n",
      "# 13500 손실비용:  2210999.0\n",
      "- 배추가격:  [2586.3184]\n",
      "# 14000 손실비용:  2208609.8\n",
      "- 배추가격:  [2586.6323]\n",
      "# 14500 손실비용:  2206237.8\n",
      "- 배추가격:  [2586.9453]\n",
      "# 15000 손실비용:  2203882.0\n",
      "- 배추가격:  [2587.2358]\n",
      "# 15500 손실비용:  2201543.5\n",
      "- 배추가격:  [2587.5588]\n",
      "# 16000 손실비용:  2199220.5\n",
      "- 배추가격:  [2587.8738]\n",
      "# 16500 손실비용:  2196914.5\n",
      "- 배추가격:  [2588.1724]\n",
      "# 17000 손실비용:  2194624.8\n",
      "- 배추가격:  [2588.5103]\n",
      "# 17500 손실비용:  2192351.0\n",
      "- 배추가격:  [2588.816]\n",
      "# 18000 손실비용:  2190093.0\n",
      "- 배추가격:  [2589.114]\n",
      "# 18500 손실비용:  2187851.2\n",
      "- 배추가격:  [2589.454]\n",
      "# 19000 손실비용:  2185624.5\n",
      "- 배추가격:  [2589.7622]\n",
      "# 19500 손실비용:  2183413.8\n",
      "- 배추가격:  [2590.0784]\n",
      "# 20000 손실비용:  2181218.8\n",
      "- 배추가격:  [2590.4246]\n",
      "# 20500 손실비용:  2179038.5\n",
      "- 배추가격:  [2590.7307]\n",
      "# 21000 손실비용:  2176873.8\n",
      "- 배추가격:  [2591.0393]\n"
     ]
    }
   ],
   "source": [
    "for step in range(0, 100001):\n",
    "    cost_, hypo_, _ = sess.run([cost, hypothesis, train], feed_dict={X:x_data, Y:y_data})\n",
    "    if step % 500 == 0:\n",
    "        print(\"#\", step, \"손실비용: \", cost_)\n",
    "        print(\"- 배추가격: \", hypo_[0])"
   ]
  },
  {
   "cell_type": "code",
   "execution_count": null,
   "metadata": {},
   "outputs": [],
   "source": []
  }
 ],
 "metadata": {
  "kernelspec": {
   "display_name": "Python 3",
   "language": "python",
   "name": "python3"
  },
  "language_info": {
   "codemirror_mode": {
    "name": "ipython",
    "version": 3
   },
   "file_extension": ".py",
   "mimetype": "text/x-python",
   "name": "python",
   "nbconvert_exporter": "python",
   "pygments_lexer": "ipython3",
   "version": "3.8.5"
  }
 },
 "nbformat": 4,
 "nbformat_minor": 4
}
