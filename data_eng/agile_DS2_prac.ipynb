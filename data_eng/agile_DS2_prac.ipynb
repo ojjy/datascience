{
 "cells": [
  {
   "cell_type": "markdown",
   "id": "3f8ab4f4-6da6-4df7-9f0a-c1607360e6c6",
   "metadata": {},
   "source": [
    "#### References. https://github.com/rjurney/Agile_Data_Code_2"
   ]
  },
  {
   "cell_type": "markdown",
   "id": "2c0b7eee-f614-45cd-9f9c-516820b1f396",
   "metadata": {},
   "source": [
    "Intialize PySpark"
   ]
  },
  {
   "cell_type": "code",
   "execution_count": 1,
   "id": "1d6c45a1-209d-45fd-a00a-e4b54a7b6724",
   "metadata": {},
   "outputs": [
    {
     "name": "stderr",
     "output_type": "stream",
     "text": [
      "22/02/12 11:23:06 WARN Utils: Your hostname, kellyui-MacBookAir.local resolves to a loopback address: 127.0.0.1; using 192.168.0.3 instead (on interface en0)\n",
      "22/02/12 11:23:06 WARN Utils: Set SPARK_LOCAL_IP if you need to bind to another address\n",
      "WARNING: An illegal reflective access operation has occurred\n",
      "WARNING: Illegal reflective access by org.apache.spark.unsafe.Platform (file:/Users/kelly/opt/anaconda3/lib/python3.9/site-packages/pyspark/jars/spark-unsafe_2.12-3.2.1.jar) to constructor java.nio.DirectByteBuffer(long,int)\n",
      "WARNING: Please consider reporting this to the maintainers of org.apache.spark.unsafe.Platform\n",
      "WARNING: Use --illegal-access=warn to enable warnings of further illegal reflective access operations\n",
      "WARNING: All illegal access operations will be denied in a future release\n"
     ]
    },
    {
     "name": "stdout",
     "output_type": "stream",
     "text": [
      ":: loading settings :: url = jar:file:/Users/kelly/opt/anaconda3/lib/python3.9/site-packages/pyspark/jars/ivy-2.5.0.jar!/org/apache/ivy/core/settings/ivysettings.xml\n"
     ]
    },
    {
     "name": "stderr",
     "output_type": "stream",
     "text": [
      "Ivy Default Cache set to: /Users/kelly/.ivy2/cache\n",
      "The jars for the packages stored in: /Users/kelly/.ivy2/jars\n",
      "org.mongodb.spark#mongo-spark-connector_2.12 added as a dependency\n",
      "org.elasticsearch#elasticsearch-spark-30_2.12 added as a dependency\n",
      ":: resolving dependencies :: org.apache.spark#spark-submit-parent-c67b764d-84c6-4c68-806c-7d8bdeb536ce;1.0\n",
      "\tconfs: [default]\n",
      "\tfound org.mongodb.spark#mongo-spark-connector_2.12;3.0.1 in central\n",
      "\tfound org.mongodb#mongodb-driver-sync;4.0.5 in central\n",
      "\tfound org.mongodb#bson;4.0.5 in central\n",
      "\tfound org.mongodb#mongodb-driver-core;4.0.5 in central\n",
      "\tfound org.elasticsearch#elasticsearch-spark-30_2.12;7.14.2 in central\n",
      "\tfound org.scala-lang#scala-reflect;2.12.8 in central\n",
      "\tfound org.slf4j#slf4j-api;1.7.6 in central\n",
      "\tfound commons-logging#commons-logging;1.1.1 in central\n",
      "\tfound javax.xml.bind#jaxb-api;2.3.1 in central\n",
      "\tfound com.google.protobuf#protobuf-java;2.5.0 in central\n",
      "\tfound org.apache.spark#spark-yarn_2.12;3.0.1 in central\n",
      ":: resolution report :: resolve 1093ms :: artifacts dl 43ms\n",
      "\t:: modules in use:\n",
      "\tcom.google.protobuf#protobuf-java;2.5.0 from central in [default]\n",
      "\tcommons-logging#commons-logging;1.1.1 from central in [default]\n",
      "\tjavax.xml.bind#jaxb-api;2.3.1 from central in [default]\n",
      "\torg.apache.spark#spark-yarn_2.12;3.0.1 from central in [default]\n",
      "\torg.elasticsearch#elasticsearch-spark-30_2.12;7.14.2 from central in [default]\n",
      "\torg.mongodb#bson;4.0.5 from central in [default]\n",
      "\torg.mongodb#mongodb-driver-core;4.0.5 from central in [default]\n",
      "\torg.mongodb#mongodb-driver-sync;4.0.5 from central in [default]\n",
      "\torg.mongodb.spark#mongo-spark-connector_2.12;3.0.1 from central in [default]\n",
      "\torg.scala-lang#scala-reflect;2.12.8 from central in [default]\n",
      "\torg.slf4j#slf4j-api;1.7.6 from central in [default]\n",
      "\t---------------------------------------------------------------------\n",
      "\t|                  |            modules            ||   artifacts   |\n",
      "\t|       conf       | number| search|dwnlded|evicted|| number|dwnlded|\n",
      "\t---------------------------------------------------------------------\n",
      "\t|      default     |   11  |   0   |   0   |   0   ||   11  |   0   |\n",
      "\t---------------------------------------------------------------------\n",
      ":: retrieving :: org.apache.spark#spark-submit-parent-c67b764d-84c6-4c68-806c-7d8bdeb536ce\n",
      "\tconfs: [default]\n",
      "\t0 artifacts copied, 11 already retrieved (0kB/34ms)\n",
      "22/02/12 11:23:08 WARN NativeCodeLoader: Unable to load native-hadoop library for your platform... using builtin-java classes where applicable\n",
      "Using Spark's default log4j profile: org/apache/spark/log4j-defaults.properties\n",
      "Setting default log level to \"WARN\".\n",
      "To adjust logging level use sc.setLogLevel(newLevel). For SparkR, use setLogLevel(newLevel).\n"
     ]
    },
    {
     "name": "stdout",
     "output_type": "stream",
     "text": [
      "\n",
      "PySpark initialized...\n"
     ]
    }
   ],
   "source": [
    "from pyspark.sql import SparkSession\n",
    "\n",
    "\n",
    "# Initialize PySpark with MongoDB support\n",
    "APP_NAME = \"Introducing PySpark\"\n",
    "spark = (\n",
    "    SparkSession.builder.appName(APP_NAME)\n",
    "    # Load support for MongoDB and Elasticsearch\n",
    "    .config(\"spark.jars.packages\", \"org.mongodb.spark:mongo-spark-connector_2.12:3.0.1,org.elasticsearch:elasticsearch-spark-30_2.12:7.14.2\")\n",
    "    # Add Configuration for MongopDB\n",
    "    .config(\"spark.mongodb.input.uri\", \"mongodb://mongo:27017/test.coll\")\n",
    "    .config(\"spark.mongodb.output.uri\", \"mongodb://mongo:27017/test.coll\")\n",
    "\n",
    "    .getOrCreate()\n",
    ")\n",
    "sc = spark.sparkContext\n",
    "sc.setLogLevel(\"ERROR\")\n",
    "\n",
    "print(\"\\nPySpark initialized...\")"
   ]
  },
  {
   "cell_type": "code",
   "execution_count": 2,
   "id": "301f62de-294c-40f5-ad76-44ae2e8c8782",
   "metadata": {},
   "outputs": [
    {
     "name": "stderr",
     "output_type": "stream",
     "text": [
      "/Users/kelly/opt/anaconda3/lib/python3.9/site-packages/pyspark/sql/dataframe.py:138: FutureWarning: Deprecated in 2.0, use createOrReplaceTempView instead.\n",
      "  warnings.warn(\n"
     ]
    },
    {
     "data": {
      "text/plain": [
       "['Year',\n",
       " 'Quarter',\n",
       " 'Month',\n",
       " 'DayofMonth',\n",
       " 'DayOfWeek',\n",
       " 'FlightDate',\n",
       " 'Carrier',\n",
       " 'TailNum',\n",
       " 'FlightNum',\n",
       " 'Origin',\n",
       " 'OriginCityName',\n",
       " 'OriginState',\n",
       " 'Dest',\n",
       " 'DestCityName',\n",
       " 'DestState',\n",
       " 'DepTime',\n",
       " 'DepDelay',\n",
       " 'DepDelayMinutes',\n",
       " 'TaxiOut',\n",
       " 'TaxiIn',\n",
       " 'WheelsOff',\n",
       " 'WheelsOn',\n",
       " 'ArrTime',\n",
       " 'ArrDelay',\n",
       " 'ArrDelayMinutes',\n",
       " 'Cancelled',\n",
       " 'Diverted',\n",
       " 'ActualElapsedTime',\n",
       " 'AirTime',\n",
       " 'Flights',\n",
       " 'Distance',\n",
       " 'CarrierDelay',\n",
       " 'WeatherDelay',\n",
       " 'NASDelay',\n",
       " 'SecurityDelay',\n",
       " 'LateAircraftDelay',\n",
       " 'CRSDepTime',\n",
       " 'CRSArrTime']"
      ]
     },
     "execution_count": 2,
     "metadata": {},
     "output_type": "execute_result"
    }
   ],
   "source": [
    "# Load the parquet file containing flight delay records\n",
    "on_time_df = spark.read.parquet('data/on_time_performance.parquet')\n",
    "\n",
    "# Register the data for Spark SQL\n",
    "on_time_df.registerTempTable(\"on_time_performance\")\n",
    "\n",
    "# Check out the columns\n",
    "on_time_df.columns"
   ]
  },
  {
   "cell_type": "code",
   "execution_count": 3,
   "id": "ad28f61e-9b68-4139-95ef-9808a3af9839",
   "metadata": {},
   "outputs": [
    {
     "name": "stderr",
     "output_type": "stream",
     "text": [
      "                                                                                \r"
     ]
    },
    {
     "name": "stdout",
     "output_type": "stream",
     "text": [
      "+----------+-------+------+----+-------+--------+--------+\n",
      "|FlightDate|TailNum|Origin|Dest|Carrier|DepDelay|ArrDelay|\n",
      "+----------+-------+------+----+-------+--------+--------+\n",
      "|2015-01-11| N769AS|   SJC| SEA|     AS|     8.0|    11.0|\n",
      "|2015-01-11| N786SK|   PSP| SFO|     OO|    -1.0|   -11.0|\n",
      "|2015-01-12| N862AA|   MIA| DFW|     AA|     1.0|    13.0|\n",
      "|2015-01-12| N773SA|   OAK| SAN|     WN|     3.0|    -2.0|\n",
      "|2015-01-13| N11526|   LCH| IAH|     EV|    -4.0|   -12.0|\n",
      "|2015-01-13| N640MQ|   FNT| ORD|     MQ|    32.0|    18.0|\n",
      "|2015-01-13| N8903A|   CPR| SLC|     OO|    -4.0|   -16.0|\n",
      "|2015-01-14| N994AT|   DAL| ATL|     DL|     3.0|    -3.0|\n",
      "|2015-01-15| N812UA|   ORD| PHL|     UA|     0.0|   -16.0|\n",
      "|2015-01-16| N940DN|   ATL| MSY|     DL|    -6.0|   -16.0|\n",
      "+----------+-------+------+----+-------+--------+--------+\n",
      "only showing top 10 rows\n",
      "\n",
      "+----------+-------+------+----+-------+--------+--------+\n",
      "|FlightDate|TailNum|Origin|Dest|Carrier|DepDelay|ArrDelay|\n",
      "+----------+-------+------+----+-------+--------+--------+\n",
      "|2015-01-01| N001AA|   MEM| DFW|     AA|    -4.0|    -9.0|\n",
      "|2015-01-01| N004AA|   JAC| DFW|     AA|    -4.0|    21.0|\n",
      "|2015-01-01| N008AA|   DFW| ATL|     AA|    -5.0|   -25.0|\n",
      "|2015-01-01| N015AA|   MIA| STL|     AA|     2.0|    -3.0|\n",
      "|2015-01-01| N020AA|   IAD| MIA|     AA|    -6.0|     1.0|\n",
      "|2015-01-01| N022AA|   MIA| ATL|     AA|    -2.0|    -6.0|\n",
      "|2015-01-01| N200AA|   DEN| DFW|     AA|    75.0|   119.0|\n",
      "|2015-01-01| N201AA|   LAS| DFW|     AA|    -3.0|     7.0|\n",
      "|2015-01-01| N201AA|   DFW| PDX|     AA|    -5.0|   -24.0|\n",
      "|2015-01-01| N201AA|   MFE| DFW|     AA|    null|    null|\n",
      "+----------+-------+------+----+-------+--------+--------+\n",
      "only showing top 10 rows\n",
      "\n"
     ]
    }
   ],
   "source": [
    "# select field and get result\n",
    "trimmed_on_time = on_time_df.select(\"FlightDate\", \n",
    "                                           \"TailNum\", \n",
    "                                           \"Origin\", \n",
    "                                           \"Dest\",\n",
    "                                           \"Carrier\",\n",
    "                                           \"DepDelay\",\n",
    "                                           \"ArrDelay\")\n",
    "trimmed_on_time.sample(False, 0.0001).show(10)\n",
    "sampled_ten_percent = trimmed_on_time.sample(False, 0.1)\n",
    "sampled_ten_percent.show(10)\n",
    "                                           "
   ]
  },
  {
   "cell_type": "code",
   "execution_count": 4,
   "id": "e9c8d86d-9de9-4d23-bc96-ceae83b4b425",
   "metadata": {},
   "outputs": [
    {
     "name": "stdout",
     "output_type": "stream",
     "text": [
      "+-------+--------+\n",
      "|AirTime|Distance|\n",
      "+-------+--------+\n",
      "|   59.0|   432.0|\n",
      "|   77.0|   432.0|\n",
      "|  129.0|   802.0|\n",
      "|   93.0|   731.0|\n",
      "|  111.0|   769.0|\n",
      "|  108.0|   769.0|\n",
      "|  146.0|  1047.0|\n",
      "|   null|  1007.0|\n",
      "|   null|  1007.0|\n",
      "|   null|   802.0|\n",
      "+-------+--------+\n",
      "only showing top 10 rows\n",
      "\n"
     ]
    }
   ],
   "source": [
    "fd = on_time_df.select(\"AirTime\", \"Distance\")\n",
    "fd.show(10)"
   ]
  },
  {
   "cell_type": "code",
   "execution_count": 5,
   "id": "6a0a9d11-40b9-4008-a88d-e351874131ca",
   "metadata": {},
   "outputs": [
    {
     "name": "stdout",
     "output_type": "stream",
     "text": [
      "+------------------+--------+\n",
      "|             Hours|Distance|\n",
      "+------------------+--------+\n",
      "|0.9833333333333333|   432.0|\n",
      "|1.2833333333333334|   432.0|\n",
      "|              2.15|   802.0|\n",
      "|              1.55|   731.0|\n",
      "|              1.85|   769.0|\n",
      "+------------------+--------+\n",
      "only showing top 5 rows\n",
      "\n"
     ]
    }
   ],
   "source": [
    "hourly_fd = fd.select((fd.AirTime/60).alias('Hours'), \"Distance\")\n",
    "hourly_fd.show(5)"
   ]
  },
  {
   "cell_type": "code",
   "execution_count": 6,
   "id": "6b7a313b-2ced-4c38-a86d-6c9b22ca91fb",
   "metadata": {},
   "outputs": [
    {
     "name": "stdout",
     "output_type": "stream",
     "text": [
      "+------------------+\n",
      "|               Mph|\n",
      "+------------------+\n",
      "| 439.3220338983051|\n",
      "| 336.6233766233766|\n",
      "| 373.0232558139535|\n",
      "|471.61290322580646|\n",
      "| 415.6756756756757|\n",
      "|427.22222222222223|\n",
      "| 430.2739726027398|\n",
      "|              null|\n",
      "|              null|\n",
      "|              null|\n",
      "+------------------+\n",
      "only showing top 10 rows\n",
      "\n"
     ]
    }
   ],
   "source": [
    "miles_per_hour = hourly_fd.select((hourly_fd.Distance/hourly_fd.Hours).alias('Mph'))\n",
    "miles_per_hour.show(10)          "
   ]
  },
  {
   "cell_type": "code",
   "execution_count": 7,
   "id": "3ae718cb-2044-4392-aa55-b884f1f3660e",
   "metadata": {},
   "outputs": [
    {
     "name": "stdout",
     "output_type": "stream",
     "text": [
      "+-------+------------------+--------+\n",
      "|AirTime|             Hours|Distance|\n",
      "+-------+------------------+--------+\n",
      "|   59.0|0.9833333333333333|   432.0|\n",
      "|   77.0|1.2833333333333334|   432.0|\n",
      "|  129.0|              2.15|   802.0|\n",
      "|   93.0|              1.55|   731.0|\n",
      "|  111.0|              1.85|   769.0|\n",
      "|  108.0|               1.8|   769.0|\n",
      "|  146.0| 2.433333333333333|  1047.0|\n",
      "|   null|              null|  1007.0|\n",
      "|   null|              null|  1007.0|\n",
      "|   null|              null|   802.0|\n",
      "|   null|              null|   731.0|\n",
      "|  122.0| 2.033333333333333|   731.0|\n",
      "|   94.0|1.5666666666666667|   731.0|\n",
      "|   91.0|1.5166666666666666|   731.0|\n",
      "|  115.0|1.9166666666666667|   731.0|\n",
      "|   89.0|1.4833333333333334|   731.0|\n",
      "|  106.0|1.7666666666666666|   721.0|\n",
      "|   94.0|1.5666666666666667|   748.0|\n",
      "|   null|              null|   733.0|\n",
      "|   null|              null|   733.0|\n",
      "+-------+------------------+--------+\n",
      "only showing top 20 rows\n",
      "\n"
     ]
    }
   ],
   "source": [
    "fd.select(\"AirTime\",(fd.AirTime/60).alias('Hours'), \"Distance\").show()"
   ]
  },
  {
   "cell_type": "markdown",
   "id": "07bf31cf-cb4f-495e-a3d7-5836486f02d3",
   "metadata": {},
   "source": [
    "null값 처리"
   ]
  },
  {
   "cell_type": "code",
   "execution_count": 8,
   "id": "852e86d1-decb-406f-a118-73ef312228b7",
   "metadata": {},
   "outputs": [
    {
     "name": "stdout",
     "output_type": "stream",
     "text": [
      "+------------------+\n",
      "|               Mph|\n",
      "+------------------+\n",
      "| 439.3220338983051|\n",
      "| 336.6233766233766|\n",
      "| 373.0232558139535|\n",
      "|471.61290322580646|\n",
      "| 415.6756756756757|\n",
      "|427.22222222222223|\n",
      "| 430.2739726027398|\n",
      "| 359.5081967213115|\n",
      "|466.59574468085106|\n",
      "|  481.978021978022|\n",
      "+------------------+\n",
      "only showing top 10 rows\n",
      "\n"
     ]
    }
   ],
   "source": [
    "fd = on_time_df.select(\"AirTime\", \"Distance\")\n",
    "filled_fd = fd.filter(fd.AirTime.isNotNull())\n",
    "hourly_fd = filled_fd.select(\"AirTime\", (filled_fd.AirTime/60).alias('Hours'),\"Distance\")\n",
    "mph = hourly_fd.select((hourly_fd.Distance/hourly_fd.Hours).alias('Mph'))\n",
    "mph.show(10)"
   ]
  },
  {
   "cell_type": "code",
   "execution_count": 9,
   "id": "32501b80-9eac-4802-81d5-98fa8ff52cf5",
   "metadata": {},
   "outputs": [
    {
     "name": "stderr",
     "output_type": "stream",
     "text": [
      "[Stage 8:>                                                          (0 + 4) / 4]\r"
     ]
    },
    {
     "name": "stdout",
     "output_type": "stream",
     "text": [
      "+------------------+\n",
      "|          avg(Mph)|\n",
      "+------------------+\n",
      "|408.72370268222824|\n",
      "+------------------+\n",
      "\n"
     ]
    },
    {
     "name": "stderr",
     "output_type": "stream",
     "text": [
      "                                                                                \r"
     ]
    }
   ],
   "source": [
    "from pyspark.sql.functions import avg\n",
    "mph.select(avg(mph.Mph)).show()"
   ]
  },
  {
   "cell_type": "code",
   "execution_count": 10,
   "id": "51db6e73-92c7-46ae-afc7-c855c06c9fc7",
   "metadata": {},
   "outputs": [
    {
     "name": "stderr",
     "output_type": "stream",
     "text": [
      "                                                                                \r"
     ]
    },
    {
     "name": "stdout",
     "output_type": "stream",
     "text": [
      "+-----------------+\n",
      "|              Mph|\n",
      "+-----------------+\n",
      "|265.7142857142857|\n",
      "|265.7142857142857|\n",
      "|265.7142857142857|\n",
      "|265.7142857142857|\n",
      "|265.7142857142857|\n",
      "|265.7142857142857|\n",
      "|265.7142857142857|\n",
      "|            232.5|\n",
      "|            232.5|\n",
      "|            232.5|\n",
      "+-----------------+\n",
      "only showing top 10 rows\n",
      "\n"
     ]
    },
    {
     "name": "stderr",
     "output_type": "stream",
     "text": [
      "[Stage 15:>                                                         (0 + 4) / 4]\r"
     ]
    },
    {
     "name": "stdout",
     "output_type": "stream",
     "text": [
      "+-----------------+\n",
      "|         avg(Mph)|\n",
      "+-----------------+\n",
      "|408.7237026822374|\n",
      "+-----------------+\n",
      "\n"
     ]
    },
    {
     "name": "stderr",
     "output_type": "stream",
     "text": [
      "                                                                                \r"
     ]
    }
   ],
   "source": [
    "on_time_df.registerTempTable(\"on_time_performance\")\n",
    "mph = spark.sql(\"\"\"\n",
    "SELECT (Distance/(AirTime/60)) AS Mph\n",
    "FROM on_time_performance\n",
    "WHERE AirTime IS NOT NULL\n",
    "ORDER BY AirTime\n",
    "\"\"\")\n",
    "mph.show(10)\n",
    "mph.registerTempTable(\"mph\")\n",
    "spark.sql(\"SELECT AVG(Mph) from mph\").show()"
   ]
  },
  {
   "cell_type": "markdown",
   "id": "0b4cb8c8-13ad-431d-a46d-7c5abd7a57ba",
   "metadata": {},
   "source": [
    "Histogram"
   ]
  },
  {
   "cell_type": "code",
   "execution_count": 11,
   "id": "3035c66b-8347-4371-8864-50d29b1b8884",
   "metadata": {},
   "outputs": [
    {
     "name": "stderr",
     "output_type": "stream",
     "text": [
      "                                                                                \r"
     ]
    },
    {
     "data": {
      "text/plain": [
       "([32.34375,\n",
       "  107.89626024590164,\n",
       "  183.4487704918033,\n",
       "  259.0012807377049,\n",
       "  334.5537909836066,\n",
       "  410.10630122950823,\n",
       "  485.65881147540983,\n",
       "  561.2113217213115,\n",
       "  636.7638319672132,\n",
       "  712.3163422131148,\n",
       "  787.8688524590165],\n",
       " [174, 14255, 148314, 643901, 1861699, 2357002, 664609, 23997, 32, 25])"
      ]
     },
     "execution_count": 11,
     "metadata": {},
     "output_type": "execute_result"
    }
   ],
   "source": [
    "mph.select(\"Mph\").rdd.flatMap(lambda x:x).histogram(10)"
   ]
  },
  {
   "cell_type": "raw",
   "id": "a6668b71-662c-4fdf-841e-e94761653d3b",
   "metadata": {},
   "source": [
    "### Visualization"
   ]
  },
  {
   "cell_type": "code",
   "execution_count": 12,
   "id": "00870fdf-bdda-45f8-be5d-54fb63554f5c",
   "metadata": {},
   "outputs": [
    {
     "name": "stderr",
     "output_type": "stream",
     "text": [
      "                                                                                \r"
     ]
    },
    {
     "data": {
      "text/plain": [
       "<BarContainer object of 10 artists>"
      ]
     },
     "execution_count": 12,
     "metadata": {},
     "output_type": "execute_result"
    },
    {
     "data": {
      "image/png": "[encoded data removed]",
      "text/plain": [
       "<Figure size 432x288 with 1 Axes>"
      ]
     },
     "metadata": {
      "needs_background": "light"
     },
     "output_type": "display_data"
    }
   ],
   "source": [
    "import numpy as np\n",
    "import matplotlib.mlab as mlab\n",
    "import matplotlib.pyplot as plt\n",
    "\n",
    "def draw_histogram(rdd_histogram_data):\n",
    "    height=np.array(rdd_histogram_data[1])\n",
    "    full_bins = rdd_histogram_data[0]\n",
    "    mid_point_bins = full_bins[:-1]\n",
    "    widths = [abs(i-j) for i, j in zip(full_bins[:-1], full_bins[1:])]\n",
    "    bar = plt.bar(mid_point_bins, height, width=widths, color='b')\n",
    "    return bar\n",
    "\n",
    "departure_delay_histogram = mph.select(\"Mph\").rdd.flatMap(lambda x:x).histogram(10)\n",
    "draw_histogram(departure_delay_histogram)"
   ]
  },
  {
   "cell_type": "code",
   "execution_count": 13,
   "id": "64f5b404-c034-4dfc-997c-980b47a809d1",
   "metadata": {},
   "outputs": [
    {
     "name": "stderr",
     "output_type": "stream",
     "text": [
      "                                                                                \r"
     ]
    },
    {
     "data": {
      "text/plain": [
       "<BarContainer object of 20 artists>"
      ]
     },
     "execution_count": 13,
     "metadata": {},
     "output_type": "execute_result"
    },
    {
     "data": {
      "image/png": "[encoded data removed]",
      "text/plain": [
       "<Figure size 432x288 with 1 Axes>"
      ]
     },
     "metadata": {
      "needs_background": "light"
     },
     "output_type": "display_data"
    }
   ],
   "source": [
    "departure_delay_histogram = mph.select(\"Mph\").rdd.flatMap(lambda x:x).histogram(20)\n",
    "draw_histogram(departure_delay_histogram)"
   ]
  },
  {
   "cell_type": "code",
   "execution_count": 14,
   "id": "a4c00871-d581-4c29-8d03-861a47ac3133",
   "metadata": {},
   "outputs": [
    {
     "name": "stderr",
     "output_type": "stream",
     "text": [
      "[Stage 37:===========================================>              (3 + 1) / 4]\r"
     ]
    },
    {
     "name": "stdout",
     "output_type": "stream",
     "text": [
      "Total Airplanes: 4897\n"
     ]
    },
    {
     "name": "stderr",
     "output_type": "stream",
     "text": [
      "                                                                                \r"
     ]
    }
   ],
   "source": [
    "tail_numbers = on_time_df.rdd.map(lambda x:x.TailNum).filter(lambda x:x!='' and x is not None)\n",
    "unique_tail_numbers = tail_numbers.distinct()\n",
    "airplane_count = unique_tail_numbers.count()\n",
    "print(f\"Total Airplanes: {airplane_count}\")"
   ]
  },
  {
   "cell_type": "code",
   "execution_count": 15,
   "id": "86e5705a-e3cd-44d7-bd10-42fdeb5fb675",
   "metadata": {},
   "outputs": [
    {
     "name": "stderr",
     "output_type": "stream",
     "text": [
      "/Users/kelly/opt/anaconda3/lib/python3.9/site-packages/pyspark/sql/dataframe.py:138: FutureWarning: Deprecated in 2.0, use createOrReplaceTempView instead.\n",
      "  warnings.warn(\n",
      "[Stage 39:>                                                         (0 + 4) / 4]\r"
     ]
    },
    {
     "name": "stdout",
     "output_type": "stream",
     "text": [
      "+------+------------------+\n",
      "|Origin|          avg(Mph)|\n",
      "+------+------------------+\n",
      "|   BGM| 346.1853538898441|\n",
      "|   PSE|452.61176800000527|\n",
      "|   INL|286.26851316932084|\n",
      "|   MSY|417.88066171277154|\n",
      "|   PPG| 504.2422916767315|\n",
      "|   GEG|402.28558929054554|\n",
      "|   SNA|  417.168769940005|\n",
      "|   BUR| 381.5411358971755|\n",
      "|   GRB| 304.8341806425377|\n",
      "|   GTF|425.33903080533736|\n",
      "|   IDA|352.21033421102845|\n",
      "|   GRR|345.74023303402765|\n",
      "|   JLN| 333.8980691779108|\n",
      "|   PSG|218.63993665683003|\n",
      "|   EUG| 408.3697364617108|\n",
      "|   PVD| 377.2849336122921|\n",
      "|   GSO|363.15998763789804|\n",
      "|   MYR|392.41545245530193|\n",
      "|   OAK| 411.1720814918371|\n",
      "|   MSN| 328.7109364653059|\n",
      "+------+------------------+\n",
      "only showing top 20 rows\n",
      "\n"
     ]
    },
    {
     "name": "stderr",
     "output_type": "stream",
     "text": [
      "                                                                                \r"
     ]
    }
   ],
   "source": [
    "origin_hour_dist = on_time_df.filter(on_time_df.AirTime.isNotNull()).select(\"Origin\", (on_time_df.AirTime/60).alias(\"Hours\"), \"Distance\")\n",
    "mph_origins = origin_hour_dist.select(\"Origin\", (origin_hour_dist.Distance/origin_hour_dist.Hours).alias(\"Mph\"))\n",
    "mph_origins.registerTempTable(\"mph_origins\")\n",
    "avg_speeds = mph_origins.groupBy(\"Origin\").agg({\"Mph\":\"avg\"}).alias(\"Mph\")\n",
    "avg_speeds.show()"
   ]
  },
  {
   "cell_type": "code",
   "execution_count": 16,
   "id": "fe0c0664-4c1e-464b-9464-a14db1f50082",
   "metadata": {},
   "outputs": [
    {
     "data": {
      "text/plain": [
       "['Year',\n",
       " 'Quarter',\n",
       " 'Month',\n",
       " 'DayofMonth',\n",
       " 'DayOfWeek',\n",
       " 'FlightDate',\n",
       " 'Carrier',\n",
       " 'TailNum',\n",
       " 'FlightNum',\n",
       " 'Origin',\n",
       " 'OriginCityName',\n",
       " 'OriginState',\n",
       " 'Dest',\n",
       " 'DestCityName',\n",
       " 'DestState',\n",
       " 'DepTime',\n",
       " 'DepDelay',\n",
       " 'DepDelayMinutes',\n",
       " 'TaxiOut',\n",
       " 'TaxiIn',\n",
       " 'WheelsOff',\n",
       " 'WheelsOn',\n",
       " 'ArrTime',\n",
       " 'ArrDelay',\n",
       " 'ArrDelayMinutes',\n",
       " 'Cancelled',\n",
       " 'Diverted',\n",
       " 'ActualElapsedTime',\n",
       " 'AirTime',\n",
       " 'Flights',\n",
       " 'Distance',\n",
       " 'CarrierDelay',\n",
       " 'WeatherDelay',\n",
       " 'NASDelay',\n",
       " 'SecurityDelay',\n",
       " 'LateAircraftDelay',\n",
       " 'CRSDepTime',\n",
       " 'CRSArrTime']"
      ]
     },
     "execution_count": 16,
     "metadata": {},
     "output_type": "execute_result"
    }
   ],
   "source": [
    "on_time_df.columns"
   ]
  },
  {
   "cell_type": "code",
   "execution_count": 17,
   "id": "b68787d7-f1f9-4226-9b5c-d1f788ac1f7e",
   "metadata": {},
   "outputs": [
    {
     "name": "stderr",
     "output_type": "stream",
     "text": [
      "                                                                                \r"
     ]
    },
    {
     "name": "stdout",
     "output_type": "stream",
     "text": [
      "+------+----------------+--------------------+------------------+---------------+-----------------+--------------------+--------------------+-------------+----------------------+-----------------+------------+-------------+-----------------+-----------------+------------------+--------------------+----------------------+\n",
      "|Origin|   avg(DepDelay)|avg(DepDelayMinutes)|      avg(TaxiOut)|    avg(TaxiIn)|    avg(ArrDelay)|avg(ArrDelayMinutes)|      avg(Cancelled)|avg(Diverted)|avg(ActualElapsedTime)|     avg(AirTime)|avg(Flights)|avg(Distance)|avg(CarrierDelay)|avg(WeatherDelay)|     avg(NASDelay)|  avg(SecurityDelay)|avg(LateAircraftDelay)|\n",
      "+------+----------------+--------------------+------------------+---------------+-----------------+--------------------+--------------------+-------------+----------------------+-----------------+------------+-------------+-----------------+-----------------+------------------+--------------------+----------------------+\n",
      "|   BGM|9.42056074766355|  15.177570093457945|16.193146417445483|6.2398753894081|6.218068535825545|   16.32398753894081|0.009259259259259259|          0.0|      88.4423676012461|66.00934579439253|         1.0|        378.0|58.67307692307692|              0.0|10.711538461538462|0.057692307692307696|    26.903846153846153|\n",
      "+------+----------------+--------------------+------------------+---------------+-----------------+--------------------+--------------------+-------------+----------------------+-----------------+------------+-------------+-----------------+-----------------+------------------+--------------------+----------------------+\n",
      "only showing top 1 row\n",
      "\n"
     ]
    },
    {
     "name": "stderr",
     "output_type": "stream",
     "text": [
      "                                                                                \r"
     ]
    },
    {
     "name": "stdout",
     "output_type": "stream",
     "text": [
      "+------+-----------------+\n",
      "|Origin|     avg(AirTime)|\n",
      "+------+-----------------+\n",
      "|   BGM|66.00934579439253|\n",
      "+------+-----------------+\n",
      "only showing top 1 row\n",
      "\n"
     ]
    },
    {
     "name": "stderr",
     "output_type": "stream",
     "text": [
      "                                                                                \r"
     ]
    },
    {
     "name": "stdout",
     "output_type": "stream",
     "text": [
      "+------+-----+\n",
      "|Origin|count|\n",
      "+------+-----+\n",
      "|   BGM|  324|\n",
      "+------+-----+\n",
      "only showing top 1 row\n",
      "\n"
     ]
    },
    {
     "name": "stderr",
     "output_type": "stream",
     "text": [
      "                                                                                \r"
     ]
    },
    {
     "name": "stdout",
     "output_type": "stream",
     "text": [
      "+------+------------+\n",
      "|Origin|max(AirTime)|\n",
      "+------+------------+\n",
      "|   BGM|        91.0|\n",
      "+------+------------+\n",
      "only showing top 1 row\n",
      "\n"
     ]
    },
    {
     "name": "stderr",
     "output_type": "stream",
     "text": [
      "                                                                                \r"
     ]
    },
    {
     "name": "stdout",
     "output_type": "stream",
     "text": [
      "+------+-------------+--------------------+------------+-----------+-------------+--------------------+--------------+-------------+----------------------+------------+------------+-------------+-----------------+-----------------+-------------+------------------+----------------------+\n",
      "|Origin|max(DepDelay)|max(DepDelayMinutes)|max(TaxiOut)|max(TaxiIn)|max(ArrDelay)|max(ArrDelayMinutes)|max(Cancelled)|max(Diverted)|max(ActualElapsedTime)|max(AirTime)|max(Flights)|max(Distance)|max(CarrierDelay)|max(WeatherDelay)|max(NASDelay)|max(SecurityDelay)|max(LateAircraftDelay)|\n",
      "+------+-------------+--------------------+------------+-----------+-------------+--------------------+--------------+-------------+----------------------+------------+------------+-------------+-----------------+-----------------+-------------+------------------+----------------------+\n",
      "|   BGM|        993.0|                 993|       100.0|       30.0|       1005.0|              1005.0|             1|            0|                 163.0|        91.0|           1|        378.0|            993.0|              0.0|         74.0|               3.0|                 364.0|\n",
      "+------+-------------+--------------------+------------+-----------+-------------+--------------------+--------------+-------------+----------------------+------------+------------+-------------+-----------------+-----------------+-------------+------------------+----------------------+\n",
      "only showing top 1 row\n",
      "\n"
     ]
    },
    {
     "name": "stderr",
     "output_type": "stream",
     "text": [
      "                                                                                \r"
     ]
    },
    {
     "name": "stdout",
     "output_type": "stream",
     "text": [
      "+------+------------+\n",
      "|Origin|min(AirTime)|\n",
      "+------+------------+\n",
      "|   BGM|        56.0|\n",
      "+------+------------+\n",
      "only showing top 1 row\n",
      "\n"
     ]
    },
    {
     "name": "stderr",
     "output_type": "stream",
     "text": [
      "[Stage 60:>                                                         (0 + 4) / 4]\r"
     ]
    },
    {
     "name": "stdout",
     "output_type": "stream",
     "text": [
      "+------+------------+\n",
      "|Origin|sum(AirTime)|\n",
      "+------+------------+\n",
      "|   BGM|     21189.0|\n",
      "+------+------------+\n",
      "only showing top 1 row\n",
      "\n"
     ]
    },
    {
     "name": "stderr",
     "output_type": "stream",
     "text": [
      "                                                                                \r"
     ]
    }
   ],
   "source": [
    "on_time_df.groupBy(\"Origin\").avg().show(1)\n",
    "on_time_df.groupBy(\"Origin\").agg({\"AirTime\":\"mean\"}).show(1)\n",
    "on_time_df.groupBy(\"Origin\").count().show(1)\n",
    "on_time_df.groupBy(\"Origin\").agg({\"AirTime\":\"max\"}).show(1)\n",
    "on_time_df.groupBy(\"Origin\").max().show(1)\n",
    "on_time_df.groupBy(\"Origin\").agg({\"AirTime\":\"min\"}).show(1)\n",
    "on_time_df.groupBy(\"Origin\").agg({\"AirTime\":\"sum\"}).show(1)"
   ]
  },
  {
   "cell_type": "code",
   "execution_count": 18,
   "id": "73747be3-e067-4224-80b9-9f9e7ddf22ff",
   "metadata": {},
   "outputs": [
    {
     "name": "stderr",
     "output_type": "stream",
     "text": [
      "                                                                                \r"
     ]
    },
    {
     "data": {
      "text/plain": [
       "{'Origin': 'ATL',\n",
       " 'ABE': 96.59897959183674,\n",
       " 'ABQ': 172.1290684624018,\n",
       " 'ABY': 29.252365930599368,\n",
       " 'ACY': 90.23557692307692,\n",
       " 'AEX': 78.87462235649546,\n",
       " 'AGS': 29.076743280093496,\n",
       " 'ALB': 108.65161923454367,\n",
       " 'ANC': 426.3529411764706,\n",
       " 'ASE': 198.09574468085106,\n",
       " 'ATW': 105.11235955056179,\n",
       " 'AUS': 117.13764946048411,\n",
       " 'AVL': 33.510327455919395,\n",
       " 'AVP': 93.94900849858357,\n",
       " 'AZO': 86.6842105263158,\n",
       " 'BDL': 109.44785031847134,\n",
       " 'BHM': 28.848588537211292,\n",
       " 'BMI': 78.14963119072708,\n",
       " 'BNA': 38.880419382261266,\n",
       " 'BOS': 120.84425582313462,\n",
       " 'BQK': 41.63483735571878,\n",
       " 'BTR': 70.18819188191883,\n",
       " 'BTV': 119.43465045592706,\n",
       " 'BUF': 93.706432748538,\n",
       " 'BWI': 81.02321908071394,\n",
       " 'BZN': 220.15625,\n",
       " 'CAE': 33.79744210162461,\n",
       " 'CAK': 72.89645776566758,\n",
       " 'CHA': 24.022727272727273,\n",
       " 'CHO': 66.9613478691774,\n",
       " 'CHS': 42.49556255367879,\n",
       " 'CID': 101.25268817204301,\n",
       " 'CLE': 77.47449470644851,\n",
       " 'CLT': 41.581799591002046,\n",
       " 'CMH': 66.05350605463249,\n",
       " 'COS': 161.14626865671642,\n",
       " 'CRW': 57.365990202939116,\n",
       " 'CSG': 20.638461538461538,\n",
       " 'CVG': 58.29219530949635,\n",
       " 'DAB': 54.343106674984405,\n",
       " 'DAL': 107.51469163706813,\n",
       " 'DAY': 63.95127118644068,\n",
       " 'DCA': 77.81844338944038,\n",
       " 'DEN': 168.22181282240237,\n",
       " 'DFW': 111.94913462808826,\n",
       " 'DHN': 33.231617647058826,\n",
       " 'DSM': 105.68818272095332,\n",
       " 'DTW': 87.08653664078773,\n",
       " 'ECP': 41.33196534427724,\n",
       " 'EGE': 188.8181818181818,\n",
       " 'ELM': 87.84615384615384,\n",
       " 'ELP': 171.9362244897959,\n",
       " 'EVV': 56.99230769230769,\n",
       " 'EWN': 61.98867313915858,\n",
       " 'EWR': 101.52093279471171,\n",
       " 'EYW': 87.044921875,\n",
       " 'FAR': 151.3846153846154,\n",
       " 'FAY': 51.07640067911715,\n",
       " 'FCA': 242.04,\n",
       " 'FLL': 84.61670182404765,\n",
       " 'FNT': 89.2876447876448,\n",
       " 'FSD': 132.47368421052633,\n",
       " 'FSM': 88.34068965517241,\n",
       " 'FWA': 75.94344473007712,\n",
       " 'GJT': None,\n",
       " 'GNV': 48.145907473309606,\n",
       " 'GPT': 56.39078947368421,\n",
       " 'GRB': 107.31177829099308,\n",
       " 'GRK': 114.30221518987342,\n",
       " 'GRR': 87.19142857142857,\n",
       " 'GSO': 49.15724137931034,\n",
       " 'GSP': 30.053024645257654,\n",
       " 'GTR': 44.07607607607608,\n",
       " 'HDN': 191.74736842105264,\n",
       " 'HNL': 546.5,\n",
       " 'HOU': 105.17070383912248,\n",
       " 'HPN': 109.62556165751373,\n",
       " 'HSV': 31.34819769602378,\n",
       " 'IAD': 76.36581920903954,\n",
       " 'IAH': 102.31285988483685,\n",
       " 'ICT': 111.22064393939394,\n",
       " 'ILM': 55.823125357756155,\n",
       " 'IND': 65.04984348663616,\n",
       " 'JAC': 212.4757281553398,\n",
       " 'JAN': 54.522334004024145,\n",
       " 'JAX': 43.31659192825112,\n",
       " 'JFK': 104.3519768563163,\n",
       " 'LAN': 90.23076923076923,\n",
       " 'LAS': 232.89032258064515,\n",
       " 'LAX': 256.5899419729207,\n",
       " 'LEX': 48.87252924566357,\n",
       " 'LFT': 78.40828856485035,\n",
       " 'LGA': 102.68517445230091,\n",
       " 'LIT': 69.1775396085741,\n",
       " 'LNK': 119.29885057471265,\n",
       " 'MBS': 98.26666666666667,\n",
       " 'MCI': 103.08773784355179,\n",
       " 'MCO': 60.877189043556356,\n",
       " 'MDT': 84.41851494696239,\n",
       " 'MDW': 88.65857142857143,\n",
       " 'MEM': 56.11916026020106,\n",
       " 'MGM': 31.892723492723494,\n",
       " 'MHT': 119.974930362117,\n",
       " 'MIA': 85.72141706924316,\n",
       " 'MKE': 94.42390670553935,\n",
       " 'MLB': 64.01593901593901,\n",
       " 'MLI': 90.73167848699764,\n",
       " 'MLU': 71.84965304548959,\n",
       " 'MOB': 52.496899545266636,\n",
       " 'MSN': 98.24233128834356,\n",
       " 'MSO': 240.26666666666668,\n",
       " 'MSP': 129.69842810013586,\n",
       " 'MSY': 67.13189171343677,\n",
       " 'MTJ': 195.62857142857143,\n",
       " 'MYR': 47.62226512226512,\n",
       " 'OAJ': 58.33685064935065,\n",
       " 'OAK': 295.140625,\n",
       " 'OKC': 108.98932219127205,\n",
       " 'OMA': 118.01823361823362,\n",
       " 'ONT': 252.33333333333334,\n",
       " 'ORD': 93.76928500916655,\n",
       " 'ORF': 68.94117647058823,\n",
       " 'PBI': 80.84571553802323,\n",
       " 'PDX': 283.55982905982904,\n",
       " 'PHF': 72.09481481481481,\n",
       " 'PHL': 93.60806835691274,\n",
       " 'PHX': 216.42130445731553,\n",
       " 'PIA': 85.57802874743327,\n",
       " 'PIT': 72.58607132827858,\n",
       " 'PNS': 47.029735234215885,\n",
       " 'PVD': 114.56133464180569,\n",
       " 'PWM': 126.81884057971014,\n",
       " 'RAP': 163.13333333333333,\n",
       " 'RDU': 54.620066109274745,\n",
       " 'RIC': 65.85651612903226,\n",
       " 'ROA': 57.06195244055069,\n",
       " 'ROC': 96.48102466793169,\n",
       " 'RST': 118.55202312138728,\n",
       " 'RSW': 74.23462897526501,\n",
       " 'SAN': 247.43282236248874,\n",
       " 'SAT': 124.2874558870709,\n",
       " 'SAV': 37.248983149331785,\n",
       " 'SBN': 85.35600335852224,\n",
       " 'SCE': 87.58974358974359,\n",
       " 'SDF': 53.38678295873868,\n",
       " 'SEA': 289.20415814587597,\n",
       " 'SFO': 279.49426976197475,\n",
       " 'SGF': 87.09448818897638,\n",
       " 'SHV': 84.34255898366607,\n",
       " 'SJC': 277.67333333333335,\n",
       " 'SJU': 184.041015625,\n",
       " 'SLC': 213.2850971922246,\n",
       " 'SMF': 272.2068965517241,\n",
       " 'SNA': 251.88867745004757,\n",
       " 'SRQ': 65.03754752851711,\n",
       " 'STL': 75.68986187125358,\n",
       " 'STT': 189.22590361445782,\n",
       " 'STX': 196.3783783783784,\n",
       " 'SYR': 101.62786259541984,\n",
       " 'TLH': 39.01092179991262,\n",
       " 'TPA': 60.845393024466425,\n",
       " 'TRI': 39.92660550458716,\n",
       " 'TTN': 95.16193181818181,\n",
       " 'TUL': 97.27774408732566,\n",
       " 'TUS': 204.35355029585799,\n",
       " 'TVC': 103.75757575757575,\n",
       " 'TYS': 30.09027777777778,\n",
       " 'VLD': 37.780971258671954,\n",
       " 'VPS': 43.24717691342534,\n",
       " 'XNA': 89.38354577056779}"
      ]
     },
     "execution_count": 18,
     "metadata": {},
     "output_type": "execute_result"
    }
   ],
   "source": [
    "on_time_df.filter(\"Origin == 'ATL'\").groupBy(\"Origin\").pivot(\"Dest\").avg(\"AirTime\").rdd.map(lambda x:x.asDict()).collect()[0]"
   ]
  },
  {
   "cell_type": "code",
   "execution_count": 19,
   "id": "701cd436-e2a4-4140-8977-f0075a590aef",
   "metadata": {},
   "outputs": [
    {
     "name": "stdout",
     "output_type": "stream",
     "text": [
      "+--------+------------------+\n",
      "|Distance|               Mph|\n",
      "+--------+------------------+\n",
      "|   432.0| 439.3220338983051|\n",
      "|   432.0| 336.6233766233766|\n",
      "|   802.0| 373.0232558139535|\n",
      "|   731.0|471.61290322580646|\n",
      "|   769.0| 415.6756756756757|\n",
      "|   769.0|427.22222222222223|\n",
      "|  1047.0| 430.2739726027398|\n",
      "|   731.0| 359.5081967213115|\n",
      "|   731.0|466.59574468085106|\n",
      "|   731.0|  481.978021978022|\n",
      "+--------+------------------+\n",
      "only showing top 10 rows\n",
      "\n"
     ]
    }
   ],
   "source": [
    "mph = spark.sql(\"\"\"\n",
    "SELECT Distance, (Distance/(AirTime/60)) AS Mph\n",
    "FROM on_time_performance\n",
    "WHERE AirTime IS NOT NULL\n",
    "\"\"\")\n",
    "mph.show(10)"
   ]
  },
  {
   "cell_type": "code",
   "execution_count": 20,
   "id": "769d8a15-4e64-493e-ac65-bf37b324d43e",
   "metadata": {},
   "outputs": [
    {
     "name": "stderr",
     "output_type": "stream",
     "text": [
      "                                                                                \r"
     ]
    },
    {
     "data": {
      "text/plain": [
       "[432.0, 432.0, 802.0, 731.0, 769.0, 769.0, 1047.0, 731.0, 731.0, 731.0]"
      ]
     },
     "execution_count": 20,
     "metadata": {},
     "output_type": "execute_result"
    }
   ],
   "source": [
    "distance = mph.select(\"Distance\").rdd.flatMap(lambda x:x)\n",
    "distance = distance.collect()\n",
    "distance[0:10]"
   ]
  },
  {
   "cell_type": "code",
   "execution_count": 21,
   "id": "0fd07078-a9ff-48f9-883c-147c2190fa16",
   "metadata": {},
   "outputs": [
    {
     "name": "stderr",
     "output_type": "stream",
     "text": [
      "                                                                                \r"
     ]
    },
    {
     "data": {
      "text/plain": [
       "[439.3220338983051,\n",
       " 336.6233766233766,\n",
       " 373.0232558139535,\n",
       " 471.61290322580646,\n",
       " 415.6756756756757,\n",
       " 427.22222222222223,\n",
       " 430.2739726027398,\n",
       " 359.5081967213115,\n",
       " 466.59574468085106,\n",
       " 481.978021978022]"
      ]
     },
     "execution_count": 21,
     "metadata": {},
     "output_type": "execute_result"
    }
   ],
   "source": [
    "speed = mph.select(\"Mph\").rdd.flatMap(lambda x:x)\n",
    "speed = speed.collect()\n",
    "speed[0:10]"
   ]
  },
  {
   "cell_type": "code",
   "execution_count": 22,
   "id": "56a3c214-70ed-423c-ad79-45207eb30a8b",
   "metadata": {},
   "outputs": [
    {
     "name": "stdout",
     "output_type": "stream",
     "text": [
      "Total distance: 5714008\n",
      "Total speeds: 5714008\n"
     ]
    }
   ],
   "source": [
    "print(f\"Total distance: {len(distance)}\")\n",
    "print(f\"Total speeds: {len(speed)}\")"
   ]
  },
  {
   "cell_type": "code",
   "execution_count": 23,
   "id": "5b11b7db-b52c-4216-b255-00e6eaaaa3b6",
   "metadata": {},
   "outputs": [
    {
     "data": {
      "text/plain": [
       "5697"
      ]
     },
     "execution_count": 23,
     "metadata": {},
     "output_type": "execute_result"
    }
   ],
   "source": [
    "sample = mph.sample(False, 0.001)\n",
    "sample.count()"
   ]
  },
  {
   "cell_type": "code",
   "execution_count": 24,
   "id": "5fc48f1d-d077-49e3-bf8b-988b9cacb01b",
   "metadata": {},
   "outputs": [
    {
     "name": "stderr",
     "output_type": "stream",
     "text": [
      "[Stage 82:>                                                         (0 + 4) / 4]\r"
     ]
    },
    {
     "name": "stdout",
     "output_type": "stream",
     "text": [
      "5697 x 5697 records\n"
     ]
    },
    {
     "name": "stderr",
     "output_type": "stream",
     "text": [
      "                                                                                \r"
     ]
    }
   ],
   "source": [
    "speed = sample.select(\"Mph\").rdd.flatMap(lambda x:x).collect()\n",
    "distance = sample.select(\"Distance\").rdd.flatMap(lambda x:x).collect()\n",
    "print(f\"{len(speed)} x {len(distance)} records\")"
   ]
  },
  {
   "cell_type": "code",
   "execution_count": 25,
   "id": "83b7b048-8141-40a3-8f60-db6df680e729",
   "metadata": {},
   "outputs": [
    {
     "data": {
      "image/png": "[encoded data removed]",
      "text/plain": [
       "<Figure size 1296x864 with 1 Axes>"
      ]
     },
     "metadata": {
      "needs_background": "light"
     },
     "output_type": "display_data"
    }
   ],
   "source": [
    "import numpy as pd\n",
    "import matplotlib.pyplot as plt\n",
    "plt.rcParams[\"figure.figsize\"] = (18, 12)\n",
    "plt.scatter(distance, speed, alpha=0.5)\n",
    "plt.title(\"Distance x Speed\")\n",
    "plt.xlabel(\"Distance\")\n",
    "plt.ylabel(\"Speed\")\n",
    "plt.show()"
   ]
  },
  {
   "cell_type": "markdown",
   "id": "1b2b9f70-6beb-430b-84d2-d0160dd2c5ad",
   "metadata": {},
   "source": [
    "Excercise\n",
    "- Query the on_time_dataframe to focus on two numeric fields.\n",
    "- Plot a histogram of one of these fields\n",
    "- Plot a scatterplot of both of these fields"
   ]
  },
  {
   "cell_type": "code",
   "execution_count": 26,
   "id": "064397d8-9aeb-4b2d-beff-36c162bea706",
   "metadata": {},
   "outputs": [
    {
     "data": {
      "text/plain": [
       "array([0.62565896, 0.66491982, 0.70536428, 0.71833   , 0.64074931])"
      ]
     },
     "execution_count": 26,
     "metadata": {},
     "output_type": "execute_result"
    }
   ],
   "source": [
    "from sklearn.model_selection import train_test_split\n",
    "from sklearn.preprocessing import PolynomialFeatures\n",
    "from sklearn.linear_model import LinearRegression\n",
    "from sklearn.pipeline import Pipeline\n",
    "from sklearn.model_selection import cross_val_score\n",
    "import numpy as np\n",
    "\n",
    "x=np.array(distance)\n",
    "y=np.array(speed)\n",
    "x_test = np.arange(0, 5000, 100)\n",
    "model = Pipeline([('ploy', PolynomialFeatures(degree=3)), ('linear', LinearRegression(fit_intercept=False))])\n",
    "model = model.fit(x[:, np.newaxis], y)\n",
    "model.named_steps['linear'].coef_\n",
    "y_out = model.predict(x_test.reshape(-1, 1))\n",
    "cross_val_score(model, x.reshape(-1, 1), y)"
   ]
  },
  {
   "cell_type": "code",
   "execution_count": 27,
   "id": "3d789b8d-dfe6-4cc4-b8ce-6f0cccfad773",
   "metadata": {},
   "outputs": [
    {
     "data": {
      "image/png": "[encoded data removed]",
      "text/plain": [
       "<Figure size 1296x864 with 1 Axes>"
      ]
     },
     "metadata": {
      "needs_background": "light"
     },
     "output_type": "display_data"
    }
   ],
   "source": [
    "import numpy as np\n",
    "import matplotlib.pyplot as plt\n",
    "\n",
    "plt.rcParams[\"figure.figsize\"]=(18, 12)\n",
    "plt.scatter(distance, speed, alpha=0.5)\n",
    "plt.plot(x_test, y_out, color='orange', linewidth=3)\n",
    "plt.title(\"Distance x Speed\")\n",
    "plt.xlabel(\"Distance\")\n",
    "plt.ylabel(\"Speed\")\n",
    "plt.show()"
   ]
  },
  {
   "cell_type": "code",
   "execution_count": 28,
   "id": "26f76501-bec5-4710-b71c-620177c6ad99",
   "metadata": {},
   "outputs": [
    {
     "name": "stderr",
     "output_type": "stream",
     "text": [
      "[Stage 83:>                                                         (0 + 4) / 4]\r"
     ]
    },
    {
     "name": "stdout",
     "output_type": "stream",
     "text": [
      "+-------+\n",
      "|TailNum|\n",
      "+-------+\n",
      "| N396AA|\n",
      "| N3CWAA|\n",
      "| N499AA|\n",
      "| N4YUAA|\n",
      "| N567AA|\n",
      "| N442AS|\n",
      "+-------+\n",
      "only showing top 6 rows\n",
      "\n"
     ]
    },
    {
     "name": "stderr",
     "output_type": "stream",
     "text": [
      "                                                                                \r"
     ]
    }
   ],
   "source": [
    "tail_numbers = on_time_df.select(\"TailNum\").distinct()\n",
    "tail_numbers.show(6)"
   ]
  },
  {
   "cell_type": "code",
   "execution_count": 29,
   "id": "87b50156-1938-480f-b309-1b9352b3b33e",
   "metadata": {},
   "outputs": [
    {
     "name": "stdout",
     "output_type": "stream",
     "text": [
      "+----------+-----------+------------+\n",
      "|FAATailNum|      Model|Engine_Model|\n",
      "+----------+-----------+------------+\n",
      "|    N933EV|CL-600-2B19| CF34 SERIES|\n",
      "|    N917WN|    737-7H4|  CFM56-7B24|\n",
      "|    N438WN|    737-7H4|CFM56 SERIES|\n",
      "|    N283VA|   A320-214| CFM56-5B4/3|\n",
      "|    N473UA|   A320-232| AL-25SERIES|\n",
      "|    N637JB|   A320-232|    V2527-A5|\n",
      "+----------+-----------+------------+\n",
      "only showing top 6 rows\n",
      "\n"
     ]
    }
   ],
   "source": [
    "faa_tail_number_inquiry = spark.read.json('data/faa_tail_number_inquiry.jsonl')\n",
    "airplane_records = faa_tail_number_inquiry.select(\n",
    "    faa_tail_number_inquiry.TailNum.alias(\"FAATailNum\"), \"Model\", \"Engine_Model\")\n",
    "airplane_records.show(6)"
   ]
  },
  {
   "cell_type": "code",
   "execution_count": 30,
   "id": "c073e32b-b6f6-4110-bb56-357146f5d84d",
   "metadata": {},
   "outputs": [
    {
     "name": "stderr",
     "output_type": "stream",
     "text": [
      "                                                                                \r"
     ]
    },
    {
     "name": "stdout",
     "output_type": "stream",
     "text": [
      "FAA tail number: 4898\n",
      "Airplane records: 3988\n"
     ]
    },
    {
     "name": "stderr",
     "output_type": "stream",
     "text": [
      "                                                                                \r"
     ]
    },
    {
     "name": "stdout",
     "output_type": "stream",
     "text": [
      "Joined records: 3988\n"
     ]
    }
   ],
   "source": [
    "print(f\"FAA tail number: {tail_numbers.count()}\")\n",
    "print(f\"Airplane records: {airplane_records.count()}\")\n",
    "inner_joined = tail_numbers.join(airplane_records, tail_numbers.TailNum == airplane_records.FAATailNum, \"inner\")\n",
    "print(f\"Joined records: {inner_joined.count()}\")"
   ]
  },
  {
   "cell_type": "code",
   "execution_count": 31,
   "id": "d701aae1-c6f5-46cf-877a-cf0afce5d5a5",
   "metadata": {},
   "outputs": [
    {
     "name": "stderr",
     "output_type": "stream",
     "text": [
      "[Stage 105:>                                                        (0 + 4) / 4]\r"
     ]
    },
    {
     "name": "stdout",
     "output_type": "stream",
     "text": [
      "+-------+----------+--------------+------------+\n",
      "|TailNum|FAATailNum|         Model|Engine_Model|\n",
      "+-------+----------+--------------+------------+\n",
      "| N396AA|    N396AA|          B300|    PT6A SER|\n",
      "| N499AA|    N499AA|DC-9-82(MD-82)| JT8D SERIES|\n",
      "| N442AS|    N442AS|     737-990ER| CFM56-7B27E|\n",
      "| N369NB|    N369NB|      A319-114|CFM56 SERIES|\n",
      "| N388DA|    N388DA|       737-832|CFM56 SERIES|\n",
      "|  N6700|     N6700|       757-232|      PW2037|\n",
      "+-------+----------+--------------+------------+\n",
      "only showing top 6 rows\n",
      "\n"
     ]
    },
    {
     "name": "stderr",
     "output_type": "stream",
     "text": [
      "                                                                                \r"
     ]
    }
   ],
   "source": [
    "inner_joined.show(6)"
   ]
  },
  {
   "cell_type": "code",
   "execution_count": 32,
   "id": "11fff3f9-ae25-4858-a956-b21f46f9d49b",
   "metadata": {},
   "outputs": [
    {
     "name": "stderr",
     "output_type": "stream",
     "text": [
      "                                                                                \r"
     ]
    },
    {
     "name": "stdout",
     "output_type": "stream",
     "text": [
      "FAA tail numbers: 4898\n",
      "Airplane records: 3988\n"
     ]
    },
    {
     "name": "stderr",
     "output_type": "stream",
     "text": [
      "                                                                                \r"
     ]
    },
    {
     "name": "stdout",
     "output_type": "stream",
     "text": [
      "Joined records: 4898\n"
     ]
    }
   ],
   "source": [
    "print(f\"FAA tail numbers: {tail_numbers.count()}\")\n",
    "print(f\"Airplane records: {airplane_records.count()}\")\n",
    "left_outer_joined = tail_numbers.join(airplane_records, tail_numbers.TailNum == airplane_records.FAATailNum, 'left_outer')\n",
    "print(f\"Joined records: {left_outer_joined.count()}\")"
   ]
  },
  {
   "cell_type": "code",
   "execution_count": 33,
   "id": "19b0ec3b-e841-419d-90ea-9e594b6cb61a",
   "metadata": {},
   "outputs": [
    {
     "name": "stderr",
     "output_type": "stream",
     "text": [
      "                                                                                \r"
     ]
    },
    {
     "name": "stdout",
     "output_type": "stream",
     "text": [
      "+-------+----------+--------------+------------+\n",
      "|TailNum|FAATailNum|         Model|Engine_Model|\n",
      "+-------+----------+--------------+------------+\n",
      "| N396AA|    N396AA|          B300|    PT6A SER|\n",
      "| N3CWAA|      null|          null|        null|\n",
      "| N499AA|    N499AA|DC-9-82(MD-82)| JT8D SERIES|\n",
      "| N4YUAA|      null|          null|        null|\n",
      "| N567AA|      null|          null|        null|\n",
      "| N442AS|    N442AS|     737-990ER| CFM56-7B27E|\n",
      "+-------+----------+--------------+------------+\n",
      "only showing top 6 rows\n",
      "\n"
     ]
    }
   ],
   "source": [
    "left_outer_joined.show(6)"
   ]
  },
  {
   "cell_type": "markdown",
   "id": "136f12a8-421f-4928-aa36-9bd1a5907274",
   "metadata": {},
   "source": [
    "Exercise"
   ]
  },
  {
   "cell_type": "code",
   "execution_count": 34,
   "id": "7795fff2-30c4-46e8-8e27-41054c1c5ae7",
   "metadata": {},
   "outputs": [
    {
     "name": "stderr",
     "output_type": "stream",
     "text": [
      "                                                                                \r"
     ]
    },
    {
     "data": {
      "text/plain": [
       "{'TailNum': 'N3AKAA',\n",
       " 'Flights': [('AA', '2015-01-01', '1375', 'ORD', 'RSW'),\n",
       "  ('AA', '2015-01-01', '1375', 'RSW', 'ORD'),\n",
       "  ('AA', '2015-01-02', '2285', 'JFK', 'MCO'),\n",
       "  ('AA', '2015-01-02', '2285', 'MCO', 'JFK'),\n",
       "  ('AA', '2015-01-03', '1070', 'SEA', 'MIA'),\n",
       "  ('AA', '2015-01-03', '235', 'JFK', 'SEA'),\n",
       "  ('AA', '2015-01-04', '1419', 'MIA', 'BDL'),\n",
       "  ('AA', '2015-01-05', '178', 'DCA', 'DFW'),\n",
       "  ('AA', '2015-01-05', '178', 'DFW', 'DCA'),\n",
       "  ('AA', '2015-01-05', '2358', 'BDL', 'DFW'),\n",
       "  ('AA', '2015-01-05', '2435', 'DFW', 'PHX'),\n",
       "  ('AA', '2015-01-06', '1460', 'PHX', 'DFW'),\n",
       "  ('AA', '2015-01-06', '1544', 'DFW', 'BOS'),\n",
       "  ('AA', '2015-01-07', '1027', 'BOS', 'DFW'),\n",
       "  ('AA', '2015-01-07', '188', 'DFW', 'RSW'),\n",
       "  ('AA', '2015-01-07', '188', 'RSW', 'DFW'),\n",
       "  ('AA', '2015-01-08', '1132', 'DFW', 'PHX'),\n",
       "  ('AA', '2015-01-08', '1132', 'PHX', 'DFW'),\n",
       "  ('AA', '2015-01-08', '1156', 'DFW', 'LGA'),\n",
       "  ('AA', '2015-01-09', '1048', 'DFW', 'CLT'),\n",
       "  ('AA', '2015-01-09', '1061', 'CLT', 'IAH'),\n",
       "  ('AA', '2015-01-09', '1161', 'MIA', 'TPA'),\n",
       "  ('AA', '2015-01-09', '1297', 'LGA', 'MIA'),\n",
       "  ('AA', '2015-01-09', '2333', 'TPA', 'DFW'),\n",
       "  ('AA', '2015-01-10', '1311', 'CLT', 'ORD'),\n",
       "  ('AA', '2015-01-10', '1438', 'IAH', 'CLT'),\n",
       "  ('AA', '2015-01-10', '2340', 'DCA', 'ORD'),\n",
       "  ('AA', '2015-01-10', '2340', 'ORD', 'DCA'),\n",
       "  ('AA', '2015-01-11', '354', 'ORD', 'LGA'),\n",
       "  ('AA', '2015-01-11', '367', 'LGA', 'ORD'),\n",
       "  ('AA', '2015-01-12', '1238', 'FLL', 'ORD'),\n",
       "  ('AA', '2015-01-12', '1238', 'ORD', 'FLL'),\n",
       "  ('AA', '2015-01-12', '1644', 'ORD', 'SNA'),\n",
       "  ('AA', '2015-01-12', '1644', 'SNA', 'ORD'),\n",
       "  ('AA', '2015-01-13', '1009', 'ORD', 'LAX'),\n",
       "  ('AA', '2015-01-13', '1062', 'LAX', 'ORD'),\n",
       "  ('AA', '2015-01-13', '395', 'ORD', 'SJU'),\n",
       "  ('AA', '2015-01-13', '395', 'SJU', 'ORD'),\n",
       "  ('AA', '2015-01-14', '1432', 'ORD', 'CLT'),\n",
       "  ('AA', '2015-01-14', '1463', 'FLL', 'ORD'),\n",
       "  ('AA', '2015-01-14', '1463', 'ORD', 'FLL'),\n",
       "  ('AA', '2015-01-14', '1480', 'CLT', 'JFK'),\n",
       "  ('AA', '2015-01-15', '84', 'BOS', 'JFK'),\n",
       "  ('AA', '2015-01-15', '84', 'JFK', 'BOS'),\n",
       "  ('AA', '2015-01-16', '1425', 'DFW', 'PHX'),\n",
       "  ('AA', '2015-01-16', '2393', 'JFK', 'MCO'),\n",
       "  ('AA', '2015-01-16', '2393', 'MCO', 'JFK'),\n",
       "  ('AA', '2015-01-16', '65', 'JFK', 'DFW'),\n",
       "  ('AA', '2015-01-17', '1082', 'LGA', 'MIA'),\n",
       "  ('AA', '2015-01-17', '1082', 'MIA', 'LGA'),\n",
       "  ('AA', '2015-01-17', '2211', 'PHX', 'MIA'),\n",
       "  ('AA', '2015-01-18', '1554', 'DFW', 'SNA'),\n",
       "  ('AA', '2015-01-18', '1554', 'SNA', 'DFW'),\n",
       "  ('AA', '2015-01-18', '2396', 'DFW', 'DCA'),\n",
       "  ('AA', '2015-01-19', '137', 'DCA', 'DFW'),\n",
       "  ('AA', '2015-01-19', '1386', 'DFW', 'MCO'),\n",
       "  ('AA', '2015-01-19', '1554', 'DFW', 'SNA'),\n",
       "  ('AA', '2015-01-19', '1554', 'SNA', 'DFW'),\n",
       "  ('AA', '2015-01-20', '1029', 'DCA', 'JFK'),\n",
       "  ('AA', '2015-01-20', '1029', 'JFK', 'DCA'),\n",
       "  ('AA', '2015-01-20', '64', 'DFW', 'JFK'),\n",
       "  ('AA', '2015-01-20', '83', 'MCO', 'DFW'),\n",
       "  ('AA', '2015-01-21', '120', 'LAS', 'JFK'),\n",
       "  ('AA', '2015-01-21', '1441', 'JFK', 'LAS'),\n",
       "  ('AA', '2015-01-22', '1065', 'BOS', 'ORD'),\n",
       "  ('AA', '2015-01-22', '1065', 'ORD', 'BOS'),\n",
       "  ('AA', '2015-01-23', '1142', 'ORD', 'CLT'),\n",
       "  ('AA', '2015-01-23', '1277', 'CLT', 'MIA'),\n",
       "  ('AA', '2015-01-24', '1476', 'LAS', 'MIA'),\n",
       "  ('AA', '2015-01-24', '1476', 'MIA', 'LAS'),\n",
       "  ('AA', '2015-01-24', '2440', 'MIA', 'BOS'),\n",
       "  ('AA', '2015-01-25', '1027', 'BOS', 'DFW'),\n",
       "  ('AA', '2015-01-25', '1618', 'DFW', 'SNA'),\n",
       "  ('AA', '2015-01-25', '1618', 'SNA', 'DFW'),\n",
       "  ('AA', '2015-01-26', '1096', 'BOS', 'JFK'),\n",
       "  ('AA', '2015-01-26', '1096', 'JFK', 'BOS'),\n",
       "  ('AA', '2015-01-26', '1642', 'DFW', 'EWR'),\n",
       "  ('AA', '2015-01-26', '1642', 'EWR', 'DFW'),\n",
       "  ('AA', '2015-01-26', '2314', 'JFK', 'BOS'),\n",
       "  ('AA', '2015-01-28', '1114', 'DFW', 'LGA'),\n",
       "  ('AA', '2015-01-28', '1114', 'LGA', 'DFW'),\n",
       "  ('AA', '2015-01-28', '1230', 'SEA', 'DFW'),\n",
       "  ('AA', '2015-01-28', '2247', 'DFW', 'SEA'),\n",
       "  ('AA', '2015-01-29', '1108', 'DFW', 'LGA'),\n",
       "  ('AA', '2015-01-29', '1108', 'LGA', 'DFW'),\n",
       "  ('AA', '2015-01-29', '138', 'DFW', 'DCA'),\n",
       "  ('AA', '2015-01-30', '2311', 'DFW', 'SEA'),\n",
       "  ('AA', '2015-01-30', '97', 'DCA', 'DFW'),\n",
       "  ('AA', '2015-01-31', '236', 'SEA', 'JFK'),\n",
       "  ('AA', '2015-02-01', '1042', 'SAN', 'MIA'),\n",
       "  ('AA', '2015-02-01', '193', 'BOS', 'JFK'),\n",
       "  ('AA', '2015-02-01', '193', 'JFK', 'BOS'),\n",
       "  ('AA', '2015-02-01', '95', 'JFK', 'SAN'),\n",
       "  ('AA', '2015-02-02', '1476', 'LAS', 'MIA'),\n",
       "  ('AA', '2015-02-02', '1476', 'MIA', 'LAS'),\n",
       "  ('AA', '2015-02-02', '2440', 'MIA', 'BOS'),\n",
       "  ('AA', '2015-02-03', '1233', 'BOS', 'DFW'),\n",
       "  ('AA', '2015-02-03', '212', 'DFW', 'SFO'),\n",
       "  ('AA', '2015-02-03', '212', 'SFO', 'DFW'),\n",
       "  ('AA', '2015-02-03', '2396', 'DFW', 'DCA'),\n",
       "  ('AA', '2015-02-04', '913', 'DCA', 'MIA'),\n",
       "  ('AA', '2015-02-05', '196', 'MIA', 'PHL'),\n",
       "  ('AA', '2015-02-05', '2251', 'CLT', 'MIA'),\n",
       "  ('AA', '2015-02-05', '73', 'PHL', 'CLT'),\n",
       "  ('AA', '2015-02-06', '2207', 'MIA', 'LAS'),\n",
       "  ('AA', '2015-02-07', '1691', 'LAS', 'LAX'),\n",
       "  ('AA', '2015-02-07', '1691', 'LAX', 'LAS'),\n",
       "  ('AA', '2015-02-07', '183', 'LAS', 'LAX'),\n",
       "  ('AA', '2015-02-07', '2465', 'LAX', 'SFO'),\n",
       "  ('AA', '2015-02-08', '1250', 'SFO', 'LAX'),\n",
       "  ('AA', '2015-02-08', '75', 'IAD', 'LAX'),\n",
       "  ('AA', '2015-02-08', '76', 'LAX', 'IAD'),\n",
       "  ('AA', '2015-02-09', '1630', 'DFW', 'FLL'),\n",
       "  ('AA', '2015-02-09', '2410', 'LAX', 'DFW'),\n",
       "  ('AA', '2015-02-09', '2433', 'DFW', 'LAX'),\n",
       "  ('AA', '2015-02-09', '2433', 'LAX', 'DFW'),\n",
       "  ('AA', '2015-02-11', '1351', 'LAX', 'MCO'),\n",
       "  ('AA', '2015-02-11', '1503', 'FLL', 'DFW'),\n",
       "  ('AA', '2015-02-11', '1512', 'DFW', 'TPA'),\n",
       "  ('AA', '2015-02-11', '1512', 'TPA', 'DFW'),\n",
       "  ('AA', '2015-02-11', '2489', 'DFW', 'LAX'),\n",
       "  ('AA', '2015-02-12', '1029', 'DCA', 'JFK'),\n",
       "  ('AA', '2015-02-12', '1029', 'JFK', 'DCA'),\n",
       "  ('AA', '2015-02-12', '2314', 'JFK', 'BOS'),\n",
       "  ('AA', '2015-02-12', '64', 'DFW', 'JFK'),\n",
       "  ('AA', '2015-02-12', '83', 'MCO', 'DFW'),\n",
       "  ('AA', '2015-02-13', '1042', 'SAN', 'MIA'),\n",
       "  ('AA', '2015-02-13', '160', 'BOS', 'ORD'),\n",
       "  ('AA', '2015-02-13', '198', 'ORD', 'JFK'),\n",
       "  ('AA', '2015-02-13', '95', 'JFK', 'SAN'),\n",
       "  ('AA', '2015-02-14', '1002', 'LAS', 'MIA'),\n",
       "  ('AA', '2015-02-14', '1002', 'MIA', 'LAS'),\n",
       "  ('AA', '2015-02-14', '1283', 'MIA', 'DFW'),\n",
       "  ('AA', '2015-02-14', '2440', 'MIA', 'BOS'),\n",
       "  ('AA', '2015-02-15', '1688', 'DCA', 'DFW'),\n",
       "  ('AA', '2015-02-15', '1688', 'DFW', 'DCA'),\n",
       "  ('AA', '2015-02-15', '383', 'DFW', 'DCA'),\n",
       "  ('AA', '2015-02-18', '137', 'DCA', 'DFW'),\n",
       "  ('AA', '2015-02-18', '221', 'DFW', 'SFO'),\n",
       "  ('AA', '2015-02-18', '221', 'SFO', 'DFW'),\n",
       "  ('AA', '2015-02-18', '37', 'DFW', 'SAN'),\n",
       "  ('AA', '2015-02-19', '1148', 'DFW', 'LGA'),\n",
       "  ('AA', '2015-02-19', '36', 'SAN', 'DFW'),\n",
       "  ('AA', '2015-02-20', '1111', 'LGA', 'DFW'),\n",
       "  ('AA', '2015-02-20', '1138', 'DFW', 'LGA'),\n",
       "  ('AA', '2015-02-20', '2395', 'LGA', 'MIA'),\n",
       "  ('AA', '2015-02-20', '916', 'MIA', 'DCA'),\n",
       "  ('AA', '2015-02-21', '1049', 'DFW', 'RDU'),\n",
       "  ('AA', '2015-02-21', '1132', 'DFW', 'PHX'),\n",
       "  ('AA', '2015-02-21', '1132', 'PHX', 'DFW'),\n",
       "  ('AA', '2015-02-21', '175', 'DCA', 'DFW'),\n",
       "  ('AA', '2015-02-22', '1138', 'DFW', 'LGA'),\n",
       "  ('AA', '2015-02-22', '1339', 'RDU', 'DFW'),\n",
       "  ('AA', '2015-02-23', '1059', 'LGA', 'DFW'),\n",
       "  ('AA', '2015-02-24', '1164', 'DFW', 'LGA'),\n",
       "  ('AA', '2015-02-26', '1427', 'ORD', 'TUL'),\n",
       "  ('AA', '2015-02-26', '1476', 'ORD', 'PBI'),\n",
       "  ('AA', '2015-02-26', '1476', 'PBI', 'ORD'),\n",
       "  ('AA', '2015-02-26', '311', 'LGA', 'ORD'),\n",
       "  ('AA', '2015-02-27', '1577', 'TUL', 'DFW'),\n",
       "  ('AA', '2015-02-27', '259', 'DFW', 'SFO'),\n",
       "  ('AA', '2015-02-27', '259', 'SFO', 'DFW'),\n",
       "  ('AA', '2015-02-28', '1596', 'DFW', 'SNA'),\n",
       "  ('AA', '2015-02-28', '1596', 'SNA', 'DFW'),\n",
       "  ('AA', '2015-03-01', '1464', 'DFW', 'TUL'),\n",
       "  ('AA', '2015-05-02', '2211', 'DFW', 'SNA'),\n",
       "  ('AA', '2015-05-03', '1314', 'SNA', 'DFW'),\n",
       "  ('AA', '2015-05-03', '1402', 'FLL', 'DFW'),\n",
       "  ('AA', '2015-05-03', '390', 'DFW', 'FLL'),\n",
       "  ('AA', '2015-05-04', '1364', 'DFW', 'MIA'),\n",
       "  ('AA', '2015-05-05', '234', 'MIA', 'BWI'),\n",
       "  ('AA', '2015-05-06', '1583', 'DFW', 'DEN'),\n",
       "  ('AA', '2015-05-06', '233', 'BWI', 'MIA'),\n",
       "  ('AA', '2015-05-06', '258', 'DTW', 'DFW'),\n",
       "  ('AA', '2015-05-06', '313', 'MIA', 'DTW'),\n",
       "  ('AA', '2015-05-07', '1118', 'DEN', 'DFW'),\n",
       "  ('AA', '2015-05-07', '1476', 'EWR', 'DFW'),\n",
       "  ('AA', '2015-05-07', '2322', 'DFW', 'PBI'),\n",
       "  ('AA', '2015-05-07', '275', 'DFW', 'EWR'),\n",
       "  ('AA', '2015-05-08', '1134', 'DFW', 'LGA'),\n",
       "  ('AA', '2015-05-08', '1134', 'LGA', 'DFW'),\n",
       "  ('AA', '2015-05-08', '1423', 'PBI', 'DFW'),\n",
       "  ('AA', '2015-05-08', '2211', 'DFW', 'SNA'),\n",
       "  ('AA', '2015-05-09', '1065', 'MIA', 'ORD'),\n",
       "  ('AA', '2015-05-09', '1300', 'DFW', 'DTW'),\n",
       "  ('AA', '2015-05-09', '1627', 'SNA', 'DFW'),\n",
       "  ('AA', '2015-05-09', '301', 'DTW', 'MIA'),\n",
       "  ('AA', '2015-05-10', '1401', 'ORD', 'MIA'),\n",
       "  ('AA', '2015-05-11', '1227', 'DCA', 'MIA'),\n",
       "  ('AA', '2015-05-11', '1227', 'MIA', 'DCA'),\n",
       "  ('AA', '2015-05-11', '1486', 'MIA', 'DCA'),\n",
       "  ('AA', '2015-05-12', '1556', 'DFW', 'IAD'),\n",
       "  ('AA', '2015-05-12', '1556', 'IAD', 'DFW'),\n",
       "  ('AA', '2015-05-12', '175', 'DCA', 'DFW'),\n",
       "  ('AA', '2015-05-12', '356', 'DFW', 'JFK'),\n",
       "  ('AA', '2015-05-13', '45', 'JFK', 'SEA'),\n",
       "  ('AA', '2015-05-14', '1053', 'LGA', 'MIA'),\n",
       "  ('AA', '2015-05-14', '1230', 'SEA', 'DFW'),\n",
       "  ('AA', '2015-05-14', '2360', 'SAN', 'ORD'),\n",
       "  ('AA', '2015-05-14', '2397', 'DFW', 'SAN'),\n",
       "  ('AA', '2015-05-14', '365', 'ORD', 'LGA'),\n",
       "  ('AA', '2015-05-15', '1642', 'MIA', 'DCA'),\n",
       "  ('AA', '2015-05-16', '1533', 'DCA', 'MIA'),\n",
       "  ('AA', '2015-05-16', '1640', 'LGA', 'MIA'),\n",
       "  ('AA', '2015-05-16', '1640', 'MIA', 'LGA'),\n",
       "  ('AA', '2015-05-17', '299', 'MIA', 'DEN'),\n",
       "  ('AA', '2015-05-17', '56', 'DEN', 'MIA'),\n",
       "  ('AA', '2015-05-18', '1293', 'MIA', 'STX'),\n",
       "  ('AA', '2015-05-18', '1293', 'STX', 'MIA'),\n",
       "  ('AA', '2015-05-18', '1419', 'MIA', 'BDL'),\n",
       "  ('AA', '2015-05-19', '1367', 'MIA', 'LGA'),\n",
       "  ('AA', '2015-05-19', '2476', 'BDL', 'MIA'),\n",
       "  ('AA', '2015-05-20', '1064', 'LGA', 'MIA'),\n",
       "  ('AA', '2015-05-20', '1103', 'LGA', 'DFW'),\n",
       "  ('AA', '2015-05-20', '1114', 'DFW', 'LGA'),\n",
       "  ('AA', '2015-05-20', '2424', 'MIA', 'AUS'),\n",
       "  ('AA', '2015-05-21', '1601', 'JFK', 'DFW'),\n",
       "  ('AA', '2015-05-21', '1677', 'DFW', 'SNA'),\n",
       "  ('AA', '2015-05-21', '66', 'AUS', 'JFK'),\n",
       "  ('AA', '2015-05-22', '1491', 'FLL', 'DFW'),\n",
       "  ('AA', '2015-05-22', '244', 'SNA', 'DFW'),\n",
       "  ('AA', '2015-05-22', '313', 'DFW', 'FLL'),\n",
       "  ('AA', '2015-05-25', '2481', 'MIA', 'SAT'),\n",
       "  ('AA', '2015-05-26', '1202', 'MIA', 'DCA'),\n",
       "  ('AA', '2015-05-26', '129', 'MIA', 'MSY'),\n",
       "  ('AA', '2015-05-26', '129', 'MSY', 'MIA'),\n",
       "  ('AA', '2015-05-26', '1470', 'DCA', 'MIA'),\n",
       "  ('AA', '2015-05-26', '1516', 'SAT', 'MIA'),\n",
       "  ('AA', '2015-05-27', '1311', 'MIA', 'ORD'),\n",
       "  ('AA', '2015-05-27', '1324', 'BOS', 'DFW'),\n",
       "  ('AA', '2015-05-27', '186', 'ORD', 'BOS'),\n",
       "  ('AA', '2015-05-27', '2292', 'DFW', 'LAS'),\n",
       "  ('AA', '2015-05-27', '311', 'LAS', 'MIA'),\n",
       "  ('AA', '2015-05-28', '1465', 'MIA', 'TPA'),\n",
       "  ('AA', '2015-05-28', '1465', 'TPA', 'MIA'),\n",
       "  ('AA', '2015-05-28', '2296', 'DCA', 'MIA'),\n",
       "  ('AA', '2015-05-28', '2296', 'MIA', 'DCA'),\n",
       "  ('AA', '2015-05-28', '63', 'MIA', 'IAH'),\n",
       "  ('AA', '2015-05-29', '1363', 'CLT', 'ORD'),\n",
       "  ('AA', '2015-05-29', '1432', 'ORD', 'CLT'),\n",
       "  ('AA', '2015-05-29', '1577', 'IAH', 'CLT'),\n",
       "  ('AA', '2015-05-29', '1638', 'CLT', 'JFK'),\n",
       "  ('AA', '2015-05-30', '120', 'LAS', 'JFK'),\n",
       "  ('AA', '2015-05-30', '1263', 'JFK', 'LAS'),\n",
       "  ('AA', '2015-05-30', '235', 'JFK', 'BOS'),\n",
       "  ('AA', '2015-05-31', '1444', 'ORD', 'PHX'),\n",
       "  ('AA', '2015-05-31', '1444', 'PHX', 'ORD'),\n",
       "  ('AA', '2015-05-31', '1500', 'BOS', 'ORD'),\n",
       "  ('AA', '2015-05-31', '2390', 'ORD', 'PHX'),\n",
       "  ('AA', '2015-06-01', '1063', 'ORD', 'EWR'),\n",
       "  ('AA', '2015-06-01', '2380', 'PHX', 'ORD'),\n",
       "  ('AA', '2015-06-01', '337', 'LGA', 'ORD'),\n",
       "  ('AA', '2015-06-01', '374', 'ORD', 'LGA'),\n",
       "  ('AA', '2015-06-02', '1429', 'BOS', 'DFW'),\n",
       "  ('AA', '2015-06-02', '1429', 'DFW', 'BOS'),\n",
       "  ('AA', '2015-06-02', '971', 'EWR', 'DFW'),\n",
       "  ('AA', '2015-06-03', '1170', 'DFW', 'LGA'),\n",
       "  ('AA', '2015-06-03', '1302', 'DFW', 'FLL'),\n",
       "  ('AA', '2015-06-03', '1302', 'FLL', 'DFW'),\n",
       "  ('AA', '2015-06-04', '1419', 'MIA', 'BDL'),\n",
       "  ('AA', '2015-06-04', '2266', 'LGA', 'MIA'),\n",
       "  ('AA', '2015-06-05', '1316', 'DFW', 'SLC'),\n",
       "  ('AA', '2015-06-05', '1316', 'SLC', 'DFW'),\n",
       "  ('AA', '2015-06-05', '2187', 'BDL', 'DFW'),\n",
       "  ('AA', '2015-06-06', '1090', 'MIA', 'ORD'),\n",
       "  ('AA', '2015-06-06', '87', 'ORD', 'RNO'),\n",
       "  ('AA', '2015-06-07', '1441', 'RNO', 'DFW'),\n",
       "  ('AA', '2015-06-07', '388', 'DFW', 'SEA'),\n",
       "  ('AA', '2015-06-07', '388', 'SEA', 'DFW'),\n",
       "  ('AA', '2015-06-08', '1011', 'DFW', 'RSW'),\n",
       "  ('AA', '2015-06-08', '1276', 'RSW', 'DFW'),\n",
       "  ('AA', '2015-06-08', '188', 'DFW', 'RSW'),\n",
       "  ('AA', '2015-06-08', '2229', 'RSW', 'DFW'),\n",
       "  ('AA', '2015-06-08', '299', 'DFW', 'TUL'),\n",
       "  ('AA', '2015-06-09', '1060', 'TUL', 'DFW'),\n",
       "  ('AA', '2015-06-09', '143', 'DFW', 'BOS'),\n",
       "  ('AA', '2015-06-10', '2454', 'BOS', 'MIA'),\n",
       "  ('AA', '2015-06-10', '295', 'LAX', 'BNA'),\n",
       "  ('AA', '2015-06-10', '295', 'MIA', 'LAX'),\n",
       "  ('AA', '2015-06-11', '1361', 'BNA', 'LAX'),\n",
       "  ('AA', '2015-06-11', '1586', 'LAX', 'MCO'),\n",
       "  ('AA', '2015-06-12', '1394', 'MCO', 'LAX'),\n",
       "  ('AA', '2015-06-12', '2433', 'LAX', 'DFW'),\n",
       "  ('AA', '2015-06-12', '2438', 'LAX', 'SFO'),\n",
       "  ('AA', '2015-06-12', '2438', 'SFO', 'LAX'),\n",
       "  ('AA', '2015-06-12', '2495', 'DFW', 'LAX'),\n",
       "  ('AA', '2015-06-14', '1581', 'BDL', 'DFW'),\n",
       "  ('AA', '2015-06-14', '1581', 'DFW', 'BDL'),\n",
       "  ('AA', '2015-06-14', '2420', 'LAX', 'DFW'),\n",
       "  ('AA', '2015-06-16', '1642', 'MIA', 'DCA'),\n",
       "  ('AA', '2015-06-17', '1508', 'DCA', 'MIA'),\n",
       "  ('AA', '2015-06-17', '1642', 'MIA', 'DCA'),\n",
       "  ('AA', '2015-06-18', '1035', 'DCA', 'DFW'),\n",
       "  ('AA', '2015-06-18', '1560', 'DFW', 'SNA'),\n",
       "  ('AA', '2015-06-18', '222', 'SNA', 'DFW'),\n",
       "  ('AA', '2015-06-18', '2495', 'DFW', 'LAX'),\n",
       "  ('AA', '2015-06-19', '2420', 'LAX', 'DFW'),\n",
       "  ('AA', '2015-06-19', '25', 'DFW', 'PHL'),\n",
       "  ('AA', '2015-06-19', '25', 'PHL', 'DFW'),\n",
       "  ('AA', '2015-06-20', '1049', 'BWI', 'MIA'),\n",
       "  ('AA', '2015-06-20', '2361', 'DFW', 'BWI'),\n",
       "  ('AA', '2015-06-21', '1284', 'MIA', 'ORD'),\n",
       "  ('AA', '2015-06-21', '1509', 'BOS', 'MIA'),\n",
       "  ('AA', '2015-06-21', '1509', 'MIA', 'BOS'),\n",
       "  ('AA', '2015-06-21', '2413', 'ORD', 'PHX'),\n",
       "  ('AA', '2015-06-22', '1409', 'MIA', 'LAS'),\n",
       "  ('AA', '2015-06-22', '2203', 'MIA', 'LAS'),\n",
       "  ('AA', '2015-06-22', '2216', 'PHX', 'MIA'),\n",
       "  ('AA', '2015-06-22', '989', 'LAS', 'MIA'),\n",
       "  ('AA', '2015-06-23', '2284', 'ORD', 'DCA'),\n",
       "  ('AA', '2015-06-23', '2452', 'ORD', 'SJC'),\n",
       "  ('AA', '2015-06-23', '2452', 'SJC', 'ORD'),\n",
       "  ('AA', '2015-06-23', '334', 'LAS', 'ORD'),\n",
       "  ('AA', '2015-06-24', '1044', 'MIA', 'DTW'),\n",
       "  ('AA', '2015-06-24', '258', 'DTW', 'DFW'),\n",
       "  ('AA', '2015-06-24', '913', 'DCA', 'MIA'),\n",
       "  ('AA', '2015-06-25', '1642', 'MIA', 'DCA'),\n",
       "  ('AA', '2015-06-27', '245', 'DCA', 'LAX'),\n",
       "  ('AA', '2015-06-28', '126', 'LAX', 'ORD'),\n",
       "  ('AA', '2015-06-28', '1557', 'ORD', 'BOS'),\n",
       "  ('AA', '2015-06-28', '193', 'ORD', 'SFO'),\n",
       "  ('AA', '2015-06-28', '359', 'LGA', 'ORD'),\n",
       "  ('AA', '2015-06-28', '364', 'ORD', 'LGA'),\n",
       "  ('AA', '2015-06-29', '1506', 'DFW', 'FLL'),\n",
       "  ('AA', '2015-06-29', '299', 'FLL', 'DFW'),\n",
       "  ('AA', '2015-06-29', '330', 'BOS', 'JFK'),\n",
       "  ('AA', '2015-06-29', '330', 'CLT', 'DFW'),\n",
       "  ('AA', '2015-06-29', '330', 'JFK', 'CLT'),\n",
       "  ('AA', '2015-06-30', '25', 'DFW', 'PHL'),\n",
       "  ('AA', '2015-06-30', '25', 'PHL', 'DFW'),\n",
       "  ('AA', '2015-07-01', '1319', 'IND', 'LAX'),\n",
       "  ('AA', '2015-07-01', '1319', 'LAX', 'IND'),\n",
       "  ('AA', '2015-07-01', '2250', 'DFW', 'LAX'),\n",
       "  ('AA', '2015-07-02', '1533', 'DCA', 'MIA'),\n",
       "  ('AA', '2015-07-02', '1533', 'MIA', 'DCA'),\n",
       "  ('AA', '2015-07-02', '260', 'LAX', 'MIA'),\n",
       "  ('AA', '2015-07-03', '148', 'CLT', 'MIA'),\n",
       "  ('AA', '2015-07-03', '148', 'MIA', 'CLT'),\n",
       "  ('AA', '2015-07-05', '234', 'MIA', 'BWI'),\n",
       "  ('AA', '2015-07-05', '2414', 'MIA', 'SJU'),\n",
       "  ('AA', '2015-07-05', '2414', 'SJU', 'MIA'),\n",
       "  ('AA', '2015-07-06', '1138', 'LAX', 'ORD'),\n",
       "  ('AA', '2015-07-06', '1305', 'ORD', 'JFK'),\n",
       "  ('AA', '2015-07-06', '2250', 'DFW', 'LAX'),\n",
       "  ('AA', '2015-07-06', '937', 'BWI', 'DFW'),\n",
       "  ('AA', '2015-07-07', '120', 'LAS', 'JFK'),\n",
       "  ('AA', '2015-07-07', '1263', 'JFK', 'LAS'),\n",
       "  ('AA', '2015-07-07', '938', 'JFK', 'SJU'),\n",
       "  ('AA', '2015-07-08', '1014', 'SJU', 'MIA'),\n",
       "  ('AA', '2015-07-08', '2415', 'MIA', 'LGA'),\n",
       "  ('AA', '2015-07-09', '1131', 'LGA', 'DFW'),\n",
       "  ('AA', '2015-07-09', '1522', 'SFO', 'ORD'),\n",
       "  ('AA', '2015-07-09', '249', 'DFW', 'SFO'),\n",
       "  ('AA', '2015-07-10', '1061', 'MIA', 'MCO'),\n",
       "  ('AA', '2015-07-10', '1317', 'ORD', 'MIA'),\n",
       "  ('AA', '2015-07-10', '2280', 'MCO', 'DFW'),\n",
       "  ('AA', '2015-07-10', '2306', 'DFW', 'BDL'),\n",
       "  ('AA', '2015-07-11', '1554', 'LAX', 'LAS'),\n",
       "  ('AA', '2015-07-11', '170', 'LAX', 'LAS'),\n",
       "  ('AA', '2015-07-11', '182', 'LAX', 'LAS'),\n",
       "  ('AA', '2015-07-11', '2187', 'BDL', 'DFW'),\n",
       "  ('AA', '2015-07-11', '23', 'LAS', 'LAX'),\n",
       "  ('AA', '2015-07-11', '2384', 'LAS', 'LAX'),\n",
       "  ('AA', '2015-07-11', '2425', 'DFW', 'LAX'),\n",
       "  ('AA', '2015-07-12', '1211', 'DFW', 'BOS'),\n",
       "  ('AA', '2015-07-12', '1240', 'BOS', 'ORD'),\n",
       "  ('AA', '2015-07-12', '1358', 'ORD', 'LAX'),\n",
       "  ('AA', '2015-07-12', '1657', 'LAS', 'DFW'),\n",
       "  ('AA', '2015-07-12', '218', 'LAX', 'SFO'),\n",
       "  ('AA', '2015-07-13', '1232', 'SFO', 'LAX'),\n",
       "  ('AA', '2015-07-13', '219', 'LAX', 'ORD'),\n",
       "  ('AA', '2015-07-14', '1243', 'ORD', 'LAX'),\n",
       "  ('AA', '2015-07-14', '1319', 'IND', 'LAX'),\n",
       "  ('AA', '2015-07-14', '1319', 'LAX', 'IND'),\n",
       "  ('AA', '2015-07-15', '218', 'LAX', 'SFO'),\n",
       "  ('AA', '2015-07-15', '218', 'SFO', 'LAX'),\n",
       "  ('AA', '2015-07-15', '219', 'LAX', 'ORD'),\n",
       "  ('AA', '2015-07-16', '2203', 'MIA', 'LAS'),\n",
       "  ('AA', '2015-07-16', '2315', 'MCO', 'MIA'),\n",
       "  ('AA', '2015-07-16', '55', 'ORD', 'MCO'),\n",
       "  ('AA', '2015-07-17', '1222', 'ORD', 'DCA'),\n",
       "  ('AA', '2015-07-17', '1390', 'ORD', 'LGA'),\n",
       "  ('AA', '2015-07-17', '334', 'LAS', 'ORD'),\n",
       "  ('AA', '2015-07-17', '343', 'LGA', 'ORD'),\n",
       "  ('AA', '2015-07-18', '175', 'DCA', 'DFW'),\n",
       "  ('AA', '2015-07-18', '197', 'BOS', 'ORD'),\n",
       "  ('AA', '2015-07-18', '197', 'ORD', 'LAS'),\n",
       "  ('AA', '2015-07-18', '2188', 'DFW', 'BOS'),\n",
       "  ('AA', '2015-07-19', '334', 'LAS', 'ORD'),\n",
       "  ('AA', '2015-07-19', '334', 'ORD', 'MIA'),\n",
       "  ('AA', '2015-07-21', '942', 'JFK', 'MIA'),\n",
       "  ('AA', '2015-07-22', '1325', 'MIA', 'TPA'),\n",
       "  ('AA', '2015-07-22', '2399', 'TPA', 'ORD'),\n",
       "  ('AA', '2015-07-22', '2516', 'ORD', 'DEN'),\n",
       "  ('AA', '2015-07-23', '1170', 'DFW', 'LGA'),\n",
       "  ('AA', '2015-07-23', '158', 'DEN', 'DFW'),\n",
       "  ('AA', '2015-07-24', '1121', 'LGA', 'DFW'),\n",
       "  ('AA', '2015-07-24', '1581', 'BDL', 'DFW'),\n",
       "  ('AA', '2015-07-24', '1581', 'DFW', 'BDL'),\n",
       "  ('AA', '2015-07-24', '268', 'DFW', 'SEA'),\n",
       "  ('AA', '2015-07-25', '1230', 'SEA', 'DFW'),\n",
       "  ('AA', '2015-07-25', '1302', 'DFW', 'FLL'),\n",
       "  ('AA', '2015-07-25', '1302', 'FLL', 'DFW'),\n",
       "  ('AA', '2015-07-25', '1638', 'CLT', 'JFK'),\n",
       "  ('AA', '2015-07-25', '1638', 'DFW', 'CLT'),\n",
       "  ('AA', '2015-07-26', '236', 'BOS', 'JFK'),\n",
       "  ('AA', '2015-07-26', '84', 'JFK', 'BOS'),\n",
       "  ('AA', '2015-07-26', '983', 'MIA', 'IAD'),\n",
       "  ('AA', '2015-07-27', '1044', 'MIA', 'DTW'),\n",
       "  ('AA', '2015-07-27', '1173', 'IAD', 'MIA'),\n",
       "  ('AA', '2015-07-27', '2300', 'DFW', 'DCA'),\n",
       "  ('AA', '2015-07-27', '258', 'DTW', 'DFW'),\n",
       "  ('AA', '2015-07-28', '2189', 'DCA', 'MIA'),\n",
       "  ('AA', '2015-07-28', '37', 'DFW', 'SFO'),\n",
       "  ('AA', '2015-07-29', '1106', 'DFW', 'RNO'),\n",
       "  ('AA', '2015-07-29', '1159', 'DFW', 'SAN'),\n",
       "  ('AA', '2015-07-29', '1159', 'SAN', 'DFW'),\n",
       "  ('AA', '2015-07-29', '1289', 'SFO', 'DFW'),\n",
       "  ('AA', '2015-07-30', '1159', 'DFW', 'SAN'),\n",
       "  ('AA', '2015-07-30', '1159', 'SAN', 'DFW'),\n",
       "  ('AA', '2015-07-30', '1441', 'RNO', 'DFW'),\n",
       "  ('AA', '2015-07-30', '1563', 'DFW', 'SMF'),\n",
       "  ('AA', '2015-07-30', '1641', 'ATL', 'DFW'),\n",
       "  ('AA', '2015-07-30', '1641', 'DFW', 'ATL'),\n",
       "  ('AA', '2015-07-31', '1104', 'DFW', 'LGA'),\n",
       "  ('AA', '2015-07-31', '1175', 'LGA', 'MIA'),\n",
       "  ('AA', '2015-07-31', '1575', 'SMF', 'DFW'),\n",
       "  ('AA', '2015-07-31', '2414', 'MIA', 'SJU'),\n",
       "  ('AA', '2015-07-31', '2414', 'SJU', 'MIA'),\n",
       "  ('AA', '2015-08-01', '1168', 'ORD', 'MIA'),\n",
       "  ('AA', '2015-08-01', '1287', 'MIA', 'ORD'),\n",
       "  ('AA', '2015-08-01', '1579', 'IAH', 'MIA'),\n",
       "  ('AA', '2015-08-01', '1579', 'MIA', 'IAH'),\n",
       "  ('AA', '2015-08-01', '301', 'MIA', 'MCI'),\n",
       "  ('AA', '2015-08-02', '1584', 'MCI', 'MIA'),\n",
       "  ('AA', '2015-08-03', '2285', 'MCO', 'JFK'),\n",
       "  ('AA', '2015-08-03', '291', 'JFK', 'MCO'),\n",
       "  ('AA', '2015-08-04', '1044', 'MIA', 'DTW'),\n",
       "  ('AA', '2015-08-04', '1542', 'DFW', 'DEN'),\n",
       "  ('AA', '2015-08-04', '2243', 'JFK', 'MIA'),\n",
       "  ('AA', '2015-08-04', '2342', 'DEN', 'MIA'),\n",
       "  ('AA', '2015-08-04', '258', 'DTW', 'DFW'),\n",
       "  ('AA', '2015-08-05', '2448', 'MIA', 'CLT'),\n",
       "  ('AA', '2015-08-05', '362', 'CLT', 'DFW'),\n",
       "  ('AA', '2015-08-05', '362', 'DFW', 'PHL'),\n",
       "  ('AA', '2015-08-06', '1169', 'DFW', 'LGA'),\n",
       "  ('AA', '2015-08-06', '1365', 'LGA', 'MIA'),\n",
       "  ('AA', '2015-08-06', '1367', 'MIA', 'LGA'),\n",
       "  ('AA', '2015-08-06', '1580', 'PHL', 'DFW'),\n",
       "  ('AA', '2015-08-07', '1107', 'LGA', 'DFW'),\n",
       "  ('AA', '2015-08-07', '1114', 'LGA', 'DFW'),\n",
       "  ('AA', '2015-08-07', '1371', 'DFW', 'LGA'),\n",
       "  ('AA', '2015-08-07', '2523', 'DFW', 'PDX'),\n",
       "  ('AA', '2015-08-08', '1598', 'EWR', 'MIA'),\n",
       "  ('AA', '2015-08-08', '1608', 'PDX', 'DFW'),\n",
       "  ('AA', '2015-08-08', '1659', 'MIA', 'TPA'),\n",
       "  ('AA', '2015-08-08', '244', 'DFW', 'EWR'),\n",
       "  ('AA', '2015-08-09', '1266', 'MIA', 'RDU'),\n",
       "  ('AA', '2015-08-09', '1266', 'RDU', 'MIA'),\n",
       "  ('AA', '2015-08-09', '1521', 'MIA', 'RDU'),\n",
       "  ('AA', '2015-08-09', '1521', 'RDU', 'MIA'),\n",
       "  ('AA', '2015-08-09', '1659', 'MIA', 'TPA'),\n",
       "  ('AA', '2015-08-09', '295', 'TPA', 'MIA'),\n",
       "  ('AA', '2015-08-10', '2325', 'MIA', 'LGA'),\n",
       "  ('AA', '2015-08-10', '295', 'TPA', 'MIA'),\n",
       "  ('AA', '2015-08-11', '317', 'LGA', 'ORD'),\n",
       "  ('AA', '2015-08-12', '1329', 'SJU', 'ORD'),\n",
       "  ('AA', '2015-08-12', '336', 'ORD', 'LGA'),\n",
       "  ('AA', '2015-08-12', '395', 'ORD', 'SJU'),\n",
       "  ('AA', '2015-08-13', '1267', 'ORD', 'DCA'),\n",
       "  ('AA', '2015-08-13', '1638', 'CLT', 'JFK'),\n",
       "  ('AA', '2015-08-13', '1638', 'DFW', 'CLT'),\n",
       "  ('AA', '2015-08-13', '303', 'LGA', 'ORD'),\n",
       "  ('AA', '2015-08-13', '97', 'DCA', 'DFW'),\n",
       "  ('AA', '2015-08-14', '120', 'LAS', 'JFK'),\n",
       "  ('AA', '2015-08-14', '1263', 'JFK', 'LAS'),\n",
       "  ('AA', '2015-08-14', '938', 'JFK', 'SJU'),\n",
       "  ('AA', '2015-08-15', '1237', 'DFW', 'FLL'),\n",
       "  ('AA', '2015-08-15', '1522', 'SFO', 'ORD'),\n",
       "  ('AA', '2015-08-15', '1591', 'SJU', 'DFW'),\n",
       "  ('AA', '2015-08-15', '1615', 'FLL', 'ORD'),\n",
       "  ('AA', '2015-08-15', '1615', 'ORD', 'SFO'),\n",
       "  ('AA', '2015-08-16', '1273', 'SJU', 'DFW'),\n",
       "  ('AA', '2015-08-16', '1317', 'ORD', 'MIA'),\n",
       "  ('AA', '2015-08-16', '1613', 'MIA', 'SJU'),\n",
       "  ('AA', '2015-08-16', '2211', 'DFW', 'SNA'),\n",
       "  ('AA', '2015-08-17', '1118', 'DFW', 'LGA'),\n",
       "  ('AA', '2015-08-17', '1627', 'SNA', 'DFW'),\n",
       "  ('AA', '2015-08-18', '1296', 'ORD', 'SAN'),\n",
       "  ('AA', '2015-08-18', '1296', 'SAN', 'ORD'),\n",
       "  ('AA', '2015-08-18', '325', 'LGA', 'ORD'),\n",
       "  ('AA', '2015-08-19', '1288', 'BOS', 'DFW'),\n",
       "  ('AA', '2015-08-19', '1299', 'ORD', 'BOS'),\n",
       "  ('AA', '2015-08-23', '1009', 'DFW', 'MCO'),\n",
       "  ('AA', '2015-08-23', '1009', 'MCO', 'DFW'),\n",
       "  ('AA', '2015-08-23', '1630', 'DFW', 'BWI'),\n",
       "  ('AA', '2015-08-24', '233', 'BWI', 'MIA'),\n",
       "  ('AA', '2015-08-25', '1375', 'MIA', 'LAS'),\n",
       "  ('AA', '2015-08-25', '28', 'LAX', 'MIA'),\n",
       "  ('AA', '2015-08-25', '301', 'MIA', 'MCI'),\n",
       "  ('AA', '2015-08-25', '338', 'LAS', 'LAX'),\n",
       "  ('AA', '2015-08-26', '1325', 'MIA', 'TPA'),\n",
       "  ('AA', '2015-08-26', '1325', 'TPA', 'ORD'),\n",
       "  ('AA', '2015-08-26', '1584', 'MCI', 'MIA'),\n",
       "  ('AA', '2015-08-26', '93', 'ORD', 'LAS'),\n",
       "  ('AA', '2015-08-27', '1391', 'MIA', 'DFW'),\n",
       "  ('AA', '2015-08-27', '1555', 'ORD', 'DEN'),\n",
       "  ('AA', '2015-08-27', '334', 'LAS', 'ORD'),\n",
       "  ('AA', '2015-08-27', '56', 'DEN', 'MIA'),\n",
       "  ('AA', '2015-08-28', '101', 'JFK', 'DCA'),\n",
       "  ('AA', '2015-08-28', '104', 'DCA', 'JFK'),\n",
       "  ('AA', '2015-08-28', '2255', 'DFW', 'MCO'),\n",
       "  ('AA', '2015-08-28', '235', 'JFK', 'BOS'),\n",
       "  ('AA', '2015-08-28', '290', 'MCO', 'JFK'),\n",
       "  ('AA', '2015-08-29', '1332', 'LAX', 'ORD'),\n",
       "  ('AA', '2015-08-29', '333', 'BOS', 'LAX'),\n",
       "  ('AA', '2015-08-29', '35', 'ORD', 'CLT'),\n",
       "  ('AA', '2015-08-30', '1617', 'CLT', 'ORD'),\n",
       "  ('AA', '2015-08-30', '1629', 'LAS', 'DFW'),\n",
       "  ('AA', '2015-08-30', '2269', 'DFW', 'SLC'),\n",
       "  ('AA', '2015-08-30', '2470', 'ORD', 'LAS'),\n",
       "  ('AA', '2015-08-31', '1047', 'SLC', 'DFW'),\n",
       "  ('AA', '2015-08-31', '138', 'DFW', 'DCA'),\n",
       "  ('AA', '2015-08-31', '2423', 'DFW', 'MSP'),\n",
       "  ('AA', '2015-08-31', '2423', 'MSP', 'DFW'),\n",
       "  ('AA', '2015-09-01', '1170', 'DFW', 'LGA'),\n",
       "  ('AA', '2015-09-01', '1523', 'DFW', 'FLL'),\n",
       "  ('AA', '2015-09-01', '1523', 'FLL', 'DFW'),\n",
       "  ('AA', '2015-09-01', '175', 'DCA', 'DFW'),\n",
       "  ('AA', '2015-09-02', '1328', 'MIA', 'EWR'),\n",
       "  ('AA', '2015-09-02', '2266', 'LGA', 'MIA'),\n",
       "  ('AA', '2015-09-03', '1106', 'BWI', 'DFW'),\n",
       "  ('AA', '2015-09-03', '1301', 'EWR', 'MIA'),\n",
       "  ('AA', '2015-09-03', '194', 'MIA', 'BWI'),\n",
       "  ('AA', '2015-09-04', '1064', 'MIA', 'LGA'),\n",
       "  ('AA', '2015-09-04', '1112', 'LGA', 'DFW'),\n",
       "  ('AA', '2015-09-04', '2336', 'DFW', 'MIA'),\n",
       "  ('AA', '2015-09-04', '2343', 'DFW', 'PIT'),\n",
       "  ('AA', '2015-09-05', '1347', 'PIT', 'DFW'),\n",
       "  ('AA', '2015-09-05', '1426', 'DFW', 'PIT'),\n",
       "  ('AA', '2015-09-05', '1426', 'PIT', 'DFW'),\n",
       "  ('AA', '2015-09-05', '1605', 'DFW', 'ONT'),\n",
       "  ('AA', '2015-09-06', '1462', 'ONT', 'DFW'),\n",
       "  ('AA', '2015-09-06', '1494', 'DFW', 'MCO'),\n",
       "  ('AA', '2015-09-06', '1560', 'DFW', 'SNA'),\n",
       "  ('AA', '2015-09-06', '222', 'SNA', 'DFW'),\n",
       "  ('AA', '2015-09-07', '1178', 'BOS', 'DFW'),\n",
       "  ('AA', '2015-09-07', '1383', 'MCO', 'MIA'),\n",
       "  ('AA', '2015-09-07', '186', 'ORD', 'BOS'),\n",
       "  ('AA', '2015-09-07', '2226', 'MIA', 'ORD'),\n",
       "  ('AA', '2015-09-07', '60', 'DFW', 'MIA'),\n",
       "  ('AA', '2015-09-08', '134', 'MIA', 'SEA'),\n",
       "  ('AA', '2015-09-08', '1509', 'BOS', 'MIA'),\n",
       "  ('AA', '2015-09-08', '1509', 'MIA', 'BOS'),\n",
       "  ('AA', '2015-09-09', '1211', 'DFW', 'BOS'),\n",
       "  ('AA', '2015-09-09', '1230', 'SEA', 'DFW'),\n",
       "  ('AA', '2015-09-09', '1240', 'BOS', 'ORD'),\n",
       "  ('AA', '2015-09-09', '359', 'LGA', 'ORD'),\n",
       "  ('AA', '2015-09-09', '364', 'ORD', 'LGA'),\n",
       "  ('AA', '2015-09-10', '1377', 'ORD', 'MIA'),\n",
       "  ('AA', '2015-09-10', '76', 'MIA', 'LGA'),\n",
       "  ('AA', '2015-09-11', '1460', 'DFW', 'DCA'),\n",
       "  ('AA', '2015-09-11', '1541', 'MIA', 'DFW'),\n",
       "  ('AA', '2015-09-11', '324', 'DCA', 'ORD'),\n",
       "  ('AA', '2015-09-11', '87', 'ORD', 'RNO'),\n",
       "  ('AA', '2015-09-12', '1441', 'RNO', 'DFW'),\n",
       "  ('AA', '2015-09-12', '1506', 'DFW', 'FLL'),\n",
       "  ('AA', '2015-09-13', '1024', 'DFW', 'IAH'),\n",
       "  ('AA', '2015-09-13', '1300', 'DFW', 'MSY'),\n",
       "  ('AA', '2015-09-13', '1300', 'MSY', 'DFW'),\n",
       "  ('AA', '2015-09-13', '1302', 'FLL', 'DFW'),\n",
       "  ('AA', '2015-09-14', '1164', 'DFW', 'LGA'),\n",
       "  ('AA', '2015-09-14', '1483', 'IAH', 'DFW'),\n",
       "  ('AA', '2015-09-14', '152', 'DCA', 'DFW'),\n",
       "  ('AA', '2015-09-14', '152', 'DFW', 'DCA'),\n",
       "  ('AA', '2015-09-15', '1069', 'DFW', 'DTW'),\n",
       "  ('AA', '2015-09-15', '1121', 'LGA', 'DFW'),\n",
       "  ('AA', '2015-09-15', '1355', 'DFW', 'PDX'),\n",
       "  ('AA', '2015-09-15', '1355', 'PDX', 'DFW'),\n",
       "  ('AA', '2015-09-16', '1241', 'DTW', 'DFW'),\n",
       "  ('AA', '2015-09-16', '143', 'DFW', 'BOS'),\n",
       "  ('AA', '2015-09-17', '1583', 'BOS', 'DFW'),\n",
       "  ('AA', '2015-09-17', '2198', 'DFW', 'TPA'),\n",
       "  ('AA', '2015-09-18', '295', 'TPA', 'MIA'),\n",
       "  ('AA', '2015-09-19', '71', 'DFW', 'LAS'),\n",
       "  ('AA', '2015-09-19', '990', 'MIA', 'DFW'),\n",
       "  ('AA', '2015-09-20', '359', 'LGA', 'ORD'),\n",
       "  ('AA', '2015-09-20', '364', 'ORD', 'LGA'),\n",
       "  ('AA', '2015-09-20', '92', 'LAS', 'ORD'),\n",
       "  ('AA', '2015-09-21', '1037', 'MIA', 'EWR'),\n",
       "  ('AA', '2015-09-21', '1196', 'EWR', 'DFW'),\n",
       "  ('AA', '2015-09-21', '1625', 'DCA', 'MIA'),\n",
       "  ('AA', '2015-09-21', '360', 'ORD', 'DCA'),\n",
       "  ('AA', '2015-09-22', '1106', 'BWI', 'DFW'),\n",
       "  ('AA', '2015-09-22', '2508', 'DFW', 'BWI'),\n",
       "  ('AA', '2015-09-23', '1223', 'JFK', 'DFW'),\n",
       "  ('AA', '2015-09-23', '2255', 'DFW', 'MCO'),\n",
       "  ('AA', '2015-09-23', '2474', 'DFW', 'SMF'),\n",
       "  ('AA', '2015-09-23', '290', 'MCO', 'JFK'),\n",
       "  ('AA', '2015-09-24', '1126', 'SMF', 'DFW'),\n",
       "  ('AA', '2015-09-24', '1412', 'DFW', 'MIA'),\n",
       "  ('AA', '2015-09-25', '1184', 'DEN', 'DFW'),\n",
       "  ('AA', '2015-09-25', '1184', 'DFW', 'DEN'),\n",
       "  ('AA', '2015-09-25', '262', 'DFW', 'LAS'),\n",
       "  ('AA', '2015-09-26', '183', 'LAS', 'LAX'),\n",
       "  ('AA', '2015-09-26', '2459', 'LAX', 'DFW'),\n",
       "  ('AA', '2015-09-27', '1206', 'DFW', 'MSP'),\n",
       "  ('AA', '2015-09-27', '1402', 'DFW', 'SEA'),\n",
       "  ('AA', '2015-09-27', '1402', 'SEA', 'DFW'),\n",
       "  ('AA', '2015-09-28', '1613', 'MIA', 'SJU'),\n",
       "  ('AA', '2015-09-28', '1613', 'SJU', 'MIA'),\n",
       "  ('AA', '2015-09-28', '309', 'MSP', 'MIA'),\n",
       "  ('AA', '2015-09-29', '1002', 'MIA', 'DFW'),\n",
       "  ('AA', '2015-09-30', '1293', 'MIA', 'STX'),\n",
       "  ('AA', '2015-09-30', '1293', 'STX', 'MIA'),\n",
       "  ('AA', '2015-09-30', '2345', 'DFW', 'MIA'),\n",
       "  ('AA', '2015-09-30', '2424', 'MIA', 'AUS'),\n",
       "  ('AA', '2015-10-01', '145', 'AUS', 'LAX'),\n",
       "  ('AA', '2015-10-01', '219', 'LAX', 'ORD'),\n",
       "  ('AA', '2015-10-01', '2466', 'LAS', 'LAX'),\n",
       "  ('AA', '2015-10-01', '2466', 'LAX', 'LAS'),\n",
       "  ('AA', '2015-10-02', '1413', 'LGA', 'MIA'),\n",
       "  ('AA', '2015-10-02', '1570', 'MIA', 'SJU'),\n",
       "  ('AA', '2015-10-02', '1570', 'SJU', 'MIA'),\n",
       "  ('AA', '2015-10-02', '394', 'ORD', 'LGA'),\n",
       "  ('AA', '2015-10-03', '1341', 'MIA', 'SJU'),\n",
       "  ('AA', '2015-10-03', '1341', 'SJU', 'MIA'),\n",
       "  ('AA', '2015-10-03', '238', 'DCA', 'MIA'),\n",
       "  ('AA', '2015-10-03', '238', 'MIA', 'DCA'),\n",
       "  ('AA', '2015-10-03', '301', 'MIA', 'MCI'),\n",
       "  ('AA', '2015-10-04', '1584', 'MCI', 'MIA'),\n",
       "  ('AA', '2015-10-04', '2203', 'MIA', 'LAS'),\n",
       "  ('AA', '2015-10-05', '334', 'LAS', 'ORD'),\n",
       "  ('AA', '2015-10-05', '334', 'ORD', 'MIA'),\n",
       "  ('AA', '2015-10-07', '1227', 'DCA', 'MIA'),\n",
       "  ('AA', '2015-10-07', '1227', 'MIA', 'DCA'),\n",
       "  ('AA', '2015-10-07', '148', 'CLT', 'MIA'),\n",
       "  ('AA', '2015-10-07', '148', 'MIA', 'CLT'),\n",
       "  ('AA', '2015-10-07', '2521', 'MIA', 'STL'),\n",
       "  ('AA', '2015-10-08', '1368', 'STL', 'MIA'),\n",
       "  ('AA', '2015-10-08', '1471', 'MIA', 'PHX'),\n",
       "  ('AA', '2015-10-09', '1355', 'DFW', 'PDX'),\n",
       "  ('AA', '2015-10-09', '1355', 'PDX', 'DFW'),\n",
       "  ('AA', '2015-10-09', '1388', 'PHX', 'DFW'),\n",
       "  ('AA', '2015-10-09', '60', 'DFW', 'MIA'),\n",
       "  ('AA', '2015-10-10', '1130', 'MIA', 'SFO'),\n",
       "  ('AA', '2015-10-10', '1357', 'MIA', 'TPA'),\n",
       "  ('AA', '2015-10-10', '250', 'TPA', 'MIA'),\n",
       "  ('AA', '2015-10-11', '207', 'MIA', 'DFW'),\n",
       "  ('AA', '2015-10-11', '208', 'SFO', 'MIA'),\n",
       "  ('AA', '2015-10-11', '2200', 'DFW', 'FLL'),\n",
       "  ('AA', '2015-10-12', '1543', 'FLL', 'DFW'),\n",
       "  ('AA', '2015-10-12', '1581', 'BDL', 'DFW'),\n",
       "  ('AA', '2015-10-12', '1581', 'DFW', 'BDL'),\n",
       "  ('AA', '2015-10-12', '79', 'DFW', 'SLC'),\n",
       "  ('AA', '2015-10-13', '1430', 'SLC', 'DFW'),\n",
       "  ('AA', '2015-10-13', '301', 'DFW', 'DTW'),\n",
       "  ('AA', '2015-10-14', '1569', 'DEN', 'DFW'),\n",
       "  ('AA', '2015-10-14', '1569', 'DFW', 'DEN'),\n",
       "  ('AA', '2015-10-14', '258', 'DTW', 'DFW'),\n",
       "  ('AA', '2015-10-15', '152', 'DCA', 'DFW'),\n",
       "  ('AA', '2015-10-15', '152', 'DFW', 'DCA'),\n",
       "  ('AA', '2015-10-15', '2260', 'DFW', 'PSP'),\n",
       "  ('AA', '2015-10-16', '1164', 'DFW', 'LGA'),\n",
       "  ('AA', '2015-10-16', '1330', 'DFW', 'ELP'),\n",
       "  ('AA', '2015-10-16', '1330', 'ELP', 'DFW'),\n",
       "  ('AA', '2015-10-16', '1528', 'PSP', 'DFW'),\n",
       "  ('AA', '2015-10-17', '1322', 'MIA', 'BOS'),\n",
       "  ('AA', '2015-10-17', '2486', 'LGA', 'MIA'),\n",
       "  ('AA', '2015-10-18', '1622', 'BOS', 'DFW'),\n",
       "  ('AA', '2015-10-18', '2408', 'DFW', 'ATL'),\n",
       "  ('AA', '2015-10-19', '1607', 'ATL', 'DFW'),\n",
       "  ('AA', '2015-10-19', '2245', 'MIA', 'SAN'),\n",
       "  ('AA', '2015-10-20', '1063', 'SAN', 'DFW'),\n",
       "  ('AA', '2015-10-20', '1621', 'MIA', 'MSP'),\n",
       "  ('AA', '2015-10-21', '1176', 'DFW', 'LGA'),\n",
       "  ('AA', '2015-10-21', '1525', 'DFW', 'PDX'),\n",
       "  ('AA', '2015-10-21', '1525', 'PDX', 'DFW'),\n",
       "  ('AA', '2015-10-21', '2274', 'MSP', 'DFW'),\n",
       "  ('AA', '2015-10-22', '2486', 'LGA', 'MIA'),\n",
       "  ('AA', '2015-10-23', '1265', 'MIA', 'PHL'),\n",
       "  ('AA', '2015-10-23', '1293', 'MIA', 'STX'),\n",
       "  ('AA', '2015-10-23', '1293', 'STX', 'MIA'),\n",
       "  ('AA', '2015-10-23', '327', 'DFW', 'FLL'),\n",
       "  ('AA', '2015-10-24', '1068', 'PHL', 'MIA'),\n",
       "  ('AA', '2015-10-24', '1367', 'MIA', 'LGA'),\n",
       "  ('AA', '2015-10-24', '1457', 'PHL', 'ORD'),\n",
       "  ('AA', '2015-10-24', '2499', 'ORD', 'PHL'),\n",
       "  ('AA', '2015-10-25', '1333', 'ORD', 'PHL'),\n",
       "  ('AA', '2015-10-25', '1333', 'PHL', 'ORD'),\n",
       "  ('AA', '2015-10-25', '2353', 'ORD', 'DFW'),\n",
       "  ('AA', '2015-10-25', '331', 'LGA', 'ORD'),\n",
       "  ('AA', '2015-10-29', '1345', 'DFW', 'JFK'),\n",
       "  ('AA', '2015-10-30', '1561', 'AUS', 'DFW'),\n",
       "  ('AA', '2015-10-30', '1561', 'DFW', 'AUS'),\n",
       "  ('AA', '2015-10-31', '1264', 'BNA', 'DFW'),\n",
       "  ('AA', '2015-10-31', '1550', 'BWI', 'MIA'),\n",
       "  ('AA', '2015-10-31', '2315', 'MCO', 'MIA'),\n",
       "  ('AA', '2015-10-31', '2315', 'MIA', 'MCO'),\n",
       "  ('AA', '2015-10-31', '2508', 'DFW', 'BWI'),\n",
       "  ('AA', '2015-10-31', '341', 'MIA', 'MSY'),\n",
       "  ('AA', '2015-11-01', '347', 'MSY', 'MIA'),\n",
       "  ('AA', '2015-11-09', '1646', 'DFW', 'TUL'),\n",
       "  ('AA', '2015-11-09', '1646', 'TUL', 'DFW'),\n",
       "  ('AA', '2015-11-09', '2501', 'DFW', 'BNA'),\n",
       "  ('AA', '2015-11-10', '1120', 'PHX', 'ORD'),\n",
       "  ('AA', '2015-11-10', '1165', 'DFW', 'PHX'),\n",
       "  ('AA', '2015-11-10', '1264', 'BNA', 'DFW'),\n",
       "  ('AA', '2015-11-10', '363', 'LGA', 'ORD'),\n",
       "  ('AA', '2015-11-10', '367', 'ORD', 'LGA'),\n",
       "  ('AA', '2015-11-11', '1110', 'ORD', 'PBI'),\n",
       "  ('AA', '2015-11-11', '1446', 'PHX', 'ORD'),\n",
       "  ('AA', '2015-11-11', '2354', 'LAS', 'PHX'),\n",
       "  ('AA', '2015-11-11', '2354', 'ORD', 'LAS'),\n",
       "  ('AA', '2015-11-12', '1111', 'PBI', 'ORD'),\n",
       "  ('AA', '2015-11-12', '1398', 'LAS', 'DFW'),\n",
       "  ('AA', '2015-11-12', '2470', 'ORD', 'LAS'),\n",
       "  ('AA', '2015-11-12', '327', 'DFW', 'FLL'),\n",
       "  ('AA', '2015-11-13', '2198', 'MCO', 'ORD'),\n",
       "  ('AA', '2015-11-13', '2198', 'ORD', 'MCO'),\n",
       "  ('AA', '2015-11-13', '348', 'ORD', 'LGA'),\n",
       "  ('AA', '2015-11-13', '354', 'FLL', 'ORD'),\n",
       "  ('AA', '2015-11-14', '1399', 'LGA', 'MIA'),\n",
       "  ('AA', '2015-11-14', '1642', 'MIA', 'DCA'),\n",
       "  ('AA', '2015-11-15', '2189', 'DCA', 'MIA'),\n",
       "  ('AA', '2015-11-16', '1439', 'BNA', 'DFW'),\n",
       "  ('AA', '2015-11-16', '1439', 'DFW', 'BNA'),\n",
       "  ('AA', '2015-11-16', '2366', 'DFW', 'RSW'),\n",
       "  ('AA', '2015-11-17', '1005', 'RSW', 'ORD'),\n",
       "  ('AA', '2015-11-17', '2300', 'DFW', 'DCA'),\n",
       "  ('AA', '2015-11-17', '327', 'DCA', 'DFW'),\n",
       "  ('AA', '2015-11-17', '327', 'ORD', 'DCA'),\n",
       "  ('AA', '2015-11-18', '1080', 'DFW', 'LGA'),\n",
       "  ('AA', '2015-11-18', '1112', 'LGA', 'DFW'),\n",
       "  ('AA', '2015-11-18', '1606', 'DFW', 'RDU'),\n",
       "  ('AA', '2015-11-18', '175', 'DCA', 'DFW'),\n",
       "  ('AA', '2015-11-19', '1349', 'RDU', 'DFW'),\n",
       "  ('AA', '2015-11-19', '1355', 'DFW', 'PDX'),\n",
       "  ('AA', '2015-11-19', '1355', 'PDX', 'DFW'),\n",
       "  ('AA', '2015-11-19', '60', 'DFW', 'MIA'),\n",
       "  ('AA', '2015-11-20', '148', 'CLT', 'MIA'),\n",
       "  ('AA', '2015-11-20', '148', 'MIA', 'CLT'),\n",
       "  ('AA', '2015-11-20', '2440', 'MIA', 'BOS'),\n",
       "  ('AA', '2015-11-21', '1398', 'LAS', 'DFW'),\n",
       "  ('AA', '2015-11-21', '1488', 'BOS', 'ORD'),\n",
       "  ('AA', '2015-11-21', '2322', 'DFW', 'PBI'),\n",
       "  ('AA', '2015-11-21', '2470', 'ORD', 'LAS'),\n",
       "  ('AA', '2015-11-22', '1327', 'DFW', 'PHL'),\n",
       "  ('AA', '2015-11-22', '1327', 'PHL', 'DFW'),\n",
       "  ('AA', '2015-11-22', '1423', 'PBI', 'DFW'),\n",
       "  ('AA', '2015-11-22', '1427', 'ATL', 'DFW'),\n",
       "  ('AA', '2015-11-22', '1427', 'DFW', 'ATL'),\n",
       "  ('AA', '2015-11-23', '1427', 'ATL', 'DFW'),\n",
       "  ('AA', '2015-11-23', '1427', 'DFW', 'ATL'),\n",
       "  ('AA', '2015-11-23', '2319', 'DFW', 'ORD'),\n",
       "  ('AA', '2015-11-24', '365', 'ORD', 'LGA'),\n",
       "  ('AA', '2015-11-25', '1048', 'MIA', 'JFK'),\n",
       "  ('AA', '2015-11-25', '1410', 'LGA', 'MIA'),\n",
       "  ('AA', '2015-11-25', '45', 'JFK', 'SEA'),\n",
       "  ('AA', '2015-11-26', '1230', 'SEA', 'DFW'),\n",
       "  ('AA', '2015-11-26', '1614', 'EWR', 'MIA'),\n",
       "  ('AA', '2015-11-26', '952', 'DFW', 'EWR'),\n",
       "  ('AA', '2015-11-27', '1110', 'ORD', 'PBI'),\n",
       "  ('AA', '2015-11-27', '1284', 'MIA', 'ORD'),\n",
       "  ('AA', '2015-11-27', '1509', 'BOS', 'MIA'),\n",
       "  ('AA', '2015-11-27', '1509', 'MIA', 'BOS'),\n",
       "  ('AA', '2015-11-28', '1120', 'PHX', 'ORD'),\n",
       "  ('AA', '2015-11-28', '1165', 'DFW', 'PHX'),\n",
       "  ('AA', '2015-11-28', '1423', 'PBI', 'DFW'),\n",
       "  ('AA', '2015-11-28', '385', 'SEA', 'JFK'),\n",
       "  ('AA', '2015-11-28', '41', 'ORD', 'SEA'),\n",
       "  ('AA', '2015-11-29', '1202', 'DCA', 'MIA'),\n",
       "  ('AA', '2015-11-29', '1202', 'MIA', 'DCA'),\n",
       "  ('AA', '2015-11-29', '1265', 'MIA', 'PHL'),\n",
       "  ('AA', '2015-11-29', '2230', 'JFK', 'MIA'),\n",
       "  ('AA', '2015-11-30', '1054', 'DFW', 'IAH'),\n",
       "  ('AA', '2015-11-30', '1054', 'IAH', 'DFW'),\n",
       "  ('AA', '2015-11-30', '1482', 'DFW', 'LAS'),\n",
       "  ('AA', '2015-11-30', '1580', 'PHL', 'DFW'),\n",
       "  ('AA', '2015-11-30', '224', 'LAS', 'ORD'),\n",
       "  ('AA', '2015-12-01', '1171', 'ORD', 'PHX'),\n",
       "  ('AA', '2015-12-01', '1171', 'PHX', 'LAS'),\n",
       "  ('AA', '2015-12-01', '70', 'LAS', 'DFW'),\n",
       "  ('AA', '2015-12-02', '1560', 'DFW', 'SNA'),\n",
       "  ('AA', '2015-12-02', '222', 'SNA', 'DFW'),\n",
       "  ('AA', '2015-12-02', '239', 'DFW', 'MSP'),\n",
       "  ('AA', '2015-12-03', '1254', 'MIA', 'SJU'),\n",
       "  ('AA', '2015-12-03', '1254', 'SJU', 'MIA'),\n",
       "  ('AA', '2015-12-03', '309', 'MSP', 'MIA'),\n",
       "  ('AA', '2015-12-03', '966', 'MIA', 'EWR'),\n",
       "  ('AA', '2015-12-04', '1419', 'MIA', 'BDL'),\n",
       "  ('AA', '2015-12-04', '373', 'EWR', 'MIA'),\n",
       "  ('AA', '2015-12-05', '1079', 'FLL', 'ORD'),\n",
       "  ('AA', '2015-12-05', '1523', 'DFW', 'FLL'),\n",
       "  ('AA', '2015-12-05', '2187', 'BDL', 'DFW'),\n",
       "  ('AA', '2015-12-06', '1003', 'ORD', 'RSW'),\n",
       "  ('AA', '2015-12-06', '1446', 'PHX', 'ORD'),\n",
       "  ('AA', '2015-12-06', '2354', 'LAS', 'PHX'),\n",
       "  ('AA', '2015-12-06', '2354', 'ORD', 'LAS'),\n",
       "  ('AA', '2015-12-07', '1005', 'RSW', 'ORD'),\n",
       "  ('AA', '2015-12-07', '1384', 'DFW', 'FLL'),\n",
       "  ('AA', '2015-12-07', '327', 'DCA', 'DFW'),\n",
       "  ('AA', '2015-12-07', '327', 'ORD', 'DCA'),\n",
       "  ('AA', '2015-12-08', '1210', 'DFW', 'MSP'),\n",
       "  ('AA', '2015-12-08', '1210', 'MSP', 'DFW'),\n",
       "  ('AA', '2015-12-08', '2363', 'FLL', 'DFW'),\n",
       "  ('AA', '2015-12-09', '2360', 'DFW', 'TPA'),\n",
       "  ('AA', '2015-12-09', '2360', 'TPA', 'DFW'),\n",
       "  ('AA', '2015-12-10', '132', 'DFW', 'PDX'),\n",
       "  ('AA', '2015-12-10', '1489', 'DFW', 'SEA'),\n",
       "  ('AA', '2015-12-10', '1489', 'SEA', 'DFW'),\n",
       "  ('AA', '2015-12-11', '1599', 'DFW', 'SNA'),\n",
       "  ('AA', '2015-12-11', '1599', 'SNA', 'DFW'),\n",
       "  ('AA', '2015-12-11', '1608', 'PDX', 'DFW'),\n",
       "  ('AA', '2015-12-11', '361', 'DFW', 'DEN'),\n",
       "  ('AA', '2015-12-12', '1201', 'DFW', 'LGA'),\n",
       "  ('AA', '2015-12-12', '1366', 'LGA', 'MIA'),\n",
       "  ('AA', '2015-12-12', '2318', 'DEN', 'DFW'),\n",
       "  ('AA', '2015-12-12', '956', 'MIA', 'RDU'),\n",
       "  ('AA', '2015-12-13', '1265', 'MIA', 'PHL'),\n",
       "  ('AA', '2015-12-13', '955', 'RDU', 'MIA'),\n",
       "  ('AA', '2015-12-14', '2344', 'CLT', 'MIA'),\n",
       "  ('AA', '2015-12-14', '2448', 'MIA', 'CLT'),\n",
       "  ('AA', '2015-12-14', '2463', 'PHL', 'MIA'),\n",
       "  ('AA', '2015-12-15', '1011', 'MIA', 'LGA'),\n",
       "  ('AA', '2015-12-15', '1413', 'LGA', 'MIA'),\n",
       "  ('AA', '2015-12-16', '1098', 'MIA', 'PHL'),\n",
       "  ('AA', '2015-12-16', '1195', 'PHL', 'MIA'),\n",
       "  ('AA', '2015-12-16', '919', 'MIA', 'TPA'),\n",
       "  ('AA', '2015-12-17', '295', 'TPA', 'MIA'),\n",
       "  ('AA', '2015-12-18', '1106', 'BWI', 'DFW'),\n",
       "  ('AA', '2015-12-18', '194', 'MIA', 'BWI'),\n",
       "  ('AA', '2015-12-18', '2265', 'MIA', 'PHL'),\n",
       "  ('AA', '2015-12-18', '2427', 'DFW', 'ONT'),\n",
       "  ('AA', '2015-12-18', '2571', 'PHL', 'MIA'),\n",
       "  ('AA', '2015-12-19', '1059', 'ONT', 'DFW'),\n",
       "  ('AA', '2015-12-19', '206', 'DFW', 'MIA'),\n",
       "  ('AA', '2015-12-20', '2471', 'LAX', 'MIA'),\n",
       "  ('AA', '2015-12-21', '314', 'MIA', 'ORD'),\n",
       "  ('AA', '2015-12-22', '1411', 'ORD', 'MIA'),\n",
       "  ('AA', '2015-12-22', '57', 'MIA', 'DEN'),\n",
       "  ('AA', '2015-12-23', '1525', 'DFW', 'PDX'),\n",
       "  ('AA', '2015-12-23', '1525', 'PDX', 'DFW'),\n",
       "  ('AA', '2015-12-23', '2235', 'DFW', 'CLT'),\n",
       "  ('AA', '2015-12-23', '375', 'DEN', 'DFW'),\n",
       "  ('AA', '2015-12-24', '1075', 'DFW', 'ELP'),\n",
       "  ('AA', '2015-12-24', '1439', 'BNA', 'DFW'),\n",
       "  ('AA', '2015-12-24', '1439', 'DFW', 'BNA'),\n",
       "  ('AA', '2015-12-24', '1561', 'AUS', 'DFW'),\n",
       "  ('AA', '2015-12-24', '1561', 'DFW', 'AUS'),\n",
       "  ('AA', '2015-12-24', '2451', 'CLT', 'DFW'),\n",
       "  ('AA', '2015-12-25', '1167', 'DFW', 'PBI'),\n",
       "  ('AA', '2015-12-25', '1167', 'PBI', 'DFW'),\n",
       "  ('AA', '2015-12-25', '1542', 'DFW', 'DEN'),\n",
       "  ('AA', '2015-12-25', '975', 'ELP', 'DFW'),\n",
       "  ('AA', '2015-12-26', '122', 'DFW', 'MCO'),\n",
       "  ('AA', '2015-12-26', '1288', 'DFW', 'SNA'),\n",
       "  ('AA', '2015-12-26', '2280', 'MCO', 'DFW'),\n",
       "  ('AA', '2015-12-26', '375', 'DEN', 'DFW'),\n",
       "  ('AA', '2015-12-27', '1627', 'SNA', 'DFW'),\n",
       "  ('AA', '2015-12-27', '2340', 'DCA', 'ORD'),\n",
       "  ('AA', '2015-12-27', '944', 'ORD', 'DFW'),\n",
       "  ('AA', '2015-12-28', '113', 'MIA', 'MCO'),\n",
       "  ('AA', '2015-12-28', '1521', 'MIA', 'RDU'),\n",
       "  ('AA', '2015-12-28', '1521', 'RDU', 'MIA'),\n",
       "  ('AA', '2015-12-28', '1550', 'BWI', 'MIA'),\n",
       "  ('AA', '2015-12-28', '2508', 'DFW', 'BWI'),\n",
       "  ('AA', '2015-12-29', '1146', 'LGA', 'DFW'),\n",
       "  ('AA', '2015-12-29', '2383', 'MCO', 'DFW'),\n",
       "  ('AA', '2015-12-29', '2501', 'DFW', 'BNA'),\n",
       "  ('AA', '2015-12-29', '321', 'DFW', 'LGA'),\n",
       "  ('AA', '2015-12-30', '1360', 'LAX', 'BOS'),\n",
       "  ('AA', '2015-12-30', '1432', 'BNA', 'LAX'),\n",
       "  ('AA', '2015-12-31', '1622', 'BOS', 'DFW')]}"
      ]
     },
     "execution_count": 34,
     "metadata": {},
     "output_type": "execute_result"
    }
   ],
   "source": [
    "flights = on_time_df.rdd.map(lambda x:(x.Carrier, x.FlightDate, x.FlightNum, x.Origin, x.Dest, x.TailNum))\n",
    "\n",
    "flights_per_airplane = flights.map(lambda nameTuple:(nameTuple[5], [nameTuple[0:5]]))\\\n",
    ".reduceByKey(lambda a, b:a+b).map(lambda tuple:\n",
    "                                  {\n",
    "                                      'TailNum':tuple[0],\n",
    "                                      'Flights':sorted(tuple[1], key=lambda x:(x[1], x[2], x[3], x[4]))\n",
    "                                  }\n",
    "                                 )\n",
    "flights_per_airplane.first()"
   ]
  },
  {
   "cell_type": "code",
   "execution_count": 41,
   "id": "a15bfa71-8cd3-421e-8735-5016c1784fc0",
   "metadata": {},
   "outputs": [
    {
     "name": "stdout",
     "output_type": "stream",
     "text": [
      "total flights: 5819079\n",
      "late departures: 2125618\n",
      "late arrivals: 2086896\n"
     ]
    },
    {
     "data": {
      "text/plain": [
       "35.8629948141278"
      ]
     },
     "execution_count": 41,
     "metadata": {},
     "output_type": "execute_result"
    }
   ],
   "source": [
    "total_flights = on_time_df.count()\n",
    "print(f\"total flights: {total_flights}\")\n",
    "late_departs = on_time_df.filter(on_time_df.DepDelayMinutes>0)\n",
    "total_late_departs = late_departs.count()\n",
    "print(f\"late departures: {total_late_departs}\")\n",
    "late_arrivals = on_time_df.filter(on_time_df.ArrDelayMinutes>0)\n",
    "total_late_arrivals = late_arrivals.count()\n",
    "print(f\"late arrivals: {total_late_arrivals}\")\n",
    "pct_late = (total_late_arrivals/total_flights)*100\n",
    "pct_late"
   ]
  },
  {
   "cell_type": "code",
   "execution_count": 43,
   "id": "fe4349f1-e67c-42e5-a15a-4b6d98a07523",
   "metadata": {},
   "outputs": [
    {
     "name": "stdout",
     "output_type": "stream",
     "text": [
      "total on time heros: 606902\n"
     ]
    }
   ],
   "source": [
    "on_time_heros = on_time_df.filter((on_time_df.DepDelayMinutes>0)&(on_time_df.ArrDelayMinutes<=0))\n",
    "total_on_time_hereos = on_time_heros.count()\n",
    "print(f\"total on time heros: {total_on_time_hereos}\")"
   ]
  },
  {
   "cell_type": "code",
   "execution_count": 44,
   "id": "bac2cd0b-ee4f-4975-bccc-06d907bca36d",
   "metadata": {},
   "outputs": [
    {
     "name": "stderr",
     "output_type": "stream",
     "text": [
      "[Stage 180:>                                                        (0 + 4) / 4]\r"
     ]
    },
    {
     "name": "stdout",
     "output_type": "stream",
     "text": [
      "+-----------+-----------+\n",
      "|AvgDepDelay|AvgArrDelay|\n",
      "+-----------+-----------+\n",
      "|        9.4|        4.4|\n",
      "+-----------+-----------+\n",
      "\n"
     ]
    },
    {
     "name": "stderr",
     "output_type": "stream",
     "text": [
      "                                                                                \r"
     ]
    }
   ],
   "source": [
    "spark.sql(\"\"\"\n",
    "SELECT\n",
    "  ROUND(AVG(DepDelay),1) AS AvgDepDelay,\n",
    "  ROUND(AVG(ArrDelay),1) AS AvgArrDelay\n",
    "FROM on_time_performance\n",
    "\"\"\").show()"
   ]
  },
  {
   "cell_type": "code",
   "execution_count": 46,
   "id": "6b995dce-87b9-44f2-8739-eec3c4eec1fd",
   "metadata": {},
   "outputs": [
    {
     "name": "stderr",
     "output_type": "stream",
     "text": [
      "[Stage 185:==============>                                          (1 + 3) / 4]\r"
     ]
    },
    {
     "name": "stdout",
     "output_type": "stream",
     "text": [
      "+---------------+------------+------------+--------+-------------+-----------------+\n",
      "|ArrDelayMinutes|WeatherDelay|CarrierDelay|NASDelay|SecurityDelay|LateAircraftDelay|\n",
      "+---------------+------------+------------+--------+-------------+-----------------+\n",
      "|           39.0|         0.0|        39.0|     0.0|          0.0|              0.0|\n",
      "|          138.0|         0.0|         0.0|   138.0|          0.0|              0.0|\n",
      "|           16.0|         0.0|         9.0|     0.0|          0.0|              7.0|\n",
      "|           33.0|         0.0|        12.0|    21.0|          0.0|              0.0|\n",
      "|           68.0|         0.0|        30.0|    33.0|          0.0|              5.0|\n",
      "|           58.0|         0.0|        58.0|     0.0|          0.0|              0.0|\n",
      "|           18.0|         0.0|        13.0|     0.0|          0.0|              5.0|\n",
      "|           22.0|         0.0|        19.0|     0.0|          0.0|              3.0|\n",
      "|           22.0|         0.0|         0.0|    10.0|          0.0|             12.0|\n",
      "|           20.0|         0.0|         7.0|    13.0|          0.0|              0.0|\n",
      "|           30.0|         0.0|         0.0|    30.0|          0.0|              0.0|\n",
      "|           26.0|         0.0|         0.0|    26.0|          0.0|              0.0|\n",
      "|           97.0|         0.0|         0.0|    97.0|          0.0|              0.0|\n",
      "|           72.0|         0.0|         0.0|    72.0|          0.0|              0.0|\n",
      "|           25.0|         0.0|         6.0|    19.0|          0.0|              0.0|\n",
      "|           20.0|         0.0|         0.0|     0.0|          0.0|             20.0|\n",
      "|           16.0|         0.0|         0.0|     0.0|          0.0|             16.0|\n",
      "|           47.0|         0.0|         0.0|    33.0|          0.0|             14.0|\n",
      "|           15.0|         0.0|         0.0|    15.0|          0.0|              0.0|\n",
      "|           32.0|         0.0|        18.0|    14.0|          0.0|              0.0|\n",
      "+---------------+------------+------------+--------+-------------+-----------------+\n",
      "only showing top 20 rows\n",
      "\n"
     ]
    },
    {
     "name": "stderr",
     "output_type": "stream",
     "text": [
      "                                                                                \r"
     ]
    }
   ],
   "source": [
    "late_flights = spark.sql(\"\"\"\n",
    "SELECT\n",
    "  ArrDelayMinutes,\n",
    "  WeatherDelay,\n",
    "  CarrierDelay,\n",
    "  NASDelay,\n",
    "  SecurityDelay,\n",
    "  LateAircraftDelay\n",
    "FROM\n",
    "  on_time_performance\n",
    "WHERE\n",
    "  WeatherDelay IS NOT NULL\n",
    "  OR\n",
    "  CarrierDelay IS NOT NULL\n",
    "  OR\n",
    "  NASDelay IS NOT NULL\n",
    "  OR\n",
    "  SecurityDelay IS NOT NULL\n",
    "  OR\n",
    "  LateAircraftDelay IS NOT NULL\n",
    "ORDER BY\n",
    "  FlightDate\n",
    "\"\"\")\n",
    "late_flights.sample(False, 0.01).show()"
   ]
  },
  {
   "cell_type": "code",
   "execution_count": 47,
   "id": "e7e6e3df-d18b-49e2-88ec-ae6529a1d3f0",
   "metadata": {},
   "outputs": [
    {
     "name": "stdout",
     "output_type": "stream",
     "text": [
      "+-----------------+-----------------+-------------+------------------+-----------------------+\n",
      "|pct_weather_delay|pct_carrier_delay|pct_nas_delay|pct_security_delay|pct_late_aircraft_delay|\n",
      "+-----------------+-----------------+-------------+------------------+-----------------------+\n",
      "|              4.5|             29.2|         20.7|               0.1|                   36.1|\n",
      "+-----------------+-----------------+-------------+------------------+-----------------------+\n",
      "\n"
     ]
    }
   ],
   "source": [
    "total_delays = spark.sql(\"\"\"\n",
    "SELECT\n",
    "  ROUND(SUM(WeatherDelay)/SUM(ArrDelayMinutes) * 100, 1) AS pct_weather_delay,\n",
    "  ROUND(SUM(CarrierDelay)/SUM(ArrDelayMinutes) * 100, 1) AS pct_carrier_delay,\n",
    "  ROUND(SUM(NASDelay)/SUM(ArrDelayMinutes) * 100, 1) AS pct_nas_delay,\n",
    "  ROUND(SUM(SecurityDelay)/SUM(ArrDelayMinutes) * 100, 1) AS pct_security_delay,\n",
    "  ROUND(SUM(LateAircraftDelay)/SUM(ArrDelayMinutes) * 100, 1) AS pct_late_aircraft_delay\n",
    "FROM on_time_performance\n",
    "\"\"\")\n",
    "total_delays.show()"
   ]
  },
  {
   "cell_type": "code",
   "execution_count": 48,
   "id": "f77de127-ee62-4b84-8e17-07f514acf414",
   "metadata": {},
   "outputs": [
    {
     "name": "stderr",
     "output_type": "stream",
     "text": [
      "[Stage 191:==============>                                          (1 + 3) / 4]\r"
     ]
    },
    {
     "name": "stdout",
     "output_type": "stream",
     "text": [
      "([1, 5, 10, 15, 30, 60, 120, 240, 480, 720, 1440], [5436, 7668, 6636, 16007, 13569, 9442, 4598, 1136, 152, 72])\n"
     ]
    },
    {
     "name": "stderr",
     "output_type": "stream",
     "text": [
      "                                                                                \r"
     ]
    }
   ],
   "source": [
    "weather_delay_histogram = on_time_df.select(\"WeatherDelay\").rdd.flatMap(lambda x:x)\\\n",
    ".histogram([1, 5, 10, 15, 30, 60, 120, 240, 480, 720, 24*60])\n",
    "print(weather_delay_histogram)"
   ]
  },
  {
   "cell_type": "code",
   "execution_count": 51,
   "id": "6e7ae9fe-221e-403e-9b1b-92dcbef36622",
   "metadata": {},
   "outputs": [
    {
     "data": {
      "text/plain": [
       "<BarContainer object of 10 artists>"
      ]
     },
     "execution_count": 51,
     "metadata": {},
     "output_type": "execute_result"
    },
    {
     "data": {
      "image/png": "[encoded data removed]",
      "text/plain": [
       "<Figure size 1296x864 with 1 Axes>"
      ]
     },
     "metadata": {
      "needs_background": "light"
     },
     "output_type": "display_data"
    }
   ],
   "source": [
    "draw_histogram(weather_delay_histogram)"
   ]
  },
  {
   "cell_type": "code",
   "execution_count": 56,
   "id": "d6af8a71-b69f-4029-8a1a-828b900b1b23",
   "metadata": {},
   "outputs": [
    {
     "name": "stdout",
     "output_type": "stream",
     "text": [
      "([0, 5, 15, 30, 60, 120, 240, 480, 720, 1440], [5436, 14304, 16007, 13569, 9442, 4598, 1136, 152, 72])\n"
     ]
    },
    {
     "data": {
      "text/plain": [
       "{'key': 1,\n",
       " 'data': [{'label': 0, 'value': 5436},\n",
       "  {'label': 5, 'value': 14304},\n",
       "  {'label': 15, 'value': 16007},\n",
       "  {'label': 30, 'value': 13569},\n",
       "  {'label': 60, 'value': 9442},\n",
       "  {'label': 120, 'value': 4598},\n",
       "  {'label': 240, 'value': 1136},\n",
       "  {'label': 480, 'value': 152},\n",
       "  {'label': 720, 'value': 72}]}"
      ]
     },
     "execution_count": 56,
     "metadata": {},
     "output_type": "execute_result"
    }
   ],
   "source": [
    "def histogram_to_publishable(histogram):\n",
    "    record = {'key':1, 'data':[]}\n",
    "    for label, value in zip(histogram[0], histogram[1]):\n",
    "        record['data'].append({'label':label, 'value':value})\n",
    "    return record\n",
    "\n",
    "\n",
    "weather_delay_histogram = on_time_df.filter((on_time_df.WeatherDelay.isNotNull())&(on_time_df.WeatherDelay>0))\\\n",
    ".select(\"WeatherDelay\").rdd.flatMap(lambda x:x).histogram([0,5,15,30,60, 120,240, 480, 720, 24*60])\n",
    "print(weather_delay_histogram)\n",
    "\n",
    "record = histogram_to_publishable(weather_delay_histogram)\n",
    "record"
   ]
  },
  {
   "cell_type": "code",
   "execution_count": 57,
   "id": "3a1dafc0-f6b9-43f1-bdf2-f0c533d99d7f",
   "metadata": {},
   "outputs": [
    {
     "data": {
      "text/plain": [
       "Row(ArrDelay=13.0, CRSArrTime=datetime.datetime(2015, 1, 2, 3, 10), CRSDepTime=datetime.datetime(2015, 1, 2, 0, 30), Carrier='AA', DayOfMonth=1, DayOfWeek=4, DayOfYear=1, DepDelay=14.0, Dest='DFW', Distance=569.0, FlightDate=datetime.date(2015, 1, 1), FlightNum='1024', Origin='ABQ')"
      ]
     },
     "execution_count": 57,
     "metadata": {},
     "output_type": "execute_result"
    }
   ],
   "source": [
    "from pyspark.sql.types import StringType, IntegerType, FloatType, DoubleType, DateType, TimestampType\n",
    "from pyspark.sql.types import StructType, StructField\n",
    "from pyspark.sql.functions import udf\n",
    "\n",
    "schema = StructType([\n",
    "  StructField(\"ArrDelay\", DoubleType(), True),     # \"ArrDelay\":5.0\n",
    "  StructField(\"CRSArrTime\", TimestampType(), True),    # \"CRSArrTime\":\"2015-12-31T03:20:00.000-08:00\"\n",
    "  StructField(\"CRSDepTime\", TimestampType(), True),    # \"CRSDepTime\":\"2015-12-31T03:05:00.000-08:00\"\n",
    "  StructField(\"Carrier\", StringType(), True),     # \"Carrier\":\"WN\"\n",
    "  StructField(\"DayOfMonth\", IntegerType(), True), # \"DayOfMonth\":31\n",
    "  StructField(\"DayOfWeek\", IntegerType(), True),  # \"DayOfWeek\":4\n",
    "  StructField(\"DayOfYear\", IntegerType(), True),  # \"DayOfYear\":365\n",
    "  StructField(\"DepDelay\", DoubleType(), True),     # \"DepDelay\":14.0\n",
    "  StructField(\"Dest\", StringType(), True),        # \"Dest\":\"SAN\"\n",
    "  StructField(\"Distance\", DoubleType(), True),     # \"Distance\":368.0\n",
    "  StructField(\"FlightDate\", DateType(), True),    # \"FlightDate\":\"2015-12-30T16:00:00.000-08:00\"\n",
    "  StructField(\"FlightNum\", StringType(), True),   # \"FlightNum\":\"6109\"\n",
    "  StructField(\"Origin\", StringType(), True),      # \"Origin\":\"TUS\"\n",
    "])\n",
    "\n",
    "features = spark.read.json(\"data/simple_flight_delay_features.jsonl.bz2\", schema=schema)\n",
    "features.first()"
   ]
  },
  {
   "cell_type": "code",
   "execution_count": 59,
   "id": "1e69a8f0-3e73-4e9d-95cd-4fdc31441f3e",
   "metadata": {},
   "outputs": [
    {
     "name": "stderr",
     "output_type": "stream",
     "text": [
      "[Stage 270:============================>                            (1 + 1) / 2]\r"
     ]
    },
    {
     "name": "stdout",
     "output_type": "stream",
     "text": [
      "[]\n"
     ]
    },
    {
     "name": "stderr",
     "output_type": "stream",
     "text": [
      "                                                                                \r"
     ]
    }
   ],
   "source": [
    "null_counts = [(column, features.where(features[column].isNull()).count()) for column in features.columns]\n",
    "cols_with_nulls = filter(lambda x: x[1]>0, null_counts)\n",
    "print(list(cols_with_nulls))"
   ]
  },
  {
   "cell_type": "code",
   "execution_count": 62,
   "id": "a5ea06e1-078d-47c8-a6ba-bb7dd17673aa",
   "metadata": {},
   "outputs": [
    {
     "name": "stdout",
     "output_type": "stream",
     "text": [
      "+------+----+-------+\n",
      "|Origin|Dest|  Route|\n",
      "+------+----+-------+\n",
      "|   ABQ| DFW|ABQ-DFW|\n",
      "|   ABQ| DFW|ABQ-DFW|\n",
      "|   ABQ| DFW|ABQ-DFW|\n",
      "|   ATL| DFW|ATL-DFW|\n",
      "|   ATL| DFW|ATL-DFW|\n",
      "|   ATL| DFW|ATL-DFW|\n",
      "|   ATL| DFW|ATL-DFW|\n",
      "|   ATL| DFW|ATL-DFW|\n",
      "|   ATL| DFW|ATL-DFW|\n",
      "|   ATL| DFW|ATL-DFW|\n",
      "+------+----+-------+\n",
      "only showing top 10 rows\n",
      "\n"
     ]
    }
   ],
   "source": [
    "from pyspark.sql.functions import lit, concat\n",
    "\n",
    "features_with_route = features.withColumn('Route', concat(features.Origin, lit('-'), features.Dest))\n",
    "features_with_route.select(\"Origin\", \"Dest\", \"Route\").show(10)"
   ]
  },
  {
   "cell_type": "code",
   "execution_count": 64,
   "id": "24472c39-eb2d-4c55-8922-dd1f9d92d851",
   "metadata": {},
   "outputs": [
    {
     "name": "stdout",
     "output_type": "stream",
     "text": [
      "+--------+--------------+\n",
      "|ArrDelay|ArrDelayBucket|\n",
      "+--------+--------------+\n",
      "|    13.0|           2.0|\n",
      "|    17.0|           2.0|\n",
      "|    36.0|           3.0|\n",
      "|   -21.0|           0.0|\n",
      "|   -14.0|           1.0|\n",
      "|    16.0|           2.0|\n",
      "|    -7.0|           1.0|\n",
      "|    13.0|           2.0|\n",
      "|    25.0|           2.0|\n",
      "|    58.0|           3.0|\n",
      "|    14.0|           2.0|\n",
      "|     1.0|           2.0|\n",
      "|   -29.0|           0.0|\n",
      "|   -10.0|           1.0|\n",
      "|    -3.0|           1.0|\n",
      "|    -8.0|           1.0|\n",
      "|    -1.0|           1.0|\n",
      "|   -14.0|           1.0|\n",
      "|   -16.0|           0.0|\n",
      "|    18.0|           2.0|\n",
      "+--------+--------------+\n",
      "only showing top 20 rows\n",
      "\n"
     ]
    }
   ],
   "source": [
    "from pyspark.ml.feature import Bucketizer\n",
    "\n",
    "splits = [-float(\"inf\"), -15.0, 0, 30.0, float(\"inf\")]\n",
    "bucketizer = Bucketizer(splits=splits, inputCol=\"ArrDelay\", outputCol=\"ArrDelayBucket\")\n",
    "ml_bk_features = bucketizer.transform(features_with_route)\n",
    "\n",
    "ml_bk_features.select(\"ArrDelay\", \"ArrDelayBucket\").show()"
   ]
  },
  {
   "cell_type": "code",
   "execution_count": null,
   "id": "42825645-d8d2-4238-85b7-36a4baf890c7",
   "metadata": {},
   "outputs": [],
   "source": []
  }
 ],
 "metadata": {
  "kernelspec": {
   "display_name": "Python 3 (ipykernel)",
   "language": "python",
   "name": "python3"
  },
  "language_info": {
   "codemirror_mode": {
    "name": "ipython",
    "version": 3
   },
   "file_extension": ".py",
   "mimetype": "text/x-python",
   "name": "python",
   "nbconvert_exporter": "python",
   "pygments_lexer": "ipython3",
   "version": "3.9.7"
  }
 },
 "nbformat": 4,
 "nbformat_minor": 5
}
