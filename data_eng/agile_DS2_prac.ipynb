{
 "cells": [
  {
   "cell_type": "markdown",
   "id": "3f8ab4f4-6da6-4df7-9f0a-c1607360e6c6",
   "metadata": {},
   "source": [
    "#### References. https://github.com/rjurney/Agile_Data_Code_2"
   ]
  },
  {
   "cell_type": "code",
   "execution_count": null,
   "id": "98b80cc1-1295-4809-9124-7c90b96cde5e",
   "metadata": {},
   "outputs": [],
   "source": []
  },
  {
   "cell_type": "markdown",
   "id": "2c0b7eee-f614-45cd-9f9c-516820b1f396",
   "metadata": {},
   "source": [
    "Intialize PySpark"
   ]
  },
  {
   "cell_type": "code",
   "execution_count": 10,
   "id": "1d6c45a1-209d-45fd-a00a-e4b54a7b6724",
   "metadata": {},
   "outputs": [
    {
     "name": "stdout",
     "output_type": "stream",
     "text": [
      "\n",
      "PySpark initialized...\n"
     ]
    }
   ],
   "source": [
    "from pyspark.sql import SparkSession\n",
    "\n",
    "\n",
    "# Initialize PySpark with MongoDB support\n",
    "APP_NAME = \"Introducing PySpark\"\n",
    "spark = (\n",
    "    SparkSession.builder.appName(APP_NAME)\n",
    "    # Load support for MongoDB and Elasticsearch\n",
    "    .config(\"spark.jars.packages\", \"org.mongodb.spark:mongo-spark-connector_2.12:3.0.1,org.elasticsearch:elasticsearch-spark-30_2.12:7.14.2\")\n",
    "    # Add Configuration for MongopDB\n",
    "    .config(\"spark.mongodb.input.uri\", \"mongodb://mongo:27017/test.coll\")\n",
    "    .config(\"spark.mongodb.output.uri\", \"mongodb://mongo:27017/test.coll\")\n",
    "\n",
    "    .getOrCreate()\n",
    ")\n",
    "sc = spark.sparkContext\n",
    "sc.setLogLevel(\"ERROR\")\n",
    "\n",
    "print(\"\\nPySpark initialized...\")"
   ]
  },
  {
   "cell_type": "code",
   "execution_count": 33,
   "id": "301f62de-294c-40f5-ad76-44ae2e8c8782",
   "metadata": {},
   "outputs": [
    {
     "data": {
      "text/plain": [
       "['Year',\n",
       " 'Quarter',\n",
       " 'Month',\n",
       " 'DayofMonth',\n",
       " 'DayOfWeek',\n",
       " 'FlightDate',\n",
       " 'Carrier',\n",
       " 'TailNum',\n",
       " 'FlightNum',\n",
       " 'Origin',\n",
       " 'OriginCityName',\n",
       " 'OriginState',\n",
       " 'Dest',\n",
       " 'DestCityName',\n",
       " 'DestState',\n",
       " 'DepTime',\n",
       " 'DepDelay',\n",
       " 'DepDelayMinutes',\n",
       " 'TaxiOut',\n",
       " 'TaxiIn',\n",
       " 'WheelsOff',\n",
       " 'WheelsOn',\n",
       " 'ArrTime',\n",
       " 'ArrDelay',\n",
       " 'ArrDelayMinutes',\n",
       " 'Cancelled',\n",
       " 'Diverted',\n",
       " 'ActualElapsedTime',\n",
       " 'AirTime',\n",
       " 'Flights',\n",
       " 'Distance',\n",
       " 'CarrierDelay',\n",
       " 'WeatherDelay',\n",
       " 'NASDelay',\n",
       " 'SecurityDelay',\n",
       " 'LateAircraftDelay',\n",
       " 'CRSDepTime',\n",
       " 'CRSArrTime']"
      ]
     },
     "execution_count": 33,
     "metadata": {},
     "output_type": "execute_result"
    }
   ],
   "source": [
    "# Load the parquet file containing flight delay records\n",
    "on_time_df = spark.read.parquet('data/on_time_performance.parquet')\n",
    "\n",
    "# Register the data for Spark SQL\n",
    "on_time_df.registerTempTable(\"on_time_performance\")\n",
    "\n",
    "# Check out the columns\n",
    "on_time_df.columns"
   ]
  },
  {
   "cell_type": "code",
   "execution_count": 34,
   "id": "ad28f61e-9b68-4139-95ef-9808a3af9839",
   "metadata": {},
   "outputs": [
    {
     "name": "stdout",
     "output_type": "stream",
     "text": [
      "+----------+-------+------+----+-------+--------+--------+\n",
      "|FlightDate|TailNum|Origin|Dest|Carrier|DepDelay|ArrDelay|\n",
      "+----------+-------+------+----+-------+--------+--------+\n",
      "|2015-01-10| N26549|   IAH| GPT|     EV|    -2.0|    -1.0|\n",
      "|2015-01-10| N17245|   LAX| SFO|     UA|    10.0|   -11.0|\n",
      "|2015-01-10| N446WN|   HOU| MCO|     WN|    17.0|    16.0|\n",
      "|2015-01-11| N732SK|   DEN| ASE|     OO|    null|    null|\n",
      "|2015-01-11| N38257|   LAS| SFO|     UA|     2.0|    10.0|\n",
      "|2015-01-12| N321US|   MIA| ATL|     DL|    -1.0|    -1.0|\n",
      "|2015-01-12| N8310C|   BDL| FLL|     WN|    -7.0|   -21.0|\n",
      "|2015-01-13| N339JB|   BOS| EWR|     B6|    -1.0|   -10.0|\n",
      "|2015-01-13| N952DN|   LAS| MSP|     DL|    -3.0|   -13.0|\n",
      "|2015-01-14| N937SW|   DEN| SGU|     OO|    -3.0|   -16.0|\n",
      "+----------+-------+------+----+-------+--------+--------+\n",
      "only showing top 10 rows\n",
      "\n",
      "+----------+-------+------+----+-------+--------+--------+\n",
      "|FlightDate|TailNum|Origin|Dest|Carrier|DepDelay|ArrDelay|\n",
      "+----------+-------+------+----+-------+--------+--------+\n",
      "|2015-01-01| N002AA|   ORD| DFW|     AA|     0.0|    26.0|\n",
      "|2015-01-01| N003AA|   HDN| DFW|     AA|   332.0|   336.0|\n",
      "|2015-01-01| N004AA|   JAC| DFW|     AA|    -4.0|    21.0|\n",
      "|2015-01-01| N005AA|   ORD| EGE|     AA|    null|    null|\n",
      "|2015-01-01| N006AA|   DFW| ATL|     AA|    null|    null|\n",
      "|2015-01-01| N008AA|   DFW| ATL|     AA|    -5.0|   -25.0|\n",
      "|2015-01-01| N012AA|   MIA| TPA|     AA|    null|    null|\n",
      "|2015-01-01| N015AA|   ATL| MIA|     AA|    -9.0|   -29.0|\n",
      "|2015-01-01| N016AA|   MIA| IAH|     AA|    42.0|    49.0|\n",
      "|2015-01-01| N202AA|   DFW| ONT|     AA|    60.0|    58.0|\n",
      "+----------+-------+------+----+-------+--------+--------+\n",
      "only showing top 10 rows\n",
      "\n"
     ]
    }
   ],
   "source": [
    "# select field and get result\n",
    "trimmed_on_time = on_time_df.select(\"FlightDate\", \n",
    "                                           \"TailNum\", \n",
    "                                           \"Origin\", \n",
    "                                           \"Dest\",\n",
    "                                           \"Carrier\",\n",
    "                                           \"DepDelay\",\n",
    "                                           \"ArrDelay\")\n",
    "trimmed_on_time.sample(False, 0.0001).show(10)\n",
    "sampled_ten_percent = trimmed_on_time.sample(False, 0.1)\n",
    "sampled_ten_percent.show(10)\n",
    "                                           "
   ]
  },
  {
   "cell_type": "code",
   "execution_count": 35,
   "id": "e9c8d86d-9de9-4d23-bc96-ceae83b4b425",
   "metadata": {},
   "outputs": [
    {
     "name": "stdout",
     "output_type": "stream",
     "text": [
      "+-------+--------+\n",
      "|AirTime|Distance|\n",
      "+-------+--------+\n",
      "|   59.0|   432.0|\n",
      "|   77.0|   432.0|\n",
      "|  129.0|   802.0|\n",
      "|   93.0|   731.0|\n",
      "|  111.0|   769.0|\n",
      "|  108.0|   769.0|\n",
      "|  146.0|  1047.0|\n",
      "|   null|  1007.0|\n",
      "|   null|  1007.0|\n",
      "|   null|   802.0|\n",
      "+-------+--------+\n",
      "only showing top 10 rows\n",
      "\n"
     ]
    }
   ],
   "source": [
    "fd = on_time_df.select(\"AirTime\", \"Distance\")\n",
    "fd.show(10)"
   ]
  },
  {
   "cell_type": "code",
   "execution_count": 14,
   "id": "6a0a9d11-40b9-4008-a88d-e351874131ca",
   "metadata": {},
   "outputs": [
    {
     "name": "stdout",
     "output_type": "stream",
     "text": [
      "+------------------+--------+\n",
      "|             Hours|Distance|\n",
      "+------------------+--------+\n",
      "|0.9833333333333333|   432.0|\n",
      "|1.2833333333333334|   432.0|\n",
      "|              2.15|   802.0|\n",
      "|              1.55|   731.0|\n",
      "|              1.85|   769.0|\n",
      "+------------------+--------+\n",
      "only showing top 5 rows\n",
      "\n"
     ]
    }
   ],
   "source": [
    "hourly_fd = fd.select((fd.AirTime/60).alias('Hours'), \"Distance\")\n",
    "hourly_fd.show(5)"
   ]
  },
  {
   "cell_type": "code",
   "execution_count": 15,
   "id": "6b7a313b-2ced-4c38-a86d-6c9b22ca91fb",
   "metadata": {},
   "outputs": [
    {
     "name": "stdout",
     "output_type": "stream",
     "text": [
      "+------------------+\n",
      "|               Mph|\n",
      "+------------------+\n",
      "| 439.3220338983051|\n",
      "| 336.6233766233766|\n",
      "| 373.0232558139535|\n",
      "|471.61290322580646|\n",
      "| 415.6756756756757|\n",
      "|427.22222222222223|\n",
      "| 430.2739726027398|\n",
      "|              null|\n",
      "|              null|\n",
      "|              null|\n",
      "+------------------+\n",
      "only showing top 10 rows\n",
      "\n"
     ]
    }
   ],
   "source": [
    "miles_per_hour = hourly_fd.select((hourly_fd.Distance/hourly_fd.Hours).alias('Mph'))\n",
    "miles_per_hour.show(10)          "
   ]
  },
  {
   "cell_type": "code",
   "execution_count": 16,
   "id": "3ae718cb-2044-4392-aa55-b884f1f3660e",
   "metadata": {},
   "outputs": [
    {
     "name": "stdout",
     "output_type": "stream",
     "text": [
      "+-------+------------------+--------+\n",
      "|AirTime|             Hours|Distance|\n",
      "+-------+------------------+--------+\n",
      "|   59.0|0.9833333333333333|   432.0|\n",
      "|   77.0|1.2833333333333334|   432.0|\n",
      "|  129.0|              2.15|   802.0|\n",
      "|   93.0|              1.55|   731.0|\n",
      "|  111.0|              1.85|   769.0|\n",
      "|  108.0|               1.8|   769.0|\n",
      "|  146.0| 2.433333333333333|  1047.0|\n",
      "|   null|              null|  1007.0|\n",
      "|   null|              null|  1007.0|\n",
      "|   null|              null|   802.0|\n",
      "|   null|              null|   731.0|\n",
      "|  122.0| 2.033333333333333|   731.0|\n",
      "|   94.0|1.5666666666666667|   731.0|\n",
      "|   91.0|1.5166666666666666|   731.0|\n",
      "|  115.0|1.9166666666666667|   731.0|\n",
      "|   89.0|1.4833333333333334|   731.0|\n",
      "|  106.0|1.7666666666666666|   721.0|\n",
      "|   94.0|1.5666666666666667|   748.0|\n",
      "|   null|              null|   733.0|\n",
      "|   null|              null|   733.0|\n",
      "+-------+------------------+--------+\n",
      "only showing top 20 rows\n",
      "\n"
     ]
    }
   ],
   "source": [
    "fd.select(\"AirTime\",(fd.AirTime/60).alias('Hours'), \"Distance\").show()"
   ]
  },
  {
   "cell_type": "markdown",
   "id": "07bf31cf-cb4f-495e-a3d7-5836486f02d3",
   "metadata": {},
   "source": [
    "null값 처리"
   ]
  },
  {
   "cell_type": "code",
   "execution_count": 36,
   "id": "852e86d1-decb-406f-a118-73ef312228b7",
   "metadata": {},
   "outputs": [
    {
     "name": "stdout",
     "output_type": "stream",
     "text": [
      "+------------------+\n",
      "|               Mph|\n",
      "+------------------+\n",
      "| 439.3220338983051|\n",
      "| 336.6233766233766|\n",
      "| 373.0232558139535|\n",
      "|471.61290322580646|\n",
      "| 415.6756756756757|\n",
      "|427.22222222222223|\n",
      "| 430.2739726027398|\n",
      "| 359.5081967213115|\n",
      "|466.59574468085106|\n",
      "|  481.978021978022|\n",
      "+------------------+\n",
      "only showing top 10 rows\n",
      "\n"
     ]
    }
   ],
   "source": [
    "fd = on_time_df.select(\"AirTime\", \"Distance\")\n",
    "filled_fd = fd.filter(fd.AirTime.isNotNull())\n",
    "hourly_fd = filled_fd.select(\"AirTime\", (filled_fd.AirTime/60).alias('Hours'),\"Distance\")\n",
    "mph = hourly_fd.select((hourly_fd.Distance/hourly_fd.Hours).alias('Mph'))\n",
    "mph.show(10)"
   ]
  },
  {
   "cell_type": "code",
   "execution_count": 18,
   "id": "32501b80-9eac-4802-81d5-98fa8ff52cf5",
   "metadata": {},
   "outputs": [
    {
     "name": "stdout",
     "output_type": "stream",
     "text": [
      "+------------------+\n",
      "|          avg(Mph)|\n",
      "+------------------+\n",
      "|408.72370268222824|\n",
      "+------------------+\n",
      "\n"
     ]
    },
    {
     "name": "stderr",
     "output_type": "stream",
     "text": [
      "                                                                                \r"
     ]
    }
   ],
   "source": [
    "from pyspark.sql.functions import avg\n",
    "mph.select(avg(mph.Mph)).show()"
   ]
  },
  {
   "cell_type": "code",
   "execution_count": 37,
   "id": "51db6e73-92c7-46ae-afc7-c855c06c9fc7",
   "metadata": {},
   "outputs": [
    {
     "name": "stderr",
     "output_type": "stream",
     "text": [
      "                                                                                \r"
     ]
    },
    {
     "name": "stdout",
     "output_type": "stream",
     "text": [
      "+-----------------+\n",
      "|              Mph|\n",
      "+-----------------+\n",
      "|265.7142857142857|\n",
      "|265.7142857142857|\n",
      "|265.7142857142857|\n",
      "|265.7142857142857|\n",
      "|265.7142857142857|\n",
      "|265.7142857142857|\n",
      "|265.7142857142857|\n",
      "|            232.5|\n",
      "|            232.5|\n",
      "|            232.5|\n",
      "+-----------------+\n",
      "only showing top 10 rows\n",
      "\n"
     ]
    },
    {
     "name": "stderr",
     "output_type": "stream",
     "text": [
      "[Stage 87:>                                                         (0 + 4) / 4]\r"
     ]
    },
    {
     "name": "stdout",
     "output_type": "stream",
     "text": [
      "+-----------------+\n",
      "|         avg(Mph)|\n",
      "+-----------------+\n",
      "|408.7237026822374|\n",
      "+-----------------+\n",
      "\n"
     ]
    },
    {
     "name": "stderr",
     "output_type": "stream",
     "text": [
      "                                                                                \r"
     ]
    }
   ],
   "source": [
    "on_time_df.registerTempTable(\"on_time_performance\")\n",
    "mph = spark.sql(\"\"\"\n",
    "SELECT (Distance/(AirTime/60)) AS Mph\n",
    "FROM on_time_performance\n",
    "WHERE AirTime IS NOT NULL\n",
    "ORDER BY AirTime\n",
    "\"\"\")\n",
    "mph.show(10)\n",
    "mph.registerTempTable(\"mph\")\n",
    "spark.sql(\"SELECT AVG(Mph) from mph\").show()"
   ]
  },
  {
   "cell_type": "markdown",
   "id": "0b4cb8c8-13ad-431d-a46d-7c5abd7a57ba",
   "metadata": {},
   "source": [
    "Histogram"
   ]
  },
  {
   "cell_type": "code",
   "execution_count": 21,
   "id": "3035c66b-8347-4371-8864-50d29b1b8884",
   "metadata": {},
   "outputs": [
    {
     "name": "stderr",
     "output_type": "stream",
     "text": [
      "                                                                                \r"
     ]
    },
    {
     "data": {
      "text/plain": [
       "([32.34375,\n",
       "  107.89626024590164,\n",
       "  183.4487704918033,\n",
       "  259.0012807377049,\n",
       "  334.5537909836066,\n",
       "  410.10630122950823,\n",
       "  485.65881147540983,\n",
       "  561.2113217213115,\n",
       "  636.7638319672132,\n",
       "  712.3163422131148,\n",
       "  787.8688524590165],\n",
       " [174, 14255, 148314, 643901, 1861699, 2357002, 664609, 23997, 32, 25])"
      ]
     },
     "execution_count": 21,
     "metadata": {},
     "output_type": "execute_result"
    }
   ],
   "source": [
    "mph.select(\"Mph\").rdd.flatMap(lambda x:x).histogram(10)"
   ]
  },
  {
   "cell_type": "raw",
   "id": "a6668b71-662c-4fdf-841e-e94761653d3b",
   "metadata": {},
   "source": [
    "Visualization"
   ]
  },
  {
   "cell_type": "code",
   "execution_count": 25,
   "id": "00870fdf-bdda-45f8-be5d-54fb63554f5c",
   "metadata": {},
   "outputs": [
    {
     "name": "stderr",
     "output_type": "stream",
     "text": [
      "                                                                                \r"
     ]
    },
    {
     "data": {
      "text/plain": [
       "<BarContainer object of 10 artists>"
      ]
     },
     "execution_count": 25,
     "metadata": {},
     "output_type": "execute_result"
    },
    {
     "data": {
      "image/png": "[encoded data removed]",
      "text/plain": [
       "<Figure size 432x288 with 1 Axes>"
      ]
     },
     "metadata": {
      "needs_background": "light"
     },
     "output_type": "display_data"
    }
   ],
   "source": [
    "import numpy as np\n",
    "import matplotlib.mlab as mlab\n",
    "import matplotlib.pyplot as plt\n",
    "\n",
    "def draw_histogram(rdd_histogram_data):\n",
    "    height=np.array(rdd_histogram_data[1])\n",
    "    full_bins = rdd_histogram_data[0]\n",
    "    mid_point_bins = full_bins[:-1]\n",
    "    widths = [abs(i-j) for i, j in zip(full_bins[:-1], full_bins[1:])]\n",
    "    bar = plt.bar(mid_point_bins, height, width=widths, color='b')\n",
    "    return bar\n",
    "\n",
    "departure_delay_histogram = mph.select(\"Mph\").rdd.flatMap(lambda x:x).histogram(10)\n",
    "draw_histogram(departure_delay_histogram)"
   ]
  },
  {
   "cell_type": "code",
   "execution_count": 27,
   "id": "64f5b404-c034-4dfc-997c-980b47a809d1",
   "metadata": {},
   "outputs": [
    {
     "name": "stderr",
     "output_type": "stream",
     "text": [
      "                                                                                \r"
     ]
    },
    {
     "data": {
      "text/plain": [
       "<BarContainer object of 20 artists>"
      ]
     },
     "execution_count": 27,
     "metadata": {},
     "output_type": "execute_result"
    },
    {
     "data": {
      "image/png": "[encoded data removed]",
      "text/plain": [
       "<Figure size 432x288 with 1 Axes>"
      ]
     },
     "metadata": {
      "needs_background": "light"
     },
     "output_type": "display_data"
    }
   ],
   "source": [
    "departure_delay_histogram = mph.select(\"Mph\").rdd.flatMap(lambda x:x).histogram(20)\n",
    "draw_histogram(departure_delay_histogram)"
   ]
  },
  {
   "cell_type": "code",
   "execution_count": 38,
   "id": "a4c00871-d581-4c29-8d03-861a47ac3133",
   "metadata": {},
   "outputs": [
    {
     "name": "stderr",
     "output_type": "stream",
     "text": [
      "[Stage 91:=============================>                            (2 + 2) / 4]\r"
     ]
    },
    {
     "name": "stdout",
     "output_type": "stream",
     "text": [
      "Total Airplanes: 4897\n"
     ]
    },
    {
     "name": "stderr",
     "output_type": "stream",
     "text": [
      "                                                                                \r"
     ]
    }
   ],
   "source": [
    "tail_numbers = on_time_df.rdd.map(lambda x:x.TailNum).filter(lambda x:x!='' and x is not None)\n",
    "unique_tail_numbers = tail_numbers.distinct()\n",
    "airplane_count = unique_tail_numbers.count()\n",
    "print(f\"Total Airplanes: {airplane_count}\")"
   ]
  },
  {
   "cell_type": "code",
   "execution_count": 39,
   "id": "86e5705a-e3cd-44d7-bd10-42fdeb5fb675",
   "metadata": {},
   "outputs": [
    {
     "ename": "AnalysisException",
     "evalue": "Resolved attribute(s) AirTime#517 missing from Year#210,Quarter#211,Month#212,DayofMonth#213,DayOfWeek#214,FlightDate#215,Carrier#216,TailNum#217,FlightNum#218,Origin#219,OriginCityName#220,OriginState#221,Dest#222,DestCityName#223,DestState#224,DepTime#225,DepDelay#226,DepDelayMinutes#227,TaxiOut#228,TaxiIn#229,WheelsOff#230,WheelsOn#231,ArrTime#232,ArrDelay#233,ArrDelayMinutes#234,Cancelled#235,Diverted#236,ActualElapsedTime#237,AirTime#238,Flights#239,Distance#240,CarrierDelay#241,WeatherDelay#242,NASDelay#243,SecurityDelay#244,LateAircraftDelay#245,CRSDepTime#246,CRSArrTime#247 in operator !Filter isnotnull(AirTime#517). Attribute(s) with the same name appear in the operation: AirTime. Please check if the right attribute(s) are used.;\n!Filter isnotnull(AirTime#517)\n+- Relation [Year#210,Quarter#211,Month#212,DayofMonth#213,DayOfWeek#214,FlightDate#215,Carrier#216,TailNum#217,FlightNum#218,Origin#219,OriginCityName#220,OriginState#221,Dest#222,DestCityName#223,DestState#224,DepTime#225,DepDelay#226,DepDelayMinutes#227,TaxiOut#228,TaxiIn#229,WheelsOff#230,WheelsOn#231,ArrTime#232,ArrDelay#233,... 14 more fields] parquet\n",
     "output_type": "error",
     "traceback": [
      "\u001b[0;31m---------------------------------------------------------------------------\u001b[0m",
      "\u001b[0;31mAnalysisException\u001b[0m                         Traceback (most recent call last)",
      "\u001b[0;32m/var/folders/1r/86j2h1wd2bz_vfz48l1_kqn00000gn/T/ipykernel_609/1726099244.py\u001b[0m in \u001b[0;36m<module>\u001b[0;34m\u001b[0m\n\u001b[0;32m----> 1\u001b[0;31m \u001b[0morigin_hour_dist\u001b[0m \u001b[0;34m=\u001b[0m \u001b[0mon_time_dataframe\u001b[0m\u001b[0;34m.\u001b[0m\u001b[0mfilter\u001b[0m\u001b[0;34m(\u001b[0m\u001b[0mon_time_df\u001b[0m\u001b[0;34m.\u001b[0m\u001b[0mAirTime\u001b[0m\u001b[0;34m.\u001b[0m\u001b[0misNotNull\u001b[0m\u001b[0;34m(\u001b[0m\u001b[0;34m)\u001b[0m\u001b[0;34m)\u001b[0m\u001b[0;34m.\u001b[0m\u001b[0mselect\u001b[0m\u001b[0;34m(\u001b[0m\u001b[0;34m\"Origin\"\u001b[0m\u001b[0;34m,\u001b[0m \u001b[0;34m(\u001b[0m\u001b[0mon_time_dataframe\u001b[0m\u001b[0;34m.\u001b[0m\u001b[0mAirTime\u001b[0m\u001b[0;34m/\u001b[0m\u001b[0;36m60\u001b[0m\u001b[0;34m)\u001b[0m\u001b[0;34m.\u001b[0m\u001b[0malias\u001b[0m\u001b[0;34m(\u001b[0m\u001b[0;34m\"Hours\"\u001b[0m\u001b[0;34m)\u001b[0m\u001b[0;34m,\u001b[0m \u001b[0;34m\"Distance\"\u001b[0m\u001b[0;34m)\u001b[0m\u001b[0;34m\u001b[0m\u001b[0;34m\u001b[0m\u001b[0m\n\u001b[0m\u001b[1;32m      2\u001b[0m \u001b[0mmph_origins\u001b[0m \u001b[0;34m=\u001b[0m \u001b[0morigin_hour_dist\u001b[0m\u001b[0;34m.\u001b[0m\u001b[0mselect\u001b[0m\u001b[0;34m(\u001b[0m\u001b[0;34m\"Origin\"\u001b[0m\u001b[0;34m,\u001b[0m \u001b[0;34m(\u001b[0m\u001b[0morigin_hour_dist\u001b[0m\u001b[0;34m.\u001b[0m\u001b[0mDistance\u001b[0m\u001b[0;34m/\u001b[0m\u001b[0morigin_hour_dist\u001b[0m\u001b[0;34m.\u001b[0m\u001b[0mHours\u001b[0m\u001b[0;34m)\u001b[0m\u001b[0;34m.\u001b[0m\u001b[0malias\u001b[0m\u001b[0;34m(\u001b[0m\u001b[0;34m\"Mph\"\u001b[0m\u001b[0;34m)\u001b[0m\u001b[0;34m)\u001b[0m\u001b[0;34m\u001b[0m\u001b[0;34m\u001b[0m\u001b[0m\n\u001b[1;32m      3\u001b[0m \u001b[0mmph_origins\u001b[0m\u001b[0;34m.\u001b[0m\u001b[0mregisterTempTable\u001b[0m\u001b[0;34m(\u001b[0m\u001b[0;34m\"mph_origins\"\u001b[0m\u001b[0;34m)\u001b[0m\u001b[0;34m\u001b[0m\u001b[0;34m\u001b[0m\u001b[0m\n\u001b[1;32m      4\u001b[0m \u001b[0mavg_speeds\u001b[0m \u001b[0;34m=\u001b[0m \u001b[0mmph_origins\u001b[0m\u001b[0;34m.\u001b[0m\u001b[0mgroupBy\u001b[0m\u001b[0;34m(\u001b[0m\u001b[0;34m\"Origin\"\u001b[0m\u001b[0;34m)\u001b[0m\u001b[0;34m.\u001b[0m\u001b[0magg\u001b[0m\u001b[0;34m(\u001b[0m\u001b[0;34m{\u001b[0m\u001b[0;34m\"Mph\"\u001b[0m\u001b[0;34m:\u001b[0m\u001b[0;34m\"avg\"\u001b[0m\u001b[0;34m}\u001b[0m\u001b[0;34m)\u001b[0m\u001b[0;34m.\u001b[0m\u001b[0malias\u001b[0m\u001b[0;34m(\u001b[0m\u001b[0;34m\"Mph\"\u001b[0m\u001b[0;34m)\u001b[0m\u001b[0;34m\u001b[0m\u001b[0;34m\u001b[0m\u001b[0m\n\u001b[1;32m      5\u001b[0m \u001b[0mavg_speeds\u001b[0m\u001b[0;34m.\u001b[0m\u001b[0mshow\u001b[0m\u001b[0;34m(\u001b[0m\u001b[0;34m)\u001b[0m\u001b[0;34m\u001b[0m\u001b[0;34m\u001b[0m\u001b[0m\n",
      "\u001b[0;32m~/opt/anaconda3/lib/python3.9/site-packages/pyspark/sql/dataframe.py\u001b[0m in \u001b[0;36mfilter\u001b[0;34m(self, condition)\u001b[0m\n\u001b[1;32m   1731\u001b[0m             \u001b[0mjdf\u001b[0m \u001b[0;34m=\u001b[0m \u001b[0mself\u001b[0m\u001b[0;34m.\u001b[0m\u001b[0m_jdf\u001b[0m\u001b[0;34m.\u001b[0m\u001b[0mfilter\u001b[0m\u001b[0;34m(\u001b[0m\u001b[0mcondition\u001b[0m\u001b[0;34m)\u001b[0m\u001b[0;34m\u001b[0m\u001b[0;34m\u001b[0m\u001b[0m\n\u001b[1;32m   1732\u001b[0m         \u001b[0;32melif\u001b[0m \u001b[0misinstance\u001b[0m\u001b[0;34m(\u001b[0m\u001b[0mcondition\u001b[0m\u001b[0;34m,\u001b[0m \u001b[0mColumn\u001b[0m\u001b[0;34m)\u001b[0m\u001b[0;34m:\u001b[0m\u001b[0;34m\u001b[0m\u001b[0;34m\u001b[0m\u001b[0m\n\u001b[0;32m-> 1733\u001b[0;31m             \u001b[0mjdf\u001b[0m \u001b[0;34m=\u001b[0m \u001b[0mself\u001b[0m\u001b[0;34m.\u001b[0m\u001b[0m_jdf\u001b[0m\u001b[0;34m.\u001b[0m\u001b[0mfilter\u001b[0m\u001b[0;34m(\u001b[0m\u001b[0mcondition\u001b[0m\u001b[0;34m.\u001b[0m\u001b[0m_jc\u001b[0m\u001b[0;34m)\u001b[0m\u001b[0;34m\u001b[0m\u001b[0;34m\u001b[0m\u001b[0m\n\u001b[0m\u001b[1;32m   1734\u001b[0m         \u001b[0;32melse\u001b[0m\u001b[0;34m:\u001b[0m\u001b[0;34m\u001b[0m\u001b[0;34m\u001b[0m\u001b[0m\n\u001b[1;32m   1735\u001b[0m             \u001b[0;32mraise\u001b[0m \u001b[0mTypeError\u001b[0m\u001b[0;34m(\u001b[0m\u001b[0;34m\"condition should be string or Column\"\u001b[0m\u001b[0;34m)\u001b[0m\u001b[0;34m\u001b[0m\u001b[0;34m\u001b[0m\u001b[0m\n",
      "\u001b[0;32m~/opt/anaconda3/lib/python3.9/site-packages/py4j/java_gateway.py\u001b[0m in \u001b[0;36m__call__\u001b[0;34m(self, *args)\u001b[0m\n\u001b[1;32m   1319\u001b[0m \u001b[0;34m\u001b[0m\u001b[0m\n\u001b[1;32m   1320\u001b[0m         \u001b[0manswer\u001b[0m \u001b[0;34m=\u001b[0m \u001b[0mself\u001b[0m\u001b[0;34m.\u001b[0m\u001b[0mgateway_client\u001b[0m\u001b[0;34m.\u001b[0m\u001b[0msend_command\u001b[0m\u001b[0;34m(\u001b[0m\u001b[0mcommand\u001b[0m\u001b[0;34m)\u001b[0m\u001b[0;34m\u001b[0m\u001b[0;34m\u001b[0m\u001b[0m\n\u001b[0;32m-> 1321\u001b[0;31m         return_value = get_return_value(\n\u001b[0m\u001b[1;32m   1322\u001b[0m             answer, self.gateway_client, self.target_id, self.name)\n\u001b[1;32m   1323\u001b[0m \u001b[0;34m\u001b[0m\u001b[0m\n",
      "\u001b[0;32m~/opt/anaconda3/lib/python3.9/site-packages/pyspark/sql/utils.py\u001b[0m in \u001b[0;36mdeco\u001b[0;34m(*a, **kw)\u001b[0m\n\u001b[1;32m    115\u001b[0m                 \u001b[0;31m# Hide where the exception came from that shows a non-Pythonic\u001b[0m\u001b[0;34m\u001b[0m\u001b[0;34m\u001b[0m\u001b[0m\n\u001b[1;32m    116\u001b[0m                 \u001b[0;31m# JVM exception message.\u001b[0m\u001b[0;34m\u001b[0m\u001b[0;34m\u001b[0m\u001b[0m\n\u001b[0;32m--> 117\u001b[0;31m                 \u001b[0;32mraise\u001b[0m \u001b[0mconverted\u001b[0m \u001b[0;32mfrom\u001b[0m \u001b[0;32mNone\u001b[0m\u001b[0;34m\u001b[0m\u001b[0;34m\u001b[0m\u001b[0m\n\u001b[0m\u001b[1;32m    118\u001b[0m             \u001b[0;32melse\u001b[0m\u001b[0;34m:\u001b[0m\u001b[0;34m\u001b[0m\u001b[0;34m\u001b[0m\u001b[0m\n\u001b[1;32m    119\u001b[0m                 \u001b[0;32mraise\u001b[0m\u001b[0;34m\u001b[0m\u001b[0;34m\u001b[0m\u001b[0m\n",
      "\u001b[0;31mAnalysisException\u001b[0m: Resolved attribute(s) AirTime#517 missing from Year#210,Quarter#211,Month#212,DayofMonth#213,DayOfWeek#214,FlightDate#215,Carrier#216,TailNum#217,FlightNum#218,Origin#219,OriginCityName#220,OriginState#221,Dest#222,DestCityName#223,DestState#224,DepTime#225,DepDelay#226,DepDelayMinutes#227,TaxiOut#228,TaxiIn#229,WheelsOff#230,WheelsOn#231,ArrTime#232,ArrDelay#233,ArrDelayMinutes#234,Cancelled#235,Diverted#236,ActualElapsedTime#237,AirTime#238,Flights#239,Distance#240,CarrierDelay#241,WeatherDelay#242,NASDelay#243,SecurityDelay#244,LateAircraftDelay#245,CRSDepTime#246,CRSArrTime#247 in operator !Filter isnotnull(AirTime#517). Attribute(s) with the same name appear in the operation: AirTime. Please check if the right attribute(s) are used.;\n!Filter isnotnull(AirTime#517)\n+- Relation [Year#210,Quarter#211,Month#212,DayofMonth#213,DayOfWeek#214,FlightDate#215,Carrier#216,TailNum#217,FlightNum#218,Origin#219,OriginCityName#220,OriginState#221,Dest#222,DestCityName#223,DestState#224,DepTime#225,DepDelay#226,DepDelayMinutes#227,TaxiOut#228,TaxiIn#229,WheelsOff#230,WheelsOn#231,ArrTime#232,ArrDelay#233,... 14 more fields] parquet\n"
     ]
    }
   ],
   "source": [
    "origin_hour_dist = on_time_dataframe.filter(on_time_df.AirTime.isNotNull()).select(\"Origin\", (on_time_dataframe.AirTime/60).alias(\"Hours\"), \"Distance\")\n",
    "mph_origins = origin_hour_dist.select(\"Origin\", (origin_hour_dist.Distance/origin_hour_dist.Hours).alias(\"Mph\"))\n",
    "mph_origins.registerTempTable(\"mph_origins\")\n",
    "avg_speeds = mph_origins.groupBy(\"Origin\").agg({\"Mph\":\"avg\"}).alias(\"Mph\")\n",
    "avg_speeds.show()"
   ]
  },
  {
   "cell_type": "code",
   "execution_count": null,
   "id": "fe0c0664-4c1e-464b-9464-a14db1f50082",
   "metadata": {},
   "outputs": [],
   "source": [
    "on_time_df.columns"
   ]
  },
  {
   "cell_type": "code",
   "execution_count": null,
   "id": "b68787d7-f1f9-4226-9b5c-d1f788ac1f7e",
   "metadata": {},
   "outputs": [],
   "source": []
  }
 ],
 "metadata": {
  "kernelspec": {
   "display_name": "Python 3 (ipykernel)",
   "language": "python",
   "name": "python3"
  },
  "language_info": {
   "codemirror_mode": {
    "name": "ipython",
    "version": 3
   },
   "file_extension": ".py",
   "mimetype": "text/x-python",
   "name": "python",
   "nbconvert_exporter": "python",
   "pygments_lexer": "ipython3",
   "version": "3.9.7"
  }
 },
 "nbformat": 4,
 "nbformat_minor": 5
}
