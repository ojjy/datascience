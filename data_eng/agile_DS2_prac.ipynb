{
 "cells": [
  {
   "cell_type": "markdown",
   "id": "3f8ab4f4-6da6-4df7-9f0a-c1607360e6c6",
   "metadata": {},
   "source": [
    "#### References. https://github.com/rjurney/Agile_Data_Code_2"
   ]
  },
  {
   "cell_type": "markdown",
   "id": "2c0b7eee-f614-45cd-9f9c-516820b1f396",
   "metadata": {},
   "source": [
    "Intialize PySpark"
   ]
  },
  {
   "cell_type": "code",
   "execution_count": 1,
   "id": "1d6c45a1-209d-45fd-a00a-e4b54a7b6724",
   "metadata": {},
   "outputs": [
    {
     "name": "stderr",
     "output_type": "stream",
     "text": [
      "22/02/11 17:36:56 WARN Utils: Your hostname, kellyui-MacBookAir.local resolves to a loopback address: 127.0.0.1; using 192.168.0.3 instead (on interface en0)\n",
      "22/02/11 17:36:56 WARN Utils: Set SPARK_LOCAL_IP if you need to bind to another address\n",
      "WARNING: An illegal reflective access operation has occurred\n",
      "WARNING: Illegal reflective access by org.apache.spark.unsafe.Platform (file:/Users/kelly/opt/anaconda3/lib/python3.9/site-packages/pyspark/jars/spark-unsafe_2.12-3.2.1.jar) to constructor java.nio.DirectByteBuffer(long,int)\n",
      "WARNING: Please consider reporting this to the maintainers of org.apache.spark.unsafe.Platform\n",
      "WARNING: Use --illegal-access=warn to enable warnings of further illegal reflective access operations\n",
      "WARNING: All illegal access operations will be denied in a future release\n"
     ]
    },
    {
     "name": "stdout",
     "output_type": "stream",
     "text": [
      ":: loading settings :: url = jar:file:/Users/kelly/opt/anaconda3/lib/python3.9/site-packages/pyspark/jars/ivy-2.5.0.jar!/org/apache/ivy/core/settings/ivysettings.xml\n"
     ]
    },
    {
     "name": "stderr",
     "output_type": "stream",
     "text": [
      "Ivy Default Cache set to: /Users/kelly/.ivy2/cache\n",
      "The jars for the packages stored in: /Users/kelly/.ivy2/jars\n",
      "org.mongodb.spark#mongo-spark-connector_2.12 added as a dependency\n",
      "org.elasticsearch#elasticsearch-spark-30_2.12 added as a dependency\n",
      ":: resolving dependencies :: org.apache.spark#spark-submit-parent-ba9a573f-b165-486c-b6be-c5cac458e813;1.0\n",
      "\tconfs: [default]\n",
      "\tfound org.mongodb.spark#mongo-spark-connector_2.12;3.0.1 in central\n",
      "\tfound org.mongodb#mongodb-driver-sync;4.0.5 in central\n",
      "\tfound org.mongodb#bson;4.0.5 in central\n",
      "\tfound org.mongodb#mongodb-driver-core;4.0.5 in central\n",
      "\tfound org.elasticsearch#elasticsearch-spark-30_2.12;7.14.2 in central\n",
      "\tfound org.scala-lang#scala-reflect;2.12.8 in central\n",
      "\tfound org.slf4j#slf4j-api;1.7.6 in central\n",
      "\tfound commons-logging#commons-logging;1.1.1 in central\n",
      "\tfound javax.xml.bind#jaxb-api;2.3.1 in central\n",
      "\tfound com.google.protobuf#protobuf-java;2.5.0 in central\n",
      "\tfound org.apache.spark#spark-yarn_2.12;3.0.1 in central\n",
      ":: resolution report :: resolve 801ms :: artifacts dl 28ms\n",
      "\t:: modules in use:\n",
      "\tcom.google.protobuf#protobuf-java;2.5.0 from central in [default]\n",
      "\tcommons-logging#commons-logging;1.1.1 from central in [default]\n",
      "\tjavax.xml.bind#jaxb-api;2.3.1 from central in [default]\n",
      "\torg.apache.spark#spark-yarn_2.12;3.0.1 from central in [default]\n",
      "\torg.elasticsearch#elasticsearch-spark-30_2.12;7.14.2 from central in [default]\n",
      "\torg.mongodb#bson;4.0.5 from central in [default]\n",
      "\torg.mongodb#mongodb-driver-core;4.0.5 from central in [default]\n",
      "\torg.mongodb#mongodb-driver-sync;4.0.5 from central in [default]\n",
      "\torg.mongodb.spark#mongo-spark-connector_2.12;3.0.1 from central in [default]\n",
      "\torg.scala-lang#scala-reflect;2.12.8 from central in [default]\n",
      "\torg.slf4j#slf4j-api;1.7.6 from central in [default]\n",
      "\t---------------------------------------------------------------------\n",
      "\t|                  |            modules            ||   artifacts   |\n",
      "\t|       conf       | number| search|dwnlded|evicted|| number|dwnlded|\n",
      "\t---------------------------------------------------------------------\n",
      "\t|      default     |   11  |   0   |   0   |   0   ||   11  |   0   |\n",
      "\t---------------------------------------------------------------------\n",
      ":: retrieving :: org.apache.spark#spark-submit-parent-ba9a573f-b165-486c-b6be-c5cac458e813\n",
      "\tconfs: [default]\n",
      "\t0 artifacts copied, 11 already retrieved (0kB/23ms)\n",
      "22/02/11 17:36:58 WARN NativeCodeLoader: Unable to load native-hadoop library for your platform... using builtin-java classes where applicable\n",
      "Using Spark's default log4j profile: org/apache/spark/log4j-defaults.properties\n",
      "Setting default log level to \"WARN\".\n",
      "To adjust logging level use sc.setLogLevel(newLevel). For SparkR, use setLogLevel(newLevel).\n"
     ]
    },
    {
     "name": "stdout",
     "output_type": "stream",
     "text": [
      "\n",
      "PySpark initialized...\n"
     ]
    }
   ],
   "source": [
    "from pyspark.sql import SparkSession\n",
    "\n",
    "\n",
    "# Initialize PySpark with MongoDB support\n",
    "APP_NAME = \"Introducing PySpark\"\n",
    "spark = (\n",
    "    SparkSession.builder.appName(APP_NAME)\n",
    "    # Load support for MongoDB and Elasticsearch\n",
    "    .config(\"spark.jars.packages\", \"org.mongodb.spark:mongo-spark-connector_2.12:3.0.1,org.elasticsearch:elasticsearch-spark-30_2.12:7.14.2\")\n",
    "    # Add Configuration for MongopDB\n",
    "    .config(\"spark.mongodb.input.uri\", \"mongodb://mongo:27017/test.coll\")\n",
    "    .config(\"spark.mongodb.output.uri\", \"mongodb://mongo:27017/test.coll\")\n",
    "\n",
    "    .getOrCreate()\n",
    ")\n",
    "sc = spark.sparkContext\n",
    "sc.setLogLevel(\"ERROR\")\n",
    "\n",
    "print(\"\\nPySpark initialized...\")"
   ]
  },
  {
   "cell_type": "code",
   "execution_count": 2,
   "id": "301f62de-294c-40f5-ad76-44ae2e8c8782",
   "metadata": {},
   "outputs": [
    {
     "name": "stderr",
     "output_type": "stream",
     "text": [
      "/Users/kelly/opt/anaconda3/lib/python3.9/site-packages/pyspark/sql/dataframe.py:138: FutureWarning: Deprecated in 2.0, use createOrReplaceTempView instead.\n",
      "  warnings.warn(\n"
     ]
    },
    {
     "data": {
      "text/plain": [
       "['Year',\n",
       " 'Quarter',\n",
       " 'Month',\n",
       " 'DayofMonth',\n",
       " 'DayOfWeek',\n",
       " 'FlightDate',\n",
       " 'Carrier',\n",
       " 'TailNum',\n",
       " 'FlightNum',\n",
       " 'Origin',\n",
       " 'OriginCityName',\n",
       " 'OriginState',\n",
       " 'Dest',\n",
       " 'DestCityName',\n",
       " 'DestState',\n",
       " 'DepTime',\n",
       " 'DepDelay',\n",
       " 'DepDelayMinutes',\n",
       " 'TaxiOut',\n",
       " 'TaxiIn',\n",
       " 'WheelsOff',\n",
       " 'WheelsOn',\n",
       " 'ArrTime',\n",
       " 'ArrDelay',\n",
       " 'ArrDelayMinutes',\n",
       " 'Cancelled',\n",
       " 'Diverted',\n",
       " 'ActualElapsedTime',\n",
       " 'AirTime',\n",
       " 'Flights',\n",
       " 'Distance',\n",
       " 'CarrierDelay',\n",
       " 'WeatherDelay',\n",
       " 'NASDelay',\n",
       " 'SecurityDelay',\n",
       " 'LateAircraftDelay',\n",
       " 'CRSDepTime',\n",
       " 'CRSArrTime']"
      ]
     },
     "execution_count": 2,
     "metadata": {},
     "output_type": "execute_result"
    }
   ],
   "source": [
    "# Load the parquet file containing flight delay records\n",
    "on_time_df = spark.read.parquet('data/on_time_performance.parquet')\n",
    "\n",
    "# Register the data for Spark SQL\n",
    "on_time_df.registerTempTable(\"on_time_performance\")\n",
    "\n",
    "# Check out the columns\n",
    "on_time_df.columns"
   ]
  },
  {
   "cell_type": "code",
   "execution_count": 3,
   "id": "ad28f61e-9b68-4139-95ef-9808a3af9839",
   "metadata": {},
   "outputs": [
    {
     "name": "stderr",
     "output_type": "stream",
     "text": [
      "                                                                                \r"
     ]
    },
    {
     "name": "stdout",
     "output_type": "stream",
     "text": [
      "+----------+-------+------+----+-------+--------+--------+\n",
      "|FlightDate|TailNum|Origin|Dest|Carrier|DepDelay|ArrDelay|\n",
      "+----------+-------+------+----+-------+--------+--------+\n",
      "|2015-01-10| N851AA|   PHX| DFW|     AA|    -2.0|     3.0|\n",
      "|2015-01-11| N827JB|   BOS| SFO|     B6|    17.0|    10.0|\n",
      "|2015-01-11| N3740C|   SLC| MCO|     DL|    -5.0|   -24.0|\n",
      "|2015-01-12| N229WN|   SMF| ONT|     WN|    17.0|    10.0|\n",
      "|2015-01-12| N969WN|   IAD| DEN|     WN|    87.0|    54.0|\n",
      "|2015-01-13| N534NK|   LAS| OAK|     NK|    -4.0|    -9.0|\n",
      "|2015-01-13| N290SW|   SBP| LAX|     OO|     0.0|    -2.0|\n",
      "|2015-01-13| N649SW|   PDX| SAN|     WN|    22.0|    19.0|\n",
      "|2015-01-17| N552UW|   SLC| PHX|     US|     5.0|     5.0|\n",
      "|2015-01-19| N467AA|   AUS| DFW|     AA|    -3.0|   -12.0|\n",
      "+----------+-------+------+----+-------+--------+--------+\n",
      "only showing top 10 rows\n",
      "\n",
      "+----------+-------+------+----+-------+--------+--------+\n",
      "|FlightDate|TailNum|Origin|Dest|Carrier|DepDelay|ArrDelay|\n",
      "+----------+-------+------+----+-------+--------+--------+\n",
      "|2015-01-01| N005AA|   DFW| ORD|     AA|    null|    null|\n",
      "|2015-01-01| N006AA|   DFW| ATL|     AA|    -4.0|   -11.0|\n",
      "|2015-01-01| N010AA|   DFW| SDF|     AA|    null|    null|\n",
      "|2015-01-01| N018AA|   DFW| JAC|     AA|    45.0|    74.0|\n",
      "|2015-01-01| N201AA|   LAS| DFW|     AA|    -3.0|     7.0|\n",
      "|2015-01-01| N353AA|   MIA| MCO|     AA|    -3.0|   -15.0|\n",
      "|2015-01-01| N365AA|   ORD| DFW|     AA|    80.0|    80.0|\n",
      "|2015-01-01| N389AA|   ORD| MIA|     AA|    -7.0|   -25.0|\n",
      "|2015-01-01| N397AA|   MIA| MCO|     AA|     9.0|    -3.0|\n",
      "|2015-01-01| N3ABAA|   DCA| ORD|     AA|   -12.0|    -7.0|\n",
      "+----------+-------+------+----+-------+--------+--------+\n",
      "only showing top 10 rows\n",
      "\n"
     ]
    }
   ],
   "source": [
    "# select field and get result\n",
    "trimmed_on_time = on_time_df.select(\"FlightDate\", \n",
    "                                           \"TailNum\", \n",
    "                                           \"Origin\", \n",
    "                                           \"Dest\",\n",
    "                                           \"Carrier\",\n",
    "                                           \"DepDelay\",\n",
    "                                           \"ArrDelay\")\n",
    "trimmed_on_time.sample(False, 0.0001).show(10)\n",
    "sampled_ten_percent = trimmed_on_time.sample(False, 0.1)\n",
    "sampled_ten_percent.show(10)\n",
    "                                           "
   ]
  },
  {
   "cell_type": "code",
   "execution_count": 4,
   "id": "e9c8d86d-9de9-4d23-bc96-ceae83b4b425",
   "metadata": {},
   "outputs": [
    {
     "name": "stdout",
     "output_type": "stream",
     "text": [
      "+-------+--------+\n",
      "|AirTime|Distance|\n",
      "+-------+--------+\n",
      "|   59.0|   432.0|\n",
      "|   77.0|   432.0|\n",
      "|  129.0|   802.0|\n",
      "|   93.0|   731.0|\n",
      "|  111.0|   769.0|\n",
      "|  108.0|   769.0|\n",
      "|  146.0|  1047.0|\n",
      "|   null|  1007.0|\n",
      "|   null|  1007.0|\n",
      "|   null|   802.0|\n",
      "+-------+--------+\n",
      "only showing top 10 rows\n",
      "\n"
     ]
    }
   ],
   "source": [
    "fd = on_time_df.select(\"AirTime\", \"Distance\")\n",
    "fd.show(10)"
   ]
  },
  {
   "cell_type": "code",
   "execution_count": 5,
   "id": "6a0a9d11-40b9-4008-a88d-e351874131ca",
   "metadata": {},
   "outputs": [
    {
     "name": "stdout",
     "output_type": "stream",
     "text": [
      "+------------------+--------+\n",
      "|             Hours|Distance|\n",
      "+------------------+--------+\n",
      "|0.9833333333333333|   432.0|\n",
      "|1.2833333333333334|   432.0|\n",
      "|              2.15|   802.0|\n",
      "|              1.55|   731.0|\n",
      "|              1.85|   769.0|\n",
      "+------------------+--------+\n",
      "only showing top 5 rows\n",
      "\n"
     ]
    }
   ],
   "source": [
    "hourly_fd = fd.select((fd.AirTime/60).alias('Hours'), \"Distance\")\n",
    "hourly_fd.show(5)"
   ]
  },
  {
   "cell_type": "code",
   "execution_count": 6,
   "id": "6b7a313b-2ced-4c38-a86d-6c9b22ca91fb",
   "metadata": {},
   "outputs": [
    {
     "name": "stdout",
     "output_type": "stream",
     "text": [
      "+------------------+\n",
      "|               Mph|\n",
      "+------------------+\n",
      "| 439.3220338983051|\n",
      "| 336.6233766233766|\n",
      "| 373.0232558139535|\n",
      "|471.61290322580646|\n",
      "| 415.6756756756757|\n",
      "|427.22222222222223|\n",
      "| 430.2739726027398|\n",
      "|              null|\n",
      "|              null|\n",
      "|              null|\n",
      "+------------------+\n",
      "only showing top 10 rows\n",
      "\n"
     ]
    }
   ],
   "source": [
    "miles_per_hour = hourly_fd.select((hourly_fd.Distance/hourly_fd.Hours).alias('Mph'))\n",
    "miles_per_hour.show(10)          "
   ]
  },
  {
   "cell_type": "code",
   "execution_count": 7,
   "id": "3ae718cb-2044-4392-aa55-b884f1f3660e",
   "metadata": {},
   "outputs": [
    {
     "name": "stdout",
     "output_type": "stream",
     "text": [
      "+-------+------------------+--------+\n",
      "|AirTime|             Hours|Distance|\n",
      "+-------+------------------+--------+\n",
      "|   59.0|0.9833333333333333|   432.0|\n",
      "|   77.0|1.2833333333333334|   432.0|\n",
      "|  129.0|              2.15|   802.0|\n",
      "|   93.0|              1.55|   731.0|\n",
      "|  111.0|              1.85|   769.0|\n",
      "|  108.0|               1.8|   769.0|\n",
      "|  146.0| 2.433333333333333|  1047.0|\n",
      "|   null|              null|  1007.0|\n",
      "|   null|              null|  1007.0|\n",
      "|   null|              null|   802.0|\n",
      "|   null|              null|   731.0|\n",
      "|  122.0| 2.033333333333333|   731.0|\n",
      "|   94.0|1.5666666666666667|   731.0|\n",
      "|   91.0|1.5166666666666666|   731.0|\n",
      "|  115.0|1.9166666666666667|   731.0|\n",
      "|   89.0|1.4833333333333334|   731.0|\n",
      "|  106.0|1.7666666666666666|   721.0|\n",
      "|   94.0|1.5666666666666667|   748.0|\n",
      "|   null|              null|   733.0|\n",
      "|   null|              null|   733.0|\n",
      "+-------+------------------+--------+\n",
      "only showing top 20 rows\n",
      "\n"
     ]
    }
   ],
   "source": [
    "fd.select(\"AirTime\",(fd.AirTime/60).alias('Hours'), \"Distance\").show()"
   ]
  },
  {
   "cell_type": "markdown",
   "id": "07bf31cf-cb4f-495e-a3d7-5836486f02d3",
   "metadata": {},
   "source": [
    "null값 처리"
   ]
  },
  {
   "cell_type": "code",
   "execution_count": 8,
   "id": "852e86d1-decb-406f-a118-73ef312228b7",
   "metadata": {},
   "outputs": [
    {
     "name": "stdout",
     "output_type": "stream",
     "text": [
      "+------------------+\n",
      "|               Mph|\n",
      "+------------------+\n",
      "| 439.3220338983051|\n",
      "| 336.6233766233766|\n",
      "| 373.0232558139535|\n",
      "|471.61290322580646|\n",
      "| 415.6756756756757|\n",
      "|427.22222222222223|\n",
      "| 430.2739726027398|\n",
      "| 359.5081967213115|\n",
      "|466.59574468085106|\n",
      "|  481.978021978022|\n",
      "+------------------+\n",
      "only showing top 10 rows\n",
      "\n"
     ]
    }
   ],
   "source": [
    "fd = on_time_df.select(\"AirTime\", \"Distance\")\n",
    "filled_fd = fd.filter(fd.AirTime.isNotNull())\n",
    "hourly_fd = filled_fd.select(\"AirTime\", (filled_fd.AirTime/60).alias('Hours'),\"Distance\")\n",
    "mph = hourly_fd.select((hourly_fd.Distance/hourly_fd.Hours).alias('Mph'))\n",
    "mph.show(10)"
   ]
  },
  {
   "cell_type": "code",
   "execution_count": 9,
   "id": "32501b80-9eac-4802-81d5-98fa8ff52cf5",
   "metadata": {},
   "outputs": [
    {
     "name": "stderr",
     "output_type": "stream",
     "text": [
      "[Stage 8:>                                                          (0 + 4) / 4]\r"
     ]
    },
    {
     "name": "stdout",
     "output_type": "stream",
     "text": [
      "+------------------+\n",
      "|          avg(Mph)|\n",
      "+------------------+\n",
      "|408.72370268222824|\n",
      "+------------------+\n",
      "\n"
     ]
    },
    {
     "name": "stderr",
     "output_type": "stream",
     "text": [
      "                                                                                \r"
     ]
    }
   ],
   "source": [
    "from pyspark.sql.functions import avg\n",
    "mph.select(avg(mph.Mph)).show()"
   ]
  },
  {
   "cell_type": "code",
   "execution_count": 10,
   "id": "51db6e73-92c7-46ae-afc7-c855c06c9fc7",
   "metadata": {},
   "outputs": [
    {
     "name": "stderr",
     "output_type": "stream",
     "text": [
      "                                                                                \r"
     ]
    },
    {
     "name": "stdout",
     "output_type": "stream",
     "text": [
      "+-----------------+\n",
      "|              Mph|\n",
      "+-----------------+\n",
      "|265.7142857142857|\n",
      "|265.7142857142857|\n",
      "|265.7142857142857|\n",
      "|265.7142857142857|\n",
      "|265.7142857142857|\n",
      "|265.7142857142857|\n",
      "|265.7142857142857|\n",
      "|            232.5|\n",
      "|            232.5|\n",
      "|            232.5|\n",
      "+-----------------+\n",
      "only showing top 10 rows\n",
      "\n"
     ]
    },
    {
     "name": "stderr",
     "output_type": "stream",
     "text": [
      "[Stage 15:>                                                         (0 + 4) / 4]\r"
     ]
    },
    {
     "name": "stdout",
     "output_type": "stream",
     "text": [
      "+-----------------+\n",
      "|         avg(Mph)|\n",
      "+-----------------+\n",
      "|408.7237026822374|\n",
      "+-----------------+\n",
      "\n"
     ]
    },
    {
     "name": "stderr",
     "output_type": "stream",
     "text": [
      "                                                                                \r"
     ]
    }
   ],
   "source": [
    "on_time_df.registerTempTable(\"on_time_performance\")\n",
    "mph = spark.sql(\"\"\"\n",
    "SELECT (Distance/(AirTime/60)) AS Mph\n",
    "FROM on_time_performance\n",
    "WHERE AirTime IS NOT NULL\n",
    "ORDER BY AirTime\n",
    "\"\"\")\n",
    "mph.show(10)\n",
    "mph.registerTempTable(\"mph\")\n",
    "spark.sql(\"SELECT AVG(Mph) from mph\").show()"
   ]
  },
  {
   "cell_type": "markdown",
   "id": "0b4cb8c8-13ad-431d-a46d-7c5abd7a57ba",
   "metadata": {},
   "source": [
    "Histogram"
   ]
  },
  {
   "cell_type": "code",
   "execution_count": 11,
   "id": "3035c66b-8347-4371-8864-50d29b1b8884",
   "metadata": {},
   "outputs": [
    {
     "name": "stderr",
     "output_type": "stream",
     "text": [
      "                                                                                \r"
     ]
    },
    {
     "data": {
      "text/plain": [
       "([32.34375,\n",
       "  107.89626024590164,\n",
       "  183.4487704918033,\n",
       "  259.0012807377049,\n",
       "  334.5537909836066,\n",
       "  410.10630122950823,\n",
       "  485.65881147540983,\n",
       "  561.2113217213115,\n",
       "  636.7638319672132,\n",
       "  712.3163422131148,\n",
       "  787.8688524590165],\n",
       " [174, 14255, 148314, 643901, 1861699, 2357002, 664609, 23997, 32, 25])"
      ]
     },
     "execution_count": 11,
     "metadata": {},
     "output_type": "execute_result"
    }
   ],
   "source": [
    "mph.select(\"Mph\").rdd.flatMap(lambda x:x).histogram(10)"
   ]
  },
  {
   "cell_type": "raw",
   "id": "a6668b71-662c-4fdf-841e-e94761653d3b",
   "metadata": {},
   "source": [
    "### Visualization"
   ]
  },
  {
   "cell_type": "code",
   "execution_count": 12,
   "id": "00870fdf-bdda-45f8-be5d-54fb63554f5c",
   "metadata": {},
   "outputs": [
    {
     "name": "stderr",
     "output_type": "stream",
     "text": [
      "                                                                                \r"
     ]
    },
    {
     "data": {
      "text/plain": [
       "<BarContainer object of 10 artists>"
      ]
     },
     "execution_count": 12,
     "metadata": {},
     "output_type": "execute_result"
    },
    {
     "data": {
      "image/png": "[encoded data removed]",
      "text/plain": [
       "<Figure size 432x288 with 1 Axes>"
      ]
     },
     "metadata": {
      "needs_background": "light"
     },
     "output_type": "display_data"
    }
   ],
   "source": [
    "import numpy as np\n",
    "import matplotlib.mlab as mlab\n",
    "import matplotlib.pyplot as plt\n",
    "\n",
    "def draw_histogram(rdd_histogram_data):\n",
    "    height=np.array(rdd_histogram_data[1])\n",
    "    full_bins = rdd_histogram_data[0]\n",
    "    mid_point_bins = full_bins[:-1]\n",
    "    widths = [abs(i-j) for i, j in zip(full_bins[:-1], full_bins[1:])]\n",
    "    bar = plt.bar(mid_point_bins, height, width=widths, color='b')\n",
    "    return bar\n",
    "\n",
    "departure_delay_histogram = mph.select(\"Mph\").rdd.flatMap(lambda x:x).histogram(10)\n",
    "draw_histogram(departure_delay_histogram)"
   ]
  },
  {
   "cell_type": "code",
   "execution_count": 13,
   "id": "64f5b404-c034-4dfc-997c-980b47a809d1",
   "metadata": {},
   "outputs": [
    {
     "name": "stderr",
     "output_type": "stream",
     "text": [
      "                                                                                \r"
     ]
    },
    {
     "data": {
      "text/plain": [
       "<BarContainer object of 20 artists>"
      ]
     },
     "execution_count": 13,
     "metadata": {},
     "output_type": "execute_result"
    },
    {
     "data": {
      "image/png": "[encoded data removed]",
      "text/plain": [
       "<Figure size 432x288 with 1 Axes>"
      ]
     },
     "metadata": {
      "needs_background": "light"
     },
     "output_type": "display_data"
    }
   ],
   "source": [
    "departure_delay_histogram = mph.select(\"Mph\").rdd.flatMap(lambda x:x).histogram(20)\n",
    "draw_histogram(departure_delay_histogram)"
   ]
  },
  {
   "cell_type": "code",
   "execution_count": 14,
   "id": "a4c00871-d581-4c29-8d03-861a47ac3133",
   "metadata": {},
   "outputs": [
    {
     "name": "stderr",
     "output_type": "stream",
     "text": [
      "[Stage 37:=============================>                            (2 + 2) / 4]\r"
     ]
    },
    {
     "name": "stdout",
     "output_type": "stream",
     "text": [
      "Total Airplanes: 4897\n"
     ]
    },
    {
     "name": "stderr",
     "output_type": "stream",
     "text": [
      "                                                                                \r"
     ]
    }
   ],
   "source": [
    "tail_numbers = on_time_df.rdd.map(lambda x:x.TailNum).filter(lambda x:x!='' and x is not None)\n",
    "unique_tail_numbers = tail_numbers.distinct()\n",
    "airplane_count = unique_tail_numbers.count()\n",
    "print(f\"Total Airplanes: {airplane_count}\")"
   ]
  },
  {
   "cell_type": "code",
   "execution_count": 17,
   "id": "86e5705a-e3cd-44d7-bd10-42fdeb5fb675",
   "metadata": {},
   "outputs": [
    {
     "name": "stderr",
     "output_type": "stream",
     "text": [
      "/Users/kelly/opt/anaconda3/lib/python3.9/site-packages/pyspark/sql/dataframe.py:138: FutureWarning: Deprecated in 2.0, use createOrReplaceTempView instead.\n",
      "  warnings.warn(\n",
      "[Stage 39:>                                                         (0 + 4) / 4]\r"
     ]
    },
    {
     "name": "stdout",
     "output_type": "stream",
     "text": [
      "+------+------------------+\n",
      "|Origin|          avg(Mph)|\n",
      "+------+------------------+\n",
      "|   BGM| 346.1853538898441|\n",
      "|   PSE|452.61176800000527|\n",
      "|   INL|286.26851316932084|\n",
      "|   MSY|417.88066171277154|\n",
      "|   PPG| 504.2422916767315|\n",
      "|   GEG|402.28558929054554|\n",
      "|   SNA|  417.168769940005|\n",
      "|   BUR| 381.5411358971755|\n",
      "|   GRB| 304.8341806425377|\n",
      "|   GTF|425.33903080533736|\n",
      "|   IDA|352.21033421102845|\n",
      "|   GRR|345.74023303402765|\n",
      "|   JLN| 333.8980691779108|\n",
      "|   PSG|218.63993665683003|\n",
      "|   EUG| 408.3697364617108|\n",
      "|   PVD| 377.2849336122921|\n",
      "|   GSO|363.15998763789804|\n",
      "|   MYR|392.41545245530193|\n",
      "|   OAK| 411.1720814918371|\n",
      "|   MSN| 328.7109364653059|\n",
      "+------+------------------+\n",
      "only showing top 20 rows\n",
      "\n"
     ]
    },
    {
     "name": "stderr",
     "output_type": "stream",
     "text": [
      "                                                                                \r"
     ]
    }
   ],
   "source": [
    "origin_hour_dist = on_time_df.filter(on_time_df.AirTime.isNotNull()).select(\"Origin\", (on_time_df.AirTime/60).alias(\"Hours\"), \"Distance\")\n",
    "mph_origins = origin_hour_dist.select(\"Origin\", (origin_hour_dist.Distance/origin_hour_dist.Hours).alias(\"Mph\"))\n",
    "mph_origins.registerTempTable(\"mph_origins\")\n",
    "avg_speeds = mph_origins.groupBy(\"Origin\").agg({\"Mph\":\"avg\"}).alias(\"Mph\")\n",
    "avg_speeds.show()"
   ]
  },
  {
   "cell_type": "code",
   "execution_count": 18,
   "id": "fe0c0664-4c1e-464b-9464-a14db1f50082",
   "metadata": {},
   "outputs": [
    {
     "data": {
      "text/plain": [
       "['Year',\n",
       " 'Quarter',\n",
       " 'Month',\n",
       " 'DayofMonth',\n",
       " 'DayOfWeek',\n",
       " 'FlightDate',\n",
       " 'Carrier',\n",
       " 'TailNum',\n",
       " 'FlightNum',\n",
       " 'Origin',\n",
       " 'OriginCityName',\n",
       " 'OriginState',\n",
       " 'Dest',\n",
       " 'DestCityName',\n",
       " 'DestState',\n",
       " 'DepTime',\n",
       " 'DepDelay',\n",
       " 'DepDelayMinutes',\n",
       " 'TaxiOut',\n",
       " 'TaxiIn',\n",
       " 'WheelsOff',\n",
       " 'WheelsOn',\n",
       " 'ArrTime',\n",
       " 'ArrDelay',\n",
       " 'ArrDelayMinutes',\n",
       " 'Cancelled',\n",
       " 'Diverted',\n",
       " 'ActualElapsedTime',\n",
       " 'AirTime',\n",
       " 'Flights',\n",
       " 'Distance',\n",
       " 'CarrierDelay',\n",
       " 'WeatherDelay',\n",
       " 'NASDelay',\n",
       " 'SecurityDelay',\n",
       " 'LateAircraftDelay',\n",
       " 'CRSDepTime',\n",
       " 'CRSArrTime']"
      ]
     },
     "execution_count": 18,
     "metadata": {},
     "output_type": "execute_result"
    }
   ],
   "source": [
    "on_time_df.columns"
   ]
  },
  {
   "cell_type": "code",
   "execution_count": 24,
   "id": "b68787d7-f1f9-4226-9b5c-d1f788ac1f7e",
   "metadata": {},
   "outputs": [
    {
     "name": "stderr",
     "output_type": "stream",
     "text": [
      "                                                                                \r"
     ]
    },
    {
     "name": "stdout",
     "output_type": "stream",
     "text": [
      "+------+----------------+--------------------+------------------+---------------+-----------------+--------------------+--------------------+-------------+----------------------+-----------------+------------+-------------+-----------------+-----------------+------------------+--------------------+----------------------+\n",
      "|Origin|   avg(DepDelay)|avg(DepDelayMinutes)|      avg(TaxiOut)|    avg(TaxiIn)|    avg(ArrDelay)|avg(ArrDelayMinutes)|      avg(Cancelled)|avg(Diverted)|avg(ActualElapsedTime)|     avg(AirTime)|avg(Flights)|avg(Distance)|avg(CarrierDelay)|avg(WeatherDelay)|     avg(NASDelay)|  avg(SecurityDelay)|avg(LateAircraftDelay)|\n",
      "+------+----------------+--------------------+------------------+---------------+-----------------+--------------------+--------------------+-------------+----------------------+-----------------+------------+-------------+-----------------+-----------------+------------------+--------------------+----------------------+\n",
      "|   BGM|9.42056074766355|  15.177570093457945|16.193146417445483|6.2398753894081|6.218068535825545|   16.32398753894081|0.009259259259259259|          0.0|      88.4423676012461|66.00934579439253|         1.0|        378.0|58.67307692307692|              0.0|10.711538461538462|0.057692307692307696|    26.903846153846153|\n",
      "+------+----------------+--------------------+------------------+---------------+-----------------+--------------------+--------------------+-------------+----------------------+-----------------+------------+-------------+-----------------+-----------------+------------------+--------------------+----------------------+\n",
      "only showing top 1 row\n",
      "\n"
     ]
    },
    {
     "name": "stderr",
     "output_type": "stream",
     "text": [
      "                                                                                \r"
     ]
    },
    {
     "name": "stdout",
     "output_type": "stream",
     "text": [
      "+------+-----------------+\n",
      "|Origin|     avg(AirTime)|\n",
      "+------+-----------------+\n",
      "|   BGM|66.00934579439253|\n",
      "+------+-----------------+\n",
      "only showing top 1 row\n",
      "\n"
     ]
    },
    {
     "name": "stderr",
     "output_type": "stream",
     "text": [
      "                                                                                \r"
     ]
    },
    {
     "name": "stdout",
     "output_type": "stream",
     "text": [
      "+------+-----+\n",
      "|Origin|count|\n",
      "+------+-----+\n",
      "|   BGM|  324|\n",
      "+------+-----+\n",
      "only showing top 1 row\n",
      "\n"
     ]
    },
    {
     "name": "stderr",
     "output_type": "stream",
     "text": [
      "                                                                                \r"
     ]
    },
    {
     "name": "stdout",
     "output_type": "stream",
     "text": [
      "+------+------------+\n",
      "|Origin|max(AirTime)|\n",
      "+------+------------+\n",
      "|   BGM|        91.0|\n",
      "+------+------------+\n",
      "only showing top 1 row\n",
      "\n"
     ]
    },
    {
     "name": "stderr",
     "output_type": "stream",
     "text": [
      "                                                                                \r"
     ]
    },
    {
     "name": "stdout",
     "output_type": "stream",
     "text": [
      "+------+-------------+--------------------+------------+-----------+-------------+--------------------+--------------+-------------+----------------------+------------+------------+-------------+-----------------+-----------------+-------------+------------------+----------------------+\n",
      "|Origin|max(DepDelay)|max(DepDelayMinutes)|max(TaxiOut)|max(TaxiIn)|max(ArrDelay)|max(ArrDelayMinutes)|max(Cancelled)|max(Diverted)|max(ActualElapsedTime)|max(AirTime)|max(Flights)|max(Distance)|max(CarrierDelay)|max(WeatherDelay)|max(NASDelay)|max(SecurityDelay)|max(LateAircraftDelay)|\n",
      "+------+-------------+--------------------+------------+-----------+-------------+--------------------+--------------+-------------+----------------------+------------+------------+-------------+-----------------+-----------------+-------------+------------------+----------------------+\n",
      "|   BGM|        993.0|                 993|       100.0|       30.0|       1005.0|              1005.0|             1|            0|                 163.0|        91.0|           1|        378.0|            993.0|              0.0|         74.0|               3.0|                 364.0|\n",
      "+------+-------------+--------------------+------------+-----------+-------------+--------------------+--------------+-------------+----------------------+------------+------------+-------------+-----------------+-----------------+-------------+------------------+----------------------+\n",
      "only showing top 1 row\n",
      "\n"
     ]
    },
    {
     "name": "stderr",
     "output_type": "stream",
     "text": [
      "                                                                                \r"
     ]
    },
    {
     "name": "stdout",
     "output_type": "stream",
     "text": [
      "+------+------------+\n",
      "|Origin|min(AirTime)|\n",
      "+------+------------+\n",
      "|   BGM|        56.0|\n",
      "+------+------------+\n",
      "only showing top 1 row\n",
      "\n"
     ]
    },
    {
     "name": "stderr",
     "output_type": "stream",
     "text": [
      "[Stage 105:>                                                        (0 + 4) / 4]\r"
     ]
    },
    {
     "name": "stdout",
     "output_type": "stream",
     "text": [
      "+------+------------+\n",
      "|Origin|sum(AirTime)|\n",
      "+------+------------+\n",
      "|   BGM|     21189.0|\n",
      "+------+------------+\n",
      "only showing top 1 row\n",
      "\n"
     ]
    },
    {
     "name": "stderr",
     "output_type": "stream",
     "text": [
      "                                                                                \r"
     ]
    }
   ],
   "source": [
    "on_time_df.groupBy(\"Origin\").avg().show(1)\n",
    "on_time_df.groupBy(\"Origin\").agg({\"AirTime\":\"mean\"}).show(1)\n",
    "on_time_df.groupBy(\"Origin\").count().show(1)\n",
    "on_time_df.groupBy(\"Origin\").agg({\"AirTime\":\"max\"}).show(1)\n",
    "on_time_df.groupBy(\"Origin\").max().show(1)\n",
    "on_time_df.groupBy(\"Origin\").agg({\"AirTime\":\"min\"}).show(1)\n",
    "on_time_df.groupBy(\"Origin\").agg({\"AirTime\":\"sum\"}).show(1)"
   ]
  },
  {
   "cell_type": "code",
   "execution_count": 26,
   "id": "73747be3-e067-4224-80b9-9f9e7ddf22ff",
   "metadata": {},
   "outputs": [
    {
     "data": {
      "text/plain": [
       "{'Origin': 'ATL',\n",
       " 'ABE': 96.59897959183674,\n",
       " 'ABQ': 172.1290684624018,\n",
       " 'ABY': 29.252365930599368,\n",
       " 'ACY': 90.23557692307692,\n",
       " 'AEX': 78.87462235649546,\n",
       " 'AGS': 29.076743280093496,\n",
       " 'ALB': 108.65161923454367,\n",
       " 'ANC': 426.3529411764706,\n",
       " 'ASE': 198.09574468085106,\n",
       " 'ATW': 105.11235955056179,\n",
       " 'AUS': 117.13764946048411,\n",
       " 'AVL': 33.510327455919395,\n",
       " 'AVP': 93.94900849858357,\n",
       " 'AZO': 86.6842105263158,\n",
       " 'BDL': 109.44785031847134,\n",
       " 'BHM': 28.848588537211292,\n",
       " 'BMI': 78.14963119072708,\n",
       " 'BNA': 38.880419382261266,\n",
       " 'BOS': 120.84425582313462,\n",
       " 'BQK': 41.63483735571878,\n",
       " 'BTR': 70.18819188191883,\n",
       " 'BTV': 119.43465045592706,\n",
       " 'BUF': 93.706432748538,\n",
       " 'BWI': 81.02321908071394,\n",
       " 'BZN': 220.15625,\n",
       " 'CAE': 33.79744210162461,\n",
       " 'CAK': 72.89645776566758,\n",
       " 'CHA': 24.022727272727273,\n",
       " 'CHO': 66.9613478691774,\n",
       " 'CHS': 42.49556255367879,\n",
       " 'CID': 101.25268817204301,\n",
       " 'CLE': 77.47449470644851,\n",
       " 'CLT': 41.581799591002046,\n",
       " 'CMH': 66.05350605463249,\n",
       " 'COS': 161.14626865671642,\n",
       " 'CRW': 57.365990202939116,\n",
       " 'CSG': 20.638461538461538,\n",
       " 'CVG': 58.29219530949635,\n",
       " 'DAB': 54.343106674984405,\n",
       " 'DAL': 107.51469163706813,\n",
       " 'DAY': 63.95127118644068,\n",
       " 'DCA': 77.81844338944038,\n",
       " 'DEN': 168.22181282240237,\n",
       " 'DFW': 111.94913462808826,\n",
       " 'DHN': 33.231617647058826,\n",
       " 'DSM': 105.68818272095332,\n",
       " 'DTW': 87.08653664078773,\n",
       " 'ECP': 41.33196534427724,\n",
       " 'EGE': 188.8181818181818,\n",
       " 'ELM': 87.84615384615384,\n",
       " 'ELP': 171.9362244897959,\n",
       " 'EVV': 56.99230769230769,\n",
       " 'EWN': 61.98867313915858,\n",
       " 'EWR': 101.52093279471171,\n",
       " 'EYW': 87.044921875,\n",
       " 'FAR': 151.3846153846154,\n",
       " 'FAY': 51.07640067911715,\n",
       " 'FCA': 242.04,\n",
       " 'FLL': 84.61670182404765,\n",
       " 'FNT': 89.2876447876448,\n",
       " 'FSD': 132.47368421052633,\n",
       " 'FSM': 88.34068965517241,\n",
       " 'FWA': 75.94344473007712,\n",
       " 'GJT': None,\n",
       " 'GNV': 48.145907473309606,\n",
       " 'GPT': 56.39078947368421,\n",
       " 'GRB': 107.31177829099308,\n",
       " 'GRK': 114.30221518987342,\n",
       " 'GRR': 87.19142857142857,\n",
       " 'GSO': 49.15724137931034,\n",
       " 'GSP': 30.053024645257654,\n",
       " 'GTR': 44.07607607607608,\n",
       " 'HDN': 191.74736842105264,\n",
       " 'HNL': 546.5,\n",
       " 'HOU': 105.17070383912248,\n",
       " 'HPN': 109.62556165751373,\n",
       " 'HSV': 31.34819769602378,\n",
       " 'IAD': 76.36581920903954,\n",
       " 'IAH': 102.31285988483685,\n",
       " 'ICT': 111.22064393939394,\n",
       " 'ILM': 55.823125357756155,\n",
       " 'IND': 65.04984348663616,\n",
       " 'JAC': 212.4757281553398,\n",
       " 'JAN': 54.522334004024145,\n",
       " 'JAX': 43.31659192825112,\n",
       " 'JFK': 104.3519768563163,\n",
       " 'LAN': 90.23076923076923,\n",
       " 'LAS': 232.89032258064515,\n",
       " 'LAX': 256.5899419729207,\n",
       " 'LEX': 48.87252924566357,\n",
       " 'LFT': 78.40828856485035,\n",
       " 'LGA': 102.68517445230091,\n",
       " 'LIT': 69.1775396085741,\n",
       " 'LNK': 119.29885057471265,\n",
       " 'MBS': 98.26666666666667,\n",
       " 'MCI': 103.08773784355179,\n",
       " 'MCO': 60.877189043556356,\n",
       " 'MDT': 84.41851494696239,\n",
       " 'MDW': 88.65857142857143,\n",
       " 'MEM': 56.11916026020106,\n",
       " 'MGM': 31.892723492723494,\n",
       " 'MHT': 119.974930362117,\n",
       " 'MIA': 85.72141706924316,\n",
       " 'MKE': 94.42390670553935,\n",
       " 'MLB': 64.01593901593901,\n",
       " 'MLI': 90.73167848699764,\n",
       " 'MLU': 71.84965304548959,\n",
       " 'MOB': 52.496899545266636,\n",
       " 'MSN': 98.24233128834356,\n",
       " 'MSO': 240.26666666666668,\n",
       " 'MSP': 129.69842810013586,\n",
       " 'MSY': 67.13189171343677,\n",
       " 'MTJ': 195.62857142857143,\n",
       " 'MYR': 47.62226512226512,\n",
       " 'OAJ': 58.33685064935065,\n",
       " 'OAK': 295.140625,\n",
       " 'OKC': 108.98932219127205,\n",
       " 'OMA': 118.01823361823362,\n",
       " 'ONT': 252.33333333333334,\n",
       " 'ORD': 93.76928500916655,\n",
       " 'ORF': 68.94117647058823,\n",
       " 'PBI': 80.84571553802323,\n",
       " 'PDX': 283.55982905982904,\n",
       " 'PHF': 72.09481481481481,\n",
       " 'PHL': 93.60806835691274,\n",
       " 'PHX': 216.42130445731553,\n",
       " 'PIA': 85.57802874743327,\n",
       " 'PIT': 72.58607132827858,\n",
       " 'PNS': 47.029735234215885,\n",
       " 'PVD': 114.56133464180569,\n",
       " 'PWM': 126.81884057971014,\n",
       " 'RAP': 163.13333333333333,\n",
       " 'RDU': 54.620066109274745,\n",
       " 'RIC': 65.85651612903226,\n",
       " 'ROA': 57.06195244055069,\n",
       " 'ROC': 96.48102466793169,\n",
       " 'RST': 118.55202312138728,\n",
       " 'RSW': 74.23462897526501,\n",
       " 'SAN': 247.43282236248874,\n",
       " 'SAT': 124.2874558870709,\n",
       " 'SAV': 37.248983149331785,\n",
       " 'SBN': 85.35600335852224,\n",
       " 'SCE': 87.58974358974359,\n",
       " 'SDF': 53.38678295873868,\n",
       " 'SEA': 289.20415814587597,\n",
       " 'SFO': 279.49426976197475,\n",
       " 'SGF': 87.09448818897638,\n",
       " 'SHV': 84.34255898366607,\n",
       " 'SJC': 277.67333333333335,\n",
       " 'SJU': 184.041015625,\n",
       " 'SLC': 213.2850971922246,\n",
       " 'SMF': 272.2068965517241,\n",
       " 'SNA': 251.88867745004757,\n",
       " 'SRQ': 65.03754752851711,\n",
       " 'STL': 75.68986187125358,\n",
       " 'STT': 189.22590361445782,\n",
       " 'STX': 196.3783783783784,\n",
       " 'SYR': 101.62786259541984,\n",
       " 'TLH': 39.01092179991262,\n",
       " 'TPA': 60.845393024466425,\n",
       " 'TRI': 39.92660550458716,\n",
       " 'TTN': 95.16193181818181,\n",
       " 'TUL': 97.27774408732566,\n",
       " 'TUS': 204.35355029585799,\n",
       " 'TVC': 103.75757575757575,\n",
       " 'TYS': 30.09027777777778,\n",
       " 'VLD': 37.780971258671954,\n",
       " 'VPS': 43.24717691342534,\n",
       " 'XNA': 89.38354577056779}"
      ]
     },
     "execution_count": 26,
     "metadata": {},
     "output_type": "execute_result"
    }
   ],
   "source": [
    "on_time_df.filter(\"Origin == 'ATL'\").groupBy(\"Origin\").pivot(\"Dest\").avg(\"AirTime\").rdd.map(lambda x:x.asDict()).collect()[0]"
   ]
  },
  {
   "cell_type": "code",
   "execution_count": 27,
   "id": "701cd436-e2a4-4140-8977-f0075a590aef",
   "metadata": {},
   "outputs": [
    {
     "name": "stdout",
     "output_type": "stream",
     "text": [
      "+--------+------------------+\n",
      "|Distance|               Mph|\n",
      "+--------+------------------+\n",
      "|   432.0| 439.3220338983051|\n",
      "|   432.0| 336.6233766233766|\n",
      "|   802.0| 373.0232558139535|\n",
      "|   731.0|471.61290322580646|\n",
      "|   769.0| 415.6756756756757|\n",
      "|   769.0|427.22222222222223|\n",
      "|  1047.0| 430.2739726027398|\n",
      "|   731.0| 359.5081967213115|\n",
      "|   731.0|466.59574468085106|\n",
      "|   731.0|  481.978021978022|\n",
      "+--------+------------------+\n",
      "only showing top 10 rows\n",
      "\n"
     ]
    }
   ],
   "source": [
    "mph = spark.sql(\"\"\"\n",
    "SELECT Distance, (Distance/(AirTime/60)) AS Mph\n",
    "FROM on_time_performance\n",
    "WHERE AirTime IS NOT NULL\n",
    "\"\"\")\n",
    "mph.show(10)"
   ]
  },
  {
   "cell_type": "code",
   "execution_count": 30,
   "id": "769d8a15-4e64-493e-ac65-bf37b324d43e",
   "metadata": {},
   "outputs": [
    {
     "name": "stderr",
     "output_type": "stream",
     "text": [
      "                                                                                \r"
     ]
    },
    {
     "data": {
      "text/plain": [
       "[432.0, 432.0, 802.0, 731.0, 769.0, 769.0, 1047.0, 731.0, 731.0, 731.0]"
      ]
     },
     "execution_count": 30,
     "metadata": {},
     "output_type": "execute_result"
    }
   ],
   "source": [
    "distance = mph.select(\"Distance\").rdd.flatMap(lambda x:x)\n",
    "distance = distance.collect()\n",
    "distance[0:10]"
   ]
  },
  {
   "cell_type": "code",
   "execution_count": 32,
   "id": "0fd07078-a9ff-48f9-883c-147c2190fa16",
   "metadata": {},
   "outputs": [
    {
     "name": "stderr",
     "output_type": "stream",
     "text": [
      "                                                                                \r"
     ]
    },
    {
     "data": {
      "text/plain": [
       "[439.3220338983051,\n",
       " 336.6233766233766,\n",
       " 373.0232558139535,\n",
       " 471.61290322580646,\n",
       " 415.6756756756757,\n",
       " 427.22222222222223,\n",
       " 430.2739726027398,\n",
       " 359.5081967213115,\n",
       " 466.59574468085106,\n",
       " 481.978021978022]"
      ]
     },
     "execution_count": 32,
     "metadata": {},
     "output_type": "execute_result"
    }
   ],
   "source": [
    "speed = mph.select(\"Mph\").rdd.flatMap(lambda x:x)\n",
    "speed = speed.collect()\n",
    "speed[0:10]"
   ]
  },
  {
   "cell_type": "code",
   "execution_count": 34,
   "id": "56a3c214-70ed-423c-ad79-45207eb30a8b",
   "metadata": {},
   "outputs": [
    {
     "name": "stdout",
     "output_type": "stream",
     "text": [
      "Total distance: 5714008\n",
      "Total speeds: 5714008\n"
     ]
    }
   ],
   "source": [
    "print(f\"Total distance: {len(distance)}\")\n",
    "print(f\"Total speeds: {len(speed)}\")"
   ]
  },
  {
   "cell_type": "code",
   "execution_count": 35,
   "id": "5b11b7db-b52c-4216-b255-00e6eaaaa3b6",
   "metadata": {},
   "outputs": [
    {
     "name": "stderr",
     "output_type": "stream",
     "text": [
      "                                                                                \r"
     ]
    },
    {
     "data": {
      "text/plain": [
       "5923"
      ]
     },
     "execution_count": 35,
     "metadata": {},
     "output_type": "execute_result"
    }
   ],
   "source": [
    "sample = mph.sample(False, 0.001)\n",
    "sample.count()"
   ]
  },
  {
   "cell_type": "code",
   "execution_count": 40,
   "id": "5fc48f1d-d077-49e3-bf8b-988b9cacb01b",
   "metadata": {},
   "outputs": [
    {
     "name": "stdout",
     "output_type": "stream",
     "text": [
      "5923 x 5923 records\n"
     ]
    }
   ],
   "source": [
    "speed = sample.select(\"Mph\").rdd.flatMap(lambda x:x).collect()\n",
    "distance = sample.select(\"Distance\").rdd.flatMap(lambda x:x).collect()\n",
    "print(f\"{len(speed)} x {len(distance)} records\")"
   ]
  },
  {
   "cell_type": "code",
   "execution_count": 41,
   "id": "83b7b048-8141-40a3-8f60-db6df680e729",
   "metadata": {},
   "outputs": [
    {
     "data": {
      "image/png": "[encoded data removed]",
      "text/plain": [
       "<Figure size 1296x864 with 1 Axes>"
      ]
     },
     "metadata": {
      "needs_background": "light"
     },
     "output_type": "display_data"
    }
   ],
   "source": [
    "import numpy as pd\n",
    "import matplotlib.pyplot as plt\n",
    "plt.rcParams[\"figure.figsize\"] = (18, 12)\n",
    "plt.scatter(distance, speed, alpha=0.5)\n",
    "plt.title(\"Distance x Speed\")\n",
    "plt.xlabel(\"Distance\")\n",
    "plt.ylabel(\"Speed\")\n",
    "plt.show()"
   ]
  },
  {
   "cell_type": "code",
   "execution_count": null,
   "id": "df71699a-68a4-4854-b3ec-cc7ed456502a",
   "metadata": {},
   "outputs": [],
   "source": []
  }
 ],
 "metadata": {
  "kernelspec": {
   "display_name": "Python 3 (ipykernel)",
   "language": "python",
   "name": "python3"
  },
  "language_info": {
   "codemirror_mode": {
    "name": "ipython",
    "version": 3
   },
   "file_extension": ".py",
   "mimetype": "text/x-python",
   "name": "python",
   "nbconvert_exporter": "python",
   "pygments_lexer": "ipython3",
   "version": "3.9.7"
  }
 },
 "nbformat": 4,
 "nbformat_minor": 5
}
