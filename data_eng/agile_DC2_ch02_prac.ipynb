{
 "cells": [
  {
   "cell_type": "markdown",
   "id": "3f8ab4f4-6da6-4df7-9f0a-c1607360e6c6",
   "metadata": {},
   "source": [
    "#### References. https://github.com/rjurney/Agile_Data_Code_2"
   ]
  },
  {
   "cell_type": "markdown",
   "id": "2c0b7eee-f614-45cd-9f9c-516820b1f396",
   "metadata": {},
   "source": [
    "Intialize PySpark"
   ]
  },
  {
   "cell_type": "code",
   "execution_count": 49,
   "id": "1d6c45a1-209d-45fd-a00a-e4b54a7b6724",
   "metadata": {},
   "outputs": [
    {
     "name": "stdout",
     "output_type": "stream",
     "text": [
      "\n",
      "PySpark initialized...\n"
     ]
    }
   ],
   "source": [
    "from pyspark.sql import SparkSession\n",
    "\n",
    "\n",
    "# Initialize PySpark with MongoDB support\n",
    "APP_NAME = \"Introducing PySpark\"\n",
    "spark = (\n",
    "    SparkSession.builder.appName(APP_NAME)\n",
    "    # Load support for MongoDB and Elasticsearch\n",
    "    .config(\"spark.jars.packages\", \"org.mongodb.spark:mongo-spark-connector_2.12:3.0.1,org.elasticsearch:elasticsearch-spark-30_2.12:7.14.2\")\n",
    "    # Add Configuration for MongopDB\n",
    "    .config(\"spark.mongodb.input.uri\", \"mongodb://mongo:27017/test.coll\")\n",
    "    .config(\"spark.mongodb.output.uri\", \"mongodb://mongo:27017/test.coll\")\n",
    "\n",
    "    .getOrCreate()\n",
    ")\n",
    "sc = spark.sparkContext\n",
    "sc.setLogLevel(\"ERROR\")\n",
    "\n",
    "print(\"\\nPySpark initialized...\")"
   ]
  },
  {
   "cell_type": "code",
   "execution_count": 50,
   "id": "301f62de-294c-40f5-ad76-44ae2e8c8782",
   "metadata": {},
   "outputs": [
    {
     "name": "stderr",
     "output_type": "stream",
     "text": [
      "/Users/kelly/opt/anaconda3/lib/python3.9/site-packages/pyspark/sql/dataframe.py:138: FutureWarning: Deprecated in 2.0, use createOrReplaceTempView instead.\n",
      "  warnings.warn(\n"
     ]
    },
    {
     "data": {
      "text/plain": [
       "['Year',\n",
       " 'Quarter',\n",
       " 'Month',\n",
       " 'DayofMonth',\n",
       " 'DayOfWeek',\n",
       " 'FlightDate',\n",
       " 'Carrier',\n",
       " 'TailNum',\n",
       " 'FlightNum',\n",
       " 'Origin',\n",
       " 'OriginCityName',\n",
       " 'OriginState',\n",
       " 'Dest',\n",
       " 'DestCityName',\n",
       " 'DestState',\n",
       " 'DepTime',\n",
       " 'DepDelay',\n",
       " 'DepDelayMinutes',\n",
       " 'TaxiOut',\n",
       " 'TaxiIn',\n",
       " 'WheelsOff',\n",
       " 'WheelsOn',\n",
       " 'ArrTime',\n",
       " 'ArrDelay',\n",
       " 'ArrDelayMinutes',\n",
       " 'Cancelled',\n",
       " 'Diverted',\n",
       " 'ActualElapsedTime',\n",
       " 'AirTime',\n",
       " 'Flights',\n",
       " 'Distance',\n",
       " 'CarrierDelay',\n",
       " 'WeatherDelay',\n",
       " 'NASDelay',\n",
       " 'SecurityDelay',\n",
       " 'LateAircraftDelay',\n",
       " 'CRSDepTime',\n",
       " 'CRSArrTime']"
      ]
     },
     "execution_count": 50,
     "metadata": {},
     "output_type": "execute_result"
    }
   ],
   "source": [
    "# Load the parquet file containing flight delay records\n",
    "on_time_df = spark.read.parquet('data/on_time_performance.parquet')\n",
    "\n",
    "# Register the data for Spark SQL\n",
    "on_time_df.registerTempTable(\"on_time_performance\")\n",
    "\n",
    "# Check out the columns\n",
    "on_time_df.columns"
   ]
  },
  {
   "cell_type": "code",
   "execution_count": 51,
   "id": "ad28f61e-9b68-4139-95ef-9808a3af9839",
   "metadata": {},
   "outputs": [
    {
     "name": "stdout",
     "output_type": "stream",
     "text": [
      "+----------+-------+------+----+-------+--------+--------+\n",
      "|FlightDate|TailNum|Origin|Dest|Carrier|DepDelay|ArrDelay|\n",
      "+----------+-------+------+----+-------+--------+--------+\n",
      "|2015-01-01| N146PQ|   CLE| DTW|     EV|    -2.0|    -8.0|\n",
      "|2015-01-10| N75428|   ORD| MCO|     UA|     7.0|    -6.0|\n",
      "|2015-01-10| N8625A|   MDW| CLE|     WN|    59.0|    48.0|\n",
      "|2015-01-11| N980DL|   ATL| CAK|     DL|    15.0|    13.0|\n",
      "|2015-01-11| N729SW|   TPA| BWI|     WN|    55.0|    51.0|\n",
      "|2015-01-11| N903WN|   SAT| PHX|     WN|     8.0|     5.0|\n",
      "|2015-01-13| N761ND|   LGA| MCI|     EV|   157.0|   135.0|\n",
      "|2015-01-13| N531NK|   STT| FLL|     NK|    -7.0|   -14.0|\n",
      "|2015-01-13| N36447|   FLL| EWR|     UA|   -12.0|   -25.0|\n",
      "|2015-01-14| N795AA|   JFK| LAX|     AA|    -8.0|   -55.0|\n",
      "+----------+-------+------+----+-------+--------+--------+\n",
      "only showing top 10 rows\n",
      "\n",
      "+----------+-------+------+----+-------+--------+--------+\n",
      "|FlightDate|TailNum|Origin|Dest|Carrier|DepDelay|ArrDelay|\n",
      "+----------+-------+------+----+-------+--------+--------+\n",
      "|2015-01-01| N023AA|   IAH| MIA|     AA|    90.0|    89.0|\n",
      "|2015-01-01| N355AA|   LAX| MIA|     AA|     2.0|    -6.0|\n",
      "|2015-01-01| N357AA|   DFW| MIA|     AA|    64.0|    57.0|\n",
      "|2015-01-01| N367AA|   DFW| ORD|     AA|   309.0|   287.0|\n",
      "|2015-01-01| N372AA|   DFW| MIA|     AA|   121.0|   112.0|\n",
      "|2015-01-01| N383AA|   OGG| DFW|     AA|    21.0|    24.0|\n",
      "|2015-01-01| N397AA|   MCO| MIA|     AA|    -8.0|    -1.0|\n",
      "|2015-01-01| N3ACAA|   JFK| DFW|     AA|     2.0|    -1.0|\n",
      "|2015-01-01| N3AHAA|   RDU| MIA|     AA|    -8.0|   -12.0|\n",
      "|2015-01-01| N3BAAA|   DFW| SNA|     AA|     0.0|    -4.0|\n",
      "+----------+-------+------+----+-------+--------+--------+\n",
      "only showing top 10 rows\n",
      "\n"
     ]
    }
   ],
   "source": [
    "# select field and get result\n",
    "trimmed_on_time = on_time_df.select(\"FlightDate\", \n",
    "                                           \"TailNum\", \n",
    "                                           \"Origin\", \n",
    "                                           \"Dest\",\n",
    "                                           \"Carrier\",\n",
    "                                           \"DepDelay\",\n",
    "                                           \"ArrDelay\")\n",
    "trimmed_on_time.sample(False, 0.0001).show(10)\n",
    "sampled_ten_percent = trimmed_on_time.sample(False, 0.1)\n",
    "sampled_ten_percent.show(10)\n",
    "                                           "
   ]
  },
  {
   "cell_type": "code",
   "execution_count": 52,
   "id": "e9c8d86d-9de9-4d23-bc96-ceae83b4b425",
   "metadata": {},
   "outputs": [
    {
     "name": "stdout",
     "output_type": "stream",
     "text": [
      "+-------+--------+\n",
      "|AirTime|Distance|\n",
      "+-------+--------+\n",
      "|   59.0|   432.0|\n",
      "|   77.0|   432.0|\n",
      "|  129.0|   802.0|\n",
      "|   93.0|   731.0|\n",
      "|  111.0|   769.0|\n",
      "|  108.0|   769.0|\n",
      "|  146.0|  1047.0|\n",
      "|   null|  1007.0|\n",
      "|   null|  1007.0|\n",
      "|   null|   802.0|\n",
      "+-------+--------+\n",
      "only showing top 10 rows\n",
      "\n"
     ]
    }
   ],
   "source": [
    "fd = on_time_df.select(\"AirTime\", \"Distance\")\n",
    "fd.show(10)"
   ]
  },
  {
   "cell_type": "code",
   "execution_count": 53,
   "id": "6a0a9d11-40b9-4008-a88d-e351874131ca",
   "metadata": {},
   "outputs": [
    {
     "name": "stdout",
     "output_type": "stream",
     "text": [
      "+------------------+--------+\n",
      "|             Hours|Distance|\n",
      "+------------------+--------+\n",
      "|0.9833333333333333|   432.0|\n",
      "|1.2833333333333334|   432.0|\n",
      "|              2.15|   802.0|\n",
      "|              1.55|   731.0|\n",
      "|              1.85|   769.0|\n",
      "+------------------+--------+\n",
      "only showing top 5 rows\n",
      "\n"
     ]
    }
   ],
   "source": [
    "hourly_fd = fd.select((fd.AirTime/60).alias('Hours'), \"Distance\")\n",
    "hourly_fd.show(5)"
   ]
  },
  {
   "cell_type": "code",
   "execution_count": 54,
   "id": "6b7a313b-2ced-4c38-a86d-6c9b22ca91fb",
   "metadata": {},
   "outputs": [
    {
     "name": "stdout",
     "output_type": "stream",
     "text": [
      "+------------------+\n",
      "|               Mph|\n",
      "+------------------+\n",
      "| 439.3220338983051|\n",
      "| 336.6233766233766|\n",
      "| 373.0232558139535|\n",
      "|471.61290322580646|\n",
      "| 415.6756756756757|\n",
      "|427.22222222222223|\n",
      "| 430.2739726027398|\n",
      "|              null|\n",
      "|              null|\n",
      "|              null|\n",
      "+------------------+\n",
      "only showing top 10 rows\n",
      "\n"
     ]
    }
   ],
   "source": [
    "miles_per_hour = hourly_fd.select((hourly_fd.Distance/hourly_fd.Hours).alias('Mph'))\n",
    "miles_per_hour.show(10)          "
   ]
  },
  {
   "cell_type": "code",
   "execution_count": 55,
   "id": "3ae718cb-2044-4392-aa55-b884f1f3660e",
   "metadata": {},
   "outputs": [
    {
     "name": "stdout",
     "output_type": "stream",
     "text": [
      "+-------+------------------+--------+\n",
      "|AirTime|             Hours|Distance|\n",
      "+-------+------------------+--------+\n",
      "|   59.0|0.9833333333333333|   432.0|\n",
      "|   77.0|1.2833333333333334|   432.0|\n",
      "|  129.0|              2.15|   802.0|\n",
      "|   93.0|              1.55|   731.0|\n",
      "|  111.0|              1.85|   769.0|\n",
      "|  108.0|               1.8|   769.0|\n",
      "|  146.0| 2.433333333333333|  1047.0|\n",
      "|   null|              null|  1007.0|\n",
      "|   null|              null|  1007.0|\n",
      "|   null|              null|   802.0|\n",
      "|   null|              null|   731.0|\n",
      "|  122.0| 2.033333333333333|   731.0|\n",
      "|   94.0|1.5666666666666667|   731.0|\n",
      "|   91.0|1.5166666666666666|   731.0|\n",
      "|  115.0|1.9166666666666667|   731.0|\n",
      "|   89.0|1.4833333333333334|   731.0|\n",
      "|  106.0|1.7666666666666666|   721.0|\n",
      "|   94.0|1.5666666666666667|   748.0|\n",
      "|   null|              null|   733.0|\n",
      "|   null|              null|   733.0|\n",
      "+-------+------------------+--------+\n",
      "only showing top 20 rows\n",
      "\n"
     ]
    }
   ],
   "source": [
    "fd.select(\"AirTime\",(fd.AirTime/60).alias('Hours'), \"Distance\").show()"
   ]
  },
  {
   "cell_type": "markdown",
   "id": "07bf31cf-cb4f-495e-a3d7-5836486f02d3",
   "metadata": {},
   "source": [
    "null값 처리"
   ]
  },
  {
   "cell_type": "code",
   "execution_count": 56,
   "id": "852e86d1-decb-406f-a118-73ef312228b7",
   "metadata": {},
   "outputs": [
    {
     "name": "stdout",
     "output_type": "stream",
     "text": [
      "+------------------+\n",
      "|               Mph|\n",
      "+------------------+\n",
      "| 439.3220338983051|\n",
      "| 336.6233766233766|\n",
      "| 373.0232558139535|\n",
      "|471.61290322580646|\n",
      "| 415.6756756756757|\n",
      "|427.22222222222223|\n",
      "| 430.2739726027398|\n",
      "| 359.5081967213115|\n",
      "|466.59574468085106|\n",
      "|  481.978021978022|\n",
      "+------------------+\n",
      "only showing top 10 rows\n",
      "\n"
     ]
    }
   ],
   "source": [
    "fd = on_time_df.select(\"AirTime\", \"Distance\")\n",
    "filled_fd = fd.filter(fd.AirTime.isNotNull())\n",
    "hourly_fd = filled_fd.select(\"AirTime\", (filled_fd.AirTime/60).alias('Hours'),\"Distance\")\n",
    "mph = hourly_fd.select((hourly_fd.Distance/hourly_fd.Hours).alias('Mph'))\n",
    "mph.show(10)"
   ]
  },
  {
   "cell_type": "code",
   "execution_count": 57,
   "id": "32501b80-9eac-4802-81d5-98fa8ff52cf5",
   "metadata": {},
   "outputs": [
    {
     "name": "stdout",
     "output_type": "stream",
     "text": [
      "+------------------+\n",
      "|          avg(Mph)|\n",
      "+------------------+\n",
      "|408.72370268222824|\n",
      "+------------------+\n",
      "\n"
     ]
    }
   ],
   "source": [
    "from pyspark.sql.functions import avg\n",
    "mph.select(avg(mph.Mph)).show()"
   ]
  },
  {
   "cell_type": "code",
   "execution_count": 58,
   "id": "51db6e73-92c7-46ae-afc7-c855c06c9fc7",
   "metadata": {},
   "outputs": [
    {
     "name": "stderr",
     "output_type": "stream",
     "text": [
      "                                                                                \r"
     ]
    },
    {
     "name": "stdout",
     "output_type": "stream",
     "text": [
      "+-----------------+\n",
      "|              Mph|\n",
      "+-----------------+\n",
      "|265.7142857142857|\n",
      "|265.7142857142857|\n",
      "|265.7142857142857|\n",
      "|265.7142857142857|\n",
      "|265.7142857142857|\n",
      "|265.7142857142857|\n",
      "|265.7142857142857|\n",
      "|            232.5|\n",
      "|            232.5|\n",
      "|            232.5|\n",
      "+-----------------+\n",
      "only showing top 10 rows\n",
      "\n"
     ]
    },
    {
     "name": "stderr",
     "output_type": "stream",
     "text": [
      "[Stage 211:>                                                        (0 + 4) / 4]\r"
     ]
    },
    {
     "name": "stdout",
     "output_type": "stream",
     "text": [
      "+-----------------+\n",
      "|         avg(Mph)|\n",
      "+-----------------+\n",
      "|408.7237026822374|\n",
      "+-----------------+\n",
      "\n"
     ]
    },
    {
     "name": "stderr",
     "output_type": "stream",
     "text": [
      "                                                                                \r"
     ]
    }
   ],
   "source": [
    "on_time_df.registerTempTable(\"on_time_performance\")\n",
    "mph = spark.sql(\"\"\"\n",
    "SELECT (Distance/(AirTime/60)) AS Mph\n",
    "FROM on_time_performance\n",
    "WHERE AirTime IS NOT NULL\n",
    "ORDER BY AirTime\n",
    "\"\"\")\n",
    "mph.show(10)\n",
    "mph.registerTempTable(\"mph\")\n",
    "spark.sql(\"SELECT AVG(Mph) from mph\").show()"
   ]
  },
  {
   "cell_type": "markdown",
   "id": "0b4cb8c8-13ad-431d-a46d-7c5abd7a57ba",
   "metadata": {},
   "source": [
    "Histogram"
   ]
  },
  {
   "cell_type": "code",
   "execution_count": 59,
   "id": "3035c66b-8347-4371-8864-50d29b1b8884",
   "metadata": {},
   "outputs": [
    {
     "name": "stderr",
     "output_type": "stream",
     "text": [
      "                                                                                \r"
     ]
    },
    {
     "data": {
      "text/plain": [
       "([32.34375,\n",
       "  107.89626024590164,\n",
       "  183.4487704918033,\n",
       "  259.0012807377049,\n",
       "  334.5537909836066,\n",
       "  410.10630122950823,\n",
       "  485.65881147540983,\n",
       "  561.2113217213115,\n",
       "  636.7638319672132,\n",
       "  712.3163422131148,\n",
       "  787.8688524590165],\n",
       " [174, 14255, 148314, 643901, 1861699, 2357002, 664609, 23997, 32, 25])"
      ]
     },
     "execution_count": 59,
     "metadata": {},
     "output_type": "execute_result"
    }
   ],
   "source": [
    "mph.select(\"Mph\").rdd.flatMap(lambda x:x).histogram(10)"
   ]
  },
  {
   "cell_type": "raw",
   "id": "a6668b71-662c-4fdf-841e-e94761653d3b",
   "metadata": {},
   "source": [
    "### Visualization"
   ]
  },
  {
   "cell_type": "code",
   "execution_count": 60,
   "id": "00870fdf-bdda-45f8-be5d-54fb63554f5c",
   "metadata": {},
   "outputs": [
    {
     "name": "stderr",
     "output_type": "stream",
     "text": [
      "                                                                                \r"
     ]
    },
    {
     "data": {
      "text/plain": [
       "<BarContainer object of 10 artists>"
      ]
     },
     "execution_count": 60,
     "metadata": {},
     "output_type": "execute_result"
    },
    {
     "data": {
      "image/png": "[encoded data removed]",
      "text/plain": [
       "<Figure size 1296x864 with 1 Axes>"
      ]
     },
     "metadata": {
      "needs_background": "light"
     },
     "output_type": "display_data"
    }
   ],
   "source": [
    "import numpy as np\n",
    "import matplotlib.mlab as mlab\n",
    "import matplotlib.pyplot as plt\n",
    "\n",
    "def draw_histogram(rdd_histogram_data):\n",
    "    height=np.array(rdd_histogram_data[1])\n",
    "    full_bins = rdd_histogram_data[0]\n",
    "    mid_point_bins = full_bins[:-1]\n",
    "    widths = [abs(i-j) for i, j in zip(full_bins[:-1], full_bins[1:])]\n",
    "    bar = plt.bar(mid_point_bins, height, width=widths, color='b')\n",
    "    return bar\n",
    "\n",
    "departure_delay_histogram = mph.select(\"Mph\").rdd.flatMap(lambda x:x).histogram(10)\n",
    "draw_histogram(departure_delay_histogram)"
   ]
  },
  {
   "cell_type": "code",
   "execution_count": 61,
   "id": "64f5b404-c034-4dfc-997c-980b47a809d1",
   "metadata": {},
   "outputs": [
    {
     "name": "stderr",
     "output_type": "stream",
     "text": [
      "                                                                                \r"
     ]
    },
    {
     "data": {
      "text/plain": [
       "<BarContainer object of 20 artists>"
      ]
     },
     "execution_count": 61,
     "metadata": {},
     "output_type": "execute_result"
    },
    {
     "data": {
      "image/png": "[encoded data removed]",
      "text/plain": [
       "<Figure size 1296x864 with 1 Axes>"
      ]
     },
     "metadata": {
      "needs_background": "light"
     },
     "output_type": "display_data"
    }
   ],
   "source": [
    "departure_delay_histogram = mph.select(\"Mph\").rdd.flatMap(lambda x:x).histogram(20)\n",
    "draw_histogram(departure_delay_histogram)"
   ]
  },
  {
   "cell_type": "code",
   "execution_count": 62,
   "id": "a4c00871-d581-4c29-8d03-861a47ac3133",
   "metadata": {},
   "outputs": [
    {
     "name": "stderr",
     "output_type": "stream",
     "text": [
      "[Stage 233:============================>                            (2 + 2) / 4]\r"
     ]
    },
    {
     "name": "stdout",
     "output_type": "stream",
     "text": [
      "Total Airplanes: 4897\n"
     ]
    },
    {
     "name": "stderr",
     "output_type": "stream",
     "text": [
      "                                                                                \r"
     ]
    }
   ],
   "source": [
    "tail_numbers = on_time_df.rdd.map(lambda x:x.TailNum).filter(lambda x:x!='' and x is not None)\n",
    "unique_tail_numbers = tail_numbers.distinct()\n",
    "airplane_count = unique_tail_numbers.count()\n",
    "print(f\"Total Airplanes: {airplane_count}\")"
   ]
  },
  {
   "cell_type": "code",
   "execution_count": 63,
   "id": "86e5705a-e3cd-44d7-bd10-42fdeb5fb675",
   "metadata": {},
   "outputs": [
    {
     "name": "stderr",
     "output_type": "stream",
     "text": [
      "[Stage 235:>                                                        (0 + 4) / 4]\r"
     ]
    },
    {
     "name": "stdout",
     "output_type": "stream",
     "text": [
      "+------+------------------+\n",
      "|Origin|          avg(Mph)|\n",
      "+------+------------------+\n",
      "|   BGM| 346.1853538898441|\n",
      "|   PSE|452.61176800000527|\n",
      "|   INL|286.26851316932084|\n",
      "|   MSY|417.88066171277154|\n",
      "|   PPG| 504.2422916767315|\n",
      "|   GEG|402.28558929054554|\n",
      "|   SNA|  417.168769940005|\n",
      "|   BUR| 381.5411358971755|\n",
      "|   GRB| 304.8341806425377|\n",
      "|   GTF|425.33903080533736|\n",
      "|   IDA|352.21033421102845|\n",
      "|   GRR|345.74023303402765|\n",
      "|   JLN| 333.8980691779108|\n",
      "|   PSG|218.63993665683003|\n",
      "|   EUG| 408.3697364617108|\n",
      "|   PVD| 377.2849336122921|\n",
      "|   GSO|363.15998763789804|\n",
      "|   MYR|392.41545245530193|\n",
      "|   OAK| 411.1720814918371|\n",
      "|   MSN| 328.7109364653059|\n",
      "+------+------------------+\n",
      "only showing top 20 rows\n",
      "\n"
     ]
    },
    {
     "name": "stderr",
     "output_type": "stream",
     "text": [
      "                                                                                \r"
     ]
    }
   ],
   "source": [
    "origin_hour_dist = on_time_df.filter(on_time_df.AirTime.isNotNull()).select(\"Origin\", (on_time_df.AirTime/60).alias(\"Hours\"), \"Distance\")\n",
    "mph_origins = origin_hour_dist.select(\"Origin\", (origin_hour_dist.Distance/origin_hour_dist.Hours).alias(\"Mph\"))\n",
    "mph_origins.registerTempTable(\"mph_origins\")\n",
    "avg_speeds = mph_origins.groupBy(\"Origin\").agg({\"Mph\":\"avg\"}).alias(\"Mph\")\n",
    "avg_speeds.show()"
   ]
  },
  {
   "cell_type": "code",
   "execution_count": 64,
   "id": "fe0c0664-4c1e-464b-9464-a14db1f50082",
   "metadata": {},
   "outputs": [
    {
     "data": {
      "text/plain": [
       "['Year',\n",
       " 'Quarter',\n",
       " 'Month',\n",
       " 'DayofMonth',\n",
       " 'DayOfWeek',\n",
       " 'FlightDate',\n",
       " 'Carrier',\n",
       " 'TailNum',\n",
       " 'FlightNum',\n",
       " 'Origin',\n",
       " 'OriginCityName',\n",
       " 'OriginState',\n",
       " 'Dest',\n",
       " 'DestCityName',\n",
       " 'DestState',\n",
       " 'DepTime',\n",
       " 'DepDelay',\n",
       " 'DepDelayMinutes',\n",
       " 'TaxiOut',\n",
       " 'TaxiIn',\n",
       " 'WheelsOff',\n",
       " 'WheelsOn',\n",
       " 'ArrTime',\n",
       " 'ArrDelay',\n",
       " 'ArrDelayMinutes',\n",
       " 'Cancelled',\n",
       " 'Diverted',\n",
       " 'ActualElapsedTime',\n",
       " 'AirTime',\n",
       " 'Flights',\n",
       " 'Distance',\n",
       " 'CarrierDelay',\n",
       " 'WeatherDelay',\n",
       " 'NASDelay',\n",
       " 'SecurityDelay',\n",
       " 'LateAircraftDelay',\n",
       " 'CRSDepTime',\n",
       " 'CRSArrTime']"
      ]
     },
     "execution_count": 64,
     "metadata": {},
     "output_type": "execute_result"
    }
   ],
   "source": [
    "on_time_df.columns"
   ]
  },
  {
   "cell_type": "code",
   "execution_count": 65,
   "id": "b68787d7-f1f9-4226-9b5c-d1f788ac1f7e",
   "metadata": {},
   "outputs": [
    {
     "name": "stderr",
     "output_type": "stream",
     "text": [
      "                                                                                \r"
     ]
    },
    {
     "name": "stdout",
     "output_type": "stream",
     "text": [
      "+------+----------------+--------------------+------------------+---------------+-----------------+--------------------+--------------------+-------------+----------------------+-----------------+------------+-------------+-----------------+-----------------+------------------+--------------------+----------------------+\n",
      "|Origin|   avg(DepDelay)|avg(DepDelayMinutes)|      avg(TaxiOut)|    avg(TaxiIn)|    avg(ArrDelay)|avg(ArrDelayMinutes)|      avg(Cancelled)|avg(Diverted)|avg(ActualElapsedTime)|     avg(AirTime)|avg(Flights)|avg(Distance)|avg(CarrierDelay)|avg(WeatherDelay)|     avg(NASDelay)|  avg(SecurityDelay)|avg(LateAircraftDelay)|\n",
      "+------+----------------+--------------------+------------------+---------------+-----------------+--------------------+--------------------+-------------+----------------------+-----------------+------------+-------------+-----------------+-----------------+------------------+--------------------+----------------------+\n",
      "|   BGM|9.42056074766355|  15.177570093457945|16.193146417445483|6.2398753894081|6.218068535825545|   16.32398753894081|0.009259259259259259|          0.0|      88.4423676012461|66.00934579439253|         1.0|        378.0|58.67307692307692|              0.0|10.711538461538462|0.057692307692307696|    26.903846153846153|\n",
      "+------+----------------+--------------------+------------------+---------------+-----------------+--------------------+--------------------+-------------+----------------------+-----------------+------------+-------------+-----------------+-----------------+------------------+--------------------+----------------------+\n",
      "only showing top 1 row\n",
      "\n"
     ]
    },
    {
     "name": "stderr",
     "output_type": "stream",
     "text": [
      "                                                                                \r"
     ]
    },
    {
     "name": "stdout",
     "output_type": "stream",
     "text": [
      "+------+-----------------+\n",
      "|Origin|     avg(AirTime)|\n",
      "+------+-----------------+\n",
      "|   BGM|66.00934579439253|\n",
      "+------+-----------------+\n",
      "only showing top 1 row\n",
      "\n"
     ]
    },
    {
     "name": "stderr",
     "output_type": "stream",
     "text": [
      "                                                                                \r"
     ]
    },
    {
     "name": "stdout",
     "output_type": "stream",
     "text": [
      "+------+-----+\n",
      "|Origin|count|\n",
      "+------+-----+\n",
      "|   BGM|  324|\n",
      "+------+-----+\n",
      "only showing top 1 row\n",
      "\n"
     ]
    },
    {
     "name": "stderr",
     "output_type": "stream",
     "text": [
      "                                                                                \r"
     ]
    },
    {
     "name": "stdout",
     "output_type": "stream",
     "text": [
      "+------+------------+\n",
      "|Origin|max(AirTime)|\n",
      "+------+------------+\n",
      "|   BGM|        91.0|\n",
      "+------+------------+\n",
      "only showing top 1 row\n",
      "\n"
     ]
    },
    {
     "name": "stderr",
     "output_type": "stream",
     "text": [
      "                                                                                \r"
     ]
    },
    {
     "name": "stdout",
     "output_type": "stream",
     "text": [
      "+------+-------------+--------------------+------------+-----------+-------------+--------------------+--------------+-------------+----------------------+------------+------------+-------------+-----------------+-----------------+-------------+------------------+----------------------+\n",
      "|Origin|max(DepDelay)|max(DepDelayMinutes)|max(TaxiOut)|max(TaxiIn)|max(ArrDelay)|max(ArrDelayMinutes)|max(Cancelled)|max(Diverted)|max(ActualElapsedTime)|max(AirTime)|max(Flights)|max(Distance)|max(CarrierDelay)|max(WeatherDelay)|max(NASDelay)|max(SecurityDelay)|max(LateAircraftDelay)|\n",
      "+------+-------------+--------------------+------------+-----------+-------------+--------------------+--------------+-------------+----------------------+------------+------------+-------------+-----------------+-----------------+-------------+------------------+----------------------+\n",
      "|   BGM|        993.0|                 993|       100.0|       30.0|       1005.0|              1005.0|             1|            0|                 163.0|        91.0|           1|        378.0|            993.0|              0.0|         74.0|               3.0|                 364.0|\n",
      "+------+-------------+--------------------+------------+-----------+-------------+--------------------+--------------+-------------+----------------------+------------+------------+-------------+-----------------+-----------------+-------------+------------------+----------------------+\n",
      "only showing top 1 row\n",
      "\n"
     ]
    },
    {
     "name": "stderr",
     "output_type": "stream",
     "text": [
      "                                                                                \r"
     ]
    },
    {
     "name": "stdout",
     "output_type": "stream",
     "text": [
      "+------+------------+\n",
      "|Origin|min(AirTime)|\n",
      "+------+------------+\n",
      "|   BGM|        56.0|\n",
      "+------+------------+\n",
      "only showing top 1 row\n",
      "\n"
     ]
    },
    {
     "name": "stderr",
     "output_type": "stream",
     "text": [
      "[Stage 256:>                                                        (0 + 4) / 4]\r"
     ]
    },
    {
     "name": "stdout",
     "output_type": "stream",
     "text": [
      "+------+------------+\n",
      "|Origin|sum(AirTime)|\n",
      "+------+------------+\n",
      "|   BGM|     21189.0|\n",
      "+------+------------+\n",
      "only showing top 1 row\n",
      "\n"
     ]
    },
    {
     "name": "stderr",
     "output_type": "stream",
     "text": [
      "                                                                                \r"
     ]
    }
   ],
   "source": [
    "on_time_df.groupBy(\"Origin\").avg().show(1)\n",
    "on_time_df.groupBy(\"Origin\").agg({\"AirTime\":\"mean\"}).show(1)\n",
    "on_time_df.groupBy(\"Origin\").count().show(1)\n",
    "on_time_df.groupBy(\"Origin\").agg({\"AirTime\":\"max\"}).show(1)\n",
    "on_time_df.groupBy(\"Origin\").max().show(1)\n",
    "on_time_df.groupBy(\"Origin\").agg({\"AirTime\":\"min\"}).show(1)\n",
    "on_time_df.groupBy(\"Origin\").agg({\"AirTime\":\"sum\"}).show(1)"
   ]
  },
  {
   "cell_type": "code",
   "execution_count": 66,
   "id": "73747be3-e067-4224-80b9-9f9e7ddf22ff",
   "metadata": {},
   "outputs": [
    {
     "name": "stderr",
     "output_type": "stream",
     "text": [
      "                                                                                \r"
     ]
    },
    {
     "data": {
      "text/plain": [
       "{'Origin': 'ATL',\n",
       " 'ABE': 96.59897959183674,\n",
       " 'ABQ': 172.1290684624018,\n",
       " 'ABY': 29.252365930599368,\n",
       " 'ACY': 90.23557692307692,\n",
       " 'AEX': 78.87462235649546,\n",
       " 'AGS': 29.076743280093496,\n",
       " 'ALB': 108.65161923454367,\n",
       " 'ANC': 426.3529411764706,\n",
       " 'ASE': 198.09574468085106,\n",
       " 'ATW': 105.11235955056179,\n",
       " 'AUS': 117.13764946048411,\n",
       " 'AVL': 33.510327455919395,\n",
       " 'AVP': 93.94900849858357,\n",
       " 'AZO': 86.6842105263158,\n",
       " 'BDL': 109.44785031847134,\n",
       " 'BHM': 28.848588537211292,\n",
       " 'BMI': 78.14963119072708,\n",
       " 'BNA': 38.880419382261266,\n",
       " 'BOS': 120.84425582313462,\n",
       " 'BQK': 41.63483735571878,\n",
       " 'BTR': 70.18819188191883,\n",
       " 'BTV': 119.43465045592706,\n",
       " 'BUF': 93.706432748538,\n",
       " 'BWI': 81.02321908071394,\n",
       " 'BZN': 220.15625,\n",
       " 'CAE': 33.79744210162461,\n",
       " 'CAK': 72.89645776566758,\n",
       " 'CHA': 24.022727272727273,\n",
       " 'CHO': 66.9613478691774,\n",
       " 'CHS': 42.49556255367879,\n",
       " 'CID': 101.25268817204301,\n",
       " 'CLE': 77.47449470644851,\n",
       " 'CLT': 41.581799591002046,\n",
       " 'CMH': 66.05350605463249,\n",
       " 'COS': 161.14626865671642,\n",
       " 'CRW': 57.365990202939116,\n",
       " 'CSG': 20.638461538461538,\n",
       " 'CVG': 58.29219530949635,\n",
       " 'DAB': 54.343106674984405,\n",
       " 'DAL': 107.51469163706813,\n",
       " 'DAY': 63.95127118644068,\n",
       " 'DCA': 77.81844338944038,\n",
       " 'DEN': 168.22181282240237,\n",
       " 'DFW': 111.94913462808826,\n",
       " 'DHN': 33.231617647058826,\n",
       " 'DSM': 105.68818272095332,\n",
       " 'DTW': 87.08653664078773,\n",
       " 'ECP': 41.33196534427724,\n",
       " 'EGE': 188.8181818181818,\n",
       " 'ELM': 87.84615384615384,\n",
       " 'ELP': 171.9362244897959,\n",
       " 'EVV': 56.99230769230769,\n",
       " 'EWN': 61.98867313915858,\n",
       " 'EWR': 101.52093279471171,\n",
       " 'EYW': 87.044921875,\n",
       " 'FAR': 151.3846153846154,\n",
       " 'FAY': 51.07640067911715,\n",
       " 'FCA': 242.04,\n",
       " 'FLL': 84.61670182404765,\n",
       " 'FNT': 89.2876447876448,\n",
       " 'FSD': 132.47368421052633,\n",
       " 'FSM': 88.34068965517241,\n",
       " 'FWA': 75.94344473007712,\n",
       " 'GJT': None,\n",
       " 'GNV': 48.145907473309606,\n",
       " 'GPT': 56.39078947368421,\n",
       " 'GRB': 107.31177829099308,\n",
       " 'GRK': 114.30221518987342,\n",
       " 'GRR': 87.19142857142857,\n",
       " 'GSO': 49.15724137931034,\n",
       " 'GSP': 30.053024645257654,\n",
       " 'GTR': 44.07607607607608,\n",
       " 'HDN': 191.74736842105264,\n",
       " 'HNL': 546.5,\n",
       " 'HOU': 105.17070383912248,\n",
       " 'HPN': 109.62556165751373,\n",
       " 'HSV': 31.34819769602378,\n",
       " 'IAD': 76.36581920903954,\n",
       " 'IAH': 102.31285988483685,\n",
       " 'ICT': 111.22064393939394,\n",
       " 'ILM': 55.823125357756155,\n",
       " 'IND': 65.04984348663616,\n",
       " 'JAC': 212.4757281553398,\n",
       " 'JAN': 54.522334004024145,\n",
       " 'JAX': 43.31659192825112,\n",
       " 'JFK': 104.3519768563163,\n",
       " 'LAN': 90.23076923076923,\n",
       " 'LAS': 232.89032258064515,\n",
       " 'LAX': 256.5899419729207,\n",
       " 'LEX': 48.87252924566357,\n",
       " 'LFT': 78.40828856485035,\n",
       " 'LGA': 102.68517445230091,\n",
       " 'LIT': 69.1775396085741,\n",
       " 'LNK': 119.29885057471265,\n",
       " 'MBS': 98.26666666666667,\n",
       " 'MCI': 103.08773784355179,\n",
       " 'MCO': 60.877189043556356,\n",
       " 'MDT': 84.41851494696239,\n",
       " 'MDW': 88.65857142857143,\n",
       " 'MEM': 56.11916026020106,\n",
       " 'MGM': 31.892723492723494,\n",
       " 'MHT': 119.974930362117,\n",
       " 'MIA': 85.72141706924316,\n",
       " 'MKE': 94.42390670553935,\n",
       " 'MLB': 64.01593901593901,\n",
       " 'MLI': 90.73167848699764,\n",
       " 'MLU': 71.84965304548959,\n",
       " 'MOB': 52.496899545266636,\n",
       " 'MSN': 98.24233128834356,\n",
       " 'MSO': 240.26666666666668,\n",
       " 'MSP': 129.69842810013586,\n",
       " 'MSY': 67.13189171343677,\n",
       " 'MTJ': 195.62857142857143,\n",
       " 'MYR': 47.62226512226512,\n",
       " 'OAJ': 58.33685064935065,\n",
       " 'OAK': 295.140625,\n",
       " 'OKC': 108.98932219127205,\n",
       " 'OMA': 118.01823361823362,\n",
       " 'ONT': 252.33333333333334,\n",
       " 'ORD': 93.76928500916655,\n",
       " 'ORF': 68.94117647058823,\n",
       " 'PBI': 80.84571553802323,\n",
       " 'PDX': 283.55982905982904,\n",
       " 'PHF': 72.09481481481481,\n",
       " 'PHL': 93.60806835691274,\n",
       " 'PHX': 216.42130445731553,\n",
       " 'PIA': 85.57802874743327,\n",
       " 'PIT': 72.58607132827858,\n",
       " 'PNS': 47.029735234215885,\n",
       " 'PVD': 114.56133464180569,\n",
       " 'PWM': 126.81884057971014,\n",
       " 'RAP': 163.13333333333333,\n",
       " 'RDU': 54.620066109274745,\n",
       " 'RIC': 65.85651612903226,\n",
       " 'ROA': 57.06195244055069,\n",
       " 'ROC': 96.48102466793169,\n",
       " 'RST': 118.55202312138728,\n",
       " 'RSW': 74.23462897526501,\n",
       " 'SAN': 247.43282236248874,\n",
       " 'SAT': 124.2874558870709,\n",
       " 'SAV': 37.248983149331785,\n",
       " 'SBN': 85.35600335852224,\n",
       " 'SCE': 87.58974358974359,\n",
       " 'SDF': 53.38678295873868,\n",
       " 'SEA': 289.20415814587597,\n",
       " 'SFO': 279.49426976197475,\n",
       " 'SGF': 87.09448818897638,\n",
       " 'SHV': 84.34255898366607,\n",
       " 'SJC': 277.67333333333335,\n",
       " 'SJU': 184.041015625,\n",
       " 'SLC': 213.2850971922246,\n",
       " 'SMF': 272.2068965517241,\n",
       " 'SNA': 251.88867745004757,\n",
       " 'SRQ': 65.03754752851711,\n",
       " 'STL': 75.68986187125358,\n",
       " 'STT': 189.22590361445782,\n",
       " 'STX': 196.3783783783784,\n",
       " 'SYR': 101.62786259541984,\n",
       " 'TLH': 39.01092179991262,\n",
       " 'TPA': 60.845393024466425,\n",
       " 'TRI': 39.92660550458716,\n",
       " 'TTN': 95.16193181818181,\n",
       " 'TUL': 97.27774408732566,\n",
       " 'TUS': 204.35355029585799,\n",
       " 'TVC': 103.75757575757575,\n",
       " 'TYS': 30.09027777777778,\n",
       " 'VLD': 37.780971258671954,\n",
       " 'VPS': 43.24717691342534,\n",
       " 'XNA': 89.38354577056779}"
      ]
     },
     "execution_count": 66,
     "metadata": {},
     "output_type": "execute_result"
    }
   ],
   "source": [
    "on_time_df.filter(\"Origin == 'ATL'\").groupBy(\"Origin\").pivot(\"Dest\").avg(\"AirTime\").rdd.map(lambda x:x.asDict()).collect()[0]"
   ]
  },
  {
   "cell_type": "code",
   "execution_count": 67,
   "id": "701cd436-e2a4-4140-8977-f0075a590aef",
   "metadata": {},
   "outputs": [
    {
     "name": "stdout",
     "output_type": "stream",
     "text": [
      "+--------+------------------+\n",
      "|Distance|               Mph|\n",
      "+--------+------------------+\n",
      "|   432.0| 439.3220338983051|\n",
      "|   432.0| 336.6233766233766|\n",
      "|   802.0| 373.0232558139535|\n",
      "|   731.0|471.61290322580646|\n",
      "|   769.0| 415.6756756756757|\n",
      "|   769.0|427.22222222222223|\n",
      "|  1047.0| 430.2739726027398|\n",
      "|   731.0| 359.5081967213115|\n",
      "|   731.0|466.59574468085106|\n",
      "|   731.0|  481.978021978022|\n",
      "+--------+------------------+\n",
      "only showing top 10 rows\n",
      "\n"
     ]
    }
   ],
   "source": [
    "mph = spark.sql(\"\"\"\n",
    "SELECT Distance, (Distance/(AirTime/60)) AS Mph\n",
    "FROM on_time_performance\n",
    "WHERE AirTime IS NOT NULL\n",
    "\"\"\")\n",
    "mph.show(10)"
   ]
  },
  {
   "cell_type": "code",
   "execution_count": 68,
   "id": "769d8a15-4e64-493e-ac65-bf37b324d43e",
   "metadata": {},
   "outputs": [
    {
     "name": "stderr",
     "output_type": "stream",
     "text": [
      "                                                                                \r"
     ]
    },
    {
     "data": {
      "text/plain": [
       "[432.0, 432.0, 802.0, 731.0, 769.0, 769.0, 1047.0, 731.0, 731.0, 731.0]"
      ]
     },
     "execution_count": 68,
     "metadata": {},
     "output_type": "execute_result"
    }
   ],
   "source": [
    "distance = mph.select(\"Distance\").rdd.flatMap(lambda x:x)\n",
    "distance = distance.collect()\n",
    "distance[0:10]"
   ]
  },
  {
   "cell_type": "code",
   "execution_count": 69,
   "id": "0fd07078-a9ff-48f9-883c-147c2190fa16",
   "metadata": {},
   "outputs": [
    {
     "name": "stderr",
     "output_type": "stream",
     "text": [
      "                                                                                \r"
     ]
    },
    {
     "data": {
      "text/plain": [
       "[439.3220338983051,\n",
       " 336.6233766233766,\n",
       " 373.0232558139535,\n",
       " 471.61290322580646,\n",
       " 415.6756756756757,\n",
       " 427.22222222222223,\n",
       " 430.2739726027398,\n",
       " 359.5081967213115,\n",
       " 466.59574468085106,\n",
       " 481.978021978022]"
      ]
     },
     "execution_count": 69,
     "metadata": {},
     "output_type": "execute_result"
    }
   ],
   "source": [
    "speed = mph.select(\"Mph\").rdd.flatMap(lambda x:x)\n",
    "speed = speed.collect()\n",
    "speed[0:10]"
   ]
  },
  {
   "cell_type": "code",
   "execution_count": 70,
   "id": "56a3c214-70ed-423c-ad79-45207eb30a8b",
   "metadata": {},
   "outputs": [
    {
     "name": "stdout",
     "output_type": "stream",
     "text": [
      "Total distance: 5714008\n",
      "Total speeds: 5714008\n"
     ]
    }
   ],
   "source": [
    "print(f\"Total distance: {len(distance)}\")\n",
    "print(f\"Total speeds: {len(speed)}\")"
   ]
  },
  {
   "cell_type": "code",
   "execution_count": 71,
   "id": "5b11b7db-b52c-4216-b255-00e6eaaaa3b6",
   "metadata": {},
   "outputs": [
    {
     "data": {
      "text/plain": [
       "5768"
      ]
     },
     "execution_count": 71,
     "metadata": {},
     "output_type": "execute_result"
    }
   ],
   "source": [
    "sample = mph.sample(False, 0.001)\n",
    "sample.count()"
   ]
  },
  {
   "cell_type": "code",
   "execution_count": 72,
   "id": "5fc48f1d-d077-49e3-bf8b-988b9cacb01b",
   "metadata": {},
   "outputs": [
    {
     "name": "stdout",
     "output_type": "stream",
     "text": [
      "5768 x 5768 records\n"
     ]
    }
   ],
   "source": [
    "speed = sample.select(\"Mph\").rdd.flatMap(lambda x:x).collect()\n",
    "distance = sample.select(\"Distance\").rdd.flatMap(lambda x:x).collect()\n",
    "print(f\"{len(speed)} x {len(distance)} records\")"
   ]
  },
  {
   "cell_type": "code",
   "execution_count": 73,
   "id": "83b7b048-8141-40a3-8f60-db6df680e729",
   "metadata": {},
   "outputs": [
    {
     "data": {
      "image/png": "[encoded data removed]",
      "text/plain": [
       "<Figure size 1296x864 with 1 Axes>"
      ]
     },
     "metadata": {
      "needs_background": "light"
     },
     "output_type": "display_data"
    }
   ],
   "source": [
    "import numpy as pd\n",
    "import matplotlib.pyplot as plt\n",
    "plt.rcParams[\"figure.figsize\"] = (18, 12)\n",
    "plt.scatter(distance, speed, alpha=0.5)\n",
    "plt.title(\"Distance x Speed\")\n",
    "plt.xlabel(\"Distance\")\n",
    "plt.ylabel(\"Speed\")\n",
    "plt.show()"
   ]
  },
  {
   "cell_type": "markdown",
   "id": "1b2b9f70-6beb-430b-84d2-d0160dd2c5ad",
   "metadata": {},
   "source": [
    "Excercise\n",
    "- Query the on_time_dataframe to focus on two numeric fields.\n",
    "- Plot a histogram of one of these fields\n",
    "- Plot a scatterplot of both of these fields"
   ]
  },
  {
   "cell_type": "code",
   "execution_count": 74,
   "id": "064397d8-9aeb-4b2d-beff-36c162bea706",
   "metadata": {},
   "outputs": [
    {
     "data": {
      "text/plain": [
       "array([0.60304948, 0.63059965, 0.72203986, 0.70360977, 0.62397214])"
      ]
     },
     "execution_count": 74,
     "metadata": {},
     "output_type": "execute_result"
    }
   ],
   "source": [
    "from sklearn.model_selection import train_test_split\n",
    "from sklearn.preprocessing import PolynomialFeatures\n",
    "from sklearn.linear_model import LinearRegression\n",
    "from sklearn.pipeline import Pipeline\n",
    "from sklearn.model_selection import cross_val_score\n",
    "import numpy as np\n",
    "\n",
    "x=np.array(distance)\n",
    "y=np.array(speed)\n",
    "x_test = np.arange(0, 5000, 100)\n",
    "model = Pipeline([('ploy', PolynomialFeatures(degree=3)), ('linear', LinearRegression(fit_intercept=False))])\n",
    "model = model.fit(x[:, np.newaxis], y)\n",
    "model.named_steps['linear'].coef_\n",
    "y_out = model.predict(x_test.reshape(-1, 1))\n",
    "cross_val_score(model, x.reshape(-1, 1), y)"
   ]
  },
  {
   "cell_type": "code",
   "execution_count": 75,
   "id": "3d789b8d-dfe6-4cc4-b8ce-6f0cccfad773",
   "metadata": {},
   "outputs": [
    {
     "data": {
      "image/png": "[encoded data removed]",
      "text/plain": [
       "<Figure size 1296x864 with 1 Axes>"
      ]
     },
     "metadata": {
      "needs_background": "light"
     },
     "output_type": "display_data"
    }
   ],
   "source": [
    "import numpy as np\n",
    "import matplotlib.pyplot as plt\n",
    "\n",
    "plt.rcParams[\"figure.figsize\"]=(18, 12)\n",
    "plt.scatter(distance, speed, alpha=0.5)\n",
    "plt.plot(x_test, y_out, color='orange', linewidth=3)\n",
    "plt.title(\"Distance x Speed\")\n",
    "plt.xlabel(\"Distance\")\n",
    "plt.ylabel(\"Speed\")\n",
    "plt.show()"
   ]
  },
  {
   "cell_type": "code",
   "execution_count": 76,
   "id": "26f76501-bec5-4710-b71c-620177c6ad99",
   "metadata": {},
   "outputs": [
    {
     "name": "stderr",
     "output_type": "stream",
     "text": [
      "[Stage 279:>                                                        (0 + 4) / 4]\r"
     ]
    },
    {
     "name": "stdout",
     "output_type": "stream",
     "text": [
      "+-------+\n",
      "|TailNum|\n",
      "+-------+\n",
      "| N396AA|\n",
      "| N3CWAA|\n",
      "| N499AA|\n",
      "| N4YUAA|\n",
      "| N567AA|\n",
      "| N442AS|\n",
      "+-------+\n",
      "only showing top 6 rows\n",
      "\n"
     ]
    },
    {
     "name": "stderr",
     "output_type": "stream",
     "text": [
      "                                                                                \r"
     ]
    }
   ],
   "source": [
    "tail_numbers = on_time_df.select(\"TailNum\").distinct()\n",
    "tail_numbers.show(6)"
   ]
  },
  {
   "cell_type": "code",
   "execution_count": 77,
   "id": "87b50156-1938-480f-b309-1b9352b3b33e",
   "metadata": {},
   "outputs": [
    {
     "name": "stdout",
     "output_type": "stream",
     "text": [
      "+----------+-----------+------------+\n",
      "|FAATailNum|      Model|Engine_Model|\n",
      "+----------+-----------+------------+\n",
      "|    N933EV|CL-600-2B19| CF34 SERIES|\n",
      "|    N917WN|    737-7H4|  CFM56-7B24|\n",
      "|    N438WN|    737-7H4|CFM56 SERIES|\n",
      "|    N283VA|   A320-214| CFM56-5B4/3|\n",
      "|    N473UA|   A320-232| AL-25SERIES|\n",
      "|    N637JB|   A320-232|    V2527-A5|\n",
      "+----------+-----------+------------+\n",
      "only showing top 6 rows\n",
      "\n"
     ]
    }
   ],
   "source": [
    "faa_tail_number_inquiry = spark.read.json('data/faa_tail_number_inquiry.jsonl')\n",
    "airplane_records = faa_tail_number_inquiry.select(\n",
    "    faa_tail_number_inquiry.TailNum.alias(\"FAATailNum\"), \"Model\", \"Engine_Model\")\n",
    "airplane_records.show(6)"
   ]
  },
  {
   "cell_type": "code",
   "execution_count": 78,
   "id": "c073e32b-b6f6-4110-bb56-357146f5d84d",
   "metadata": {},
   "outputs": [
    {
     "name": "stderr",
     "output_type": "stream",
     "text": [
      "                                                                                \r"
     ]
    },
    {
     "name": "stdout",
     "output_type": "stream",
     "text": [
      "FAA tail number: 4898\n",
      "Airplane records: 3988\n"
     ]
    },
    {
     "name": "stderr",
     "output_type": "stream",
     "text": [
      "[Stage 294:>                                                        (0 + 4) / 4]\r"
     ]
    },
    {
     "name": "stdout",
     "output_type": "stream",
     "text": [
      "Joined records: 3988\n"
     ]
    },
    {
     "name": "stderr",
     "output_type": "stream",
     "text": [
      "                                                                                \r"
     ]
    }
   ],
   "source": [
    "print(f\"FAA tail number: {tail_numbers.count()}\")\n",
    "print(f\"Airplane records: {airplane_records.count()}\")\n",
    "inner_joined = tail_numbers.join(airplane_records, tail_numbers.TailNum == airplane_records.FAATailNum, \"inner\")\n",
    "print(f\"Joined records: {inner_joined.count()}\")"
   ]
  },
  {
   "cell_type": "code",
   "execution_count": 79,
   "id": "d701aae1-c6f5-46cf-877a-cf0afce5d5a5",
   "metadata": {},
   "outputs": [
    {
     "name": "stderr",
     "output_type": "stream",
     "text": [
      "[Stage 300:>                (0 + 4) / 4][Stage 301:>                (0 + 0) / 1]\r"
     ]
    },
    {
     "name": "stdout",
     "output_type": "stream",
     "text": [
      "+-------+----------+--------------+------------+\n",
      "|TailNum|FAATailNum|         Model|Engine_Model|\n",
      "+-------+----------+--------------+------------+\n",
      "| N396AA|    N396AA|          B300|    PT6A SER|\n",
      "| N499AA|    N499AA|DC-9-82(MD-82)| JT8D SERIES|\n",
      "| N442AS|    N442AS|     737-990ER| CFM56-7B27E|\n",
      "| N369NB|    N369NB|      A319-114|CFM56 SERIES|\n",
      "| N388DA|    N388DA|       737-832|CFM56 SERIES|\n",
      "|  N6700|     N6700|       757-232|      PW2037|\n",
      "+-------+----------+--------------+------------+\n",
      "only showing top 6 rows\n",
      "\n"
     ]
    },
    {
     "name": "stderr",
     "output_type": "stream",
     "text": [
      "                                                                                \r"
     ]
    }
   ],
   "source": [
    "inner_joined.show(6)"
   ]
  },
  {
   "cell_type": "code",
   "execution_count": 80,
   "id": "11fff3f9-ae25-4858-a956-b21f46f9d49b",
   "metadata": {},
   "outputs": [
    {
     "name": "stderr",
     "output_type": "stream",
     "text": [
      "                                                                                \r"
     ]
    },
    {
     "name": "stdout",
     "output_type": "stream",
     "text": [
      "FAA tail numbers: 4898\n",
      "Airplane records: 3988\n"
     ]
    },
    {
     "name": "stderr",
     "output_type": "stream",
     "text": [
      "                                                                                \r"
     ]
    },
    {
     "name": "stdout",
     "output_type": "stream",
     "text": [
      "Joined records: 4898\n"
     ]
    }
   ],
   "source": [
    "print(f\"FAA tail numbers: {tail_numbers.count()}\")\n",
    "print(f\"Airplane records: {airplane_records.count()}\")\n",
    "left_outer_joined = tail_numbers.join(airplane_records, tail_numbers.TailNum == airplane_records.FAATailNum, 'left_outer')\n",
    "print(f\"Joined records: {left_outer_joined.count()}\")"
   ]
  },
  {
   "cell_type": "code",
   "execution_count": 81,
   "id": "19b0ec3b-e841-419d-90ea-9e594b6cb61a",
   "metadata": {},
   "outputs": [
    {
     "name": "stderr",
     "output_type": "stream",
     "text": [
      "                                                                                \r"
     ]
    },
    {
     "name": "stdout",
     "output_type": "stream",
     "text": [
      "+-------+----------+--------------+------------+\n",
      "|TailNum|FAATailNum|         Model|Engine_Model|\n",
      "+-------+----------+--------------+------------+\n",
      "| N396AA|    N396AA|          B300|    PT6A SER|\n",
      "| N3CWAA|      null|          null|        null|\n",
      "| N499AA|    N499AA|DC-9-82(MD-82)| JT8D SERIES|\n",
      "| N4YUAA|      null|          null|        null|\n",
      "| N567AA|      null|          null|        null|\n",
      "| N442AS|    N442AS|     737-990ER| CFM56-7B27E|\n",
      "+-------+----------+--------------+------------+\n",
      "only showing top 6 rows\n",
      "\n"
     ]
    }
   ],
   "source": [
    "left_outer_joined.show(6)"
   ]
  },
  {
   "cell_type": "markdown",
   "id": "136f12a8-421f-4928-aa36-9bd1a5907274",
   "metadata": {},
   "source": [
    "Exercise"
   ]
  },
  {
   "cell_type": "code",
   "execution_count": 82,
   "id": "7795fff2-30c4-46e8-8e27-41054c1c5ae7",
   "metadata": {},
   "outputs": [
    {
     "name": "stderr",
     "output_type": "stream",
     "text": [
      "                                                                                \r"
     ]
    },
    {
     "data": {
      "text/plain": [
       "{'TailNum': 'N549UW',\n",
       " 'Flights': [('US', '2015-01-01', '1711', 'CLT', 'EWR'),\n",
       "  ('US', '2015-01-01', '1711', 'TPA', 'CLT'),\n",
       "  ('US', '2015-01-01', '1808', 'ATL', 'CLT'),\n",
       "  ('US', '2015-01-01', '1808', 'CLT', 'TPA'),\n",
       "  ('US', '2015-01-02', '1729', 'CLT', 'MCO'),\n",
       "  ('US', '2015-01-02', '1729', 'EWR', 'CLT'),\n",
       "  ('US', '2015-01-02', '2029', 'CLT', 'SFO'),\n",
       "  ('US', '2015-01-02', '2029', 'MCO', 'CLT'),\n",
       "  ('US', '2015-01-02', '2029', 'SFO', 'PHX'),\n",
       "  ('US', '2015-01-03', '1853', 'ATL', 'PHX'),\n",
       "  ('US', '2015-01-03', '1853', 'PHX', 'LAS'),\n",
       "  ('US', '2015-01-03', '2011', 'MSP', 'PHX'),\n",
       "  ('US', '2015-01-03', '2011', 'PHX', 'LAX'),\n",
       "  ('US', '2015-01-03', '417', 'PHX', 'ATL'),\n",
       "  ('US', '2015-01-03', '473', 'LAS', 'PHX'),\n",
       "  ('US', '2015-01-03', '473', 'PHX', 'MSP'),\n",
       "  ('US', '2015-01-04', '598', 'LAX', 'PHL'),\n",
       "  ('US', '2015-01-04', '755', 'PHL', 'LAX'),\n",
       "  ('US', '2015-01-05', '499', 'CLT', 'DEN'),\n",
       "  ('US', '2015-01-05', '499', 'MIA', 'CLT'),\n",
       "  ('US', '2015-01-05', '761', 'CLT', 'MIA'),\n",
       "  ('US', '2015-01-05', '761', 'LAX', 'CLT'),\n",
       "  ('US', '2015-01-06', '1808', 'ATL', 'CLT'),\n",
       "  ('US', '2015-01-06', '1808', 'CLT', 'TPA'),\n",
       "  ('US', '2015-01-06', '469', 'CLT', 'ATL'),\n",
       "  ('US', '2015-01-06', '469', 'DEN', 'CLT'),\n",
       "  ('US', '2015-01-06', '470', 'CLT', 'SAN'),\n",
       "  ('US', '2015-01-06', '470', 'TPA', 'CLT'),\n",
       "  ('US', '2015-01-07', '567', 'PHX', 'MCO'),\n",
       "  ('US', '2015-01-07', '567', 'SAN', 'PHX'),\n",
       "  ('US', '2015-01-07', '640', 'MCO', 'PHX'),\n",
       "  ('US', '2015-01-07', '640', 'PHX', 'LAX'),\n",
       "  ('US', '2015-01-07', '696', 'LAX', 'CLT'),\n",
       "  ('US', '2015-01-08', '1808', 'CLT', 'TPA'),\n",
       "  ('US', '2015-01-08', '2042', 'CLT', 'JFK'),\n",
       "  ('US', '2015-01-08', '470', 'CLT', 'SAN'),\n",
       "  ('US', '2015-01-08', '470', 'TPA', 'CLT'),\n",
       "  ('US', '2015-01-08', '579', 'SAN', 'CLT'),\n",
       "  ('US', '2015-01-08', '887', 'JFK', 'CLT'),\n",
       "  ('US', '2015-01-09', '1820', 'CLT', 'RSW'),\n",
       "  ('US', '2015-01-09', '525', 'CLT', 'FLL'),\n",
       "  ('US', '2015-01-09', '698', 'FLL', 'CLT'),\n",
       "  ('US', '2015-01-09', '892', 'MCO', 'CLT'),\n",
       "  ('US', '2015-01-10', '668', 'RSW', 'PHL'),\n",
       "  ('US', '2015-01-11', '745', 'CLT', 'ATL'),\n",
       "  ('US', '2015-01-11', '745', 'PHL', 'PHX'),\n",
       "  ('US', '2015-01-11', '745', 'PHX', 'CLT'),\n",
       "  ('US', '2015-01-12', '1836', 'ATL', 'PHX'),\n",
       "  ('US', '2015-01-12', '1836', 'PHX', 'LAS'),\n",
       "  ('US', '2015-01-12', '478', 'LAS', 'DCA'),\n",
       "  ('US', '2015-01-13', '486', 'SAN', 'PHX'),\n",
       "  ('US', '2015-01-13', '679', 'DCA', 'PHX'),\n",
       "  ('US', '2015-01-13', '679', 'PHX', 'SAN'),\n",
       "  ('US', '2015-01-14', '406', 'PHX', 'DTW'),\n",
       "  ('US', '2015-01-14', '547', 'DTW', 'PHX'),\n",
       "  ('US', '2015-01-15', '2029', 'CLT', 'SFO'),\n",
       "  ('US', '2015-01-15', '620', 'PHX', 'CLT'),\n",
       "  ('US', '2015-01-16', '718', 'SFO', 'PHL'),\n",
       "  ('US', '2015-01-16', '759', 'ORD', 'CLT'),\n",
       "  ('US', '2015-01-16', '759', 'PHL', 'ORD'),\n",
       "  ('US', '2015-01-17', '1733', 'CLT', 'MCO'),\n",
       "  ('US', '2015-01-17', '1738', 'CLT', 'SJU'),\n",
       "  ('US', '2015-01-17', '1738', 'SJU', 'CLT'),\n",
       "  ('US', '2015-01-18', '413', 'ATL', 'PHX'),\n",
       "  ('US', '2015-01-18', '413', 'CLT', 'ATL'),\n",
       "  ('US', '2015-01-18', '413', 'MCO', 'CLT'),\n",
       "  ('US', '2015-01-18', '413', 'PHX', 'SEA'),\n",
       "  ('US', '2015-01-18', '689', 'PHX', 'MCO'),\n",
       "  ('US', '2015-01-18', '689', 'SEA', 'PHX'),\n",
       "  ('US', '2015-01-19', '1727', 'LAS', 'PHL'),\n",
       "  ('US', '2015-01-19', '1727', 'PHL', 'LAS'),\n",
       "  ('US', '2015-01-19', '1757', 'MCO', 'PHL'),\n",
       "  ('US', '2015-01-20', '1728', 'MCO', 'PHL'),\n",
       "  ('US', '2015-01-20', '1728', 'PHL', 'MCO'),\n",
       "  ('US', '2015-01-20', '1927', 'PHL', 'CLT'),\n",
       "  ('US', '2015-01-28', '716', 'CLT', 'PHL'),\n",
       "  ('US', '2015-01-28', '719', 'PHL', 'SFO'),\n",
       "  ('US', '2015-01-29', '797', 'PHL', 'LAX'),\n",
       "  ('US', '2015-01-30', '671', 'PHX', 'PDX'),\n",
       "  ('US', '2015-01-31', '425', 'JFK', 'CLT'),\n",
       "  ('US', '2015-01-31', '425', 'PDX', 'PHX'),\n",
       "  ('US', '2015-01-31', '425', 'PHX', 'JFK'),\n",
       "  ('US', '2015-02-01', '407', 'CLT', 'ORD'),\n",
       "  ('US', '2015-02-01', '407', 'ORD', 'PHX'),\n",
       "  ('US', '2015-02-01', '407', 'PHX', 'SFO'),\n",
       "  ('US', '2015-02-01', '454', 'SFO', 'PHX'),\n",
       "  ('US', '2015-02-02', '471', 'LAS', 'PHX'),\n",
       "  ('US', '2015-02-02', '602', 'PHX', 'LAS'),\n",
       "  ('US', '2015-02-02', '776', 'PHX', 'PHL'),\n",
       "  ('US', '2015-02-03', '1703', 'PHL', 'SFO'),\n",
       "  ('US', '2015-02-03', '477', 'SFO', 'PHX'),\n",
       "  ('US', '2015-02-04', '620', 'PHX', 'CLT'),\n",
       "  ('US', '2015-02-04', '708', 'CLT', 'LAX'),\n",
       "  ('US', '2015-02-05', '1742', 'LAX', 'CLT'),\n",
       "  ('US', '2015-02-05', '721', 'CLT', 'LAX'),\n",
       "  ('US', '2015-02-06', '1908', 'CLT', 'ORD'),\n",
       "  ('US', '2015-02-06', '1927', 'PHL', 'CLT'),\n",
       "  ('US', '2015-02-06', '661', 'LAX', 'PHL'),\n",
       "  ('US', '2015-02-07', '424', 'ORD', 'PHX'),\n",
       "  ('US', '2015-02-07', '720', 'PHX', 'CLT'),\n",
       "  ('US', '2015-02-07', '721', 'CLT', 'LAX'),\n",
       "  ('US', '2015-02-08', '1806', 'LAX', 'CLT'),\n",
       "  ('US', '2015-02-08', '546', 'CLT', 'PHX'),\n",
       "  ('US', '2015-02-09', '620', 'PHX', 'CLT'),\n",
       "  ('US', '2015-02-09', '708', 'CLT', 'LAX'),\n",
       "  ('US', '2015-02-10', '1742', 'LAX', 'CLT'),\n",
       "  ('US', '2015-02-10', '1908', 'CLT', 'ORD'),\n",
       "  ('US', '2015-02-11', '1896', 'ORD', 'PHL'),\n",
       "  ('US', '2015-02-11', '1896', 'PHL', 'DEN'),\n",
       "  ('US', '2015-02-11', '2058', 'DEN', 'PHL'),\n",
       "  ('US', '2015-02-11', '2058', 'PHL', 'BOS'),\n",
       "  ('US', '2015-02-12', '1826', 'BOS', 'PHL'),\n",
       "  ('US', '2015-02-12', '1826', 'PHL', 'PHX'),\n",
       "  ('US', '2015-02-12', '1826', 'PHX', 'LAS'),\n",
       "  ('US', '2015-02-12', '2027', 'LAS', 'PHX'),\n",
       "  ('US', '2015-02-12', '2027', 'PHX', 'MSP'),\n",
       "  ('US', '2015-02-13', '433', 'MSP', 'PHX'),\n",
       "  ('US', '2015-02-13', '433', 'PHX', 'SFO'),\n",
       "  ('US', '2015-02-13', '477', 'PHX', 'IAH'),\n",
       "  ('US', '2015-02-13', '477', 'SFO', 'PHX'),\n",
       "  ('US', '2015-02-14', '1806', 'ORD', 'CLT'),\n",
       "  ('US', '2015-02-14', '1862', 'CLT', 'ORD'),\n",
       "  ('US', '2015-02-14', '1862', 'IAH', 'CLT'),\n",
       "  ('US', '2015-02-14', '705', 'CLT', 'LAS'),\n",
       "  ('US', '2015-02-15', '620', 'LAS', 'PHX'),\n",
       "  ('US', '2015-02-15', '620', 'PHX', 'CLT'),\n",
       "  ('US', '2015-02-15', '708', 'CLT', 'LAX'),\n",
       "  ('US', '2015-02-16', '2050', 'CLT', 'LGA'),\n",
       "  ('US', '2015-02-16', '2050', 'LAX', 'CLT'),\n",
       "  ('US', '2015-02-17', '1908', 'CLT', 'ORD'),\n",
       "  ('US', '2015-02-17', '1908', 'LGA', 'CLT'),\n",
       "  ('US', '2015-02-17', '2064', 'CLT', 'LGA'),\n",
       "  ('US', '2015-02-17', '2064', 'DFW', 'CLT'),\n",
       "  ('US', '2015-02-17', '895', 'ORD', 'PHL'),\n",
       "  ('US', '2015-02-18', '1788', 'BOS', 'CLT'),\n",
       "  ('US', '2015-02-18', '1788', 'CLT', 'ORD'),\n",
       "  ('US', '2015-02-18', '1814', 'CLT', 'ATL'),\n",
       "  ('US', '2015-02-18', '1814', 'PIT', 'CLT'),\n",
       "  ('US', '2015-02-18', '1999', 'ATL', 'CLT'),\n",
       "  ('US', '2015-02-18', '1999', 'CLT', 'BOS'),\n",
       "  ('US', '2015-02-19', '424', 'ORD', 'PHX'),\n",
       "  ('US', '2015-02-19', '720', 'PHX', 'CLT'),\n",
       "  ('US', '2015-02-19', '721', 'CLT', 'LAX'),\n",
       "  ('US', '2015-02-20', '1742', 'LAX', 'CLT'),\n",
       "  ('US', '2015-02-20', '546', 'CLT', 'PHX'),\n",
       "  ('US', '2015-02-21', '612', 'PHX', 'ATL'),\n",
       "  ('US', '2015-02-22', '1866', 'ATL', 'CLT'),\n",
       "  ('US', '2015-02-22', '1866', 'CLT', 'PBI'),\n",
       "  ('US', '2015-02-22', '1995', 'PBI', 'CLT'),\n",
       "  ('US', '2015-02-22', '695', 'CLT', 'PHX'),\n",
       "  ('US', '2015-02-22', '695', 'PHX', 'LAX'),\n",
       "  ('US', '2015-02-23', '588', 'LAX', 'PHL'),\n",
       "  ('US', '2015-02-23', '755', 'PHL', 'LAX'),\n",
       "  ('US', '2015-02-24', '588', 'LAX', 'PHL'),\n",
       "  ('US', '2015-02-24', '755', 'PHL', 'LAX'),\n",
       "  ('US', '2015-02-25', '2050', 'CLT', 'LGA'),\n",
       "  ('US', '2015-02-25', '2050', 'LAX', 'CLT'),\n",
       "  ('US', '2015-02-26', '1810', 'CLT', 'TPA'),\n",
       "  ('US', '2015-02-26', '1810', 'LGA', 'CLT'),\n",
       "  ('US', '2015-02-26', '451', 'CLT', 'SLC'),\n",
       "  ('US', '2015-02-26', '475', 'TPA', 'CLT'),\n",
       "  ('US', '2015-02-27', '406', 'PHX', 'DTW'),\n",
       "  ('US', '2015-02-27', '406', 'SLC', 'PHX'),\n",
       "  ('US', '2015-02-27', '430', 'DTW', 'PHX'),\n",
       "  ('US', '2015-02-27', '640', 'PHX', 'LAX'),\n",
       "  ('US', '2015-02-27', '696', 'LAX', 'CLT'),\n",
       "  ('US', '2015-02-28', '890', 'CLT', 'DFW'),\n",
       "  ('US', '2015-03-01', '1791', 'CLT', 'TPA'),\n",
       "  ('US', '2015-03-01', '1952', 'TPA', 'CLT'),\n",
       "  ('US', '2015-03-01', '753', 'CLT', 'PHX'),\n",
       "  ('US', '2015-03-02', '431', 'LAS', 'CLT'),\n",
       "  ('US', '2015-03-02', '568', 'PHX', 'TPA'),\n",
       "  ('US', '2015-03-02', '608', 'PHX', 'LAS'),\n",
       "  ('US', '2015-03-02', '608', 'TPA', 'PHX'),\n",
       "  ('US', '2015-03-03', '1993', 'CLT', 'LAX'),\n",
       "  ('US', '2015-03-03', '796', 'LAX', 'PHL'),\n",
       "  ('US', '2015-03-04', '1850', 'MCO', 'PHL'),\n",
       "  ('US', '2015-03-04', '1850', 'PHL', 'MCO'),\n",
       "  ('US', '2015-03-04', '781', 'PHL', 'LAX'),\n",
       "  ('US', '2015-03-05', '1742', 'LAX', 'CLT'),\n",
       "  ('US', '2015-03-05', '609', 'CLT', 'SEA'),\n",
       "  ('US', '2015-03-05', '624', 'SEA', 'CLT'),\n",
       "  ('US', '2015-03-06', '524', 'PHX', 'SEA'),\n",
       "  ('US', '2015-03-06', '525', 'CLT', 'FLL'),\n",
       "  ('US', '2015-03-06', '639', 'CLT', 'JFK'),\n",
       "  ('US', '2015-03-06', '639', 'FLL', 'CLT'),\n",
       "  ('US', '2015-03-06', '639', 'JFK', 'PHX'),\n",
       "  ('US', '2015-03-07', '1749', 'CLT', 'LAX'),\n",
       "  ('US', '2015-03-07', '425', 'JFK', 'CLT'),\n",
       "  ('US', '2015-03-07', '425', 'PHX', 'JFK'),\n",
       "  ('US', '2015-03-07', '425', 'SEA', 'PHX'),\n",
       "  ('US', '2015-03-08', '1760', 'CLT', 'FLL'),\n",
       "  ('US', '2015-03-08', '1760', 'LAX', 'CLT'),\n",
       "  ('US', '2015-03-08', '1996', 'CLT', 'PVD'),\n",
       "  ('US', '2015-03-08', '1996', 'FLL', 'CLT'),\n",
       "  ('US', '2015-03-09', '463', 'CLT', 'PHX'),\n",
       "  ('US', '2015-03-09', '879', 'PVD', 'CLT'),\n",
       "  ('US', '2015-03-10', '491', 'PHX', 'LAX'),\n",
       "  ('US', '2015-03-10', '612', 'LAX', 'PHX'),\n",
       "  ('US', '2015-03-10', '612', 'PHX', 'ATL'),\n",
       "  ('US', '2015-03-11', '1836', 'ATL', 'PHX'),\n",
       "  ('US', '2015-03-11', '1836', 'PHX', 'LAS'),\n",
       "  ('US', '2015-03-11', '478', 'LAS', 'DCA'),\n",
       "  ('US', '2015-03-12', '486', 'PHX', 'ORD'),\n",
       "  ('US', '2015-03-12', '486', 'SAN', 'PHX'),\n",
       "  ('US', '2015-03-12', '679', 'DCA', 'PHX'),\n",
       "  ('US', '2015-03-12', '679', 'PHX', 'SAN'),\n",
       "  ('US', '2015-03-13', '471', 'LAS', 'PHX'),\n",
       "  ('US', '2015-03-13', '471', 'PHX', 'MSP'),\n",
       "  ('US', '2015-03-13', '585', 'MSP', 'PHX'),\n",
       "  ('US', '2015-03-13', '602', 'ORD', 'PHX'),\n",
       "  ('US', '2015-03-13', '602', 'PHX', 'LAS'),\n",
       "  ('US', '2015-03-14', '569', 'PHX', 'MCO'),\n",
       "  ('US', '2015-03-15', '1854', 'CLT', 'RDU'),\n",
       "  ('US', '2015-03-15', '1854', 'LAS', 'PHX'),\n",
       "  ('US', '2015-03-15', '1854', 'PHX', 'CLT'),\n",
       "  ('US', '2015-03-15', '561', 'MCO', 'PHX'),\n",
       "  ('US', '2015-03-15', '561', 'PHX', 'LAS'),\n",
       "  ('US', '2015-03-16', '1740', 'DEN', 'CLT'),\n",
       "  ('US', '2015-03-16', '1817', 'CLT', 'RSW'),\n",
       "  ('US', '2015-03-16', '445', 'CLT', 'DEN'),\n",
       "  ('US', '2015-03-16', '445', 'RDU', 'CLT'),\n",
       "  ('US', '2015-03-17', '1820', 'PHX', 'CLT'),\n",
       "  ('US', '2015-03-17', '1897', 'CLT', 'ATL'),\n",
       "  ('US', '2015-03-17', '670', 'CLT', 'PHX'),\n",
       "  ('US', '2015-03-17', '670', 'RSW', 'CLT'),\n",
       "  ('US', '2015-03-18', '1971', 'SFO', 'CLT'),\n",
       "  ('US', '2015-03-18', '461', 'ATL', 'CLT'),\n",
       "  ('US', '2015-03-18', '461', 'CLT', 'SFO'),\n",
       "  ('US', '2015-03-19', '2091', 'CLT', 'DFW'),\n",
       "  ('US', '2015-03-19', '2091', 'DFW', 'CLT'),\n",
       "  ('US', '2015-03-19', '695', 'CLT', 'PHX'),\n",
       "  ('US', '2015-03-19', '695', 'PHX', 'LAX'),\n",
       "  ('US', '2015-03-20', '1799', 'EWR', 'CLT'),\n",
       "  ('US', '2015-03-20', '1817', 'LAX', 'CLT'),\n",
       "  ('US', '2015-03-20', '1936', 'CLT', 'EWR'),\n",
       "  ('US', '2015-03-21', '1932', 'CLT', 'PHL'),\n",
       "  ('US', '2015-03-21', '591', 'PHL', 'DEN'),\n",
       "  ('US', '2015-03-22', '583', 'DEN', 'PHL'),\n",
       "  ('US', '2015-03-22', '676', 'PHL', 'LAS'),\n",
       "  ('US', '2015-03-22', '705', 'LAS', 'PHX'),\n",
       "  ('US', '2015-03-23', '409', 'ORD', 'PHX'),\n",
       "  ('US', '2015-03-23', '465', 'PHX', 'ORD'),\n",
       "  ('US', '2015-03-23', '563', 'PHX', 'SAN'),\n",
       "  ('US', '2015-03-23', '579', 'SAN', 'CLT'),\n",
       "  ('US', '2015-03-24', '428', 'CLT', 'DEN'),\n",
       "  ('US', '2015-03-24', '428', 'DEN', 'CLT'),\n",
       "  ('US', '2015-03-24', '637', 'CLT', 'LAS'),\n",
       "  ('US', '2015-03-25', '436', 'LAS', 'CLT'),\n",
       "  ('US', '2015-03-25', '705', 'CLT', 'LAS'),\n",
       "  ('US', '2015-03-26', '1704', 'MCO', 'CLT'),\n",
       "  ('US', '2015-03-26', '1749', 'CLT', 'LAX'),\n",
       "  ('US', '2015-03-26', '1772', 'CLT', 'DFW'),\n",
       "  ('US', '2015-03-26', '1772', 'LAS', 'CLT'),\n",
       "  ('US', '2015-03-26', '1899', 'CLT', 'MCO'),\n",
       "  ('US', '2015-03-26', '541', 'DFW', 'CLT'),\n",
       "  ('US', '2015-03-27', '2050', 'CLT', 'LGA'),\n",
       "  ('US', '2015-03-27', '2050', 'LAX', 'CLT'),\n",
       "  ('US', '2015-03-27', '499', 'CLT', 'DEN'),\n",
       "  ('US', '2015-03-27', '890', 'LGA', 'CLT'),\n",
       "  ('US', '2015-03-28', '1725', 'CLT', 'MCO'),\n",
       "  ('US', '2015-03-28', '1725', 'DEN', 'CLT'),\n",
       "  ('US', '2015-03-28', '431', 'LAS', 'CLT'),\n",
       "  ('US', '2015-03-28', '691', 'CLT', 'MCO'),\n",
       "  ('US', '2015-03-28', '705', 'CLT', 'LAS'),\n",
       "  ('US', '2015-03-28', '724', 'MCO', 'CLT'),\n",
       "  ('US', '2015-03-28', '831', 'MCO', 'CLT'),\n",
       "  ('US', '2015-03-29', '1832', 'CLT', 'EWR'),\n",
       "  ('US', '2015-03-29', '2046', 'EWR', 'CLT'),\n",
       "  ('US', '2015-03-29', '626', 'CLT', 'PHX'),\n",
       "  ('US', '2015-03-29', '671', 'PHX', 'PDX'),\n",
       "  ('US', '2015-03-30', '563', 'PHX', 'SAN'),\n",
       "  ('US', '2015-03-30', '568', 'PDX', 'PHX'),\n",
       "  ('US', '2015-03-30', '568', 'PHX', 'TPA'),\n",
       "  ('US', '2015-03-30', '579', 'SAN', 'CLT'),\n",
       "  ('US', '2015-03-30', '608', 'TPA', 'PHX'),\n",
       "  ('US', '2015-03-31', '1779', 'PHL', 'CLT'),\n",
       "  ('US', '2015-03-31', '1803', 'CLT', 'PHX'),\n",
       "  ('US', '2015-03-31', '1803', 'PHX', 'PHL'),\n",
       "  ('US', '2015-03-31', '1857', 'CLT', 'MCO'),\n",
       "  ('US', '2015-04-01', '1727', 'LAS', 'PHL'),\n",
       "  ('US', '2015-04-01', '1727', 'PHL', 'LAS'),\n",
       "  ('US', '2015-04-01', '1757', 'MCO', 'PHL'),\n",
       "  ('US', '2015-04-02', '451', 'CLT', 'SLC'),\n",
       "  ('US', '2015-04-02', '577', 'PHL', 'LAS'),\n",
       "  ('US', '2015-04-02', '706', 'LAS', 'CLT'),\n",
       "  ('US', '2015-04-03', '1714', 'PHL', 'LAX'),\n",
       "  ('US', '2015-04-03', '1993', 'CLT', 'LAX'),\n",
       "  ('US', '2015-04-03', '448', 'SLC', 'CLT'),\n",
       "  ('US', '2015-04-03', '796', 'LAX', 'PHL'),\n",
       "  ('US', '2015-04-04', '635', 'LAX', 'PHX'),\n",
       "  ('US', '2015-04-04', '635', 'PHX', 'FLL'),\n",
       "  ('US', '2015-04-04', '671', 'FLL', 'PHX'),\n",
       "  ('US', '2015-04-05', '443', 'SLC', 'PHX'),\n",
       "  ('US', '2015-04-05', '455', 'PHX', 'SLC'),\n",
       "  ('US', '2015-04-05', '895', 'PHX', 'ORD'),\n",
       "  ('US', '2015-04-06', '551', 'PHX', 'DFW'),\n",
       "  ('US', '2015-04-06', '628', 'CLT', 'PHX'),\n",
       "  ('US', '2015-04-06', '628', 'ORD', 'CLT'),\n",
       "  ('US', '2015-04-07', '437', 'PHX', 'ORD'),\n",
       "  ('US', '2015-04-07', '437', 'SLC', 'PHX'),\n",
       "  ('US', '2015-04-07', '457', 'DFW', 'PHX'),\n",
       "  ('US', '2015-04-07', '457', 'PHX', 'SLC'),\n",
       "  ('US', '2015-04-08', '551', 'PHX', 'DFW'),\n",
       "  ('US', '2015-04-08', '628', 'CLT', 'PHX'),\n",
       "  ('US', '2015-04-08', '628', 'ORD', 'CLT'),\n",
       "  ('US', '2015-04-09', '437', 'PHX', 'ORD'),\n",
       "  ('US', '2015-04-09', '437', 'SLC', 'PHX'),\n",
       "  ('US', '2015-04-09', '457', 'DFW', 'PHX'),\n",
       "  ('US', '2015-04-09', '457', 'PHX', 'SLC'),\n",
       "  ('US', '2015-04-10', '407', 'ORD', 'PHX'),\n",
       "  ('US', '2015-04-10', '407', 'PHX', 'SFO'),\n",
       "  ('US', '2015-04-10', '585', 'SFO', 'PHX'),\n",
       "  ('US', '2015-04-11', '1817', 'CLT', 'RSW'),\n",
       "  ('US', '2015-04-11', '691', 'CLT', 'MCO'),\n",
       "  ('US', '2015-04-11', '691', 'PHX', 'CLT'),\n",
       "  ('US', '2015-04-11', '724', 'MCO', 'CLT'),\n",
       "  ('US', '2015-04-12', '475', 'CLT', 'SFO'),\n",
       "  ('US', '2015-04-12', '604', 'RSW', 'CLT'),\n",
       "  ('US', '2015-04-13', '1998', 'CLT', 'BWI'),\n",
       "  ('US', '2015-04-13', '425', 'JFK', 'CLT'),\n",
       "  ('US', '2015-04-13', '425', 'PHX', 'JFK'),\n",
       "  ('US', '2015-04-13', '610', 'SFO', 'PHX'),\n",
       "  ('US', '2015-04-14', '445', 'BWI', 'CLT'),\n",
       "  ('US', '2015-04-15', '1820', 'PHX', 'CLT'),\n",
       "  ('US', '2015-04-15', '670', 'CLT', 'PHX'),\n",
       "  ('US', '2015-04-16', '428', 'CLT', 'DEN'),\n",
       "  ('US', '2015-04-16', '428', 'DEN', 'CLT'),\n",
       "  ('US', '2015-04-16', '637', 'CLT', 'LAS'),\n",
       "  ('US', '2015-04-17', '1999', 'CLT', 'BOS'),\n",
       "  ('US', '2015-04-17', '1999', 'LAS', 'CLT'),\n",
       "  ('US', '2015-04-17', '499', 'BOS', 'CLT'),\n",
       "  ('US', '2015-04-17', '499', 'CLT', 'DEN'),\n",
       "  ('US', '2015-04-18', '1725', 'DEN', 'CLT'),\n",
       "  ('US', '2015-04-18', '1738', 'CLT', 'SJU'),\n",
       "  ('US', '2015-04-18', '1738', 'SJU', 'CLT'),\n",
       "  ('US', '2015-04-18', '721', 'CLT', 'LAX'),\n",
       "  ('US', '2015-04-19', '1798', 'CLT', 'PHL'),\n",
       "  ('US', '2015-04-19', '593', 'LAX', 'PHX'),\n",
       "  ('US', '2015-04-19', '593', 'PHX', 'ORD'),\n",
       "  ('US', '2015-04-19', '643', 'ORD', 'CLT'),\n",
       "  ('US', '2015-04-20', '1892', 'CLT', 'ORD'),\n",
       "  ('US', '2015-04-20', '1892', 'MIA', 'CLT'),\n",
       "  ('US', '2015-04-20', '2055', 'PHL', 'MIA'),\n",
       "  ('US', '2015-04-20', '640', 'ORD', 'PHX'),\n",
       "  ('US', '2015-04-20', '640', 'PHX', 'LAX'),\n",
       "  ('US', '2015-04-21', '1709', 'LAX', 'CLT'),\n",
       "  ('US', '2015-04-21', '747', 'CLT', 'MCO'),\n",
       "  ('US', '2015-04-21', '835', 'CLT', 'SJU'),\n",
       "  ('US', '2015-04-21', '836', 'SJU', 'CLT'),\n",
       "  ('US', '2015-04-22', '2040', 'MCO', 'PHL'),\n",
       "  ('US', '2015-04-22', '2051', 'PHL', 'MIA'),\n",
       "  ('US', '2015-04-22', '710', 'MIA', 'PHL'),\n",
       "  ('US', '2015-04-22', '769', 'PHL', 'MCO'),\n",
       "  ('US', '2015-04-23', '442', 'PHX', 'MCO'),\n",
       "  ('US', '2015-04-23', '450', 'MCO', 'PHX'),\n",
       "  ('US', '2015-04-23', '450', 'PHX', 'SLC'),\n",
       "  ('US', '2015-04-23', '494', 'SLC', 'PHX'),\n",
       "  ('US', '2015-04-24', '1727', 'PHL', 'LAS'),\n",
       "  ('US', '2015-04-24', '1757', 'MCO', 'PHL'),\n",
       "  ('US', '2015-04-24', '1897', 'LAS', 'CLT'),\n",
       "  ('US', '2015-04-25', '1806', 'ORD', 'CLT'),\n",
       "  ('US', '2015-04-25', '1862', 'CLT', 'ORD'),\n",
       "  ('US', '2015-04-26', '721', 'CLT', 'LAX'),\n",
       "  ('US', '2015-04-27', '1865', 'CLT', 'MSP'),\n",
       "  ('US', '2015-04-27', '725', 'CLT', 'MCO'),\n",
       "  ('US', '2015-04-27', '725', 'LAX', 'CLT'),\n",
       "  ('US', '2015-04-27', '746', 'MCO', 'CLT'),\n",
       "  ('US', '2015-04-28', '1843', 'CLT', 'ATL'),\n",
       "  ('US', '2015-04-28', '1843', 'LGA', 'CLT'),\n",
       "  ('US', '2015-04-28', '1910', 'CLT', 'LGA'),\n",
       "  ('US', '2015-04-28', '1910', 'MSP', 'CLT'),\n",
       "  ('US', '2015-04-28', '447', 'ATL', 'CLT'),\n",
       "  ('US', '2015-04-28', '447', 'CLT', 'DEN'),\n",
       "  ('US', '2015-04-29', '686', 'DEN', 'PHL'),\n",
       "  ('US', '2015-04-29', '686', 'PHL', 'PHX'),\n",
       "  ('US', '2015-04-29', '686', 'PHX', 'SFO'),\n",
       "  ('US', '2015-04-30', '1737', 'CLT', 'LAX'),\n",
       "  ('US', '2015-04-30', '1737', 'TPA', 'CLT'),\n",
       "  ('US', '2015-04-30', '1791', 'CLT', 'TPA'),\n",
       "  ('US', '2015-04-30', '1791', 'SFO', 'CLT'),\n",
       "  ('US', '2015-05-01', '406', 'LAX', 'PHX'),\n",
       "  ('US', '2015-05-01', '406', 'PHX', 'DTW'),\n",
       "  ('US', '2015-05-01', '563', 'DTW', 'PHX'),\n",
       "  ('US', '2015-05-02', '521', 'PHX', 'SEA'),\n",
       "  ('US', '2015-05-03', '1800', 'SEA', 'PHL'),\n",
       "  ('US', '2015-05-03', '719', 'PHL', 'SFO'),\n",
       "  ('US', '2015-05-03', '898', 'SFO', 'CLT'),\n",
       "  ('US', '2015-05-04', '2058', 'PHL', 'BOS'),\n",
       "  ('US', '2015-05-04', '402', 'LAS', 'PHL'),\n",
       "  ('US', '2015-05-04', '658', 'CLT', 'LAS'),\n",
       "  ('US', '2015-05-05', '1826', 'BOS', 'PHL'),\n",
       "  ('US', '2015-05-05', '1826', 'PHL', 'PHX'),\n",
       "  ('US', '2015-05-05', '1826', 'PHX', 'LAS'),\n",
       "  ('US', '2015-05-05', '2027', 'LAS', 'PHX'),\n",
       "  ('US', '2015-05-05', '2027', 'PHX', 'MSP'),\n",
       "  ('US', '2015-05-06', '2023', 'MSP', 'PHX'),\n",
       "  ('US', '2015-05-07', '589', 'DCA', 'PHX'),\n",
       "  ('US', '2015-05-07', '595', 'PHX', 'DCA'),\n",
       "  ('US', '2015-05-08', '629', 'PHX', 'SNA'),\n",
       "  ('US', '2015-05-09', '1836', 'PHX', 'LAS'),\n",
       "  ('US', '2015-05-09', '1854', 'LAS', 'PHX'),\n",
       "  ('US', '2015-05-09', '551', 'PHX', 'DFW'),\n",
       "  ('US', '2015-05-09', '593', 'SNA', 'PHX'),\n",
       "  ('US', '2015-05-10', '1982', 'CLT', 'BOS'),\n",
       "  ('US', '2015-05-10', '1982', 'DFW', 'CLT'),\n",
       "  ('US', '2015-05-10', '468', 'BOS', 'CLT'),\n",
       "  ('US', '2015-05-10', '626', 'CLT', 'PHX'),\n",
       "  ('US', '2015-05-10', '639', 'PHX', 'ONT'),\n",
       "  ('US', '2015-05-11', '1844', 'ONT', 'PHX'),\n",
       "  ('US', '2015-05-11', '1844', 'PHX', 'PHL'),\n",
       "  ('US', '2015-05-11', '676', 'PHL', 'LAS'),\n",
       "  ('US', '2015-05-12', '677', 'LAS', 'PHL'),\n",
       "  ('US', '2015-05-12', '717', 'PHL', 'LAX'),\n",
       "  ('US', '2015-05-13', '1709', 'CLT', 'FLL'),\n",
       "  ('US', '2015-05-13', '1709', 'LAX', 'CLT'),\n",
       "  ('US', '2015-05-13', '486', 'PHX', 'ORD'),\n",
       "  ('US', '2015-05-13', '626', 'CLT', 'PHX'),\n",
       "  ('US', '2015-05-13', '626', 'FLL', 'CLT'),\n",
       "  ('US', '2015-05-14', '452', 'ORD', 'PHX'),\n",
       "  ('US', '2015-05-14', '452', 'PHX', 'SAN'),\n",
       "  ('US', '2015-05-14', '454', 'MSP', 'PHX'),\n",
       "  ('US', '2015-05-14', '471', 'PHX', 'MSP'),\n",
       "  ('US', '2015-05-14', '471', 'SAN', 'PHX'),\n",
       "  ('US', '2015-05-15', '409', 'ORD', 'PHX'),\n",
       "  ('US', '2015-05-15', '464', 'PHX', 'DFW'),\n",
       "  ('US', '2015-05-15', '464', 'SAN', 'PHX'),\n",
       "  ('US', '2015-05-15', '465', 'PHX', 'ORD'),\n",
       "  ('US', '2015-05-15', '654', 'PHX', 'SAN'),\n",
       "  ('US', '2015-05-16', '1709', 'CLT', 'FLL'),\n",
       "  ('US', '2015-05-16', '1709', 'DFW', 'CLT'),\n",
       "  ('US', '2015-05-16', '2050', 'FLL', 'CLT'),\n",
       "  ('US', '2015-05-17', '413', 'ATL', 'PHX'),\n",
       "  ('US', '2015-05-17', '413', 'CLT', 'ATL'),\n",
       "  ('US', '2015-05-17', '413', 'PHX', 'SEA'),\n",
       "  ('US', '2015-05-17', '442', 'PHX', 'MCO'),\n",
       "  ('US', '2015-05-17', '442', 'SEA', 'PHX'),\n",
       "  ('US', '2015-05-18', '450', 'MCO', 'PHX'),\n",
       "  ('US', '2015-05-18', '450', 'PHX', 'SLC'),\n",
       "  ('US', '2015-05-18', '494', 'PHX', 'DEN'),\n",
       "  ('US', '2015-05-18', '494', 'SLC', 'PHX'),\n",
       "  ('US', '2015-05-19', '551', 'PHX', 'DFW'),\n",
       "  ('US', '2015-05-19', '551', 'SAN', 'PHX'),\n",
       "  ('US', '2015-05-19', '623', 'DEN', 'PHX'),\n",
       "  ('US', '2015-05-19', '623', 'PHX', 'SAN'),\n",
       "  ('US', '2015-05-20', '1995', 'DFW', 'PHL'),\n",
       "  ('US', '2015-05-20', '1995', 'PHL', 'ORD'),\n",
       "  ('US', '2015-05-20', '429', 'ORD', 'PHL'),\n",
       "  ('US', '2015-05-20', '429', 'PHL', 'SAN'),\n",
       "  ('US', '2015-05-21', '563', 'MCO', 'PHX'),\n",
       "  ('US', '2015-05-21', '563', 'PHX', 'SAN'),\n",
       "  ('US', '2015-05-21', '567', 'PHX', 'MCO'),\n",
       "  ('US', '2015-05-21', '567', 'SAN', 'PHX'),\n",
       "  ('US', '2015-05-21', '579', 'SAN', 'CLT'),\n",
       "  ('US', '2015-05-22', '1843', 'CLT', 'ATL'),\n",
       "  ('US', '2015-05-22', '894', 'ATL', 'CLT'),\n",
       "  ('US', '2015-05-22', '894', 'CLT', 'DFW'),\n",
       "  ('US', '2015-05-23', '1961', 'CLT', 'FLL'),\n",
       "  ('US', '2015-05-23', '1961', 'DFW', 'CLT'),\n",
       "  ('US', '2015-05-23', '2070', 'FLL', 'CLT'),\n",
       "  ('US', '2015-05-23', '703', 'CLT', 'LAS'),\n",
       "  ('US', '2015-05-24', '1772', 'CLT', 'DFW'),\n",
       "  ('US', '2015-05-24', '1772', 'LAS', 'CLT'),\n",
       "  ('US', '2015-05-24', '637', 'CLT', 'LAS'),\n",
       "  ('US', '2015-05-24', '637', 'DFW', 'CLT'),\n",
       "  ('US', '2015-05-25', '1857', 'CLT', 'MCO'),\n",
       "  ('US', '2015-05-25', '1999', 'CLT', 'BOS'),\n",
       "  ('US', '2015-05-25', '1999', 'LAS', 'CLT'),\n",
       "  ('US', '2015-05-25', '499', 'BOS', 'CLT'),\n",
       "  ('US', '2015-05-26', '1793', 'DFW', 'CLT'),\n",
       "  ('US', '2015-05-26', '1898', 'CLT', 'JFK'),\n",
       "  ('US', '2015-05-26', '1987', 'CLT', 'ORD'),\n",
       "  ('US', '2015-05-26', '1987', 'MCO', 'CLT'),\n",
       "  ('US', '2015-05-26', '891', 'CLT', 'DFW'),\n",
       "  ('US', '2015-05-26', '891', 'ORD', 'CLT'),\n",
       "  ('US', '2015-05-27', '413', 'ATL', 'PHX'),\n",
       "  ('US', '2015-05-27', '413', 'CLT', 'ATL'),\n",
       "  ('US', '2015-05-27', '413', 'JFK', 'CLT'),\n",
       "  ('US', '2015-05-27', '413', 'PHX', 'SEA'),\n",
       "  ('US', '2015-05-27', '442', 'PHX', 'MCO'),\n",
       "  ('US', '2015-05-27', '442', 'SEA', 'PHX'),\n",
       "  ('US', '2015-05-28', '1788', 'RSW', 'CLT'),\n",
       "  ('US', '2015-05-28', '1897', 'CLT', 'ATL'),\n",
       "  ('US', '2015-05-28', '1982', 'CLT', 'BOS'),\n",
       "  ('US', '2015-05-28', '1982', 'MCO', 'CLT'),\n",
       "  ('US', '2015-05-28', '2046', 'BOS', 'CLT'),\n",
       "  ('US', '2015-05-28', '2046', 'CLT', 'RSW'),\n",
       "  ('US', '2015-05-29', '2058', 'LAS', 'PHL'),\n",
       "  ('US', '2015-05-29', '658', 'ATL', 'CLT'),\n",
       "  ('US', '2015-05-29', '658', 'CLT', 'LAS'),\n",
       "  ('US', '2015-05-29', '851', 'PHL', 'DEN'),\n",
       "  ('US', '2015-05-30', '2068', 'CLT', 'LGA'),\n",
       "  ('US', '2015-05-30', '2068', 'DEN', 'CLT'),\n",
       "  ('US', '2015-05-30', '894', 'CLT', 'DFW'),\n",
       "  ('US', '2015-05-30', '894', 'LGA', 'CLT'),\n",
       "  ('US', '2015-05-31', '1787', 'CLT', 'PDX'),\n",
       "  ('US', '2015-05-31', '1930', 'PDX', 'CLT'),\n",
       "  ('US', '2015-05-31', '720', 'DFW', 'PHX'),\n",
       "  ('US', '2015-05-31', '720', 'PHX', 'CLT'),\n",
       "  ('US', '2015-06-01', '469', 'CLT', 'ATL'),\n",
       "  ('US', '2015-06-01', '691', 'ATL', 'CLT'),\n",
       "  ('US', '2015-06-01', '691', 'CLT', 'MCO'),\n",
       "  ('US', '2015-06-01', '703', 'CLT', 'LAS'),\n",
       "  ('US', '2015-06-01', '724', 'MCO', 'CLT'),\n",
       "  ('US', '2015-06-02', '1917', 'PHL', 'LAX'),\n",
       "  ('US', '2015-06-02', '1926', 'LAX', 'PHL'),\n",
       "  ('US', '2015-06-02', '677', 'LAS', 'PHL'),\n",
       "  ('US', '2015-06-03', '1996', 'CLT', 'PVD'),\n",
       "  ('US', '2015-06-03', '1996', 'LAX', 'CLT'),\n",
       "  ('US', '2015-06-03', '797', 'PHL', 'LAX'),\n",
       "  ('US', '2015-06-04', '1954', 'CLT', 'LGA'),\n",
       "  ('US', '2015-06-04', '885', 'PVD', 'CLT'),\n",
       "  ('US', '2015-06-05', '1951', 'CLT', 'PHX'),\n",
       "  ('US', '2015-06-05', '1951', 'LGA', 'CLT'),\n",
       "  ('US', '2015-06-05', '544', 'PHX', 'DFW'),\n",
       "  ('US', '2015-06-05', '639', 'DFW', 'PHX'),\n",
       "  ('US', '2015-06-05', '639', 'PHX', 'ONT'),\n",
       "  ('US', '2015-06-06', '453', 'PHX', 'ORD'),\n",
       "  ('US', '2015-06-06', '453', 'SAN', 'PHX'),\n",
       "  ('US', '2015-06-06', '470', 'CLT', 'SAN'),\n",
       "  ('US', '2015-06-06', '620', 'ONT', 'PHX'),\n",
       "  ('US', '2015-06-06', '620', 'PHX', 'CLT'),\n",
       "  ('US', '2015-06-07', '437', 'SLC', 'PHX'),\n",
       "  ('US', '2015-06-07', '457', 'ORD', 'PHX'),\n",
       "  ('US', '2015-06-07', '457', 'PHX', 'SLC'),\n",
       "  ('US', '2015-06-07', '566', 'PHX', 'MCO'),\n",
       "  ('US', '2015-06-08', '1803', 'PHX', 'PHL'),\n",
       "  ('US', '2015-06-08', '556', 'MCO', 'PHX'),\n",
       "  ('US', '2015-06-09', '1704', 'CLT', 'BDL'),\n",
       "  ('US', '2015-06-09', '713', 'PHL', 'CLT'),\n",
       "  ('US', '2015-06-10', '1898', 'CLT', 'JFK'),\n",
       "  ('US', '2015-06-10', '1898', 'PHX', 'CLT'),\n",
       "  ('US', '2015-06-10', '670', 'BDL', 'CLT'),\n",
       "  ('US', '2015-06-10', '670', 'CLT', 'PHX'),\n",
       "  ('US', '2015-06-11', '413', 'ATL', 'PHX'),\n",
       "  ('US', '2015-06-11', '413', 'CLT', 'ATL'),\n",
       "  ('US', '2015-06-11', '413', 'JFK', 'CLT'),\n",
       "  ('US', '2015-06-11', '494', 'PHX', 'DEN'),\n",
       "  ('US', '2015-06-11', '514', 'SNA', 'PHX'),\n",
       "  ('US', '2015-06-11', '667', 'PHX', 'SNA'),\n",
       "  ('US', '2015-06-12', '546', 'DFW', 'PHX'),\n",
       "  ('US', '2015-06-12', '551', 'PHX', 'DFW'),\n",
       "  ('US', '2015-06-12', '551', 'SAN', 'PHX'),\n",
       "  ('US', '2015-06-12', '623', 'DEN', 'PHX'),\n",
       "  ('US', '2015-06-12', '623', 'PHX', 'SAN'),\n",
       "  ('US', '2015-06-13', '2010', 'PHX', 'LAX'),\n",
       "  ('US', '2015-06-13', '546', 'DFW', 'PHX'),\n",
       "  ('US', '2015-06-13', '551', 'PHX', 'DFW'),\n",
       "  ('US', '2015-06-13', '551', 'SAN', 'PHX'),\n",
       "  ('US', '2015-06-13', '623', 'PHX', 'SAN'),\n",
       "  ('US', '2015-06-14', '1860', 'CLT', 'LGA'),\n",
       "  ('US', '2015-06-14', '1972', 'CLT', 'EWR'),\n",
       "  ('US', '2015-06-14', '1972', 'LAX', 'CLT'),\n",
       "  ('US', '2015-06-14', '681', 'EWR', 'CLT'),\n",
       "  ('US', '2015-06-15', '1951', 'CLT', 'PHX'),\n",
       "  ('US', '2015-06-15', '1951', 'LGA', 'CLT'),\n",
       "  ('US', '2015-06-15', '467', 'MSP', 'PHX'),\n",
       "  ('US', '2015-06-15', '471', 'PHX', 'MSP'),\n",
       "  ('US', '2015-06-16', '491', 'LAX', 'PHX'),\n",
       "  ('US', '2015-06-16', '491', 'PHX', 'LAX'),\n",
       "  ('US', '2015-06-16', '566', 'PHX', 'MCO'),\n",
       "  ('US', '2015-06-17', '1729', 'CLT', 'MCO'),\n",
       "  ('US', '2015-06-17', '1735', 'MCO', 'CLT'),\n",
       "  ('US', '2015-06-17', '2029', 'CLT', 'SFO'),\n",
       "  ('US', '2015-06-17', '2029', 'MCO', 'CLT'),\n",
       "  ('US', '2015-06-18', '1851', 'ATL', 'CLT'),\n",
       "  ('US', '2015-06-18', '1851', 'CLT', 'ORD'),\n",
       "  ('US', '2015-06-18', '610', 'PHX', 'ATL'),\n",
       "  ('US', '2015-06-18', '610', 'SFO', 'PHX'),\n",
       "  ('US', '2015-06-18', '629', 'ORD', 'PHX'),\n",
       "  ('US', '2015-06-19', '1806', 'CLT', 'BOS'),\n",
       "  ('US', '2015-06-19', '1806', 'ORD', 'CLT'),\n",
       "  ('US', '2015-06-19', '465', 'PHX', 'ORD'),\n",
       "  ('US', '2015-06-20', '1826', 'BOS', 'PHL'),\n",
       "  ('US', '2015-06-20', '1826', 'PHL', 'PHX'),\n",
       "  ('US', '2015-06-20', '1826', 'PHX', 'LAS'),\n",
       "  ('US', '2015-06-20', '494', 'LAS', 'PHX'),\n",
       "  ('US', '2015-06-20', '494', 'PHX', 'DEN'),\n",
       "  ('US', '2015-06-21', '2068', 'CLT', 'LGA'),\n",
       "  ('US', '2015-06-21', '2068', 'DEN', 'CLT'),\n",
       "  ('US', '2015-06-21', '861', 'CLT', 'ATL'),\n",
       "  ('US', '2015-06-21', '861', 'LGA', 'CLT'),\n",
       "  ('US', '2015-06-22', '1836', 'ATL', 'PHX'),\n",
       "  ('US', '2015-06-22', '463', 'PHX', 'SEA'),\n",
       "  ('US', '2015-06-22', '546', 'DFW', 'PHX'),\n",
       "  ('US', '2015-06-22', '551', 'PHX', 'DFW'),\n",
       "  ('US', '2015-06-22', '551', 'SAN', 'PHX'),\n",
       "  ('US', '2015-06-22', '623', 'PHX', 'SAN'),\n",
       "  ('US', '2015-06-23', '1737', 'SEA', 'PHX'),\n",
       "  ('US', '2015-06-23', '406', 'PHX', 'DTW'),\n",
       "  ('US', '2015-06-23', '603', 'DTW', 'PHX'),\n",
       "  ('US', '2015-06-23', '603', 'PHX', 'SEA'),\n",
       "  ('US', '2015-06-24', '1704', 'LAX', 'CLT'),\n",
       "  ('US', '2015-06-24', '1925', 'SEA', 'CLT'),\n",
       "  ('US', '2015-06-24', '2057', 'CLT', 'LAX'),\n",
       "  ('US', '2015-06-24', '557', 'CLT', 'SFO'),\n",
       "  ('US', '2015-06-25', '1791', 'CLT', 'TPA'),\n",
       "  ('US', '2015-06-25', '1791', 'SFO', 'CLT'),\n",
       "  ('US', '2015-06-25', '423', 'TPA', 'CLT'),\n",
       "  ('US', '2015-06-25', '557', 'CLT', 'SFO'),\n",
       "  ('US', '2015-06-26', '718', 'SFO', 'PHL'),\n",
       "  ('US', '2015-06-26', '719', 'PHL', 'SFO'),\n",
       "  ('US', '2015-06-26', '898', 'SFO', 'CLT'),\n",
       "  ('US', '2015-06-27', '1993', 'CLT', 'LAX'),\n",
       "  ('US', '2015-06-27', '419', 'PHL', 'LAS'),\n",
       "  ('US', '2015-06-27', '796', 'LAX', 'PHL'),\n",
       "  ('US', '2015-06-28', '477', 'PHX', 'IAH'),\n",
       "  ('US', '2015-06-28', '477', 'SFO', 'PHX'),\n",
       "  ('US', '2015-06-28', '672', 'PHL', 'SFO'),\n",
       "  ('US', '2015-06-28', '677', 'LAS', 'PHL'),\n",
       "  ('US', '2015-06-29', '2053', 'CLT', 'TPA'),\n",
       "  ('US', '2015-06-29', '2053', 'IAH', 'CLT'),\n",
       "  ('US', '2015-06-29', '2053', 'TPA', 'PHL'),\n",
       "  ('US', '2015-06-29', '766', 'PHL', 'MCO'),\n",
       "  ('US', '2015-06-30', '1803', 'PHX', 'PHL'),\n",
       "  ('US', '2015-06-30', '1897', 'CLT', 'ATL'),\n",
       "  ('US', '2015-06-30', '1897', 'PHL', 'CLT'),\n",
       "  ('US', '2015-06-30', '556', 'MCO', 'PHX'),\n",
       "  ('AA', '2015-07-01', '426', 'PHL', 'PHX'),\n",
       "  ('AA', '2015-07-01', '658', 'ATL', 'CLT'),\n",
       "  ('AA', '2015-07-01', '658', 'CLT', 'LAS'),\n",
       "  ('AA', '2015-07-01', '658', 'LAS', 'PHL'),\n",
       "  ('AA', '2015-07-02', '409', 'ORD', 'PHX'),\n",
       "  ('AA', '2015-07-02', '409', 'PHX', 'PDX'),\n",
       "  ('AA', '2015-07-02', '465', 'PHX', 'ORD'),\n",
       "  ('AA', '2015-07-02', '570', 'PDX', 'PHX'),\n",
       "  ('AA', '2015-07-02', '570', 'PHX', 'MCO'),\n",
       "  ('AA', '2015-07-03', '1735', 'CLT', 'LAS'),\n",
       "  ('AA', '2015-07-03', '1735', 'MCO', 'CLT'),\n",
       "  ('AA', '2015-07-03', '1788', 'LAS', 'CLT'),\n",
       "  ('AA', '2015-07-03', '1793', 'CLT', 'PIT'),\n",
       "  ('AA', '2015-07-04', '1951', 'CLT', 'PHX'),\n",
       "  ('AA', '2015-07-04', '644', 'PHX', 'ONT'),\n",
       "  ('AA', '2015-07-04', '835', 'PIT', 'CLT'),\n",
       "  ('AA', '2015-07-05', '620', 'ONT', 'PHX'),\n",
       "  ('AA', '2015-07-05', '620', 'PHX', 'CLT'),\n",
       "  ('AA', '2015-07-05', '708', 'CLT', 'LAX'),\n",
       "  ('AA', '2015-07-06', '719', 'PHL', 'SFO'),\n",
       "  ('AA', '2015-07-06', '754', 'LAX', 'PHL'),\n",
       "  ('AA', '2015-07-07', '1954', 'CLT', 'LGA'),\n",
       "  ('AA', '2015-07-07', '1954', 'PHX', 'CLT'),\n",
       "  ('AA', '2015-07-07', '1954', 'SFO', 'PHX'),\n",
       "  ('AA', '2015-07-08', '1871', 'CLT', 'TPA'),\n",
       "  ('AA', '2015-07-08', '826', 'LGA', 'CLT'),\n",
       "  ('AA', '2015-07-09', '1787', 'BOS', 'CLT'),\n",
       "  ('AA', '2015-07-09', '1937', 'CLT', 'BOS'),\n",
       "  ('AA', '2015-07-09', '1937', 'TPA', 'CLT'),\n",
       "  ('AA', '2015-07-09', '468', 'CLT', 'DEN'),\n",
       "  ('AA', '2015-07-10', '686', 'DEN', 'PHL'),\n",
       "  ('AA', '2015-07-10', '686', 'PHL', 'PHX'),\n",
       "  ('AA', '2015-07-10', '686', 'PHX', 'SFO'),\n",
       "  ('AA', '2015-07-11', '1861', 'CLT', 'RDU'),\n",
       "  ('AA', '2015-07-11', '861', 'PHX', 'CLT'),\n",
       "  ('AA', '2015-07-11', '861', 'SFO', 'PHX'),\n",
       "  ('AA', '2015-07-12', '1726', 'CLT', 'ATL'),\n",
       "  ('AA', '2015-07-12', '2053', 'RDU', 'CLT'),\n",
       "  ('AA', '2015-07-12', '626', 'ATL', 'CLT'),\n",
       "  ('AA', '2015-07-12', '626', 'CLT', 'PHX'),\n",
       "  ('AA', '2015-07-12', '626', 'PHX', 'PHL'),\n",
       "  ('AA', '2015-07-13', '1835', 'PHL', 'TPA'),\n",
       "  ('AA', '2015-07-13', '1835', 'TPA', 'CLT'),\n",
       "  ('AA', '2015-07-13', '626', 'CLT', 'PHX'),\n",
       "  ('AA', '2015-07-13', '660', 'PHX', 'SNA'),\n",
       "  ('AA', '2015-07-13', '689', 'SNA', 'PHX'),\n",
       "  ('AA', '2015-07-14', '409', 'ORD', 'PHX'),\n",
       "  ('AA', '2015-07-14', '409', 'PHX', 'PDX'),\n",
       "  ('AA', '2015-07-14', '465', 'PHX', 'ORD'),\n",
       "  ('AA', '2015-07-14', '570', 'PDX', 'PHX'),\n",
       "  ('AA', '2015-07-14', '570', 'PHX', 'MCO'),\n",
       "  ('AA', '2015-07-15', '1735', 'MCO', 'CLT'),\n",
       "  ('AA', '2015-07-15', '1787', 'BOS', 'CLT'),\n",
       "  ('AA', '2015-07-15', '1787', 'CLT', 'PDX'),\n",
       "  ('AA', '2015-07-15', '1930', 'PDX', 'CLT'),\n",
       "  ('AA', '2015-07-15', '1937', 'CLT', 'BOS'),\n",
       "  ('AA', '2015-07-16', '1740', 'DEN', 'CLT'),\n",
       "  ('AA', '2015-07-16', '1799', 'CLT', 'SFO'),\n",
       "  ('AA', '2015-07-16', '445', 'CLT', 'DEN'),\n",
       "  ('AA', '2015-07-17', '1954', 'SFO', 'PHX'),\n",
       "  ('AA', '2015-07-17', '517', 'ORD', 'PHX'),\n",
       "  ('AA', '2015-07-17', '785', 'PHX', 'LAS'),\n",
       "  ('AA', '2015-07-17', '895', 'PHX', 'ORD'),\n",
       "  ('AA', '2015-07-18', '703', 'BWI', 'PHX'),\n",
       "  ('AA', '2015-07-18', '703', 'CLT', 'BWI'),\n",
       "  ('AA', '2015-07-18', '703', 'PHX', 'PDX'),\n",
       "  ('AA', '2015-07-18', '883', 'LAS', 'CLT'),\n",
       "  ('AA', '2015-07-19', '1737', 'JFK', 'CLT'),\n",
       "  ('AA', '2015-07-19', '1737', 'PHX', 'JFK'),\n",
       "  ('AA', '2015-07-19', '1812', 'CLT', 'BOS'),\n",
       "  ('AA', '2015-07-19', '593', 'PDX', 'PHX'),\n",
       "  ('AA', '2015-07-20', '425', 'SEA', 'PHX'),\n",
       "  ('AA', '2015-07-20', '466', 'BOS', 'CLT'),\n",
       "  ('AA', '2015-07-20', '466', 'CLT', 'DEN'),\n",
       "  ('AA', '2015-07-20', '521', 'DEN', 'PHX'),\n",
       "  ('AA', '2015-07-20', '521', 'PHX', 'SEA'),\n",
       "  ('AA', '2015-07-20', '550', 'PHX', 'BOS'),\n",
       "  ('AA', '2015-07-21', '450', 'BOS', 'PHX'),\n",
       "  ('AA', '2015-07-21', '450', 'PHX', 'SLC'),\n",
       "  ('AA', '2015-07-21', '494', 'SLC', 'PHX'),\n",
       "  ('AA', '2015-07-21', '603', 'PHX', 'SEA'),\n",
       "  ('AA', '2015-07-22', '1800', 'SEA', 'PHL'),\n",
       "  ('AA', '2015-07-22', '755', 'PHL', 'LAX'),\n",
       "  ('AA', '2015-07-23', '1972', 'LAX', 'CLT'),\n",
       "  ('AA', '2015-07-23', '2026', 'PHX', 'PHL'),\n",
       "  ('AA', '2015-07-23', '603', 'BOS', 'PHX'),\n",
       "  ('AA', '2015-07-23', '603', 'CLT', 'BOS'),\n",
       "  ('AA', '2015-07-24', '2055', 'MIA', 'CLT'),\n",
       "  ('AA', '2015-07-24', '2055', 'PHL', 'MIA'),\n",
       "  ('AA', '2015-07-24', '431', 'LAS', 'CLT'),\n",
       "  ('AA', '2015-07-24', '676', 'PHL', 'LAS'),\n",
       "  ('AA', '2015-07-24', '716', 'CLT', 'PHL'),\n",
       "  ('AA', '2015-07-25', '1747', 'SAN', 'CLT'),\n",
       "  ('AA', '2015-07-25', '1975', 'CLT', 'LAX'),\n",
       "  ('AA', '2015-07-25', '487', 'CLT', 'SAN'),\n",
       "  ('AA', '2015-07-26', '1742', 'LAX', 'CLT'),\n",
       "  ('AA', '2015-07-26', '550', 'LAX', 'PHX'),\n",
       "  ('AA', '2015-07-26', '550', 'PHX', 'BOS'),\n",
       "  ('AA', '2015-07-26', '721', 'CLT', 'LAX'),\n",
       "  ('AA', '2015-07-27', '450', 'BOS', 'PHX'),\n",
       "  ('AA', '2015-07-27', '450', 'PHX', 'SLC'),\n",
       "  ('AA', '2015-07-27', '494', 'PHX', 'DEN'),\n",
       "  ('AA', '2015-07-27', '494', 'SLC', 'PHX'),\n",
       "  ('AA', '2015-07-28', '1740', 'CLT', 'LGA'),\n",
       "  ('AA', '2015-07-28', '2068', 'DEN', 'CLT'),\n",
       "  ('AA', '2015-07-29', '1896', 'PHX', 'PHL'),\n",
       "  ('AA', '2015-07-29', '1951', 'CLT', 'PHX'),\n",
       "  ('AA', '2015-07-29', '1951', 'LGA', 'CLT'),\n",
       "  ('AA', '2015-07-29', '492', 'PHL', 'DFW'),\n",
       "  ('AA', '2015-07-29', '606', 'DFW', 'PHX'),\n",
       "  ('AA', '2015-07-29', '606', 'PHX', 'ONT'),\n",
       "  ('AA', '2015-07-30', '1737', 'CLT', 'LAX'),\n",
       "  ('AA', '2015-07-30', '1737', 'JFK', 'CLT'),\n",
       "  ('AA', '2015-07-30', '1737', 'PHX', 'JFK'),\n",
       "  ('AA', '2015-07-30', '620', 'ONT', 'PHX'),\n",
       "  ('AA', '2015-07-31', '409', 'PHX', 'PDX'),\n",
       "  ('AA', '2015-07-31', '570', 'PDX', 'PHX'),\n",
       "  ('AA', '2015-07-31', '649', 'LAX', 'PHX'),\n",
       "  ('AA', '2015-08-01', '1857', 'CLT', 'MCO'),\n",
       "  ('AA', '2015-08-01', '752', 'CLT', 'SJU'),\n",
       "  ('AA', '2015-08-01', '753', 'SJU', 'CLT'),\n",
       "  ('AA', '2015-08-01', '840', 'PHX', 'CLT'),\n",
       "  ('AA', '2015-08-02', '658', 'CLT', 'LAS'),\n",
       "  ('AA', '2015-08-02', '658', 'MCO', 'CLT'),\n",
       "  ('AA', '2015-08-02', '734', 'LAS', 'PHL'),\n",
       "  ('AA', '2015-08-03', '2051', 'PHL', 'MIA'),\n",
       "  ('AA', '2015-08-03', '710', 'MIA', 'PHL'),\n",
       "  ('AA', '2015-08-03', '719', 'PHL', 'SFO'),\n",
       "  ('AA', '2015-08-03', '898', 'SFO', 'CLT'),\n",
       "  ('AA', '2015-08-04', '2062', 'CLT', 'LGA'),\n",
       "  ('AA', '2015-08-04', '547', 'PHX', 'DFW'),\n",
       "  ('AA', '2015-08-04', '629', 'CLT', 'ORD'),\n",
       "  ('AA', '2015-08-04', '629', 'LGA', 'CLT'),\n",
       "  ('AA', '2015-08-04', '629', 'ORD', 'PHX'),\n",
       "  ('AA', '2015-08-05', '437', 'ORD', 'PHL'),\n",
       "  ('AA', '2015-08-05', '437', 'PHX', 'ORD'),\n",
       "  ('AA', '2015-08-05', '437', 'SLC', 'PHX'),\n",
       "  ('AA', '2015-08-05', '457', 'DFW', 'PHX'),\n",
       "  ('AA', '2015-08-05', '457', 'PHX', 'SLC'),\n",
       "  ('AA', '2015-08-06', '1854', 'PHX', 'CLT'),\n",
       "  ('AA', '2015-08-06', '551', 'PHL', 'SFO'),\n",
       "  ('AA', '2015-08-06', '551', 'SFO', 'PHX'),\n",
       "  ('AA', '2015-08-07', '1901', 'LGA', 'CLT'),\n",
       "  ('AA', '2015-08-07', '1998', 'CLT', 'BWI'),\n",
       "  ('AA', '2015-08-07', '2050', 'CLT', 'LGA'),\n",
       "  ('AA', '2015-08-08', '1943', 'BWI', 'CLT'),\n",
       "  ('AA', '2015-08-08', '1943', 'CLT', 'SEA'),\n",
       "  ('AA', '2015-08-08', '890', 'CLT', 'DFW'),\n",
       "  ('AA', '2015-08-08', '890', 'SEA', 'CLT'),\n",
       "  ('AA', '2015-08-09', '1709', 'CLT', 'FLL'),\n",
       "  ('AA', '2015-08-09', '1709', 'DFW', 'CLT'),\n",
       "  ('AA', '2015-08-09', '637', 'CLT', 'LAS'),\n",
       "  ('AA', '2015-08-09', '637', 'FLL', 'CLT'),\n",
       "  ('AA', '2015-08-10', '1901', 'CLT', 'SEA'),\n",
       "  ('AA', '2015-08-10', '1901', 'LGA', 'CLT'),\n",
       "  ('AA', '2015-08-10', '2050', 'CLT', 'LGA'),\n",
       "  ('AA', '2015-08-10', '2050', 'LAS', 'CLT'),\n",
       "  ('AA', '2015-08-11', '1800', 'SEA', 'PHL'),\n",
       "  ('AA', '2015-08-11', '1930', 'PDX', 'CLT'),\n",
       "  ('AA', '2015-08-11', '417', 'PHL', 'PDX'),\n",
       "  ('AA', '2015-08-12', '1711', 'ATL', 'CLT'),\n",
       "  ('AA', '2015-08-12', '1984', 'CLT', 'EWR'),\n",
       "  ('AA', '2015-08-12', '518', 'LAS', 'PHX'),\n",
       "  ('AA', '2015-08-12', '518', 'PHX', 'BWI'),\n",
       "  ('AA', '2015-08-12', '705', 'CLT', 'LAS'),\n",
       "  ('AA', '2015-08-12', '873', 'CLT', 'ATL'),\n",
       "  ('AA', '2015-08-12', '873', 'EWR', 'CLT'),\n",
       "  ('AA', '2015-08-13', '1831', 'BWI', 'CLT'),\n",
       "  ('AA', '2015-08-13', '1898', 'PHX', 'CLT'),\n",
       "  ('AA', '2015-08-13', '670', 'CLT', 'PHX'),\n",
       "  ('AA', '2015-08-14', '1854', 'LAS', 'PHX'),\n",
       "  ('AA', '2015-08-14', '1854', 'PHX', 'CLT'),\n",
       "  ('AA', '2015-08-14', '561', 'CLT', 'PHX'),\n",
       "  ('AA', '2015-08-14', '561', 'PHX', 'LAS'),\n",
       "  ('AA', '2015-08-15', '1703', 'CLT', 'DFW'),\n",
       "  ('AA', '2015-08-15', '518', 'LAS', 'PHX'),\n",
       "  ('AA', '2015-08-15', '518', 'PHX', 'BWI'),\n",
       "  ('AA', '2015-08-15', '608', 'DFW', 'CLT'),\n",
       "  ('AA', '2015-08-15', '691', 'CLT', 'MCO'),\n",
       "  ('AA', '2015-08-15', '705', 'CLT', 'LAS'),\n",
       "  ('AA', '2015-08-15', '724', 'MCO', 'CLT'),\n",
       "  ('AA', '2015-08-16', '1967', 'BWI', 'CLT'),\n",
       "  ('AA', '2015-08-17', '1703', 'CLT', 'DFW'),\n",
       "  ('AA', '2015-08-17', '608', 'DFW', 'CLT'),\n",
       "  ('AA', '2015-08-17', '695', 'CLT', 'PHX'),\n",
       "  ('AA', '2015-08-17', '695', 'PHX', 'LAX'),\n",
       "  ('AA', '2015-08-18', '620', 'LAX', 'PHX'),\n",
       "  ('AA', '2015-08-18', '620', 'PHX', 'CLT'),\n",
       "  ('AA', '2015-08-18', '637', 'CLT', 'LAS'),\n",
       "  ('AA', '2015-08-19', '2050', 'LAS', 'CLT'),\n",
       "  ('AA', '2015-08-19', '637', 'CLT', 'LAS'),\n",
       "  ('AA', '2015-08-20', '436', 'PHX', 'SFO'),\n",
       "  ('AA', '2015-08-20', '702', 'LAS', 'PHL'),\n",
       "  ('AA', '2015-08-20', '735', 'LAS', 'PHX'),\n",
       "  ('AA', '2015-08-20', '735', 'PHL', 'LAS'),\n",
       "  ('AA', '2015-08-21', '1710', 'CLT', 'SEA'),\n",
       "  ('AA', '2015-08-21', '1817', 'SFO', 'CLT'),\n",
       "  ('AA', '2015-08-22', '1883', 'PHL', 'TPA'),\n",
       "  ('AA', '2015-08-22', '1883', 'SEA', 'PHL'),\n",
       "  ('AA', '2015-08-23', '1710', 'BOS', 'CLT'),\n",
       "  ('AA', '2015-08-23', '1710', 'CLT', 'SEA'),\n",
       "  ('AA', '2015-08-23', '1982', 'CLT', 'BOS'),\n",
       "  ('AA', '2015-08-23', '1982', 'TPA', 'CLT'),\n",
       "  ('AA', '2015-08-24', '671', 'ATL', 'PHX'),\n",
       "  ('AA', '2015-08-24', '671', 'CLT', 'ATL'),\n",
       "  ('AA', '2015-08-24', '671', 'PHX', 'PDX'),\n",
       "  ('AA', '2015-08-24', '671', 'SEA', 'CLT'),\n",
       "  ('AA', '2015-08-25', '895', 'PDX', 'PHX'),\n",
       "  ('AA', '2015-08-25', '895', 'PHX', 'ORD'),\n",
       "  ('AA', '2015-08-26', '1808', 'ORD', 'CLT'),\n",
       "  ('AA', '2015-08-26', '437', 'ORD', 'PHL'),\n",
       "  ('AA', '2015-08-26', '437', 'PHX', 'ORD'),\n",
       "  ('AA', '2015-08-26', '628', 'CLT', 'PHX'),\n",
       "  ('AA', '2015-08-27', '1890', 'MIA', 'PHL'),\n",
       "  ('AA', '2015-08-27', '2051', 'PHL', 'MIA'),\n",
       "  ('AA', '2015-08-27', '588', 'PHL', 'MIA'),\n",
       "  ('AA', '2015-08-27', '710', 'MIA', 'PHL'),\n",
       "  ('AA', '2015-08-28', '1752', 'PHL', 'SJU'),\n",
       "  ('AA', '2015-08-28', '2051', 'PHL', 'MIA'),\n",
       "  ('AA', '2015-08-28', '710', 'MIA', 'PHL'),\n",
       "  ('AA', '2015-08-29', '454', 'LAX', 'PHX'),\n",
       "  ('AA', '2015-08-29', '454', 'PHX', 'SLC'),\n",
       "  ('AA', '2015-08-29', '775', 'SJU', 'PHL'),\n",
       "  ('AA', '2015-08-29', '781', 'PHL', 'LAX'),\n",
       "  ('AA', '2015-08-30', '1857', 'CLT', 'MCO'),\n",
       "  ('AA', '2015-08-30', '1857', 'DEN', 'PHX'),\n",
       "  ('AA', '2015-08-30', '1857', 'PHX', 'CLT'),\n",
       "  ('AA', '2015-08-30', '459', 'PHX', 'DEN'),\n",
       "  ('AA', '2015-08-30', '459', 'SLC', 'PHX'),\n",
       "  ('AA', '2015-08-31', '1717', 'CLT', 'FLL'),\n",
       "  ('AA', '2015-08-31', '1735', 'CLT', 'LAS'),\n",
       "  ('AA', '2015-08-31', '1735', 'MCO', 'CLT'),\n",
       "  ('AA', '2015-08-31', '1788', 'LAS', 'CLT'),\n",
       "  ('AA', '2015-09-01', '1801', 'FLL', 'CLT'),\n",
       "  ('AA', '2015-09-01', '1808', 'CLT', 'TPA'),\n",
       "  ('AA', '2015-09-01', '470', 'CLT', 'SAN'),\n",
       "  ('AA', '2015-09-01', '470', 'TPA', 'CLT'),\n",
       "  ('AA', '2015-09-02', '1907', 'CLT', 'RIC'),\n",
       "  ('AA', '2015-09-02', '2005', 'SAN', 'CLT'),\n",
       "  ('AA', '2015-09-02', '765', 'RIC', 'CLT'),\n",
       "  ('AA', '2015-09-03', '1970', 'CLT', 'BWI'),\n",
       "  ('AA', '2015-09-03', '1970', 'JFK', 'CLT'),\n",
       "  ('AA', '2015-09-03', '2042', 'CLT', 'JFK'),\n",
       "  ('AA', '2015-09-03', '404', 'BWI', 'CLT'),\n",
       "  ('AA', '2015-09-03', '404', 'CLT', 'DFW'),\n",
       "  ('AA', '2015-09-03', '421', 'DFW', 'PHX'),\n",
       "  ('AA', '2015-09-03', '785', 'PHX', 'LAS'),\n",
       "  ('AA', '2015-09-04', '402', 'PHL', 'LAX'),\n",
       "  ('AA', '2015-09-04', '677', 'LAS', 'PHL'),\n",
       "  ('AA', '2015-09-05', '1899', 'CLT', 'MCO'),\n",
       "  ('AA', '2015-09-05', '1899', 'LAX', 'CLT'),\n",
       "  ('AA', '2015-09-06', '1714', 'CLT', 'MIA'),\n",
       "  ('AA', '2015-09-06', '1714', 'MIA', 'PHL'),\n",
       "  ('AA', '2015-09-06', '1735', 'MCO', 'CLT'),\n",
       "  ('AA', '2015-09-06', '419', 'PHL', 'LAS'),\n",
       "  ('AA', '2015-09-07', '543', 'PHL', 'DFW'),\n",
       "  ('AA', '2015-09-07', '677', 'LAS', 'PHL'),\n",
       "  ('AA', '2015-09-07', '750', 'DFW', 'PHL'),\n",
       "  ('AA', '2015-09-07', '767', 'PHL', 'MCO'),\n",
       "  ('AA', '2015-09-08', '469', 'CLT', 'ATL'),\n",
       "  ('AA', '2015-09-08', '469', 'MCO', 'CLT'),\n",
       "  ('AA', '2015-09-08', '628', 'CLT', 'PHX'),\n",
       "  ('AA', '2015-09-08', '691', 'ATL', 'CLT'),\n",
       "  ('AA', '2015-09-09', '476', 'CLT', 'BOS'),\n",
       "  ('AA', '2015-09-09', '476', 'PHX', 'CLT'),\n",
       "  ('AA', '2015-09-09', '603', 'BOS', 'PHX'),\n",
       "  ('AA', '2015-09-09', '640', 'PHX', 'LAX'),\n",
       "  ('AA', '2015-09-10', '434', 'SFO', 'PHL'),\n",
       "  ('AA', '2015-09-10', '598', 'LAX', 'PHL'),\n",
       "  ('AA', '2015-09-10', '709', 'PHL', 'SFO'),\n",
       "  ('AA', '2015-09-11', '417', 'PHL', 'PDX'),\n",
       "  ('AA', '2015-09-11', '418', 'PDX', 'PHL'),\n",
       "  ('AA', '2015-09-12', '1822', 'PHL', 'PBI'),\n",
       "  ('AA', '2015-09-14', '407', 'ORD', 'PHX'),\n",
       "  ('AA', '2015-09-14', '407', 'PHL', 'ORD'),\n",
       "  ('AA', '2015-09-14', '407', 'PHX', 'SFO'),\n",
       "  ('AA', '2015-09-14', '436', 'PHX', 'SFO'),\n",
       "  ('AA', '2015-09-14', '547', 'SFO', 'PHX'),\n",
       "  ('AA', '2015-09-15', '1982', 'CLT', 'BOS'),\n",
       "  ('AA', '2015-09-15', '1982', 'SFO', 'CLT'),\n",
       "  ('AA', '2015-09-15', '494', 'CLT', 'PHX'),\n",
       "  ('AA', '2015-09-15', '626', 'BOS', 'CLT'),\n",
       "  ('AA', '2015-09-16', '600', 'JFK', 'CLT'),\n",
       "  ('AA', '2015-09-16', '600', 'PHX', 'JFK'),\n",
       "  ('AA', '2015-09-17', '1980', 'CLT', 'BOS'),\n",
       "  ('AA', '2015-09-17', '695', 'BOS', 'CLT'),\n",
       "  ('AA', '2015-09-17', '695', 'CLT', 'PHX'),\n",
       "  ('AA', '2015-09-17', '695', 'PHX', 'LAX'),\n",
       "  ('AA', '2015-09-18', '598', 'LAX', 'PHL'),\n",
       "  ('AA', '2015-09-18', '782', 'PHL', 'LAX'),\n",
       "  ('AA', '2015-09-19', '1899', 'CLT', 'MCO'),\n",
       "  ('AA', '2015-09-19', '1899', 'LAX', 'CLT'),\n",
       "  ('AA', '2015-09-20', '1735', 'CLT', 'LAS'),\n",
       "  ('AA', '2015-09-20', '1735', 'MCO', 'CLT'),\n",
       "  ('AA', '2015-09-20', '499', 'CLT', 'DEN'),\n",
       "  ('AA', '2015-09-20', '499', 'LAS', 'CLT'),\n",
       "  ('AA', '2015-09-21', '1725', 'DEN', 'CLT'),\n",
       "  ('AA', '2015-09-22', '1851', 'CLT', 'ORD'),\n",
       "  ('AA', '2015-09-22', '1851', 'SEA', 'CLT'),\n",
       "  ('AA', '2015-09-22', '1900', 'CLT', 'SEA'),\n",
       "  ('AA', '2015-09-23', '1758', 'ORD', 'PHL'),\n",
       "  ('AA', '2015-09-23', '1758', 'PHL', 'MCO'),\n",
       "  ('AA', '2015-09-23', '719', 'PHL', 'SFO'),\n",
       "  ('AA', '2015-09-23', '768', 'MCO', 'PHL'),\n",
       "  ('AA', '2015-09-23', '898', 'SFO', 'CLT'),\n",
       "  ('AA', '2015-09-24', '463', 'CLT', 'PHX'),\n",
       "  ('AA', '2015-09-24', '487', 'CLT', 'SAN'),\n",
       "  ('AA', '2015-09-24', '487', 'SAN', 'CLT'),\n",
       "  ('AA', '2015-09-25', '1746', 'DFW', 'PHL'),\n",
       "  ('AA', '2015-09-25', '1746', 'PHX', 'DFW'),\n",
       "  ('AA', '2015-09-25', '1848', 'PHL', 'DFW'),\n",
       "  ('AA', '2015-09-25', '636', 'DFW', 'PHX'),\n",
       "  ('AA', '2015-09-25', '636', 'PHX', 'LAS'),\n",
       "  ('AA', '2015-09-26', '721', 'CLT', 'LAX'),\n",
       "  ('AA', '2015-09-26', '889', 'LAS', 'CLT'),\n",
       "  ('AA', '2015-09-27', '1972', 'CLT', 'EWR'),\n",
       "  ('AA', '2015-09-27', '1972', 'LAX', 'CLT'),\n",
       "  ('AA', '2015-09-27', '681', 'EWR', 'CLT'),\n",
       "  ('AA', '2015-09-27', '890', 'CLT', 'DFW'),\n",
       "  ('AA', '2015-09-28', '437', 'ORD', 'PHL'),\n",
       "  ('AA', '2015-09-28', '437', 'PHX', 'ORD'),\n",
       "  ('AA', '2015-09-28', '437', 'SLC', 'PHX'),\n",
       "  ('AA', '2015-09-28', '457', 'DFW', 'PHX'),\n",
       "  ('AA', '2015-09-28', '457', 'PHX', 'SLC'),\n",
       "  ('AA', '2015-09-29', '543', 'PHL', 'DFW'),\n",
       "  ('AA', '2015-09-29', '750', 'DFW', 'PHL'),\n",
       "  ('AA', '2015-09-29', '788', 'PHL', 'MCO'),\n",
       "  ('AA', '2015-09-30', '1850', 'MCO', 'PHL'),\n",
       "  ('AA', '2015-09-30', '419', 'PHL', 'LAS'),\n",
       "  ('AA', '2015-10-01', '671', 'ATL', 'PHX'),\n",
       "  ('AA', '2015-10-01', '671', 'CLT', 'ATL'),\n",
       "  ('AA', '2015-10-01', '671', 'LAS', 'CLT'),\n",
       "  ('AA', '2015-10-01', '671', 'PHX', 'PDX'),\n",
       "  ('AA', '2015-10-02', '406', 'PDX', 'PHX'),\n",
       "  ('AA', '2015-10-02', '406', 'PHX', 'DTW'),\n",
       "  ('AA', '2015-10-02', '640', 'DTW', 'PHX'),\n",
       "  ('AA', '2015-10-02', '640', 'PHX', 'LAX'),\n",
       "  ('AA', '2015-10-02', '696', 'LAX', 'CLT'),\n",
       "  ('AA', '2015-10-03', '2062', 'CLT', 'LGA'),\n",
       "  ('AA', '2015-10-03', '660', 'PHX', 'SNA'),\n",
       "  ('AA', '2015-10-03', '695', 'CLT', 'PHX'),\n",
       "  ('AA', '2015-10-03', '695', 'LGA', 'CLT'),\n",
       "  ('AA', '2015-10-04', '1803', 'SNA', 'PHX'),\n",
       "  ('AA', '2015-10-04', '498', 'ONT', 'PHX'),\n",
       "  ('AA', '2015-10-04', '562', 'PHX', 'BOS'),\n",
       "  ('AA', '2015-10-04', '647', 'PHX', 'ONT'),\n",
       "  ('AA', '2015-10-05', '433', 'BOS', 'PHX'),\n",
       "  ('AA', '2015-10-05', '433', 'PHX', 'SFO'),\n",
       "  ('AA', '2015-10-05', '433', 'SFO', 'PHL'),\n",
       "  ('AA', '2015-10-06', '1991', 'PHL', 'ORD'),\n",
       "  ('AA', '2015-10-06', '751', 'PHL', 'DFW'),\n",
       "  ('AA', '2015-10-06', '758', 'ORD', 'PHL'),\n",
       "  ('AA', '2015-10-07', '607', 'LAS', 'PHL'),\n",
       "  ('AA', '2015-10-07', '608', 'CLT', 'JFK'),\n",
       "  ('AA', '2015-10-07', '608', 'DFW', 'CLT'),\n",
       "  ('AA', '2015-10-07', '608', 'JFK', 'PHX'),\n",
       "  ('AA', '2015-10-07', '608', 'PHX', 'LAS'),\n",
       "  ('AA', '2015-10-08', '1996', 'CLT', 'PVD'),\n",
       "  ('AA', '2015-10-08', '1996', 'LAX', 'CLT'),\n",
       "  ('AA', '2015-10-08', '797', 'PHL', 'LAX'),\n",
       "  ('AA', '2015-10-09', '1799', 'CLT', 'SFO'),\n",
       "  ('AA', '2015-10-09', '1799', 'EWR', 'CLT'),\n",
       "  ('AA', '2015-10-09', '1936', 'CLT', 'EWR'),\n",
       "  ('AA', '2015-10-09', '434', 'SFO', 'PHL'),\n",
       "  ('AA', '2015-10-09', '885', 'PVD', 'CLT'),\n",
       "  ('AA', '2015-10-10', '407', 'ORD', 'PHX'),\n",
       "  ('AA', '2015-10-10', '407', 'PHL', 'ORD'),\n",
       "  ('AA', '2015-10-10', '407', 'PHX', 'SFO'),\n",
       "  ('AA', '2015-10-11', '883', 'SFO', 'CLT'),\n",
       "  ('AA', '2015-10-12', '495', 'CLT', 'PHX'),\n",
       "  ('AA', '2015-10-12', '495', 'PHX', 'LAX'),\n",
       "  ('AA', '2015-10-12', '562', 'LAX', 'PHX'),\n",
       "  ('AA', '2015-10-12', '562', 'PHX', 'BOS'),\n",
       "  ('AA', '2015-10-13', '1737', 'BOS', 'CLT'),\n",
       "  ('AA', '2015-10-13', '1791', 'CLT', 'TPA'),\n",
       "  ('AA', '2015-10-13', '1814', 'CLT', 'ATL'),\n",
       "  ('AA', '2015-10-13', '1858', 'TPA', 'CLT'),\n",
       "  ('AA', '2015-10-13', '1897', 'CLT', 'ATL'),\n",
       "  ('AA', '2015-10-13', '2050', 'ATL', 'CLT'),\n",
       "  ('AA', '2015-10-14', '402', 'PHL', 'LAX'),\n",
       "  ('AA', '2015-10-14', '658', 'ATL', 'CLT'),\n",
       "  ('AA', '2015-10-14', '658', 'CLT', 'LAS'),\n",
       "  ...]}"
      ]
     },
     "execution_count": 82,
     "metadata": {},
     "output_type": "execute_result"
    }
   ],
   "source": [
    "flights = on_time_df.rdd.map(lambda x:(x.Carrier, x.FlightDate, x.FlightNum, x.Origin, x.Dest, x.TailNum))\n",
    "\n",
    "flights_per_airplane = flights.map(lambda nameTuple:(nameTuple[5], [nameTuple[0:5]]))\\\n",
    ".reduceByKey(lambda a, b:a+b).map(lambda tuple:\n",
    "                                  {\n",
    "                                      'TailNum':tuple[0],\n",
    "                                      'Flights':sorted(tuple[1], key=lambda x:(x[1], x[2], x[3], x[4]))\n",
    "                                  }\n",
    "                                 )\n",
    "flights_per_airplane.first()"
   ]
  },
  {
   "cell_type": "code",
   "execution_count": 83,
   "id": "a15bfa71-8cd3-421e-8735-5016c1784fc0",
   "metadata": {},
   "outputs": [
    {
     "name": "stdout",
     "output_type": "stream",
     "text": [
      "total flights: 5819079\n",
      "late departures: 2125618\n",
      "late arrivals: 2086896\n"
     ]
    },
    {
     "data": {
      "text/plain": [
       "35.8629948141278"
      ]
     },
     "execution_count": 83,
     "metadata": {},
     "output_type": "execute_result"
    }
   ],
   "source": [
    "total_flights = on_time_df.count()\n",
    "print(f\"total flights: {total_flights}\")\n",
    "late_departs = on_time_df.filter(on_time_df.DepDelayMinutes>0)\n",
    "total_late_departs = late_departs.count()\n",
    "print(f\"late departures: {total_late_departs}\")\n",
    "late_arrivals = on_time_df.filter(on_time_df.ArrDelayMinutes>0)\n",
    "total_late_arrivals = late_arrivals.count()\n",
    "print(f\"late arrivals: {total_late_arrivals}\")\n",
    "pct_late = (total_late_arrivals/total_flights)*100\n",
    "pct_late"
   ]
  },
  {
   "cell_type": "code",
   "execution_count": 84,
   "id": "fe4349f1-e67c-42e5-a15a-4b6d98a07523",
   "metadata": {},
   "outputs": [
    {
     "name": "stdout",
     "output_type": "stream",
     "text": [
      "total on time heros: 606902\n"
     ]
    }
   ],
   "source": [
    "on_time_heros = on_time_df.filter((on_time_df.DepDelayMinutes>0)&(on_time_df.ArrDelayMinutes<=0))\n",
    "total_on_time_hereos = on_time_heros.count()\n",
    "print(f\"total on time heros: {total_on_time_hereos}\")"
   ]
  },
  {
   "cell_type": "code",
   "execution_count": 85,
   "id": "bac2cd0b-ee4f-4975-bccc-06d907bca36d",
   "metadata": {},
   "outputs": [
    {
     "name": "stdout",
     "output_type": "stream",
     "text": [
      "+-----------+-----------+\n",
      "|AvgDepDelay|AvgArrDelay|\n",
      "+-----------+-----------+\n",
      "|        9.4|        4.4|\n",
      "+-----------+-----------+\n",
      "\n"
     ]
    }
   ],
   "source": [
    "spark.sql(\"\"\"\n",
    "SELECT\n",
    "  ROUND(AVG(DepDelay),1) AS AvgDepDelay,\n",
    "  ROUND(AVG(ArrDelay),1) AS AvgArrDelay\n",
    "FROM on_time_performance\n",
    "\"\"\").show()"
   ]
  },
  {
   "cell_type": "code",
   "execution_count": 86,
   "id": "6b995dce-87b9-44f2-8739-eec3c4eec1fd",
   "metadata": {},
   "outputs": [
    {
     "name": "stderr",
     "output_type": "stream",
     "text": [
      "[Stage 342:>                                                        (0 + 4) / 4]\r"
     ]
    },
    {
     "name": "stdout",
     "output_type": "stream",
     "text": [
      "+---------------+------------+------------+--------+-------------+-----------------+\n",
      "|ArrDelayMinutes|WeatherDelay|CarrierDelay|NASDelay|SecurityDelay|LateAircraftDelay|\n",
      "+---------------+------------+------------+--------+-------------+-----------------+\n",
      "|           21.0|         0.0|         0.0|     0.0|          0.0|             21.0|\n",
      "|           83.0|         0.0|        67.0|     6.0|          0.0|             10.0|\n",
      "|          114.0|         0.0|         0.0|    16.0|          0.0|             98.0|\n",
      "|          102.0|         0.0|         6.0|     0.0|          0.0|             96.0|\n",
      "|           22.0|         0.0|         8.0|     9.0|          0.0|              5.0|\n",
      "|           17.0|         0.0|         0.0|    17.0|          0.0|              0.0|\n",
      "|           53.0|         0.0|         0.0|     0.0|          0.0|             53.0|\n",
      "|           32.0|         0.0|        20.0|     9.0|          0.0|              3.0|\n",
      "|           60.0|         0.0|        60.0|     0.0|          0.0|              0.0|\n",
      "|           17.0|         0.0|        16.0|     0.0|          0.0|              1.0|\n",
      "|           36.0|         0.0|        34.0|     2.0|          0.0|              0.0|\n",
      "|           18.0|         0.0|         0.0|     3.0|          0.0|             15.0|\n",
      "|           29.0|         0.0|         3.0|    22.0|          0.0|              4.0|\n",
      "|           35.0|         0.0|         0.0|     0.0|          0.0|             35.0|\n",
      "|           35.0|         0.0|         0.0|    35.0|          0.0|              0.0|\n",
      "|           78.0|         0.0|         0.0|    34.0|          0.0|             44.0|\n",
      "|          123.0|         0.0|        39.0|    26.0|          0.0|             58.0|\n",
      "|          211.0|       179.0|         0.0|    32.0|          0.0|              0.0|\n",
      "|           37.0|         0.0|        37.0|     0.0|          0.0|              0.0|\n",
      "|           19.0|         2.0|         1.0|     0.0|          0.0|             16.0|\n",
      "+---------------+------------+------------+--------+-------------+-----------------+\n",
      "only showing top 20 rows\n",
      "\n"
     ]
    },
    {
     "name": "stderr",
     "output_type": "stream",
     "text": [
      "                                                                                \r"
     ]
    }
   ],
   "source": [
    "late_flights = spark.sql(\"\"\"\n",
    "SELECT\n",
    "  ArrDelayMinutes,\n",
    "  WeatherDelay,\n",
    "  CarrierDelay,\n",
    "  NASDelay,\n",
    "  SecurityDelay,\n",
    "  LateAircraftDelay\n",
    "FROM\n",
    "  on_time_performance\n",
    "WHERE\n",
    "  WeatherDelay IS NOT NULL\n",
    "  OR\n",
    "  CarrierDelay IS NOT NULL\n",
    "  OR\n",
    "  NASDelay IS NOT NULL\n",
    "  OR\n",
    "  SecurityDelay IS NOT NULL\n",
    "  OR\n",
    "  LateAircraftDelay IS NOT NULL\n",
    "ORDER BY\n",
    "  FlightDate\n",
    "\"\"\")\n",
    "late_flights.sample(False, 0.01).show()"
   ]
  },
  {
   "cell_type": "code",
   "execution_count": 87,
   "id": "e7e6e3df-d18b-49e2-88ec-ae6529a1d3f0",
   "metadata": {},
   "outputs": [
    {
     "name": "stdout",
     "output_type": "stream",
     "text": [
      "+-----------------+-----------------+-------------+------------------+-----------------------+\n",
      "|pct_weather_delay|pct_carrier_delay|pct_nas_delay|pct_security_delay|pct_late_aircraft_delay|\n",
      "+-----------------+-----------------+-------------+------------------+-----------------------+\n",
      "|              4.5|             29.2|         20.7|               0.1|                   36.1|\n",
      "+-----------------+-----------------+-------------+------------------+-----------------------+\n",
      "\n"
     ]
    }
   ],
   "source": [
    "total_delays = spark.sql(\"\"\"\n",
    "SELECT\n",
    "  ROUND(SUM(WeatherDelay)/SUM(ArrDelayMinutes) * 100, 1) AS pct_weather_delay,\n",
    "  ROUND(SUM(CarrierDelay)/SUM(ArrDelayMinutes) * 100, 1) AS pct_carrier_delay,\n",
    "  ROUND(SUM(NASDelay)/SUM(ArrDelayMinutes) * 100, 1) AS pct_nas_delay,\n",
    "  ROUND(SUM(SecurityDelay)/SUM(ArrDelayMinutes) * 100, 1) AS pct_security_delay,\n",
    "  ROUND(SUM(LateAircraftDelay)/SUM(ArrDelayMinutes) * 100, 1) AS pct_late_aircraft_delay\n",
    "FROM on_time_performance\n",
    "\"\"\")\n",
    "total_delays.show()"
   ]
  },
  {
   "cell_type": "code",
   "execution_count": 88,
   "id": "f77de127-ee62-4b84-8e17-07f514acf414",
   "metadata": {},
   "outputs": [
    {
     "name": "stderr",
     "output_type": "stream",
     "text": [
      "[Stage 348:==============>                                          (1 + 3) / 4]\r"
     ]
    },
    {
     "name": "stdout",
     "output_type": "stream",
     "text": [
      "([1, 5, 10, 15, 30, 60, 120, 240, 480, 720, 1440], [5436, 7668, 6636, 16007, 13569, 9442, 4598, 1136, 152, 72])\n"
     ]
    },
    {
     "name": "stderr",
     "output_type": "stream",
     "text": [
      "                                                                                \r"
     ]
    }
   ],
   "source": [
    "weather_delay_histogram = on_time_df.select(\"WeatherDelay\").rdd.flatMap(lambda x:x)\\\n",
    ".histogram([1, 5, 10, 15, 30, 60, 120, 240, 480, 720, 24*60])\n",
    "print(weather_delay_histogram)"
   ]
  },
  {
   "cell_type": "code",
   "execution_count": 89,
   "id": "6e7ae9fe-221e-403e-9b1b-92dcbef36622",
   "metadata": {},
   "outputs": [
    {
     "data": {
      "text/plain": [
       "<BarContainer object of 10 artists>"
      ]
     },
     "execution_count": 89,
     "metadata": {},
     "output_type": "execute_result"
    },
    {
     "data": {
      "image/png": "[encoded data removed]",
      "text/plain": [
       "<Figure size 1296x864 with 1 Axes>"
      ]
     },
     "metadata": {
      "needs_background": "light"
     },
     "output_type": "display_data"
    }
   ],
   "source": [
    "draw_histogram(weather_delay_histogram)"
   ]
  },
  {
   "cell_type": "code",
   "execution_count": 90,
   "id": "d6af8a71-b69f-4029-8a1a-828b900b1b23",
   "metadata": {},
   "outputs": [
    {
     "name": "stdout",
     "output_type": "stream",
     "text": [
      "([0, 5, 15, 30, 60, 120, 240, 480, 720, 1440], [5436, 14304, 16007, 13569, 9442, 4598, 1136, 152, 72])\n"
     ]
    },
    {
     "data": {
      "text/plain": [
       "{'key': 1,\n",
       " 'data': [{'label': 0, 'value': 5436},\n",
       "  {'label': 5, 'value': 14304},\n",
       "  {'label': 15, 'value': 16007},\n",
       "  {'label': 30, 'value': 13569},\n",
       "  {'label': 60, 'value': 9442},\n",
       "  {'label': 120, 'value': 4598},\n",
       "  {'label': 240, 'value': 1136},\n",
       "  {'label': 480, 'value': 152},\n",
       "  {'label': 720, 'value': 72}]}"
      ]
     },
     "execution_count": 90,
     "metadata": {},
     "output_type": "execute_result"
    }
   ],
   "source": [
    "def histogram_to_publishable(histogram):\n",
    "    record = {'key':1, 'data':[]}\n",
    "    for label, value in zip(histogram[0], histogram[1]):\n",
    "        record['data'].append({'label':label, 'value':value})\n",
    "    return record\n",
    "\n",
    "\n",
    "weather_delay_histogram = on_time_df.filter((on_time_df.WeatherDelay.isNotNull())&(on_time_df.WeatherDelay>0))\\\n",
    ".select(\"WeatherDelay\").rdd.flatMap(lambda x:x).histogram([0,5,15,30,60, 120,240, 480, 720, 24*60])\n",
    "print(weather_delay_histogram)\n",
    "\n",
    "record = histogram_to_publishable(weather_delay_histogram)\n",
    "record"
   ]
  },
  {
   "cell_type": "code",
   "execution_count": 91,
   "id": "3a1dafc0-f6b9-43f1-bdf2-f0c533d99d7f",
   "metadata": {},
   "outputs": [
    {
     "data": {
      "text/plain": [
       "Row(ArrDelay=13.0, CRSArrTime=datetime.datetime(2015, 1, 2, 3, 10), CRSDepTime=datetime.datetime(2015, 1, 2, 0, 30), Carrier='AA', DayOfMonth=1, DayOfWeek=4, DayOfYear=1, DepDelay=14.0, Dest='DFW', Distance=569.0, FlightDate=datetime.date(2015, 1, 1), FlightNum='1024', Origin='ABQ')"
      ]
     },
     "execution_count": 91,
     "metadata": {},
     "output_type": "execute_result"
    }
   ],
   "source": [
    "from pyspark.sql.types import StringType, IntegerType, FloatType, DoubleType, DateType, TimestampType\n",
    "from pyspark.sql.types import StructType, StructField\n",
    "from pyspark.sql.functions import udf\n",
    "\n",
    "schema = StructType([\n",
    "  StructField(\"ArrDelay\", DoubleType(), True),     # \"ArrDelay\":5.0\n",
    "  StructField(\"CRSArrTime\", TimestampType(), True),    # \"CRSArrTime\":\"2015-12-31T03:20:00.000-08:00\"\n",
    "  StructField(\"CRSDepTime\", TimestampType(), True),    # \"CRSDepTime\":\"2015-12-31T03:05:00.000-08:00\"\n",
    "  StructField(\"Carrier\", StringType(), True),     # \"Carrier\":\"WN\"\n",
    "  StructField(\"DayOfMonth\", IntegerType(), True), # \"DayOfMonth\":31\n",
    "  StructField(\"DayOfWeek\", IntegerType(), True),  # \"DayOfWeek\":4\n",
    "  StructField(\"DayOfYear\", IntegerType(), True),  # \"DayOfYear\":365\n",
    "  StructField(\"DepDelay\", DoubleType(), True),     # \"DepDelay\":14.0\n",
    "  StructField(\"Dest\", StringType(), True),        # \"Dest\":\"SAN\"\n",
    "  StructField(\"Distance\", DoubleType(), True),     # \"Distance\":368.0\n",
    "  StructField(\"FlightDate\", DateType(), True),    # \"FlightDate\":\"2015-12-30T16:00:00.000-08:00\"\n",
    "  StructField(\"FlightNum\", StringType(), True),   # \"FlightNum\":\"6109\"\n",
    "  StructField(\"Origin\", StringType(), True),      # \"Origin\":\"TUS\"\n",
    "])\n",
    "\n",
    "features = spark.read.json(\"data/simple_flight_delay_features.jsonl.bz2\", schema=schema)\n",
    "features.first()"
   ]
  },
  {
   "cell_type": "code",
   "execution_count": 92,
   "id": "1e69a8f0-3e73-4e9d-95cd-4fdc31441f3e",
   "metadata": {},
   "outputs": [
    {
     "name": "stderr",
     "output_type": "stream",
     "text": [
      "[Stage 387:============================>                            (1 + 1) / 2]\r"
     ]
    },
    {
     "name": "stdout",
     "output_type": "stream",
     "text": [
      "[]\n"
     ]
    },
    {
     "name": "stderr",
     "output_type": "stream",
     "text": [
      "                                                                                \r"
     ]
    }
   ],
   "source": [
    "null_counts = [(column, features.where(features[column].isNull()).count()) for column in features.columns]\n",
    "cols_with_nulls = filter(lambda x: x[1]>0, null_counts)\n",
    "print(list(cols_with_nulls))"
   ]
  },
  {
   "cell_type": "code",
   "execution_count": 93,
   "id": "a5ea06e1-078d-47c8-a6ba-bb7dd17673aa",
   "metadata": {},
   "outputs": [
    {
     "name": "stdout",
     "output_type": "stream",
     "text": [
      "+------+----+-------+\n",
      "|Origin|Dest|  Route|\n",
      "+------+----+-------+\n",
      "|   ABQ| DFW|ABQ-DFW|\n",
      "|   ABQ| DFW|ABQ-DFW|\n",
      "|   ABQ| DFW|ABQ-DFW|\n",
      "|   ATL| DFW|ATL-DFW|\n",
      "|   ATL| DFW|ATL-DFW|\n",
      "|   ATL| DFW|ATL-DFW|\n",
      "|   ATL| DFW|ATL-DFW|\n",
      "|   ATL| DFW|ATL-DFW|\n",
      "|   ATL| DFW|ATL-DFW|\n",
      "|   ATL| DFW|ATL-DFW|\n",
      "+------+----+-------+\n",
      "only showing top 10 rows\n",
      "\n"
     ]
    }
   ],
   "source": [
    "from pyspark.sql.functions import lit, concat\n",
    "\n",
    "features_with_route = features.withColumn('Route', concat(features.Origin, lit('-'), features.Dest))\n",
    "features_with_route.select(\"Origin\", \"Dest\", \"Route\").show(10)"
   ]
  },
  {
   "cell_type": "code",
   "execution_count": 94,
   "id": "24472c39-eb2d-4c55-8922-dd1f9d92d851",
   "metadata": {},
   "outputs": [
    {
     "name": "stdout",
     "output_type": "stream",
     "text": [
      "+--------+--------------+\n",
      "|ArrDelay|ArrDelayBucket|\n",
      "+--------+--------------+\n",
      "|    13.0|           2.0|\n",
      "|    17.0|           2.0|\n",
      "|    36.0|           3.0|\n",
      "|   -21.0|           0.0|\n",
      "|   -14.0|           1.0|\n",
      "|    16.0|           2.0|\n",
      "|    -7.0|           1.0|\n",
      "|    13.0|           2.0|\n",
      "|    25.0|           2.0|\n",
      "|    58.0|           3.0|\n",
      "|    14.0|           2.0|\n",
      "|     1.0|           2.0|\n",
      "|   -29.0|           0.0|\n",
      "|   -10.0|           1.0|\n",
      "|    -3.0|           1.0|\n",
      "|    -8.0|           1.0|\n",
      "|    -1.0|           1.0|\n",
      "|   -14.0|           1.0|\n",
      "|   -16.0|           0.0|\n",
      "|    18.0|           2.0|\n",
      "+--------+--------------+\n",
      "only showing top 20 rows\n",
      "\n"
     ]
    }
   ],
   "source": [
    "from pyspark.ml.feature import Bucketizer\n",
    "\n",
    "splits = [-float(\"inf\"), -15.0, 0, 30.0, float(\"inf\")]\n",
    "bucketizer = Bucketizer(splits=splits, inputCol=\"ArrDelay\", outputCol=\"ArrDelayBucket\")\n",
    "ml_bk_features = bucketizer.transform(features_with_route)\n",
    "\n",
    "ml_bk_features.select(\"ArrDelay\", \"ArrDelayBucket\").show()"
   ]
  },
  {
   "cell_type": "code",
   "execution_count": 96,
   "id": "42825645-d8d2-4238-85b7-36a4baf890c7",
   "metadata": {},
   "outputs": [
    {
     "name": "stderr",
     "output_type": "stream",
     "text": [
      "                                                                                \r"
     ]
    },
    {
     "name": "stdout",
     "output_type": "stream",
     "text": [
      "+--------+-------------------+-------------------+-------+----------+---------+---------+--------+----+--------+----------+---------+------+-------+--------------+-------------+\n",
      "|ArrDelay|         CRSArrTime|         CRSDepTime|Carrier|DayOfMonth|DayOfWeek|DayOfYear|DepDelay|Dest|Distance|FlightDate|FlightNum|Origin|  Route|ArrDelayBucket|Carrier_index|\n",
      "+--------+-------------------+-------------------+-------+----------+---------+---------+--------+----+--------+----------+---------+------+-------+--------------+-------------+\n",
      "|    13.0|2015-01-02 03:10:00|2015-01-02 00:30:00|     AA|         1|        4|        1|    14.0| DFW|   569.0|2015-01-01|     1024|   ABQ|ABQ-DFW|           2.0|          4.0|\n",
      "|    17.0|2015-01-01 19:15:00|2015-01-01 16:25:00|     AA|         1|        4|        1|    14.0| DFW|   569.0|2015-01-01|     1184|   ABQ|ABQ-DFW|           2.0|          4.0|\n",
      "|    36.0|2015-01-01 20:45:00|2015-01-01 18:00:00|     AA|         1|        4|        1|    -2.0| DFW|   569.0|2015-01-01|      336|   ABQ|ABQ-DFW|           3.0|          4.0|\n",
      "|   -21.0|2015-01-02 04:30:00|2015-01-02 02:55:00|     AA|         1|        4|        1|    -1.0| DFW|   731.0|2015-01-01|      125|   ATL|ATL-DFW|           0.0|          4.0|\n",
      "|   -14.0|2015-01-01 19:25:00|2015-01-01 17:55:00|     AA|         1|        4|        1|    -4.0| DFW|   731.0|2015-01-01|     1455|   ATL|ATL-DFW|           1.0|          4.0|\n",
      "|    16.0|2015-01-02 00:15:00|2015-01-01 22:45:00|     AA|         1|        4|        1|    15.0| DFW|   731.0|2015-01-01|     1473|   ATL|ATL-DFW|           2.0|          4.0|\n",
      "|    -7.0|2015-01-01 21:15:00|2015-01-01 19:45:00|     AA|         1|        4|        1|    -2.0| DFW|   731.0|2015-01-01|     1513|   ATL|ATL-DFW|           1.0|          4.0|\n",
      "|    13.0|2015-01-02 01:50:00|2015-01-02 00:25:00|     AA|         1|        4|        1|     9.0| DFW|   731.0|2015-01-01|      194|   ATL|ATL-DFW|           2.0|          4.0|\n",
      "|    25.0|2015-01-02 05:30:00|2015-01-02 04:00:00|     AA|         1|        4|        1|    -2.0| DFW|   731.0|2015-01-01|      232|   ATL|ATL-DFW|           2.0|          4.0|\n",
      "|    58.0|2015-01-02 06:40:00|2015-01-02 05:15:00|     AA|         1|        4|        1|    14.0| DFW|   731.0|2015-01-01|      276|   ATL|ATL-DFW|           3.0|          4.0|\n",
      "+--------+-------------------+-------------------+-------+----------+---------+---------+--------+----+--------+----------+---------+------+-------+--------------+-------------+\n",
      "only showing top 10 rows\n",
      "\n"
     ]
    },
    {
     "name": "stderr",
     "output_type": "stream",
     "text": [
      "                                                                                \r"
     ]
    },
    {
     "name": "stdout",
     "output_type": "stream",
     "text": [
      "+--------+-------------------+-------------------+-------+----------+---------+---------+--------+----+--------+----------+---------+------+-------+--------------+-------------+----------------+\n",
      "|ArrDelay|         CRSArrTime|         CRSDepTime|Carrier|DayOfMonth|DayOfWeek|DayOfYear|DepDelay|Dest|Distance|FlightDate|FlightNum|Origin|  Route|ArrDelayBucket|Carrier_index|DayOfMonth_index|\n",
      "+--------+-------------------+-------------------+-------+----------+---------+---------+--------+----+--------+----------+---------+------+-------+--------------+-------------+----------------+\n",
      "|    13.0|2015-01-02 03:10:00|2015-01-02 00:30:00|     AA|         1|        4|        1|    14.0| DFW|   569.0|2015-01-01|     1024|   ABQ|ABQ-DFW|           2.0|          4.0|            25.0|\n",
      "|    17.0|2015-01-01 19:15:00|2015-01-01 16:25:00|     AA|         1|        4|        1|    14.0| DFW|   569.0|2015-01-01|     1184|   ABQ|ABQ-DFW|           2.0|          4.0|            25.0|\n",
      "|    36.0|2015-01-01 20:45:00|2015-01-01 18:00:00|     AA|         1|        4|        1|    -2.0| DFW|   569.0|2015-01-01|      336|   ABQ|ABQ-DFW|           3.0|          4.0|            25.0|\n",
      "|   -21.0|2015-01-02 04:30:00|2015-01-02 02:55:00|     AA|         1|        4|        1|    -1.0| DFW|   731.0|2015-01-01|      125|   ATL|ATL-DFW|           0.0|          4.0|            25.0|\n",
      "|   -14.0|2015-01-01 19:25:00|2015-01-01 17:55:00|     AA|         1|        4|        1|    -4.0| DFW|   731.0|2015-01-01|     1455|   ATL|ATL-DFW|           1.0|          4.0|            25.0|\n",
      "|    16.0|2015-01-02 00:15:00|2015-01-01 22:45:00|     AA|         1|        4|        1|    15.0| DFW|   731.0|2015-01-01|     1473|   ATL|ATL-DFW|           2.0|          4.0|            25.0|\n",
      "|    -7.0|2015-01-01 21:15:00|2015-01-01 19:45:00|     AA|         1|        4|        1|    -2.0| DFW|   731.0|2015-01-01|     1513|   ATL|ATL-DFW|           1.0|          4.0|            25.0|\n",
      "|    13.0|2015-01-02 01:50:00|2015-01-02 00:25:00|     AA|         1|        4|        1|     9.0| DFW|   731.0|2015-01-01|      194|   ATL|ATL-DFW|           2.0|          4.0|            25.0|\n",
      "|    25.0|2015-01-02 05:30:00|2015-01-02 04:00:00|     AA|         1|        4|        1|    -2.0| DFW|   731.0|2015-01-01|      232|   ATL|ATL-DFW|           2.0|          4.0|            25.0|\n",
      "|    58.0|2015-01-02 06:40:00|2015-01-02 05:15:00|     AA|         1|        4|        1|    14.0| DFW|   731.0|2015-01-01|      276|   ATL|ATL-DFW|           3.0|          4.0|            25.0|\n",
      "+--------+-------------------+-------------------+-------+----------+---------+---------+--------+----+--------+----------+---------+------+-------+--------------+-------------+----------------+\n",
      "only showing top 10 rows\n",
      "\n"
     ]
    },
    {
     "name": "stderr",
     "output_type": "stream",
     "text": [
      "                                                                                \r"
     ]
    },
    {
     "name": "stdout",
     "output_type": "stream",
     "text": [
      "+--------+-------------------+-------------------+-------+----------+---------+---------+--------+----+--------+----------+---------+------+-------+--------------+-------------+----------------+---------------+\n",
      "|ArrDelay|         CRSArrTime|         CRSDepTime|Carrier|DayOfMonth|DayOfWeek|DayOfYear|DepDelay|Dest|Distance|FlightDate|FlightNum|Origin|  Route|ArrDelayBucket|Carrier_index|DayOfMonth_index|DayOfWeek_index|\n",
      "+--------+-------------------+-------------------+-------+----------+---------+---------+--------+----+--------+----------+---------+------+-------+--------------+-------------+----------------+---------------+\n",
      "|    13.0|2015-01-02 03:10:00|2015-01-02 00:30:00|     AA|         1|        4|        1|    14.0| DFW|   569.0|2015-01-01|     1024|   ABQ|ABQ-DFW|           2.0|          4.0|            25.0|            1.0|\n",
      "|    17.0|2015-01-01 19:15:00|2015-01-01 16:25:00|     AA|         1|        4|        1|    14.0| DFW|   569.0|2015-01-01|     1184|   ABQ|ABQ-DFW|           2.0|          4.0|            25.0|            1.0|\n",
      "|    36.0|2015-01-01 20:45:00|2015-01-01 18:00:00|     AA|         1|        4|        1|    -2.0| DFW|   569.0|2015-01-01|      336|   ABQ|ABQ-DFW|           3.0|          4.0|            25.0|            1.0|\n",
      "|   -21.0|2015-01-02 04:30:00|2015-01-02 02:55:00|     AA|         1|        4|        1|    -1.0| DFW|   731.0|2015-01-01|      125|   ATL|ATL-DFW|           0.0|          4.0|            25.0|            1.0|\n",
      "|   -14.0|2015-01-01 19:25:00|2015-01-01 17:55:00|     AA|         1|        4|        1|    -4.0| DFW|   731.0|2015-01-01|     1455|   ATL|ATL-DFW|           1.0|          4.0|            25.0|            1.0|\n",
      "|    16.0|2015-01-02 00:15:00|2015-01-01 22:45:00|     AA|         1|        4|        1|    15.0| DFW|   731.0|2015-01-01|     1473|   ATL|ATL-DFW|           2.0|          4.0|            25.0|            1.0|\n",
      "|    -7.0|2015-01-01 21:15:00|2015-01-01 19:45:00|     AA|         1|        4|        1|    -2.0| DFW|   731.0|2015-01-01|     1513|   ATL|ATL-DFW|           1.0|          4.0|            25.0|            1.0|\n",
      "|    13.0|2015-01-02 01:50:00|2015-01-02 00:25:00|     AA|         1|        4|        1|     9.0| DFW|   731.0|2015-01-01|      194|   ATL|ATL-DFW|           2.0|          4.0|            25.0|            1.0|\n",
      "|    25.0|2015-01-02 05:30:00|2015-01-02 04:00:00|     AA|         1|        4|        1|    -2.0| DFW|   731.0|2015-01-01|      232|   ATL|ATL-DFW|           2.0|          4.0|            25.0|            1.0|\n",
      "|    58.0|2015-01-02 06:40:00|2015-01-02 05:15:00|     AA|         1|        4|        1|    14.0| DFW|   731.0|2015-01-01|      276|   ATL|ATL-DFW|           3.0|          4.0|            25.0|            1.0|\n",
      "+--------+-------------------+-------------------+-------+----------+---------+---------+--------+----+--------+----------+---------+------+-------+--------------+-------------+----------------+---------------+\n",
      "only showing top 10 rows\n",
      "\n"
     ]
    },
    {
     "name": "stderr",
     "output_type": "stream",
     "text": [
      "                                                                                \r"
     ]
    },
    {
     "name": "stdout",
     "output_type": "stream",
     "text": [
      "+--------+-------------------+-------------------+-------+----------+---------+---------+--------+----+--------+----------+---------+------+-------+--------------+-------------+----------------+---------------+---------------+\n",
      "|ArrDelay|         CRSArrTime|         CRSDepTime|Carrier|DayOfMonth|DayOfWeek|DayOfYear|DepDelay|Dest|Distance|FlightDate|FlightNum|Origin|  Route|ArrDelayBucket|Carrier_index|DayOfMonth_index|DayOfWeek_index|DayOfYear_index|\n",
      "+--------+-------------------+-------------------+-------+----------+---------+---------+--------+----+--------+----------+---------+------+-------+--------------+-------------+----------------+---------------+---------------+\n",
      "|    13.0|2015-01-02 03:10:00|2015-01-02 00:30:00|     AA|         1|        4|        1|    14.0| DFW|   569.0|2015-01-01|     1024|   ABQ|ABQ-DFW|           2.0|          4.0|            25.0|            1.0|           25.0|\n",
      "|    17.0|2015-01-01 19:15:00|2015-01-01 16:25:00|     AA|         1|        4|        1|    14.0| DFW|   569.0|2015-01-01|     1184|   ABQ|ABQ-DFW|           2.0|          4.0|            25.0|            1.0|           25.0|\n",
      "|    36.0|2015-01-01 20:45:00|2015-01-01 18:00:00|     AA|         1|        4|        1|    -2.0| DFW|   569.0|2015-01-01|      336|   ABQ|ABQ-DFW|           3.0|          4.0|            25.0|            1.0|           25.0|\n",
      "|   -21.0|2015-01-02 04:30:00|2015-01-02 02:55:00|     AA|         1|        4|        1|    -1.0| DFW|   731.0|2015-01-01|      125|   ATL|ATL-DFW|           0.0|          4.0|            25.0|            1.0|           25.0|\n",
      "|   -14.0|2015-01-01 19:25:00|2015-01-01 17:55:00|     AA|         1|        4|        1|    -4.0| DFW|   731.0|2015-01-01|     1455|   ATL|ATL-DFW|           1.0|          4.0|            25.0|            1.0|           25.0|\n",
      "|    16.0|2015-01-02 00:15:00|2015-01-01 22:45:00|     AA|         1|        4|        1|    15.0| DFW|   731.0|2015-01-01|     1473|   ATL|ATL-DFW|           2.0|          4.0|            25.0|            1.0|           25.0|\n",
      "|    -7.0|2015-01-01 21:15:00|2015-01-01 19:45:00|     AA|         1|        4|        1|    -2.0| DFW|   731.0|2015-01-01|     1513|   ATL|ATL-DFW|           1.0|          4.0|            25.0|            1.0|           25.0|\n",
      "|    13.0|2015-01-02 01:50:00|2015-01-02 00:25:00|     AA|         1|        4|        1|     9.0| DFW|   731.0|2015-01-01|      194|   ATL|ATL-DFW|           2.0|          4.0|            25.0|            1.0|           25.0|\n",
      "|    25.0|2015-01-02 05:30:00|2015-01-02 04:00:00|     AA|         1|        4|        1|    -2.0| DFW|   731.0|2015-01-01|      232|   ATL|ATL-DFW|           2.0|          4.0|            25.0|            1.0|           25.0|\n",
      "|    58.0|2015-01-02 06:40:00|2015-01-02 05:15:00|     AA|         1|        4|        1|    14.0| DFW|   731.0|2015-01-01|      276|   ATL|ATL-DFW|           3.0|          4.0|            25.0|            1.0|           25.0|\n",
      "+--------+-------------------+-------------------+-------+----------+---------+---------+--------+----+--------+----------+---------+------+-------+--------------+-------------+----------------+---------------+---------------+\n",
      "only showing top 10 rows\n",
      "\n"
     ]
    },
    {
     "name": "stderr",
     "output_type": "stream",
     "text": [
      "                                                                                \r"
     ]
    },
    {
     "name": "stdout",
     "output_type": "stream",
     "text": [
      "+--------+-------------------+-------------------+-------+----------+---------+---------+--------+----+--------+----------+---------+------+-------+--------------+-------------+----------------+---------------+---------------+------------+\n",
      "|ArrDelay|         CRSArrTime|         CRSDepTime|Carrier|DayOfMonth|DayOfWeek|DayOfYear|DepDelay|Dest|Distance|FlightDate|FlightNum|Origin|  Route|ArrDelayBucket|Carrier_index|DayOfMonth_index|DayOfWeek_index|DayOfYear_index|Origin_index|\n",
      "+--------+-------------------+-------------------+-------+----------+---------+---------+--------+----+--------+----------+---------+------+-------+--------------+-------------+----------------+---------------+---------------+------------+\n",
      "|    13.0|2015-01-02 03:10:00|2015-01-02 00:30:00|     AA|         1|        4|        1|    14.0| DFW|   569.0|2015-01-01|     1024|   ABQ|ABQ-DFW|           2.0|          4.0|            25.0|            1.0|           25.0|        56.0|\n",
      "|    17.0|2015-01-01 19:15:00|2015-01-01 16:25:00|     AA|         1|        4|        1|    14.0| DFW|   569.0|2015-01-01|     1184|   ABQ|ABQ-DFW|           2.0|          4.0|            25.0|            1.0|           25.0|        56.0|\n",
      "|    36.0|2015-01-01 20:45:00|2015-01-01 18:00:00|     AA|         1|        4|        1|    -2.0| DFW|   569.0|2015-01-01|      336|   ABQ|ABQ-DFW|           3.0|          4.0|            25.0|            1.0|           25.0|        56.0|\n",
      "|   -21.0|2015-01-02 04:30:00|2015-01-02 02:55:00|     AA|         1|        4|        1|    -1.0| DFW|   731.0|2015-01-01|      125|   ATL|ATL-DFW|           0.0|          4.0|            25.0|            1.0|           25.0|         0.0|\n",
      "|   -14.0|2015-01-01 19:25:00|2015-01-01 17:55:00|     AA|         1|        4|        1|    -4.0| DFW|   731.0|2015-01-01|     1455|   ATL|ATL-DFW|           1.0|          4.0|            25.0|            1.0|           25.0|         0.0|\n",
      "|    16.0|2015-01-02 00:15:00|2015-01-01 22:45:00|     AA|         1|        4|        1|    15.0| DFW|   731.0|2015-01-01|     1473|   ATL|ATL-DFW|           2.0|          4.0|            25.0|            1.0|           25.0|         0.0|\n",
      "|    -7.0|2015-01-01 21:15:00|2015-01-01 19:45:00|     AA|         1|        4|        1|    -2.0| DFW|   731.0|2015-01-01|     1513|   ATL|ATL-DFW|           1.0|          4.0|            25.0|            1.0|           25.0|         0.0|\n",
      "|    13.0|2015-01-02 01:50:00|2015-01-02 00:25:00|     AA|         1|        4|        1|     9.0| DFW|   731.0|2015-01-01|      194|   ATL|ATL-DFW|           2.0|          4.0|            25.0|            1.0|           25.0|         0.0|\n",
      "|    25.0|2015-01-02 05:30:00|2015-01-02 04:00:00|     AA|         1|        4|        1|    -2.0| DFW|   731.0|2015-01-01|      232|   ATL|ATL-DFW|           2.0|          4.0|            25.0|            1.0|           25.0|         0.0|\n",
      "|    58.0|2015-01-02 06:40:00|2015-01-02 05:15:00|     AA|         1|        4|        1|    14.0| DFW|   731.0|2015-01-01|      276|   ATL|ATL-DFW|           3.0|          4.0|            25.0|            1.0|           25.0|         0.0|\n",
      "+--------+-------------------+-------------------+-------+----------+---------+---------+--------+----+--------+----------+---------+------+-------+--------------+-------------+----------------+---------------+---------------+------------+\n",
      "only showing top 10 rows\n",
      "\n"
     ]
    },
    {
     "name": "stderr",
     "output_type": "stream",
     "text": [
      "                                                                                \r"
     ]
    },
    {
     "name": "stdout",
     "output_type": "stream",
     "text": [
      "+--------+-------------------+-------------------+-------+----------+---------+---------+--------+----+--------+----------+---------+------+-------+--------------+-------------+----------------+---------------+---------------+------------+----------+\n",
      "|ArrDelay|         CRSArrTime|         CRSDepTime|Carrier|DayOfMonth|DayOfWeek|DayOfYear|DepDelay|Dest|Distance|FlightDate|FlightNum|Origin|  Route|ArrDelayBucket|Carrier_index|DayOfMonth_index|DayOfWeek_index|DayOfYear_index|Origin_index|Dest_index|\n",
      "+--------+-------------------+-------------------+-------+----------+---------+---------+--------+----+--------+----------+---------+------+-------+--------------+-------------+----------------+---------------+---------------+------------+----------+\n",
      "|    13.0|2015-01-02 03:10:00|2015-01-02 00:30:00|     AA|         1|        4|        1|    14.0| DFW|   569.0|2015-01-01|     1024|   ABQ|ABQ-DFW|           2.0|          4.0|            25.0|            1.0|           25.0|        56.0|       1.0|\n",
      "|    17.0|2015-01-01 19:15:00|2015-01-01 16:25:00|     AA|         1|        4|        1|    14.0| DFW|   569.0|2015-01-01|     1184|   ABQ|ABQ-DFW|           2.0|          4.0|            25.0|            1.0|           25.0|        56.0|       1.0|\n",
      "|    36.0|2015-01-01 20:45:00|2015-01-01 18:00:00|     AA|         1|        4|        1|    -2.0| DFW|   569.0|2015-01-01|      336|   ABQ|ABQ-DFW|           3.0|          4.0|            25.0|            1.0|           25.0|        56.0|       1.0|\n",
      "|   -21.0|2015-01-02 04:30:00|2015-01-02 02:55:00|     AA|         1|        4|        1|    -1.0| DFW|   731.0|2015-01-01|      125|   ATL|ATL-DFW|           0.0|          4.0|            25.0|            1.0|           25.0|         0.0|       1.0|\n",
      "|   -14.0|2015-01-01 19:25:00|2015-01-01 17:55:00|     AA|         1|        4|        1|    -4.0| DFW|   731.0|2015-01-01|     1455|   ATL|ATL-DFW|           1.0|          4.0|            25.0|            1.0|           25.0|         0.0|       1.0|\n",
      "|    16.0|2015-01-02 00:15:00|2015-01-01 22:45:00|     AA|         1|        4|        1|    15.0| DFW|   731.0|2015-01-01|     1473|   ATL|ATL-DFW|           2.0|          4.0|            25.0|            1.0|           25.0|         0.0|       1.0|\n",
      "|    -7.0|2015-01-01 21:15:00|2015-01-01 19:45:00|     AA|         1|        4|        1|    -2.0| DFW|   731.0|2015-01-01|     1513|   ATL|ATL-DFW|           1.0|          4.0|            25.0|            1.0|           25.0|         0.0|       1.0|\n",
      "|    13.0|2015-01-02 01:50:00|2015-01-02 00:25:00|     AA|         1|        4|        1|     9.0| DFW|   731.0|2015-01-01|      194|   ATL|ATL-DFW|           2.0|          4.0|            25.0|            1.0|           25.0|         0.0|       1.0|\n",
      "|    25.0|2015-01-02 05:30:00|2015-01-02 04:00:00|     AA|         1|        4|        1|    -2.0| DFW|   731.0|2015-01-01|      232|   ATL|ATL-DFW|           2.0|          4.0|            25.0|            1.0|           25.0|         0.0|       1.0|\n",
      "|    58.0|2015-01-02 06:40:00|2015-01-02 05:15:00|     AA|         1|        4|        1|    14.0| DFW|   731.0|2015-01-01|      276|   ATL|ATL-DFW|           3.0|          4.0|            25.0|            1.0|           25.0|         0.0|       1.0|\n",
      "+--------+-------------------+-------------------+-------+----------+---------+---------+--------+----+--------+----------+---------+------+-------+--------------+-------------+----------------+---------------+---------------+------------+----------+\n",
      "only showing top 10 rows\n",
      "\n"
     ]
    },
    {
     "name": "stderr",
     "output_type": "stream",
     "text": [
      "                                                                                \r"
     ]
    },
    {
     "name": "stdout",
     "output_type": "stream",
     "text": [
      "+--------+-------------------+-------------------+-------+----------+---------+---------+--------+----+--------+----------+---------+------+-------+--------------+-------------+----------------+---------------+---------------+------------+----------+-----------+\n",
      "|ArrDelay|         CRSArrTime|         CRSDepTime|Carrier|DayOfMonth|DayOfWeek|DayOfYear|DepDelay|Dest|Distance|FlightDate|FlightNum|Origin|  Route|ArrDelayBucket|Carrier_index|DayOfMonth_index|DayOfWeek_index|DayOfYear_index|Origin_index|Dest_index|Route_index|\n",
      "+--------+-------------------+-------------------+-------+----------+---------+---------+--------+----+--------+----------+---------+------+-------+--------------+-------------+----------------+---------------+---------------+------------+----------+-----------+\n",
      "|    13.0|2015-01-02 03:10:00|2015-01-02 00:30:00|     AA|         1|        4|        1|    14.0| DFW|   569.0|2015-01-01|     1024|   ABQ|ABQ-DFW|           2.0|          4.0|            25.0|            1.0|           25.0|        56.0|       1.0|     1210.0|\n",
      "|    17.0|2015-01-01 19:15:00|2015-01-01 16:25:00|     AA|         1|        4|        1|    14.0| DFW|   569.0|2015-01-01|     1184|   ABQ|ABQ-DFW|           2.0|          4.0|            25.0|            1.0|           25.0|        56.0|       1.0|     1210.0|\n",
      "|    36.0|2015-01-01 20:45:00|2015-01-01 18:00:00|     AA|         1|        4|        1|    -2.0| DFW|   569.0|2015-01-01|      336|   ABQ|ABQ-DFW|           3.0|          4.0|            25.0|            1.0|           25.0|        56.0|       1.0|     1210.0|\n",
      "|   -21.0|2015-01-02 04:30:00|2015-01-02 02:55:00|     AA|         1|        4|        1|    -1.0| DFW|   731.0|2015-01-01|      125|   ATL|ATL-DFW|           0.0|          4.0|            25.0|            1.0|           25.0|         0.0|       1.0|       27.0|\n",
      "|   -14.0|2015-01-01 19:25:00|2015-01-01 17:55:00|     AA|         1|        4|        1|    -4.0| DFW|   731.0|2015-01-01|     1455|   ATL|ATL-DFW|           1.0|          4.0|            25.0|            1.0|           25.0|         0.0|       1.0|       27.0|\n",
      "|    16.0|2015-01-02 00:15:00|2015-01-01 22:45:00|     AA|         1|        4|        1|    15.0| DFW|   731.0|2015-01-01|     1473|   ATL|ATL-DFW|           2.0|          4.0|            25.0|            1.0|           25.0|         0.0|       1.0|       27.0|\n",
      "|    -7.0|2015-01-01 21:15:00|2015-01-01 19:45:00|     AA|         1|        4|        1|    -2.0| DFW|   731.0|2015-01-01|     1513|   ATL|ATL-DFW|           1.0|          4.0|            25.0|            1.0|           25.0|         0.0|       1.0|       27.0|\n",
      "|    13.0|2015-01-02 01:50:00|2015-01-02 00:25:00|     AA|         1|        4|        1|     9.0| DFW|   731.0|2015-01-01|      194|   ATL|ATL-DFW|           2.0|          4.0|            25.0|            1.0|           25.0|         0.0|       1.0|       27.0|\n",
      "|    25.0|2015-01-02 05:30:00|2015-01-02 04:00:00|     AA|         1|        4|        1|    -2.0| DFW|   731.0|2015-01-01|      232|   ATL|ATL-DFW|           2.0|          4.0|            25.0|            1.0|           25.0|         0.0|       1.0|       27.0|\n",
      "|    58.0|2015-01-02 06:40:00|2015-01-02 05:15:00|     AA|         1|        4|        1|    14.0| DFW|   731.0|2015-01-01|      276|   ATL|ATL-DFW|           3.0|          4.0|            25.0|            1.0|           25.0|         0.0|       1.0|       27.0|\n",
      "+--------+-------------------+-------------------+-------+----------+---------+---------+--------+----+--------+----------+---------+------+-------+--------------+-------------+----------------+---------------+---------------+------------+----------+-----------+\n",
      "only showing top 10 rows\n",
      "\n"
     ]
    }
   ],
   "source": [
    "from pyspark.ml.feature import StringIndexer, VectorAssembler\n",
    "\n",
    "for col in [\"Carrier\", \"DayOfMonth\", \"DayOfWeek\", \"DayOfYear\", \"Origin\", \"Dest\", \"Route\"]:\n",
    "    string_indexer = StringIndexer(inputCol = col, outputCol=col+\"_index\")\n",
    "    ml_bk_features = string_indexer.fit(ml_bk_features).transform(ml_bk_features)\n",
    "    \n",
    "    ml_bk_features.show(10)"
   ]
  },
  {
   "cell_type": "code",
   "execution_count": 101,
   "id": "589242a4-1226-4bd2-8a2c-d12dbcfceff1",
   "metadata": {},
   "outputs": [
    {
     "name": "stdout",
     "output_type": "stream",
     "text": [
      "+--------+-------------------+-------------------+-------+----------+---------+---------+--------+----+--------+----------+---------+------+-------+--------------+--------------------+\n",
      "|ArrDelay|         CRSArrTime|         CRSDepTime|Carrier|DayOfMonth|DayOfWeek|DayOfYear|DepDelay|Dest|Distance|FlightDate|FlightNum|Origin|  Route|ArrDelayBucket|        Features_vec|\n",
      "+--------+-------------------+-------------------+-------+----------+---------+---------+--------+----+--------+----------+---------+------+-------+--------------+--------------------+\n",
      "|    13.0|2015-01-02 03:10:00|2015-01-02 00:30:00|     AA|         1|        4|        1|    14.0| DFW|   569.0|2015-01-01|     1024|   ABQ|ABQ-DFW|           2.0|[14.0,569.0,4.0,2...|\n",
      "|    17.0|2015-01-01 19:15:00|2015-01-01 16:25:00|     AA|         1|        4|        1|    14.0| DFW|   569.0|2015-01-01|     1184|   ABQ|ABQ-DFW|           2.0|[14.0,569.0,4.0,2...|\n",
      "|    36.0|2015-01-01 20:45:00|2015-01-01 18:00:00|     AA|         1|        4|        1|    -2.0| DFW|   569.0|2015-01-01|      336|   ABQ|ABQ-DFW|           3.0|[-2.0,569.0,4.0,2...|\n",
      "|   -21.0|2015-01-02 04:30:00|2015-01-02 02:55:00|     AA|         1|        4|        1|    -1.0| DFW|   731.0|2015-01-01|      125|   ATL|ATL-DFW|           0.0|[-1.0,731.0,4.0,2...|\n",
      "|   -14.0|2015-01-01 19:25:00|2015-01-01 17:55:00|     AA|         1|        4|        1|    -4.0| DFW|   731.0|2015-01-01|     1455|   ATL|ATL-DFW|           1.0|[-4.0,731.0,4.0,2...|\n",
      "|    16.0|2015-01-02 00:15:00|2015-01-01 22:45:00|     AA|         1|        4|        1|    15.0| DFW|   731.0|2015-01-01|     1473|   ATL|ATL-DFW|           2.0|[15.0,731.0,4.0,2...|\n",
      "|    -7.0|2015-01-01 21:15:00|2015-01-01 19:45:00|     AA|         1|        4|        1|    -2.0| DFW|   731.0|2015-01-01|     1513|   ATL|ATL-DFW|           1.0|[-2.0,731.0,4.0,2...|\n",
      "|    13.0|2015-01-02 01:50:00|2015-01-02 00:25:00|     AA|         1|        4|        1|     9.0| DFW|   731.0|2015-01-01|      194|   ATL|ATL-DFW|           2.0|[9.0,731.0,4.0,25...|\n",
      "|    25.0|2015-01-02 05:30:00|2015-01-02 04:00:00|     AA|         1|        4|        1|    -2.0| DFW|   731.0|2015-01-01|      232|   ATL|ATL-DFW|           2.0|[-2.0,731.0,4.0,2...|\n",
      "|    58.0|2015-01-02 06:40:00|2015-01-02 05:15:00|     AA|         1|        4|        1|    14.0| DFW|   731.0|2015-01-01|      276|   ATL|ATL-DFW|           3.0|[14.0,731.0,4.0,2...|\n",
      "|    14.0|2015-01-01 22:25:00|2015-01-01 20:55:00|     AA|         1|        4|        1|    15.0| DFW|   731.0|2015-01-01|      314|   ATL|ATL-DFW|           2.0|[15.0,731.0,4.0,2...|\n",
      "|     1.0|2015-01-02 03:05:00|2015-01-02 01:40:00|     AA|         1|        4|        1|    -5.0| DFW|   731.0|2015-01-01|      356|   ATL|ATL-DFW|           2.0|[-5.0,731.0,4.0,2...|\n",
      "|   -29.0|2015-01-01 19:12:00|2015-01-01 17:15:00|     AA|         1|        4|        1|    -9.0| MIA|   594.0|2015-01-01|     1652|   ATL|ATL-MIA|           0.0|[-9.0,594.0,4.0,2...|\n",
      "|   -10.0|2015-01-01 17:52:00|2015-01-01 16:00:00|     AA|         1|        4|        1|    -4.0| MIA|   594.0|2015-01-01|       17|   ATL|ATL-MIA|           1.0|[-4.0,594.0,4.0,2...|\n",
      "|    -3.0|2015-01-02 08:02:00|2015-01-02 06:10:00|     AA|         1|        4|        1|    -7.0| MIA|   594.0|2015-01-01|      349|   ATL|ATL-MIA|           1.0|[-7.0,594.0,4.0,2...|\n",
      "|    -8.0|2015-01-01 23:35:00|2015-01-01 22:30:00|     AA|         1|        4|        1|    -2.0| DFW|   190.0|2015-01-01|     1023|   AUS|AUS-DFW|           1.0|[-2.0,190.0,4.0,2...|\n",
      "|    -1.0|2015-01-01 15:50:00|2015-01-01 14:50:00|     AA|         1|        4|        1|    -2.0| DFW|   190.0|2015-01-01|     1178|   AUS|AUS-DFW|           1.0|[-2.0,190.0,4.0,2...|\n",
      "|   -14.0|2015-01-01 18:40:00|2015-01-01 17:30:00|     AA|         1|        4|        1|    -6.0| DFW|   190.0|2015-01-01|     1296|   AUS|AUS-DFW|           1.0|[-6.0,190.0,4.0,2...|\n",
      "|   -16.0|2015-01-01 19:15:00|2015-01-01 18:05:00|     AA|         1|        4|        1|    -4.0| DFW|   190.0|2015-01-01|     1356|   AUS|AUS-DFW|           0.0|[-4.0,190.0,4.0,2...|\n",
      "|    18.0|2015-01-02 01:55:00|2015-01-02 00:55:00|     AA|         1|        4|        1|     3.0| DFW|   190.0|2015-01-01|     1365|   AUS|AUS-DFW|           2.0|[3.0,190.0,4.0,25...|\n",
      "+--------+-------------------+-------------------+-------+----------+---------+---------+--------+----+--------+----------+---------+------+-------+--------------+--------------------+\n",
      "only showing top 20 rows\n",
      "\n"
     ]
    }
   ],
   "source": [
    "numeric_cols = [\"DepDelay\", \"Distance\"]\n",
    "index_cols = [\"Carrier_index\", \"DayOfMonth_index\",\n",
    "              \"DayOfWeek_index\", \"DayOfYear_index\", \"Origin_index\",\n",
    "              \"Origin_index\", \"Dest_index\", \"Route_index\"]\n",
    "vector_assembler = VectorAssembler(inputCols=numeric_cols+index_cols,\n",
    "                                   outputCol=\"Features_vec\")\n",
    "final_vectorized_features = vector_assembler.transform(ml_bk_features)\n",
    "for col in index_cols:\n",
    "    final_vectorized_features = final_vectorized_features.drop(col)\n",
    "    \n",
    "final_vectorized_features.show()"
   ]
  },
  {
   "cell_type": "code",
   "execution_count": 104,
   "id": "10cd7575-ffe1-4c04-a176-a4583ac84c46",
   "metadata": {},
   "outputs": [
    {
     "name": "stderr",
     "output_type": "stream",
     "text": [
      "                                                                                \r"
     ]
    },
    {
     "name": "stdout",
     "output_type": "stream",
     "text": [
      "Accuracy = 0.585480008177809\n"
     ]
    },
    {
     "name": "stderr",
     "output_type": "stream",
     "text": [
      "[Stage 466:============================>                            (1 + 1) / 2]\r"
     ]
    },
    {
     "name": "stdout",
     "output_type": "stream",
     "text": [
      "+--------+-------------------+-------------------+-------+----------+---------+---------+--------+----+--------+----------+---------+------+-------+--------------+--------------------+--------------------+--------------------+----------+\n",
      "|ArrDelay|         CRSArrTime|         CRSDepTime|Carrier|DayOfMonth|DayOfWeek|DayOfYear|DepDelay|Dest|Distance|FlightDate|FlightNum|Origin|  Route|ArrDelayBucket|        Features_vec|       rawPrediction|         probability|prediction|\n",
      "+--------+-------------------+-------------------+-------+----------+---------+---------+--------+----+--------+----------+---------+------+-------+--------------+--------------------+--------------------+--------------------+----------+\n",
      "|    13.0|2015-01-01 23:55:00|2015-01-01 22:25:00|     WN|         1|        4|        1|    19.0| PDX|   479.0|2015-01-01|      267|   SMF|SMF-PDX|           2.0|[19.0,479.0,0.0,2...|[0.94936059183558...|[0.04746802959177...|       2.0|\n",
      "|    -2.0|2015-01-02 01:20:00|2015-01-01 22:45:00|     WN|         1|        4|        1|    -5.0| MCO|   861.0|2015-01-01|      261|   PHL|PHL-MCO|           1.0|[-5.0,861.0,0.0,2...|[6.38551732100343...|[0.31927586605017...|       1.0|\n",
      "|   -23.0|2015-01-02 21:52:00|2015-01-02 19:05:00|     UA|         2|        5|        2|    -2.0| SFO|  1846.0|2015-01-02|     1630|   ORD|ORD-SFO|           0.0|[-2.0,1846.0,5.0,...|[6.13332068344000...|[0.30666603417200...|       1.0|\n",
      "|   -13.0|2015-01-02 22:10:00|2015-01-02 19:50:00|     AA|         2|        5|        2|    -1.0| MSP|   852.0|2015-01-02|     1633|   DFW|DFW-MSP|           1.0|[-1.0,852.0,4.0,0...|[4.58979845521890...|[0.22948992276094...|       1.0|\n",
      "|   -17.0|2015-01-02 22:10:00|2015-01-02 21:00:00|     WN|         2|        5|        2|     3.0| DEN|   651.0|2015-01-02|     1010|   DAL|DAL-DEN|           0.0|[3.0,651.0,0.0,0....|[3.42307772537450...|[0.17115388626872...|       1.0|\n",
      "|     2.0|2015-01-03 00:51:00|2015-01-02 22:13:00|     NK|         2|        5|        2|     8.0| LBE|   980.0|2015-01-02|      724|   FLL|FLL-LBE|           2.0|[8.0,980.0,10.0,0...|[2.01996799873079...|[0.10099839993653...|       2.0|\n",
      "+--------+-------------------+-------------------+-------+----------+---------+---------+--------+----+--------+----------+---------+------+-------+--------------+--------------------+--------------------+--------------------+----------+\n",
      "only showing top 6 rows\n",
      "\n"
     ]
    },
    {
     "name": "stderr",
     "output_type": "stream",
     "text": [
      "                                                                                \r"
     ]
    }
   ],
   "source": [
    "train_data, test_data = final_vectorized_features.randomSplit([0.7, 0.3])\n",
    "\n",
    "from pyspark.ml.classification import RandomForestClassifier\n",
    "rfc = RandomForestClassifier(featuresCol=\"Features_vec\",\n",
    "                             labelCol=\"ArrDelayBucket\",\n",
    "                             maxBins=4657,\n",
    "                             maxMemoryInMB=1024)\n",
    "model = rfc.fit(train_data)\n",
    "\n",
    "predictions = model.transform(test_data)\n",
    "\n",
    "from pyspark.ml.evaluation import MulticlassClassificationEvaluator\n",
    "evaluator = MulticlassClassificationEvaluator(labelCol=\"ArrDelayBucket\", metricName=\"accuracy\")\n",
    "accuracy = evaluator.evaluate(predictions)\n",
    "print(f\"Accuracy = {accuracy}\")\n",
    "\n",
    "predictions.sample(False, 0.001, 18).orderBy(\"CRSDepTime\").show(6)"
   ]
  }
 ],
 "metadata": {
  "kernelspec": {
   "display_name": "Python 3 (ipykernel)",
   "language": "python",
   "name": "python3"
  },
  "language_info": {
   "codemirror_mode": {
    "name": "ipython",
    "version": 3
   },
   "file_extension": ".py",
   "mimetype": "text/x-python",
   "name": "python",
   "nbconvert_exporter": "python",
   "pygments_lexer": "ipython3",
   "version": "3.9.7"
  }
 },
 "nbformat": 4,
 "nbformat_minor": 5
}
