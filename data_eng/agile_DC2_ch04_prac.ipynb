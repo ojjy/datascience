{
 "cells": [
  {
   "cell_type": "code",
   "execution_count": 2,
   "id": "30fab4af-647e-4a24-8dd3-6b1459ff68c5",
   "metadata": {},
   "outputs": [
    {
     "name": "stderr",
     "output_type": "stream",
     "text": [
      "22/02/14 23:47:18 WARN Utils: Your hostname, kellyui-MacBookAir.local resolves to a loopback address: 127.0.0.1; using 192.168.0.3 instead (on interface en0)\n",
      "22/02/14 23:47:18 WARN Utils: Set SPARK_LOCAL_IP if you need to bind to another address\n",
      "WARNING: An illegal reflective access operation has occurred\n",
      "WARNING: Illegal reflective access by org.apache.spark.unsafe.Platform (file:/Users/kelly/opt/anaconda3/lib/python3.9/site-packages/pyspark/jars/spark-unsafe_2.12-3.2.1.jar) to constructor java.nio.DirectByteBuffer(long,int)\n",
      "WARNING: Please consider reporting this to the maintainers of org.apache.spark.unsafe.Platform\n",
      "WARNING: Use --illegal-access=warn to enable warnings of further illegal reflective access operations\n",
      "WARNING: All illegal access operations will be denied in a future release\n"
     ]
    },
    {
     "name": "stdout",
     "output_type": "stream",
     "text": [
      ":: loading settings :: url = jar:file:/Users/kelly/opt/anaconda3/lib/python3.9/site-packages/pyspark/jars/ivy-2.5.0.jar!/org/apache/ivy/core/settings/ivysettings.xml\n"
     ]
    },
    {
     "name": "stderr",
     "output_type": "stream",
     "text": [
      "Ivy Default Cache set to: /Users/kelly/.ivy2/cache\n",
      "The jars for the packages stored in: /Users/kelly/.ivy2/jars\n",
      "org.mongodb.spark#mongo-spark-connector_2.12 added as a dependency\n",
      "org.elasticsearch#elasticsearch-spark-30_2.12 added as a dependency\n",
      ":: resolving dependencies :: org.apache.spark#spark-submit-parent-0164edb2-cb76-4c88-8642-154a5b218fca;1.0\n",
      "\tconfs: [default]\n",
      "\tfound org.mongodb.spark#mongo-spark-connector_2.12;3.0.1 in central\n",
      "\tfound org.mongodb#mongodb-driver-sync;4.0.5 in central\n",
      "\tfound org.mongodb#bson;4.0.5 in central\n",
      "\tfound org.mongodb#mongodb-driver-core;4.0.5 in central\n",
      "\tfound org.elasticsearch#elasticsearch-spark-30_2.12;7.14.2 in central\n",
      "\tfound org.scala-lang#scala-reflect;2.12.8 in central\n",
      "\tfound org.slf4j#slf4j-api;1.7.6 in central\n",
      "\tfound commons-logging#commons-logging;1.1.1 in central\n",
      "\tfound javax.xml.bind#jaxb-api;2.3.1 in central\n",
      "\tfound com.google.protobuf#protobuf-java;2.5.0 in central\n",
      "\tfound org.apache.spark#spark-yarn_2.12;3.0.1 in central\n",
      ":: resolution report :: resolve 786ms :: artifacts dl 36ms\n",
      "\t:: modules in use:\n",
      "\tcom.google.protobuf#protobuf-java;2.5.0 from central in [default]\n",
      "\tcommons-logging#commons-logging;1.1.1 from central in [default]\n",
      "\tjavax.xml.bind#jaxb-api;2.3.1 from central in [default]\n",
      "\torg.apache.spark#spark-yarn_2.12;3.0.1 from central in [default]\n",
      "\torg.elasticsearch#elasticsearch-spark-30_2.12;7.14.2 from central in [default]\n",
      "\torg.mongodb#bson;4.0.5 from central in [default]\n",
      "\torg.mongodb#mongodb-driver-core;4.0.5 from central in [default]\n",
      "\torg.mongodb#mongodb-driver-sync;4.0.5 from central in [default]\n",
      "\torg.mongodb.spark#mongo-spark-connector_2.12;3.0.1 from central in [default]\n",
      "\torg.scala-lang#scala-reflect;2.12.8 from central in [default]\n",
      "\torg.slf4j#slf4j-api;1.7.6 from central in [default]\n",
      "\t---------------------------------------------------------------------\n",
      "\t|                  |            modules            ||   artifacts   |\n",
      "\t|       conf       | number| search|dwnlded|evicted|| number|dwnlded|\n",
      "\t---------------------------------------------------------------------\n",
      "\t|      default     |   11  |   0   |   0   |   0   ||   11  |   0   |\n",
      "\t---------------------------------------------------------------------\n",
      ":: retrieving :: org.apache.spark#spark-submit-parent-0164edb2-cb76-4c88-8642-154a5b218fca\n",
      "\tconfs: [default]\n",
      "\t0 artifacts copied, 11 already retrieved (0kB/15ms)\n",
      "22/02/14 23:47:21 WARN NativeCodeLoader: Unable to load native-hadoop library for your platform... using builtin-java classes where applicable\n",
      "Using Spark's default log4j profile: org/apache/spark/log4j-defaults.properties\n",
      "Setting default log level to \"WARN\".\n",
      "To adjust logging level use sc.setLogLevel(newLevel). For SparkR, use setLogLevel(newLevel).\n"
     ]
    },
    {
     "name": "stdout",
     "output_type": "stream",
     "text": [
      "\n",
      "PySpark initialized...\n"
     ]
    }
   ],
   "source": [
    "from pyspark.sql import SparkSession\n",
    "\n",
    "\n",
    "# Initialize PySpark with MongoDB and Elastic support\n",
    "spark = (SparkSession.builder.appName(\"Collecting and Displaying Records\")\n",
    "    # Load support for MongoDB and Elasticsearch\n",
    "    .config(\"spark.jars.packages\", \"org.mongodb.spark:mongo-spark-connector_2.12:3.0.1,org.elasticsearch:elasticsearch-spark-30_2.12:7.14.2\")\n",
    "    # Add Configuration for MongopDB\n",
    "    .config(\"spark.mongodb.input.uri\", \"mongodb://mongo:27017/test.coll\")\n",
    "    .config(\"spark.mongodb.output.uri\", \"mongodb://mongo:27017/test.coll\")\n",
    "    .getOrCreate())\n",
    "sc = spark.sparkContext\n",
    "sc.setLogLevel(\"ERROR\")\n",
    "\n",
    "print(\"\\nPySpark initialized...\")"
   ]
  },
  {
   "cell_type": "code",
   "execution_count": null,
   "id": "52942b89-a67e-4d69-9a86-cb11e6877c09",
   "metadata": {},
   "outputs": [],
   "source": [
    "on_time_df = spark.read.csv('data/On_Time_On_Time_Performance_2015.csv.bz2', header=True)\n",
    "on_time_df.limit(20).toPandas()"
   ]
  },
  {
   "cell_type": "code",
   "execution_count": null,
   "id": "f9af071e-14df-41ce-b408-7bd6cc0f417d",
   "metadata": {},
   "outputs": [],
   "source": [
    "on_time_df.registerTempTable(\"raw_on_time_performance\")\n",
    "\n",
    "trimmed_cast_performance = spark.sql(\"\"\"\n",
    "SELECT\n",
    "  Year, Quarter, Month, DayofMonth, DayOfWeek, FlightDate,\n",
    "  Carrier, TailNum, FlightNum,\n",
    "  Origin, OriginCityName, OriginState,\n",
    "  Dest, DestCityName, DestState,\n",
    "  DepTime, cast(DepDelay as float), cast(DepDelayMinutes as int),\n",
    "  cast(TaxiOut as float), cast(TaxiIn as float),\n",
    "  WheelsOff, WheelsOn,\n",
    "  ArrTime, cast(ArrDelay as float), cast(ArrDelayMinutes as float),\n",
    "  cast(Cancelled as int), cast(Diverted as int),\n",
    "  cast(ActualElapsedTime as float), cast(AirTime as float),\n",
    "  cast(Flights as int), cast(Distance as float),\n",
    "  cast(CarrierDelay as float), cast(WeatherDelay as float), \n",
    "  cast(NASDelay as float),\n",
    "  cast(SecurityDelay as float), \n",
    "  cast(LateAircraftDelay as float),\n",
    "  CRSDepTime, CRSArrTime\n",
    "FROM\n",
    "  raw_on_time_performance\n",
    "\"\"\")\n",
    "\n",
    "trimmed_cast_performance.registerTempTable(\"on_time_performance\")\n",
    "trimmed_cast_performance.limit(10).toPandas().head()"
   ]
  },
  {
   "cell_type": "code",
   "execution_count": null,
   "id": "99a3fa6f-3aa3-4c20-92a4-cd644481d176",
   "metadata": {},
   "outputs": [],
   "source": []
  }
 ],
 "metadata": {
  "kernelspec": {
   "display_name": "Python 3 (ipykernel)",
   "language": "python",
   "name": "python3"
  },
  "language_info": {
   "codemirror_mode": {
    "name": "ipython",
    "version": 3
   },
   "file_extension": ".py",
   "mimetype": "text/x-python",
   "name": "python",
   "nbconvert_exporter": "python",
   "pygments_lexer": "ipython3",
   "version": "3.9.7"
  }
 },
 "nbformat": 4,
 "nbformat_minor": 5
}
