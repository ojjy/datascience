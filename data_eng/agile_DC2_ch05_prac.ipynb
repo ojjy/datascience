{
 "cells": [
  {
   "cell_type": "code",
   "execution_count": null,
   "id": "a6685b0a-e1b7-4754-948e-6354ba9b7330",
   "metadata": {},
   "outputs": [],
   "source": [
    "from pyspark.sql import SparkSession\n",
    "\n",
    "\n",
    "# Initialize PySpark with MongoDB support\n",
    "APP_NAME = \"Collecting and Displaying Records\"\n",
    "spark = (\n",
    "    SparkSession.builder.appName(APP_NAME)\n",
    "    # Load support for MongoDB and Elasticsearch\n",
    "    .config(\"spark.jars.packages\", \"org.mongodb.spark:mongo-spark-connector_2.12:3.0.1,org.elasticsearch:elasticsearch-spark-30_2.12:7.14.2\")\n",
    "    # Add Configuration for MongopDB\n",
    "    .config(\"spark.mongodb.input.uri\", \"mongodb://mongo:27017/test.coll\")\n",
    "    .config(\"spark.mongodb.output.uri\", \"mongodb://mongo:27017/test.coll\")\n",
    "\n",
    "    .getOrCreate()\n",
    ")\n",
    "sc = spark.sparkContext\n",
    "sc.setLogLevel(\"ERROR\")\n",
    "\n",
    "print(\"\\nPySpark initialized...\")"
   ]
  },
  {
   "cell_type": "code",
   "execution_count": null,
   "id": "c5cc0ee3-83c1-4922-993f-87317f22f129",
   "metadata": {},
   "outputs": [],
   "source": [
    "on_time_df = spark.read.parquet('..data/on_time_performance.parquet')\n",
    "\n",
    "# Use SQL to look at the total flights by month across 2015\n",
    "on_time_df.createOrReplaceTempView(\"on_time_dataframe\")\n",
    "total_flights_by_month = spark.sql(\n",
    "  \"\"\"SELECT INT(Month), INT(Year), COUNT(*) AS total_flights\n",
    "  FROM on_time_dataframe\n",
    "  GROUP BY INT(Year), INT(Month)\n",
    "  ORDER BY INT(Year), INT(Month)\"\"\"\n",
    ")\n",
    "\n",
    "total_flights_by_month.toPandas()"
   ]
  },
  {
   "cell_type": "code",
   "execution_count": null,
   "id": "2af52809-de7a-4c06-9f70-39f8c14f5c5c",
   "metadata": {},
   "outputs": [],
   "source": [
    "# Save chart to MongoDB\n",
    "(\n",
    "    total_flights_by_month.write.format(\"mongo\")\n",
    "    .mode(\"append\")\n",
    "    .option(\"database\", \"agile_data_science\")\n",
    "    .option(\"collection\", \"flights_by_month\")\n",
    "    .save()\n",
    ")\n",
    "\n",
    "print(\"Wrote to MongoDB!\")"
   ]
  },
  {
   "cell_type": "code",
   "execution_count": null,
   "id": "503e04d8-8607-4ce8-bff8-32d7522f2c0a",
   "metadata": {},
   "outputs": [],
   "source": [
    "! mongosh mongodb://mongo:27017/agile_data_science --eval 'db.flights_by_month.find().sort({\"Year\": 1, \"Month\": 1})'"
   ]
  },
  {
   "cell_type": "code",
   "execution_count": null,
   "id": "053b9df3-bdcc-4972-a3f3-c901f8937e77",
   "metadata": {},
   "outputs": [],
   "source": [
    "on_time_df.columns"
   ]
  }
 ],
 "metadata": {
  "kernelspec": {
   "display_name": "Python 3 (ipykernel)",
   "language": "python",
   "name": "python3"
  },
  "language_info": {
   "codemirror_mode": {
    "name": "ipython",
    "version": 3
   },
   "file_extension": ".py",
   "mimetype": "text/x-python",
   "name": "python",
   "nbconvert_exporter": "python",
   "pygments_lexer": "ipython3",
   "version": "3.9.7"
  }
 },
 "nbformat": 4,
 "nbformat_minor": 5
}
