{
 "cells": [
  {
   "cell_type": "markdown",
   "id": "cc959ab4-ee05-415c-8556-a3873979c919",
   "metadata": {},
   "source": [
    "## Lambda Function"
   ]
  },
  {
   "cell_type": "code",
   "execution_count": 6,
   "id": "5655cb6a-d208-4baa-812a-83a11575fbd1",
   "metadata": {},
   "outputs": [
    {
     "data": {
      "text/plain": [
       "1"
      ]
     },
     "execution_count": 6,
     "metadata": {},
     "output_type": "execute_result"
    }
   ],
   "source": [
    "\"\"\"\n",
    "lambda function\n",
    "lambda parameters:return\n",
    "\n",
    "lambda x:x\n",
    "\"\"\"\n",
    "def get_x(x):\n",
    "    return x\n",
    "\n",
    "get_x(1)"
   ]
  },
  {
   "cell_type": "code",
   "execution_count": 7,
   "id": "095e86f1-e61d-47c2-bd08-70e22fb0e277",
   "metadata": {},
   "outputs": [
    {
     "name": "stdout",
     "output_type": "stream",
     "text": [
      "1\n"
     ]
    }
   ],
   "source": [
    "print((lambda x:x)(1))"
   ]
  },
  {
   "cell_type": "markdown",
   "id": "f7320cff-4ccd-4597-899f-b37895529f51",
   "metadata": {
    "tags": []
   },
   "source": [
    "## Callback Function"
   ]
  },
  {
   "cell_type": "code",
   "execution_count": 10,
   "id": "830ecf17-197b-4f54-9594-6aee6a888224",
   "metadata": {},
   "outputs": [
    {
     "name": "stdout",
     "output_type": "stream",
     "text": [
      "the length of file: 89475\n"
     ]
    },
    {
     "data": {
      "text/plain": [
       "89475"
      ]
     },
     "execution_count": 10,
     "metadata": {},
     "output_type": "execute_result"
    }
   ],
   "source": [
    "def print_length(length):\n",
    "    print(f\"the length of file: {length}\")\n",
    "    \n",
    "def get_file_length(filename, print_length):\n",
    "    with open(\"netflix.csv\", \"r\") as fp:\n",
    "        length = len(fp.read())\n",
    "    print_length(length)\n",
    "    return length\n",
    "\n",
    "get_file_length(\"netflix.csv\", print_length)"
   ]
  },
  {
   "cell_type": "code",
   "execution_count": 11,
   "id": "222fe5e5-2cf6-4ea4-97d4-6be23f741ea0",
   "metadata": {},
   "outputs": [
    {
     "name": "stdout",
     "output_type": "stream",
     "text": [
      "9\n",
      "5\n"
     ]
    }
   ],
   "source": [
    "import logging\n",
    "logging.basicConfig(filename='example.log', level=logging.INFO)\n",
    "\n",
    "def logger(func):\n",
    "    def log_func(*args):\n",
    "        logging.info(f\"Running {func.__name__} with args {args}\")\n",
    "        print(func(*args))\n",
    "        \n",
    "    return log_func\n",
    "\n",
    "def add(x, y):\n",
    "    return x+y\n",
    "\n",
    "def sub(x, y):\n",
    "    return x-y\n",
    "\n",
    "add_logger = logger(add)\n",
    "sub_logger = logger(sub)\n",
    "\n",
    "add_logger(3,6)\n",
    "sub_logger(10, 5)\n"
   ]
  },
  {
   "cell_type": "markdown",
   "id": "58c2e915-89c7-45e4-bcc0-a8f2b0ec5f1a",
   "metadata": {},
   "source": [
    "References.\n",
    "- https://www.geeksforgeeks.org/python-closures/\n",
    "- https://www.programiz.com/python-programming/closure"
   ]
  }
 ],
 "metadata": {
  "kernelspec": {
   "display_name": "Python 3 (ipykernel)",
   "language": "python",
   "name": "python3"
  },
  "language_info": {
   "codemirror_mode": {
    "name": "ipython",
    "version": 3
   },
   "file_extension": ".py",
   "mimetype": "text/x-python",
   "name": "python",
   "nbconvert_exporter": "python",
   "pygments_lexer": "ipython3",
   "version": "3.9.7"
  }
 },
 "nbformat": 4,
 "nbformat_minor": 5
}
