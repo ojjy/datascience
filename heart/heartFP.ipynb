{
 "cells": [
  {
   "cell_type": "code",
   "execution_count": 72,
   "metadata": {},
   "outputs": [
    {
     "name": "stdout",
     "output_type": "stream",
     "text": [
      "Requirement already satisfied: pip in c:\\users\\sm\\appdata\\local\\packages\\pythonsoftwarefoundation.python.3.8_qbz5n2kfra8p0\\localcache\\local-packages\\python38\\site-packages (21.3)\n"
     ]
    }
   ],
   "source": [
    "!python3 -m pip install --upgrade pip"
   ]
  },
  {
   "cell_type": "code",
   "execution_count": 73,
   "metadata": {},
   "outputs": [
    {
     "name": "stdout",
     "output_type": "stream",
     "text": [
      "Requirement already satisfied: seaborn==0.11.0 in c:\\programdata\\anaconda3\\lib\\site-packages (0.11.0)\n",
      "Requirement already satisfied: matplotlib>=2.2 in c:\\programdata\\anaconda3\\lib\\site-packages (from seaborn==0.11.0) (3.3.4)\n",
      "Requirement already satisfied: numpy>=1.15 in c:\\programdata\\anaconda3\\lib\\site-packages (from seaborn==0.11.0) (1.20.1)\n",
      "Requirement already satisfied: pandas>=0.23 in c:\\programdata\\anaconda3\\lib\\site-packages (from seaborn==0.11.0) (1.2.4)\n",
      "Requirement already satisfied: scipy>=1.0 in c:\\programdata\\anaconda3\\lib\\site-packages (from seaborn==0.11.0) (1.6.2)\n",
      "Requirement already satisfied: kiwisolver>=1.0.1 in c:\\programdata\\anaconda3\\lib\\site-packages (from matplotlib>=2.2->seaborn==0.11.0) (1.3.1)\n",
      "Requirement already satisfied: pyparsing!=2.0.4,!=2.1.2,!=2.1.6,>=2.0.3 in c:\\programdata\\anaconda3\\lib\\site-packages (from matplotlib>=2.2->seaborn==0.11.0) (2.4.7)\n",
      "Requirement already satisfied: pillow>=6.2.0 in c:\\programdata\\anaconda3\\lib\\site-packages (from matplotlib>=2.2->seaborn==0.11.0) (8.2.0)\n",
      "Requirement already satisfied: python-dateutil>=2.1 in c:\\programdata\\anaconda3\\lib\\site-packages (from matplotlib>=2.2->seaborn==0.11.0) (2.8.1)\n",
      "Requirement already satisfied: cycler>=0.10 in c:\\programdata\\anaconda3\\lib\\site-packages (from matplotlib>=2.2->seaborn==0.11.0) (0.10.0)\n",
      "Requirement already satisfied: six in c:\\programdata\\anaconda3\\lib\\site-packages (from cycler>=0.10->matplotlib>=2.2->seaborn==0.11.0) (1.15.0)\n",
      "Requirement already satisfied: pytz>=2017.3 in c:\\programdata\\anaconda3\\lib\\site-packages (from pandas>=0.23->seaborn==0.11.0) (2021.1)\n"
     ]
    }
   ],
   "source": [
    "!pip install seaborn==0.11.0"
   ]
  },
  {
   "cell_type": "code",
   "execution_count": 74,
   "metadata": {},
   "outputs": [
    {
     "name": "stdout",
     "output_type": "stream",
     "text": [
      "Requirement already satisfied: pandas in c:\\users\\sm\\appdata\\local\\packages\\pythonsoftwarefoundation.python.3.8_qbz5n2kfra8p0\\localcache\\local-packages\\python38\\site-packages (1.3.3)\n",
      "Requirement already satisfied: python-dateutil>=2.7.3 in c:\\users\\sm\\appdata\\local\\packages\\pythonsoftwarefoundation.python.3.8_qbz5n2kfra8p0\\localcache\\local-packages\\python38\\site-packages (from pandas) (2.8.2)\n",
      "Requirement already satisfied: pytz>=2017.3 in c:\\users\\sm\\appdata\\local\\packages\\pythonsoftwarefoundation.python.3.8_qbz5n2kfra8p0\\localcache\\local-packages\\python38\\site-packages (from pandas) (2021.1)\n",
      "Requirement already satisfied: numpy>=1.17.3 in c:\\users\\sm\\appdata\\local\\packages\\pythonsoftwarefoundation.python.3.8_qbz5n2kfra8p0\\localcache\\local-packages\\python38\\site-packages (from pandas) (1.21.2)\n",
      "Requirement already satisfied: six>=1.5 in c:\\users\\sm\\appdata\\local\\packages\\pythonsoftwarefoundation.python.3.8_qbz5n2kfra8p0\\localcache\\local-packages\\python38\\site-packages (from python-dateutil>=2.7.3->pandas) (1.16.0)\n"
     ]
    }
   ],
   "source": [
    "!python3 -m pip install pandas"
   ]
  },
  {
   "cell_type": "code",
   "execution_count": 75,
   "metadata": {},
   "outputs": [
    {
     "name": "stdout",
     "output_type": "stream",
     "text": [
      "Requirement already satisfied: matplotlib in c:\\users\\sm\\appdata\\local\\packages\\pythonsoftwarefoundation.python.3.8_qbz5n2kfra8p0\\localcache\\local-packages\\python38\\site-packages (3.4.3)\n",
      "Requirement already satisfied: kiwisolver>=1.0.1 in c:\\users\\sm\\appdata\\local\\packages\\pythonsoftwarefoundation.python.3.8_qbz5n2kfra8p0\\localcache\\local-packages\\python38\\site-packages (from matplotlib) (1.3.2)\n",
      "Requirement already satisfied: pyparsing>=2.2.1 in c:\\users\\sm\\appdata\\local\\packages\\pythonsoftwarefoundation.python.3.8_qbz5n2kfra8p0\\localcache\\local-packages\\python38\\site-packages (from matplotlib) (2.4.7)\n",
      "Requirement already satisfied: numpy>=1.16 in c:\\users\\sm\\appdata\\local\\packages\\pythonsoftwarefoundation.python.3.8_qbz5n2kfra8p0\\localcache\\local-packages\\python38\\site-packages (from matplotlib) (1.21.2)\n",
      "Requirement already satisfied: pillow>=6.2.0 in c:\\users\\sm\\appdata\\local\\packages\\pythonsoftwarefoundation.python.3.8_qbz5n2kfra8p0\\localcache\\local-packages\\python38\\site-packages (from matplotlib) (8.3.2)\n",
      "Requirement already satisfied: python-dateutil>=2.7 in c:\\users\\sm\\appdata\\local\\packages\\pythonsoftwarefoundation.python.3.8_qbz5n2kfra8p0\\localcache\\local-packages\\python38\\site-packages (from matplotlib) (2.8.2)\n",
      "Requirement already satisfied: cycler>=0.10 in c:\\users\\sm\\appdata\\local\\packages\\pythonsoftwarefoundation.python.3.8_qbz5n2kfra8p0\\localcache\\local-packages\\python38\\site-packages (from matplotlib) (0.10.0)\n",
      "Requirement already satisfied: six in c:\\users\\sm\\appdata\\local\\packages\\pythonsoftwarefoundation.python.3.8_qbz5n2kfra8p0\\localcache\\local-packages\\python38\\site-packages (from cycler>=0.10->matplotlib) (1.16.0)\n"
     ]
    }
   ],
   "source": [
    "!python3 -m pip install matplotlib"
   ]
  },
  {
   "cell_type": "code",
   "execution_count": 76,
   "metadata": {},
   "outputs": [
    {
     "name": "stdout",
     "output_type": "stream",
     "text": [
      "Requirement already satisfied: seaborn in c:\\users\\sm\\appdata\\local\\packages\\pythonsoftwarefoundation.python.3.8_qbz5n2kfra8p0\\localcache\\local-packages\\python38\\site-packages (0.11.2)\n",
      "Requirement already satisfied: pandas>=0.23 in c:\\users\\sm\\appdata\\local\\packages\\pythonsoftwarefoundation.python.3.8_qbz5n2kfra8p0\\localcache\\local-packages\\python38\\site-packages (from seaborn) (1.3.3)\n",
      "Requirement already satisfied: matplotlib>=2.2 in c:\\users\\sm\\appdata\\local\\packages\\pythonsoftwarefoundation.python.3.8_qbz5n2kfra8p0\\localcache\\local-packages\\python38\\site-packages (from seaborn) (3.4.3)\n",
      "Requirement already satisfied: numpy>=1.15 in c:\\users\\sm\\appdata\\local\\packages\\pythonsoftwarefoundation.python.3.8_qbz5n2kfra8p0\\localcache\\local-packages\\python38\\site-packages (from seaborn) (1.21.2)\n",
      "Requirement already satisfied: scipy>=1.0 in c:\\users\\sm\\appdata\\local\\packages\\pythonsoftwarefoundation.python.3.8_qbz5n2kfra8p0\\localcache\\local-packages\\python38\\site-packages (from seaborn) (1.7.1)\n",
      "Requirement already satisfied: kiwisolver>=1.0.1 in c:\\users\\sm\\appdata\\local\\packages\\pythonsoftwarefoundation.python.3.8_qbz5n2kfra8p0\\localcache\\local-packages\\python38\\site-packages (from matplotlib>=2.2->seaborn) (1.3.2)\n",
      "Requirement already satisfied: pillow>=6.2.0 in c:\\users\\sm\\appdata\\local\\packages\\pythonsoftwarefoundation.python.3.8_qbz5n2kfra8p0\\localcache\\local-packages\\python38\\site-packages (from matplotlib>=2.2->seaborn) (8.3.2)\n",
      "Requirement already satisfied: cycler>=0.10 in c:\\users\\sm\\appdata\\local\\packages\\pythonsoftwarefoundation.python.3.8_qbz5n2kfra8p0\\localcache\\local-packages\\python38\\site-packages (from matplotlib>=2.2->seaborn) (0.10.0)\n",
      "Requirement already satisfied: pyparsing>=2.2.1 in c:\\users\\sm\\appdata\\local\\packages\\pythonsoftwarefoundation.python.3.8_qbz5n2kfra8p0\\localcache\\local-packages\\python38\\site-packages (from matplotlib>=2.2->seaborn) (2.4.7)\n",
      "Requirement already satisfied: python-dateutil>=2.7 in c:\\users\\sm\\appdata\\local\\packages\\pythonsoftwarefoundation.python.3.8_qbz5n2kfra8p0\\localcache\\local-packages\\python38\\site-packages (from matplotlib>=2.2->seaborn) (2.8.2)\n",
      "Requirement already satisfied: pytz>=2017.3 in c:\\users\\sm\\appdata\\local\\packages\\pythonsoftwarefoundation.python.3.8_qbz5n2kfra8p0\\localcache\\local-packages\\python38\\site-packages (from pandas>=0.23->seaborn) (2021.1)\n",
      "Requirement already satisfied: six in c:\\users\\sm\\appdata\\local\\packages\\pythonsoftwarefoundation.python.3.8_qbz5n2kfra8p0\\localcache\\local-packages\\python38\\site-packages (from cycler>=0.10->matplotlib>=2.2->seaborn) (1.16.0)\n"
     ]
    }
   ],
   "source": [
    "!python3 -m pip install seaborn"
   ]
  },
  {
   "cell_type": "code",
   "execution_count": 77,
   "metadata": {},
   "outputs": [
    {
     "name": "stdout",
     "output_type": "stream",
     "text": [
      "Requirement already satisfied: sklearn in c:\\users\\sm\\appdata\\local\\packages\\pythonsoftwarefoundation.python.3.8_qbz5n2kfra8p0\\localcache\\local-packages\\python38\\site-packages (0.0)\n",
      "Requirement already satisfied: scikit-learn in c:\\users\\sm\\appdata\\local\\packages\\pythonsoftwarefoundation.python.3.8_qbz5n2kfra8p0\\localcache\\local-packages\\python38\\site-packages (from sklearn) (1.0)\n",
      "Requirement already satisfied: numpy>=1.14.6 in c:\\users\\sm\\appdata\\local\\packages\\pythonsoftwarefoundation.python.3.8_qbz5n2kfra8p0\\localcache\\local-packages\\python38\\site-packages (from scikit-learn->sklearn) (1.21.2)\n",
      "Requirement already satisfied: threadpoolctl>=2.0.0 in c:\\users\\sm\\appdata\\local\\packages\\pythonsoftwarefoundation.python.3.8_qbz5n2kfra8p0\\localcache\\local-packages\\python38\\site-packages (from scikit-learn->sklearn) (3.0.0)\n",
      "Requirement already satisfied: scipy>=1.1.0 in c:\\users\\sm\\appdata\\local\\packages\\pythonsoftwarefoundation.python.3.8_qbz5n2kfra8p0\\localcache\\local-packages\\python38\\site-packages (from scikit-learn->sklearn) (1.7.1)\n",
      "Requirement already satisfied: joblib>=0.11 in c:\\users\\sm\\appdata\\local\\packages\\pythonsoftwarefoundation.python.3.8_qbz5n2kfra8p0\\localcache\\local-packages\\python38\\site-packages (from scikit-learn->sklearn) (1.1.0)\n"
     ]
    }
   ],
   "source": [
    "!python3 -m pip install sklearn"
   ]
  },
  {
   "cell_type": "code",
   "execution_count": 78,
   "metadata": {},
   "outputs": [],
   "source": [
    "import pandas as pd\n",
    "import matplotlib.pyplot as plt\n",
    "import seaborn as sns\n",
    "import warnings\n",
    "warnings.filterwarnings(\"ignore\", category=DeprecationWarning) "
   ]
  },
  {
   "cell_type": "code",
   "execution_count": 79,
   "metadata": {},
   "outputs": [
    {
     "name": "stdout",
     "output_type": "stream",
     "text": [
      " C 드라이브의 볼륨: OS\n",
      " 볼륨 일련 번호: 608B-C944\n",
      "\n",
      " C:\\Users\\sm\\Documents\\GitHub\\dataeng\\libs\\da\\heart_failure_clinic 디렉터리\n",
      "\n",
      "2021-10-13  오후 05:05    <DIR>          .\n",
      "2021-10-13  오후 05:05    <DIR>          ..\n",
      "2021-10-12  오후 04:58    <DIR>          .ipynb_checkpoints\n",
      "2021-10-12  오후 05:18    <DIR>          catboost_info\n",
      "2021-10-13  오후 05:05            20,241 heartFP.ipynb\n",
      "2021-10-12  오후 02:51            12,239 heart_failure_clinical_records_dataset.csv\n",
      "               2개 파일              32,480 바이트\n",
      "               4개 디렉터리  666,190,950,400 바이트 남음\n"
     ]
    }
   ],
   "source": [
    "!dir"
   ]
  },
  {
   "cell_type": "code",
   "execution_count": 80,
   "metadata": {},
   "outputs": [
    {
     "data": {
      "text/html": [
       "<div>\n",
       "<style scoped>\n",
       "    .dataframe tbody tr th:only-of-type {\n",
       "        vertical-align: middle;\n",
       "    }\n",
       "\n",
       "    .dataframe tbody tr th {\n",
       "        vertical-align: top;\n",
       "    }\n",
       "\n",
       "    .dataframe thead th {\n",
       "        text-align: right;\n",
       "    }\n",
       "</style>\n",
       "<table border=\"1\" class=\"dataframe\">\n",
       "  <thead>\n",
       "    <tr style=\"text-align: right;\">\n",
       "      <th></th>\n",
       "      <th>age</th>\n",
       "      <th>anaemia</th>\n",
       "      <th>creatinine_phosphokinase</th>\n",
       "      <th>diabetes</th>\n",
       "      <th>ejection_fraction</th>\n",
       "      <th>high_blood_pressure</th>\n",
       "      <th>platelets</th>\n",
       "      <th>serum_creatinine</th>\n",
       "      <th>serum_sodium</th>\n",
       "      <th>sex</th>\n",
       "      <th>smoking</th>\n",
       "      <th>time</th>\n",
       "      <th>DEATH_EVENT</th>\n",
       "    </tr>\n",
       "  </thead>\n",
       "  <tbody>\n",
       "    <tr>\n",
       "      <th>0</th>\n",
       "      <td>75.0</td>\n",
       "      <td>0</td>\n",
       "      <td>582</td>\n",
       "      <td>0</td>\n",
       "      <td>20</td>\n",
       "      <td>1</td>\n",
       "      <td>265000.00</td>\n",
       "      <td>1.9</td>\n",
       "      <td>130</td>\n",
       "      <td>1</td>\n",
       "      <td>0</td>\n",
       "      <td>4</td>\n",
       "      <td>1</td>\n",
       "    </tr>\n",
       "    <tr>\n",
       "      <th>1</th>\n",
       "      <td>55.0</td>\n",
       "      <td>0</td>\n",
       "      <td>7861</td>\n",
       "      <td>0</td>\n",
       "      <td>38</td>\n",
       "      <td>0</td>\n",
       "      <td>263358.03</td>\n",
       "      <td>1.1</td>\n",
       "      <td>136</td>\n",
       "      <td>1</td>\n",
       "      <td>0</td>\n",
       "      <td>6</td>\n",
       "      <td>1</td>\n",
       "    </tr>\n",
       "    <tr>\n",
       "      <th>2</th>\n",
       "      <td>65.0</td>\n",
       "      <td>0</td>\n",
       "      <td>146</td>\n",
       "      <td>0</td>\n",
       "      <td>20</td>\n",
       "      <td>0</td>\n",
       "      <td>162000.00</td>\n",
       "      <td>1.3</td>\n",
       "      <td>129</td>\n",
       "      <td>1</td>\n",
       "      <td>1</td>\n",
       "      <td>7</td>\n",
       "      <td>1</td>\n",
       "    </tr>\n",
       "    <tr>\n",
       "      <th>3</th>\n",
       "      <td>50.0</td>\n",
       "      <td>1</td>\n",
       "      <td>111</td>\n",
       "      <td>0</td>\n",
       "      <td>20</td>\n",
       "      <td>0</td>\n",
       "      <td>210000.00</td>\n",
       "      <td>1.9</td>\n",
       "      <td>137</td>\n",
       "      <td>1</td>\n",
       "      <td>0</td>\n",
       "      <td>7</td>\n",
       "      <td>1</td>\n",
       "    </tr>\n",
       "    <tr>\n",
       "      <th>4</th>\n",
       "      <td>65.0</td>\n",
       "      <td>1</td>\n",
       "      <td>160</td>\n",
       "      <td>1</td>\n",
       "      <td>20</td>\n",
       "      <td>0</td>\n",
       "      <td>327000.00</td>\n",
       "      <td>2.7</td>\n",
       "      <td>116</td>\n",
       "      <td>0</td>\n",
       "      <td>0</td>\n",
       "      <td>8</td>\n",
       "      <td>1</td>\n",
       "    </tr>\n",
       "  </tbody>\n",
       "</table>\n",
       "</div>"
      ],
      "text/plain": [
       "    age  anaemia  creatinine_phosphokinase  diabetes  ejection_fraction  \\\n",
       "0  75.0        0                       582         0                 20   \n",
       "1  55.0        0                      7861         0                 38   \n",
       "2  65.0        0                       146         0                 20   \n",
       "3  50.0        1                       111         0                 20   \n",
       "4  65.0        1                       160         1                 20   \n",
       "\n",
       "   high_blood_pressure  platelets  serum_creatinine  serum_sodium  sex  \\\n",
       "0                    1  265000.00               1.9           130    1   \n",
       "1                    0  263358.03               1.1           136    1   \n",
       "2                    0  162000.00               1.3           129    1   \n",
       "3                    0  210000.00               1.9           137    1   \n",
       "4                    0  327000.00               2.7           116    0   \n",
       "\n",
       "   smoking  time  DEATH_EVENT  \n",
       "0        0     4            1  \n",
       "1        0     6            1  \n",
       "2        1     7            1  \n",
       "3        0     7            1  \n",
       "4        0     8            1  "
      ]
     },
     "execution_count": 80,
     "metadata": {},
     "output_type": "execute_result"
    }
   ],
   "source": [
    "df = pd.read_csv(\"heart_failure_clinical_records_dataset.csv\")\n",
    "df.head(5)"
   ]
  },
  {
   "cell_type": "code",
   "execution_count": 81,
   "metadata": {},
   "outputs": [],
   "source": [
    "df['age'] = df['age'].astype(int)"
   ]
  },
  {
   "cell_type": "code",
   "execution_count": 82,
   "metadata": {},
   "outputs": [
    {
     "data": {
      "text/html": [
       "<div>\n",
       "<style scoped>\n",
       "    .dataframe tbody tr th:only-of-type {\n",
       "        vertical-align: middle;\n",
       "    }\n",
       "\n",
       "    .dataframe tbody tr th {\n",
       "        vertical-align: top;\n",
       "    }\n",
       "\n",
       "    .dataframe thead th {\n",
       "        text-align: right;\n",
       "    }\n",
       "</style>\n",
       "<table border=\"1\" class=\"dataframe\">\n",
       "  <thead>\n",
       "    <tr style=\"text-align: right;\">\n",
       "      <th></th>\n",
       "      <th>age</th>\n",
       "      <th>anaemia</th>\n",
       "      <th>creatinine_phosphokinase</th>\n",
       "      <th>diabetes</th>\n",
       "      <th>ejection_fraction</th>\n",
       "      <th>high_blood_pressure</th>\n",
       "      <th>platelets</th>\n",
       "      <th>serum_creatinine</th>\n",
       "      <th>serum_sodium</th>\n",
       "      <th>sex</th>\n",
       "      <th>smoking</th>\n",
       "      <th>time</th>\n",
       "      <th>DEATH_EVENT</th>\n",
       "    </tr>\n",
       "  </thead>\n",
       "  <tbody>\n",
       "    <tr>\n",
       "      <th>294</th>\n",
       "      <td>62</td>\n",
       "      <td>0</td>\n",
       "      <td>61</td>\n",
       "      <td>1</td>\n",
       "      <td>38</td>\n",
       "      <td>1</td>\n",
       "      <td>155000.0</td>\n",
       "      <td>1.1</td>\n",
       "      <td>143</td>\n",
       "      <td>1</td>\n",
       "      <td>1</td>\n",
       "      <td>270</td>\n",
       "      <td>0</td>\n",
       "    </tr>\n",
       "    <tr>\n",
       "      <th>295</th>\n",
       "      <td>55</td>\n",
       "      <td>0</td>\n",
       "      <td>1820</td>\n",
       "      <td>0</td>\n",
       "      <td>38</td>\n",
       "      <td>0</td>\n",
       "      <td>270000.0</td>\n",
       "      <td>1.2</td>\n",
       "      <td>139</td>\n",
       "      <td>0</td>\n",
       "      <td>0</td>\n",
       "      <td>271</td>\n",
       "      <td>0</td>\n",
       "    </tr>\n",
       "    <tr>\n",
       "      <th>296</th>\n",
       "      <td>45</td>\n",
       "      <td>0</td>\n",
       "      <td>2060</td>\n",
       "      <td>1</td>\n",
       "      <td>60</td>\n",
       "      <td>0</td>\n",
       "      <td>742000.0</td>\n",
       "      <td>0.8</td>\n",
       "      <td>138</td>\n",
       "      <td>0</td>\n",
       "      <td>0</td>\n",
       "      <td>278</td>\n",
       "      <td>0</td>\n",
       "    </tr>\n",
       "    <tr>\n",
       "      <th>297</th>\n",
       "      <td>45</td>\n",
       "      <td>0</td>\n",
       "      <td>2413</td>\n",
       "      <td>0</td>\n",
       "      <td>38</td>\n",
       "      <td>0</td>\n",
       "      <td>140000.0</td>\n",
       "      <td>1.4</td>\n",
       "      <td>140</td>\n",
       "      <td>1</td>\n",
       "      <td>1</td>\n",
       "      <td>280</td>\n",
       "      <td>0</td>\n",
       "    </tr>\n",
       "    <tr>\n",
       "      <th>298</th>\n",
       "      <td>50</td>\n",
       "      <td>0</td>\n",
       "      <td>196</td>\n",
       "      <td>0</td>\n",
       "      <td>45</td>\n",
       "      <td>0</td>\n",
       "      <td>395000.0</td>\n",
       "      <td>1.6</td>\n",
       "      <td>136</td>\n",
       "      <td>1</td>\n",
       "      <td>1</td>\n",
       "      <td>285</td>\n",
       "      <td>0</td>\n",
       "    </tr>\n",
       "  </tbody>\n",
       "</table>\n",
       "</div>"
      ],
      "text/plain": [
       "     age  anaemia  creatinine_phosphokinase  diabetes  ejection_fraction  \\\n",
       "294   62        0                        61         1                 38   \n",
       "295   55        0                      1820         0                 38   \n",
       "296   45        0                      2060         1                 60   \n",
       "297   45        0                      2413         0                 38   \n",
       "298   50        0                       196         0                 45   \n",
       "\n",
       "     high_blood_pressure  platelets  serum_creatinine  serum_sodium  sex  \\\n",
       "294                    1   155000.0               1.1           143    1   \n",
       "295                    0   270000.0               1.2           139    0   \n",
       "296                    0   742000.0               0.8           138    0   \n",
       "297                    0   140000.0               1.4           140    1   \n",
       "298                    0   395000.0               1.6           136    1   \n",
       "\n",
       "     smoking  time  DEATH_EVENT  \n",
       "294        1   270            0  \n",
       "295        0   271            0  \n",
       "296        0   278            0  \n",
       "297        1   280            0  \n",
       "298        1   285            0  "
      ]
     },
     "execution_count": 82,
     "metadata": {},
     "output_type": "execute_result"
    }
   ],
   "source": [
    "df.tail(5)"
   ]
  },
  {
   "cell_type": "code",
   "execution_count": 83,
   "metadata": {},
   "outputs": [
    {
     "data": {
      "text/plain": [
       "(299, 13)"
      ]
     },
     "execution_count": 83,
     "metadata": {},
     "output_type": "execute_result"
    }
   ],
   "source": [
    "df.shape"
   ]
  },
  {
   "cell_type": "code",
   "execution_count": 84,
   "metadata": {},
   "outputs": [
    {
     "data": {
      "text/plain": [
       "age                         0\n",
       "anaemia                     0\n",
       "creatinine_phosphokinase    0\n",
       "diabetes                    0\n",
       "ejection_fraction           0\n",
       "high_blood_pressure         0\n",
       "platelets                   0\n",
       "serum_creatinine            0\n",
       "serum_sodium                0\n",
       "sex                         0\n",
       "smoking                     0\n",
       "time                        0\n",
       "DEATH_EVENT                 0\n",
       "dtype: int64"
      ]
     },
     "execution_count": 84,
     "metadata": {},
     "output_type": "execute_result"
    }
   ],
   "source": [
    "df.isnull().sum()"
   ]
  },
  {
   "cell_type": "code",
   "execution_count": 85,
   "metadata": {},
   "outputs": [
    {
     "name": "stdout",
     "output_type": "stream",
     "text": [
      "<class 'pandas.core.frame.DataFrame'>\n",
      "RangeIndex: 299 entries, 0 to 298\n",
      "Data columns (total 13 columns):\n",
      " #   Column                    Non-Null Count  Dtype  \n",
      "---  ------                    --------------  -----  \n",
      " 0   age                       299 non-null    int32  \n",
      " 1   anaemia                   299 non-null    int64  \n",
      " 2   creatinine_phosphokinase  299 non-null    int64  \n",
      " 3   diabetes                  299 non-null    int64  \n",
      " 4   ejection_fraction         299 non-null    int64  \n",
      " 5   high_blood_pressure       299 non-null    int64  \n",
      " 6   platelets                 299 non-null    float64\n",
      " 7   serum_creatinine          299 non-null    float64\n",
      " 8   serum_sodium              299 non-null    int64  \n",
      " 9   sex                       299 non-null    int64  \n",
      " 10  smoking                   299 non-null    int64  \n",
      " 11  time                      299 non-null    int64  \n",
      " 12  DEATH_EVENT               299 non-null    int64  \n",
      "dtypes: float64(2), int32(1), int64(10)\n",
      "memory usage: 29.3 KB\n"
     ]
    }
   ],
   "source": [
    "df.info()"
   ]
  },
  {
   "cell_type": "code",
   "execution_count": 86,
   "metadata": {},
   "outputs": [
    {
     "data": {
      "text/plain": [
       "0    170\n",
       "1    129\n",
       "Name: anaemia, dtype: int64"
      ]
     },
     "execution_count": 86,
     "metadata": {},
     "output_type": "execute_result"
    }
   ],
   "source": [
    "df['anaemia'].value_counts()"
   ]
  },
  {
   "cell_type": "code",
   "execution_count": 87,
   "metadata": {},
   "outputs": [
    {
     "data": {
      "text/plain": [
       "0    174\n",
       "1    125\n",
       "Name: diabetes, dtype: int64"
      ]
     },
     "execution_count": 87,
     "metadata": {},
     "output_type": "execute_result"
    }
   ],
   "source": [
    "df['diabetes'].value_counts()"
   ]
  },
  {
   "cell_type": "code",
   "execution_count": 88,
   "metadata": {},
   "outputs": [
    {
     "data": {
      "text/plain": [
       "1    194\n",
       "0    105\n",
       "Name: sex, dtype: int64"
      ]
     },
     "execution_count": 88,
     "metadata": {},
     "output_type": "execute_result"
    }
   ],
   "source": [
    "df['sex'].value_counts()"
   ]
  },
  {
   "cell_type": "code",
   "execution_count": 89,
   "metadata": {},
   "outputs": [
    {
     "data": {
      "text/plain": [
       "0    203\n",
       "1     96\n",
       "Name: smoking, dtype: int64"
      ]
     },
     "execution_count": 89,
     "metadata": {},
     "output_type": "execute_result"
    }
   ],
   "source": [
    "df['smoking'].value_counts()"
   ]
  },
  {
   "cell_type": "code",
   "execution_count": 90,
   "metadata": {},
   "outputs": [
    {
     "data": {
      "text/plain": [
       "0    203\n",
       "1     96\n",
       "Name: DEATH_EVENT, dtype: int64"
      ]
     },
     "execution_count": 90,
     "metadata": {},
     "output_type": "execute_result"
    }
   ],
   "source": [
    "df['DEATH_EVENT'].value_counts()"
   ]
  },
  {
   "cell_type": "code",
   "execution_count": 91,
   "metadata": {},
   "outputs": [
    {
     "data": {
      "text/html": [
       "<div>\n",
       "<style scoped>\n",
       "    .dataframe tbody tr th:only-of-type {\n",
       "        vertical-align: middle;\n",
       "    }\n",
       "\n",
       "    .dataframe tbody tr th {\n",
       "        vertical-align: top;\n",
       "    }\n",
       "\n",
       "    .dataframe thead th {\n",
       "        text-align: right;\n",
       "    }\n",
       "</style>\n",
       "<table border=\"1\" class=\"dataframe\">\n",
       "  <thead>\n",
       "    <tr style=\"text-align: right;\">\n",
       "      <th></th>\n",
       "      <th>age</th>\n",
       "      <th>anaemia</th>\n",
       "      <th>creatinine_phosphokinase</th>\n",
       "      <th>diabetes</th>\n",
       "      <th>ejection_fraction</th>\n",
       "      <th>high_blood_pressure</th>\n",
       "      <th>platelets</th>\n",
       "      <th>serum_creatinine</th>\n",
       "      <th>serum_sodium</th>\n",
       "      <th>sex</th>\n",
       "      <th>smoking</th>\n",
       "      <th>time</th>\n",
       "      <th>DEATH_EVENT</th>\n",
       "    </tr>\n",
       "  </thead>\n",
       "  <tbody>\n",
       "    <tr>\n",
       "      <th>7</th>\n",
       "      <td>60</td>\n",
       "      <td>1</td>\n",
       "      <td>315</td>\n",
       "      <td>1</td>\n",
       "      <td>60</td>\n",
       "      <td>0</td>\n",
       "      <td>454000.00</td>\n",
       "      <td>1.10</td>\n",
       "      <td>131</td>\n",
       "      <td>1</td>\n",
       "      <td>1</td>\n",
       "      <td>10</td>\n",
       "      <td>1</td>\n",
       "    </tr>\n",
       "    <tr>\n",
       "      <th>54</th>\n",
       "      <td>60</td>\n",
       "      <td>1</td>\n",
       "      <td>260</td>\n",
       "      <td>1</td>\n",
       "      <td>38</td>\n",
       "      <td>0</td>\n",
       "      <td>255000.00</td>\n",
       "      <td>2.20</td>\n",
       "      <td>132</td>\n",
       "      <td>0</td>\n",
       "      <td>1</td>\n",
       "      <td>45</td>\n",
       "      <td>1</td>\n",
       "    </tr>\n",
       "    <tr>\n",
       "      <th>78</th>\n",
       "      <td>75</td>\n",
       "      <td>1</td>\n",
       "      <td>203</td>\n",
       "      <td>1</td>\n",
       "      <td>38</td>\n",
       "      <td>1</td>\n",
       "      <td>283000.00</td>\n",
       "      <td>0.60</td>\n",
       "      <td>131</td>\n",
       "      <td>1</td>\n",
       "      <td>1</td>\n",
       "      <td>74</td>\n",
       "      <td>0</td>\n",
       "    </tr>\n",
       "    <tr>\n",
       "      <th>170</th>\n",
       "      <td>51</td>\n",
       "      <td>1</td>\n",
       "      <td>582</td>\n",
       "      <td>1</td>\n",
       "      <td>35</td>\n",
       "      <td>0</td>\n",
       "      <td>263358.03</td>\n",
       "      <td>1.50</td>\n",
       "      <td>136</td>\n",
       "      <td>1</td>\n",
       "      <td>1</td>\n",
       "      <td>145</td>\n",
       "      <td>0</td>\n",
       "    </tr>\n",
       "    <tr>\n",
       "      <th>181</th>\n",
       "      <td>59</td>\n",
       "      <td>1</td>\n",
       "      <td>176</td>\n",
       "      <td>1</td>\n",
       "      <td>25</td>\n",
       "      <td>0</td>\n",
       "      <td>221000.00</td>\n",
       "      <td>1.00</td>\n",
       "      <td>136</td>\n",
       "      <td>1</td>\n",
       "      <td>1</td>\n",
       "      <td>150</td>\n",
       "      <td>1</td>\n",
       "    </tr>\n",
       "    <tr>\n",
       "      <th>193</th>\n",
       "      <td>73</td>\n",
       "      <td>1</td>\n",
       "      <td>231</td>\n",
       "      <td>1</td>\n",
       "      <td>30</td>\n",
       "      <td>0</td>\n",
       "      <td>160000.00</td>\n",
       "      <td>1.18</td>\n",
       "      <td>142</td>\n",
       "      <td>1</td>\n",
       "      <td>1</td>\n",
       "      <td>180</td>\n",
       "      <td>0</td>\n",
       "    </tr>\n",
       "    <tr>\n",
       "      <th>255</th>\n",
       "      <td>52</td>\n",
       "      <td>1</td>\n",
       "      <td>191</td>\n",
       "      <td>1</td>\n",
       "      <td>30</td>\n",
       "      <td>1</td>\n",
       "      <td>334000.00</td>\n",
       "      <td>1.00</td>\n",
       "      <td>142</td>\n",
       "      <td>1</td>\n",
       "      <td>1</td>\n",
       "      <td>216</td>\n",
       "      <td>0</td>\n",
       "    </tr>\n",
       "    <tr>\n",
       "      <th>274</th>\n",
       "      <td>60</td>\n",
       "      <td>1</td>\n",
       "      <td>257</td>\n",
       "      <td>1</td>\n",
       "      <td>30</td>\n",
       "      <td>0</td>\n",
       "      <td>150000.00</td>\n",
       "      <td>1.00</td>\n",
       "      <td>137</td>\n",
       "      <td>1</td>\n",
       "      <td>1</td>\n",
       "      <td>245</td>\n",
       "      <td>0</td>\n",
       "    </tr>\n",
       "    <tr>\n",
       "      <th>293</th>\n",
       "      <td>63</td>\n",
       "      <td>1</td>\n",
       "      <td>103</td>\n",
       "      <td>1</td>\n",
       "      <td>35</td>\n",
       "      <td>0</td>\n",
       "      <td>179000.00</td>\n",
       "      <td>0.90</td>\n",
       "      <td>136</td>\n",
       "      <td>1</td>\n",
       "      <td>1</td>\n",
       "      <td>270</td>\n",
       "      <td>0</td>\n",
       "    </tr>\n",
       "  </tbody>\n",
       "</table>\n",
       "</div>"
      ],
      "text/plain": [
       "     age  anaemia  creatinine_phosphokinase  diabetes  ejection_fraction  \\\n",
       "7     60        1                       315         1                 60   \n",
       "54    60        1                       260         1                 38   \n",
       "78    75        1                       203         1                 38   \n",
       "170   51        1                       582         1                 35   \n",
       "181   59        1                       176         1                 25   \n",
       "193   73        1                       231         1                 30   \n",
       "255   52        1                       191         1                 30   \n",
       "274   60        1                       257         1                 30   \n",
       "293   63        1                       103         1                 35   \n",
       "\n",
       "     high_blood_pressure  platelets  serum_creatinine  serum_sodium  sex  \\\n",
       "7                      0  454000.00              1.10           131    1   \n",
       "54                     0  255000.00              2.20           132    0   \n",
       "78                     1  283000.00              0.60           131    1   \n",
       "170                    0  263358.03              1.50           136    1   \n",
       "181                    0  221000.00              1.00           136    1   \n",
       "193                    0  160000.00              1.18           142    1   \n",
       "255                    1  334000.00              1.00           142    1   \n",
       "274                    0  150000.00              1.00           137    1   \n",
       "293                    0  179000.00              0.90           136    1   \n",
       "\n",
       "     smoking  time  DEATH_EVENT  \n",
       "7          1    10            1  \n",
       "54         1    45            1  \n",
       "78         1    74            0  \n",
       "170        1   145            0  \n",
       "181        1   150            1  \n",
       "193        1   180            0  \n",
       "255        1   216            0  \n",
       "274        1   245            0  \n",
       "293        1   270            0  "
      ]
     },
     "execution_count": 91,
     "metadata": {},
     "output_type": "execute_result"
    }
   ],
   "source": [
    "df[(df['anaemia']==1)&(df['diabetes']==1)&(df['smoking']==1)]"
   ]
  },
  {
   "cell_type": "code",
   "execution_count": 92,
   "metadata": {},
   "outputs": [
    {
     "data": {
      "text/plain": [
       "<AxesSubplot:xlabel='age', ylabel='count'>"
      ]
     },
     "execution_count": 92,
     "metadata": {},
     "output_type": "execute_result"
    },
    {
     "data": {
      "image/png": "[encoded data removed]",
      "text/plain": [
       "<Figure size 1080x720 with 1 Axes>"
      ]
     },
     "metadata": {
      "needs_background": "light"
     },
     "output_type": "display_data"
    }
   ],
   "source": [
    "plt.figure(figsize=(15,10))\n",
    "sns.countplot(x='age', data=df)"
   ]
  },
  {
   "cell_type": "code",
   "execution_count": 93,
   "metadata": {},
   "outputs": [
    {
     "data": {
      "text/plain": [
       "<AxesSubplot:xlabel='DEATH_EVENT', ylabel='count'>"
      ]
     },
     "execution_count": 93,
     "metadata": {},
     "output_type": "execute_result"
    },
    {
     "data": {
      "image/png": "[encoded data removed]",
      "text/plain": [
       "<Figure size 1080x720 with 6 Axes>"
      ]
     },
     "metadata": {
      "needs_background": "light"
     },
     "output_type": "display_data"
    }
   ],
   "source": [
    "fig, axes = plt.subplots(2, 3, figsize=(15, 10))\n",
    "sns.countplot(x=df['anaemia'], data=df, ax=axes[0,0])\n",
    "sns.countplot(x=df['diabetes'], data=df, ax=axes[0,1])\n",
    "sns.countplot(x=df['high_blood_pressure'], data=df, ax=axes[0,2])\n",
    "sns.countplot(x=df['sex'], data=df, ax=axes[1,0])\n",
    "sns.countplot(x=df['smoking'], data=df, ax=axes[1,1])\n",
    "sns.countplot(x=df['DEATH_EVENT'], data=df, ax=axes[1,2])"
   ]
  },
  {
   "cell_type": "markdown",
   "metadata": {},
   "source": [
    "## train, test data split"
   ]
  },
  {
   "cell_type": "code",
   "execution_count": 94,
   "metadata": {},
   "outputs": [],
   "source": [
    "x=df.drop('DEATH_EVENT', axis=1)\n",
    "y=df['DEATH_EVENT']"
   ]
  },
  {
   "cell_type": "code",
   "execution_count": 95,
   "metadata": {},
   "outputs": [
    {
     "name": "stdout",
     "output_type": "stream",
     "text": [
      "x_train: (239, 12)\n",
      "x_test: (60, 12)\n",
      "y_train: (239,)\n",
      "y_test: (60,)\n"
     ]
    }
   ],
   "source": [
    "from sklearn.model_selection import train_test_split\n",
    "x_train, x_test, y_train, y_test = train_test_split(x, y, test_size=0.2)\n",
    "print(f\"x_train: {x_train.shape}\")\n",
    "print(f\"x_test: {x_test.shape}\")\n",
    "print(f\"y_train: {y_train.shape}\")\n",
    "print(f\"y_test: {y_test.shape}\")"
   ]
  },
  {
   "cell_type": "code",
   "execution_count": 96,
   "metadata": {},
   "outputs": [],
   "source": [
    "accuracy_list=[]\n",
    "model_list=[]"
   ]
  },
  {
   "cell_type": "markdown",
   "metadata": {},
   "source": [
    "## AdaBoost"
   ]
  },
  {
   "cell_type": "code",
   "execution_count": 97,
   "metadata": {},
   "outputs": [
    {
     "data": {
      "text/plain": [
       "83.33"
      ]
     },
     "execution_count": 97,
     "metadata": {},
     "output_type": "execute_result"
    }
   ],
   "source": [
    "from sklearn.ensemble import AdaBoostClassifier\n",
    "from sklearn.metrics import accuracy_score, confusion_matrix\n",
    "ada_clf = AdaBoostClassifier(n_estimators=500, learning_rate=0.01, random_state=0)\n",
    "ada_model = ada_clf.fit(x_train, y_train)\n",
    "y_pred_ada = ada_model.predict(x_test)\n",
    "ada_acc = accuracy_score(y_test, y_pred_ada)\n",
    "accuracy_list.append(round(ada_acc*100, 2))\n",
    "model_list.append(\"AdaBoost\")\n",
    "round(ada_acc*100, 2)"
   ]
  },
  {
   "cell_type": "code",
   "execution_count": 98,
   "metadata": {},
   "outputs": [
    {
     "data": {
      "text/plain": [
       "0.8333333333333334"
      ]
     },
     "execution_count": 98,
     "metadata": {},
     "output_type": "execute_result"
    }
   ],
   "source": [
    "ada_clf.score(x_test, y_test)"
   ]
  },
  {
   "cell_type": "code",
   "execution_count": 99,
   "metadata": {},
   "outputs": [
    {
     "data": {
      "text/plain": [
       "array([[30,  6],\n",
       "       [ 4, 20]], dtype=int64)"
      ]
     },
     "execution_count": 99,
     "metadata": {},
     "output_type": "execute_result"
    }
   ],
   "source": [
    "confusion_matrix(y_test, y_pred_ada)"
   ]
  },
  {
   "cell_type": "markdown",
   "metadata": {},
   "source": [
    "## XGBoost"
   ]
  },
  {
   "cell_type": "code",
   "execution_count": 100,
   "metadata": {},
   "outputs": [
    {
     "name": "stdout",
     "output_type": "stream",
     "text": [
      "Requirement already satisfied: xgboost in c:\\programdata\\anaconda3\\lib\\site-packages (1.4.2)\n",
      "Requirement already satisfied: numpy in c:\\programdata\\anaconda3\\lib\\site-packages (from xgboost) (1.20.1)\n",
      "Requirement already satisfied: scipy in c:\\programdata\\anaconda3\\lib\\site-packages (from xgboost) (1.6.2)\n"
     ]
    }
   ],
   "source": [
    "!pip install xgboost"
   ]
  },
  {
   "cell_type": "code",
   "execution_count": 101,
   "metadata": {},
   "outputs": [
    {
     "name": "stdout",
     "output_type": "stream",
     "text": [
      "[17:05:42] WARNING: C:/Users/Administrator/workspace/xgboost-win64_release_1.4.0/src/learner.cc:1095: Starting in XGBoost 1.3.0, the default evaluation metric used with the objective 'binary:logistic' was changed from 'error' to 'logloss'. Explicitly set eval_metric if you'd like to restore the old behavior.\n"
     ]
    },
    {
     "name": "stderr",
     "output_type": "stream",
     "text": [
      "C:\\ProgramData\\Anaconda3\\lib\\site-packages\\xgboost\\sklearn.py:1146: UserWarning: The use of label encoder in XGBClassifier is deprecated and will be removed in a future release. To remove this warning, do the following: 1) Pass option use_label_encoder=False when constructing XGBClassifier object; and 2) Encode your labels (y) as integers starting with 0, i.e. 0, 1, 2, ..., [num_class - 1].\n",
      "  warnings.warn(label_encoder_deprecation_msg, UserWarning)\n"
     ]
    },
    {
     "data": {
      "text/plain": [
       "86.67"
      ]
     },
     "execution_count": 101,
     "metadata": {},
     "output_type": "execute_result"
    }
   ],
   "source": [
    "from xgboost import XGBClassifier\n",
    "from sklearn.metrics import accuracy_score, confusion_matrix\n",
    "xgb_clf = XGBClassifier(n_estimators=500, learning_rate=0.01, random_state=0)\n",
    "xgb_model=xgb_clf.fit(x_train, y_train)\n",
    "y_pred_xgb = xgb_model.predict(x_test)\n",
    "xgb_acc = accuracy_score(y_test, y_pred_xgb)\n",
    "accuracy_list.append(round(xgb_acc*100, 2))\n",
    "model_list.append(\"XGBoost\")\n",
    "round(xgb_acc*100, 2)"
   ]
  },
  {
   "cell_type": "code",
   "execution_count": 102,
   "metadata": {},
   "outputs": [
    {
     "data": {
      "text/plain": [
       "0.8666666666666667"
      ]
     },
     "execution_count": 102,
     "metadata": {},
     "output_type": "execute_result"
    }
   ],
   "source": [
    "xgb_clf.score(x_test, y_test)"
   ]
  },
  {
   "cell_type": "code",
   "execution_count": 103,
   "metadata": {},
   "outputs": [
    {
     "data": {
      "text/plain": [
       "array([[30,  6],\n",
       "       [ 2, 22]], dtype=int64)"
      ]
     },
     "execution_count": 103,
     "metadata": {},
     "output_type": "execute_result"
    }
   ],
   "source": [
    "confusion_matrix(y_test, y_pred_xgb)"
   ]
  },
  {
   "cell_type": "markdown",
   "metadata": {},
   "source": [
    "## GradientBoost"
   ]
  },
  {
   "cell_type": "code",
   "execution_count": 104,
   "metadata": {},
   "outputs": [
    {
     "data": {
      "text/plain": [
       "80.0"
      ]
     },
     "execution_count": 104,
     "metadata": {},
     "output_type": "execute_result"
    }
   ],
   "source": [
    "from sklearn.ensemble import GradientBoostingClassifier\n",
    "from sklearn.metrics import accuracy_score, confusion_matrix\n",
    "grb_clf = GradientBoostingClassifier(max_depth=2, random_state=1)\n",
    "grb_model = grb_clf.fit(x_train, y_train)\n",
    "y_pred_grb = grb_model.predict(x_test)\n",
    "grb_acc = accuracy_score(y_test, y_pred_grb)\n",
    "accuracy_list.append(round(grb_acc*100, 2))\n",
    "model_list.append(\"GradientBoost\")\n",
    "round(grb_acc*100, 2)"
   ]
  },
  {
   "cell_type": "code",
   "execution_count": 105,
   "metadata": {},
   "outputs": [
    {
     "data": {
      "text/plain": [
       "0.8"
      ]
     },
     "execution_count": 105,
     "metadata": {},
     "output_type": "execute_result"
    }
   ],
   "source": [
    "grb_clf.score(x_test, y_test)"
   ]
  },
  {
   "cell_type": "code",
   "execution_count": 106,
   "metadata": {},
   "outputs": [
    {
     "data": {
      "text/plain": [
       "array([[27,  9],\n",
       "       [ 3, 21]], dtype=int64)"
      ]
     },
     "execution_count": 106,
     "metadata": {},
     "output_type": "execute_result"
    }
   ],
   "source": [
    "confusion_matrix(y_test, y_pred_grb)"
   ]
  },
  {
   "cell_type": "markdown",
   "metadata": {},
   "source": [
    "## Logistic Regression"
   ]
  },
  {
   "cell_type": "code",
   "execution_count": 107,
   "metadata": {},
   "outputs": [
    {
     "name": "stderr",
     "output_type": "stream",
     "text": [
      "C:\\ProgramData\\Anaconda3\\lib\\site-packages\\sklearn\\linear_model\\_logistic.py:763: ConvergenceWarning: lbfgs failed to converge (status=1):\n",
      "STOP: TOTAL NO. of ITERATIONS REACHED LIMIT.\n",
      "\n",
      "Increase the number of iterations (max_iter) or scale the data as shown in:\n",
      "    https://scikit-learn.org/stable/modules/preprocessing.html\n",
      "Please also refer to the documentation for alternative solver options:\n",
      "    https://scikit-learn.org/stable/modules/linear_model.html#logistic-regression\n",
      "  n_iter_i = _check_optimize_result(\n"
     ]
    },
    {
     "data": {
      "text/plain": [
       "88.33"
      ]
     },
     "execution_count": 107,
     "metadata": {},
     "output_type": "execute_result"
    }
   ],
   "source": [
    "from sklearn.linear_model import LogisticRegression\n",
    "from sklearn.metrics import accuracy_score, confusion_matrix\n",
    "log_reg = LogisticRegression()\n",
    "log_reg_model = log_reg.fit(x_train, y_train)\n",
    "y_pred_log = log_reg_model.predict(x_test)\n",
    "log_reg_acc = accuracy_score(y_test, y_pred_log)\n",
    "accuracy_list.append(round(log_reg_acc*100,2))\n",
    "model_list.append(\"Logistic Regression\")\n",
    "round(log_reg_acc*100,2)"
   ]
  },
  {
   "cell_type": "code",
   "execution_count": 108,
   "metadata": {},
   "outputs": [
    {
     "data": {
      "text/plain": [
       "0.8833333333333333"
      ]
     },
     "execution_count": 108,
     "metadata": {},
     "output_type": "execute_result"
    }
   ],
   "source": [
    "log_reg.score(x_test, y_test)"
   ]
  },
  {
   "cell_type": "code",
   "execution_count": 109,
   "metadata": {},
   "outputs": [
    {
     "data": {
      "text/plain": [
       "array([[33,  3],\n",
       "       [ 4, 20]], dtype=int64)"
      ]
     },
     "execution_count": 109,
     "metadata": {},
     "output_type": "execute_result"
    }
   ],
   "source": [
    "confusion_matrix(y_test, y_pred_log)"
   ]
  },
  {
   "cell_type": "markdown",
   "metadata": {},
   "source": [
    "## Support Vector"
   ]
  },
  {
   "cell_type": "code",
   "execution_count": 110,
   "metadata": {},
   "outputs": [
    {
     "data": {
      "text/plain": [
       "60.0"
      ]
     },
     "execution_count": 110,
     "metadata": {},
     "output_type": "execute_result"
    }
   ],
   "source": [
    "from sklearn.svm import SVC\n",
    "from sklearn.metrics import accuracy_score, confusion_matrix\n",
    "sv_clf = SVC()\n",
    "sv_clf.fit(x_train, y_train)\n",
    "y_pred_sv = sv_clf.predict(x_test)\n",
    "sv_clf_acc = accuracy_score(y_test, y_pred_sv)\n",
    "accuracy_list.append(round(sv_clf_acc*100, 2))\n",
    "model_list.append(\"SVC\")\n",
    "round(sv_clf_acc*100, 2)"
   ]
  },
  {
   "cell_type": "code",
   "execution_count": 111,
   "metadata": {},
   "outputs": [
    {
     "data": {
      "text/plain": [
       "0.6"
      ]
     },
     "execution_count": 111,
     "metadata": {},
     "output_type": "execute_result"
    }
   ],
   "source": [
    "sv_clf.score(x_test, y_test)"
   ]
  },
  {
   "cell_type": "code",
   "execution_count": 112,
   "metadata": {},
   "outputs": [
    {
     "data": {
      "text/plain": [
       "array([[36,  0],\n",
       "       [24,  0]], dtype=int64)"
      ]
     },
     "execution_count": 112,
     "metadata": {},
     "output_type": "execute_result"
    }
   ],
   "source": [
    "confusion_matrix(y_test, y_pred_sv)"
   ]
  },
  {
   "cell_type": "markdown",
   "metadata": {},
   "source": [
    "## KNN"
   ]
  },
  {
   "cell_type": "code",
   "execution_count": 113,
   "metadata": {},
   "outputs": [
    {
     "data": {
      "text/plain": [
       "60.0"
      ]
     },
     "execution_count": 113,
     "metadata": {},
     "output_type": "execute_result"
    }
   ],
   "source": [
    "from sklearn.neighbors import KNeighborsClassifier\n",
    "from sklearn.metrics import accuracy_score, confusion_matrix\n",
    "kn_clf = KNeighborsClassifier(n_neighbors=6)\n",
    "kn_clf.fit(x_train, y_train)\n",
    "y_pred_kn = kn_clf.predict(x_test)\n",
    "kn_clf_acc = accuracy_score(y_test, y_pred_kn)\n",
    "accuracy_list.append(round(kn_clf_acc*100, 2))\n",
    "model_list.append('KNN')\n",
    "round(kn_clf_acc*100, 2)"
   ]
  },
  {
   "cell_type": "code",
   "execution_count": 114,
   "metadata": {},
   "outputs": [
    {
     "data": {
      "text/plain": [
       "0.6"
      ]
     },
     "execution_count": 114,
     "metadata": {},
     "output_type": "execute_result"
    }
   ],
   "source": [
    "kn_clf.score(x_test, y_test)"
   ]
  },
  {
   "cell_type": "code",
   "execution_count": 115,
   "metadata": {},
   "outputs": [
    {
     "data": {
      "text/plain": [
       "array([[33,  3],\n",
       "       [21,  3]], dtype=int64)"
      ]
     },
     "execution_count": 115,
     "metadata": {},
     "output_type": "execute_result"
    }
   ],
   "source": [
    "confusion_matrix(y_test, y_pred_kn)"
   ]
  },
  {
   "cell_type": "markdown",
   "metadata": {},
   "source": [
    "## DecisionTree"
   ]
  },
  {
   "cell_type": "code",
   "execution_count": 116,
   "metadata": {},
   "outputs": [
    {
     "data": {
      "text/plain": [
       "73.33"
      ]
     },
     "execution_count": 116,
     "metadata": {},
     "output_type": "execute_result"
    }
   ],
   "source": [
    "from sklearn.tree import DecisionTreeClassifier\n",
    "from sklearn.metrics import accuracy_score, confusion_matrix\n",
    "dt_clf = DecisionTreeClassifier(max_leaf_nodes=3, random_state=0, criterion='entropy')\n",
    "dt_clf.fit(x_train, y_train)\n",
    "y_pred_dt = dt_clf.predict(x_test)\n",
    "dt_clf_acc = accuracy_score(y_test, y_pred_dt)\n",
    "accuracy_list.append(round(dt_clf_acc*100, 2))\n",
    "model_list.append('Decision Tree')\n",
    "round(dt_clf_acc*100, 2)"
   ]
  },
  {
   "cell_type": "code",
   "execution_count": 117,
   "metadata": {},
   "outputs": [
    {
     "data": {
      "text/plain": [
       "0.7333333333333333"
      ]
     },
     "execution_count": 117,
     "metadata": {},
     "output_type": "execute_result"
    }
   ],
   "source": [
    "dt_clf.score(x_test, y_test)"
   ]
  },
  {
   "cell_type": "code",
   "execution_count": 118,
   "metadata": {},
   "outputs": [
    {
     "data": {
      "text/plain": [
       "array([[23, 13],\n",
       "       [ 3, 21]], dtype=int64)"
      ]
     },
     "execution_count": 118,
     "metadata": {},
     "output_type": "execute_result"
    }
   ],
   "source": [
    "confusion_matrix(y_test, y_pred_dt)"
   ]
  },
  {
   "cell_type": "markdown",
   "metadata": {},
   "source": [
    "## RandomForest"
   ]
  },
  {
   "cell_type": "code",
   "execution_count": 119,
   "metadata": {},
   "outputs": [
    {
     "data": {
      "text/plain": [
       "85.0"
      ]
     },
     "execution_count": 119,
     "metadata": {},
     "output_type": "execute_result"
    }
   ],
   "source": [
    "from sklearn.ensemble import RandomForestClassifier\n",
    "from sklearn.metrics import accuracy_score, confusion_matrix\n",
    "r_clf = RandomForestClassifier(max_features=0.5, max_depth=15, random_state=1)\n",
    "r_clf.fit(x_train, y_train)\n",
    "y_pred_r = r_clf.predict(x_test)\n",
    "r_clf_acc = accuracy_score(y_test, y_pred_r)\n",
    "accuracy_list.append(round(r_clf_acc*100, 2))\n",
    "model_list.append(\"Random Forest\")\n",
    "round(r_clf_acc*100, 2)"
   ]
  },
  {
   "cell_type": "code",
   "execution_count": 120,
   "metadata": {},
   "outputs": [
    {
     "data": {
      "text/plain": [
       "0.85"
      ]
     },
     "execution_count": 120,
     "metadata": {},
     "output_type": "execute_result"
    }
   ],
   "source": [
    "r_clf.score(x_test, y_test)"
   ]
  },
  {
   "cell_type": "code",
   "execution_count": 121,
   "metadata": {},
   "outputs": [
    {
     "data": {
      "text/plain": [
       "array([[30,  6],\n",
       "       [ 3, 21]], dtype=int64)"
      ]
     },
     "execution_count": 121,
     "metadata": {},
     "output_type": "execute_result"
    }
   ],
   "source": [
    "confusion_matrix(y_test, y_pred_r)"
   ]
  },
  {
   "cell_type": "code",
   "execution_count": 122,
   "metadata": {},
   "outputs": [
    {
     "name": "stdout",
     "output_type": "stream",
     "text": [
      "Requirement already satisfied: lightgbm in c:\\programdata\\anaconda3\\lib\\site-packages (3.3.0)\n",
      "Requirement already satisfied: scipy in c:\\programdata\\anaconda3\\lib\\site-packages (from lightgbm) (1.6.2)\n",
      "Requirement already satisfied: wheel in c:\\programdata\\anaconda3\\lib\\site-packages (from lightgbm) (0.36.2)\n",
      "Requirement already satisfied: scikit-learn!=0.22.0 in c:\\programdata\\anaconda3\\lib\\site-packages (from lightgbm) (0.24.1)\n",
      "Requirement already satisfied: numpy in c:\\programdata\\anaconda3\\lib\\site-packages (from lightgbm) (1.20.1)\n",
      "Requirement already satisfied: threadpoolctl>=2.0.0 in c:\\programdata\\anaconda3\\lib\\site-packages (from scikit-learn!=0.22.0->lightgbm) (2.1.0)\n",
      "Requirement already satisfied: joblib>=0.11 in c:\\programdata\\anaconda3\\lib\\site-packages (from scikit-learn!=0.22.0->lightgbm) (1.0.1)\n"
     ]
    }
   ],
   "source": [
    "!pip install lightgbm"
   ]
  },
  {
   "cell_type": "markdown",
   "metadata": {},
   "source": [
    "## lightgbm"
   ]
  },
  {
   "cell_type": "code",
   "execution_count": 123,
   "metadata": {},
   "outputs": [
    {
     "data": {
      "text/plain": [
       "80.0"
      ]
     },
     "execution_count": 123,
     "metadata": {},
     "output_type": "execute_result"
    }
   ],
   "source": [
    "from lightgbm import LGBMClassifier\n",
    "from sklearn.metrics import accuracy_score, confusion_matrix\n",
    "lgb_clf = LGBMClassifier(max_depth=2, random_state=4)\n",
    "lgb_clf.fit(x_train,y_train)\n",
    "y_pred_lgb = lgb_clf.predict(x_test)\n",
    "lgb_clf_acc = accuracy_score(y_test, y_pred_lgb)\n",
    "accuracy_list.append(round(lgb_clf_acc*100, 2))\n",
    "model_list.append('LGBM')\n",
    "round(lgb_clf_acc*100, 2)"
   ]
  },
  {
   "cell_type": "code",
   "execution_count": 124,
   "metadata": {},
   "outputs": [
    {
     "data": {
      "text/plain": [
       "0.8"
      ]
     },
     "execution_count": 124,
     "metadata": {},
     "output_type": "execute_result"
    }
   ],
   "source": [
    "lgb_clf.score(x_test, y_test)"
   ]
  },
  {
   "cell_type": "code",
   "execution_count": 125,
   "metadata": {},
   "outputs": [
    {
     "data": {
      "text/plain": [
       "array([[29,  7],\n",
       "       [ 5, 19]], dtype=int64)"
      ]
     },
     "execution_count": 125,
     "metadata": {},
     "output_type": "execute_result"
    }
   ],
   "source": [
    "confusion_matrix(y_test, y_pred_lgb)"
   ]
  },
  {
   "cell_type": "markdown",
   "metadata": {},
   "source": [
    "## CatBoost"
   ]
  },
  {
   "cell_type": "code",
   "execution_count": 126,
   "metadata": {},
   "outputs": [
    {
     "name": "stdout",
     "output_type": "stream",
     "text": [
      "Requirement already satisfied: catboost in c:\\programdata\\anaconda3\\lib\\site-packages (1.0.0)\n",
      "Requirement already satisfied: six in c:\\programdata\\anaconda3\\lib\\site-packages (from catboost) (1.15.0)\n",
      "Requirement already satisfied: graphviz in c:\\programdata\\anaconda3\\lib\\site-packages (from catboost) (0.17)\n",
      "Requirement already satisfied: plotly in c:\\programdata\\anaconda3\\lib\\site-packages (from catboost) (5.3.1)\n",
      "Requirement already satisfied: matplotlib in c:\\programdata\\anaconda3\\lib\\site-packages (from catboost) (3.3.4)\n",
      "Requirement already satisfied: pandas>=0.24.0 in c:\\programdata\\anaconda3\\lib\\site-packages (from catboost) (1.2.4)\n",
      "Requirement already satisfied: numpy>=1.16.0 in c:\\programdata\\anaconda3\\lib\\site-packages (from catboost) (1.20.1)\n",
      "Requirement already satisfied: scipy in c:\\programdata\\anaconda3\\lib\\site-packages (from catboost) (1.6.2)\n",
      "Requirement already satisfied: python-dateutil>=2.7.3 in c:\\programdata\\anaconda3\\lib\\site-packages (from pandas>=0.24.0->catboost) (2.8.1)\n",
      "Requirement already satisfied: pytz>=2017.3 in c:\\programdata\\anaconda3\\lib\\site-packages (from pandas>=0.24.0->catboost) (2021.1)\n",
      "Requirement already satisfied: pyparsing!=2.0.4,!=2.1.2,!=2.1.6,>=2.0.3 in c:\\programdata\\anaconda3\\lib\\site-packages (from matplotlib->catboost) (2.4.7)\n",
      "Requirement already satisfied: kiwisolver>=1.0.1 in c:\\programdata\\anaconda3\\lib\\site-packages (from matplotlib->catboost) (1.3.1)\n",
      "Requirement already satisfied: cycler>=0.10 in c:\\programdata\\anaconda3\\lib\\site-packages (from matplotlib->catboost) (0.10.0)\n",
      "Requirement already satisfied: pillow>=6.2.0 in c:\\programdata\\anaconda3\\lib\\site-packages (from matplotlib->catboost) (8.2.0)\n",
      "Requirement already satisfied: tenacity>=6.2.0 in c:\\programdata\\anaconda3\\lib\\site-packages (from plotly->catboost) (8.0.1)\n"
     ]
    }
   ],
   "source": [
    "!pip install catboost"
   ]
  },
  {
   "cell_type": "code",
   "execution_count": 127,
   "metadata": {},
   "outputs": [
    {
     "name": "stdout",
     "output_type": "stream",
     "text": [
      "Learning rate set to 0.005591\n",
      "0:\tlearn: 0.6894549\ttotal: 1.25ms\tremaining: 1.24s\n",
      "1:\tlearn: 0.6851814\ttotal: 2.37ms\tremaining: 1.18s\n",
      "2:\tlearn: 0.6804146\ttotal: 3.49ms\tremaining: 1.16s\n",
      "3:\tlearn: 0.6761712\ttotal: 4.67ms\tremaining: 1.16s\n",
      "4:\tlearn: 0.6713702\ttotal: 5.84ms\tremaining: 1.16s\n",
      "5:\tlearn: 0.6670975\ttotal: 6.86ms\tremaining: 1.14s\n",
      "6:\tlearn: 0.6628143\ttotal: 8.02ms\tremaining: 1.14s\n",
      "7:\tlearn: 0.6586260\ttotal: 9.17ms\tremaining: 1.14s\n",
      "8:\tlearn: 0.6541795\ttotal: 10.1ms\tremaining: 1.12s\n",
      "9:\tlearn: 0.6494664\ttotal: 11.2ms\tremaining: 1.11s\n",
      "10:\tlearn: 0.6459888\ttotal: 12.1ms\tremaining: 1.09s\n",
      "11:\tlearn: 0.6420004\ttotal: 12.9ms\tremaining: 1.06s\n",
      "12:\tlearn: 0.6377893\ttotal: 13.8ms\tremaining: 1.04s\n",
      "13:\tlearn: 0.6339938\ttotal: 14.4ms\tremaining: 1.01s\n",
      "14:\tlearn: 0.6306290\ttotal: 15.2ms\tremaining: 996ms\n",
      "15:\tlearn: 0.6272720\ttotal: 16ms\tremaining: 983ms\n",
      "16:\tlearn: 0.6226990\ttotal: 16.8ms\tremaining: 970ms\n",
      "17:\tlearn: 0.6184706\ttotal: 17.6ms\tremaining: 958ms\n",
      "18:\tlearn: 0.6148406\ttotal: 18.3ms\tremaining: 947ms\n",
      "19:\tlearn: 0.6114235\ttotal: 19.1ms\tremaining: 937ms\n",
      "20:\tlearn: 0.6080727\ttotal: 20ms\tremaining: 930ms\n",
      "21:\tlearn: 0.6048343\ttotal: 20.9ms\tremaining: 928ms\n",
      "22:\tlearn: 0.6007329\ttotal: 21.9ms\tremaining: 930ms\n",
      "23:\tlearn: 0.5962892\ttotal: 22.7ms\tremaining: 923ms\n",
      "24:\tlearn: 0.5927954\ttotal: 23.5ms\tremaining: 918ms\n",
      "25:\tlearn: 0.5897837\ttotal: 24.4ms\tremaining: 913ms\n",
      "26:\tlearn: 0.5866610\ttotal: 25.2ms\tremaining: 908ms\n",
      "27:\tlearn: 0.5831866\ttotal: 26ms\tremaining: 902ms\n",
      "28:\tlearn: 0.5787107\ttotal: 26.7ms\tremaining: 895ms\n",
      "29:\tlearn: 0.5756855\ttotal: 27.5ms\tremaining: 889ms\n",
      "30:\tlearn: 0.5725068\ttotal: 28.2ms\tremaining: 883ms\n",
      "31:\tlearn: 0.5688803\ttotal: 29ms\tremaining: 876ms\n",
      "32:\tlearn: 0.5652549\ttotal: 29.7ms\tremaining: 871ms\n",
      "33:\tlearn: 0.5628831\ttotal: 30.5ms\tremaining: 866ms\n",
      "34:\tlearn: 0.5595909\ttotal: 31.3ms\tremaining: 862ms\n",
      "35:\tlearn: 0.5566113\ttotal: 32.1ms\tremaining: 858ms\n",
      "36:\tlearn: 0.5531329\ttotal: 32.8ms\tremaining: 854ms\n",
      "37:\tlearn: 0.5500564\ttotal: 33.5ms\tremaining: 849ms\n",
      "38:\tlearn: 0.5461631\ttotal: 34.3ms\tremaining: 845ms\n",
      "39:\tlearn: 0.5427929\ttotal: 35ms\tremaining: 840ms\n",
      "40:\tlearn: 0.5394030\ttotal: 35.8ms\tremaining: 837ms\n",
      "41:\tlearn: 0.5365672\ttotal: 36.5ms\tremaining: 834ms\n",
      "42:\tlearn: 0.5339960\ttotal: 37.3ms\tremaining: 830ms\n",
      "43:\tlearn: 0.5312013\ttotal: 38.1ms\tremaining: 827ms\n",
      "44:\tlearn: 0.5283062\ttotal: 38.9ms\tremaining: 825ms\n",
      "45:\tlearn: 0.5257862\ttotal: 39.7ms\tremaining: 824ms\n",
      "46:\tlearn: 0.5228441\ttotal: 40.5ms\tremaining: 821ms\n",
      "47:\tlearn: 0.5198457\ttotal: 41.2ms\tremaining: 818ms\n",
      "48:\tlearn: 0.5178068\ttotal: 42ms\tremaining: 815ms\n",
      "49:\tlearn: 0.5153934\ttotal: 42.7ms\tremaining: 812ms\n",
      "50:\tlearn: 0.5129944\ttotal: 43.5ms\tremaining: 809ms\n",
      "51:\tlearn: 0.5105264\ttotal: 44ms\tremaining: 802ms\n",
      "52:\tlearn: 0.5079817\ttotal: 44.7ms\tremaining: 799ms\n",
      "53:\tlearn: 0.5051402\ttotal: 45.5ms\tremaining: 798ms\n",
      "54:\tlearn: 0.5019005\ttotal: 46.3ms\tremaining: 796ms\n",
      "55:\tlearn: 0.4992613\ttotal: 47.1ms\tremaining: 794ms\n",
      "56:\tlearn: 0.4964631\ttotal: 47.8ms\tremaining: 791ms\n",
      "57:\tlearn: 0.4941220\ttotal: 48.6ms\tremaining: 789ms\n",
      "58:\tlearn: 0.4919400\ttotal: 49.3ms\tremaining: 786ms\n",
      "59:\tlearn: 0.4898971\ttotal: 50ms\tremaining: 784ms\n",
      "60:\tlearn: 0.4870702\ttotal: 50.8ms\tremaining: 782ms\n",
      "61:\tlearn: 0.4849860\ttotal: 51.5ms\tremaining: 780ms\n",
      "62:\tlearn: 0.4825634\ttotal: 52.3ms\tremaining: 777ms\n",
      "63:\tlearn: 0.4806767\ttotal: 53ms\tremaining: 775ms\n",
      "64:\tlearn: 0.4782803\ttotal: 53.8ms\tremaining: 773ms\n",
      "65:\tlearn: 0.4756430\ttotal: 54.5ms\tremaining: 771ms\n",
      "66:\tlearn: 0.4732834\ttotal: 55.2ms\tremaining: 769ms\n",
      "67:\tlearn: 0.4706386\ttotal: 56ms\tremaining: 768ms\n",
      "68:\tlearn: 0.4682725\ttotal: 56.8ms\tremaining: 766ms\n",
      "69:\tlearn: 0.4658016\ttotal: 57.5ms\tremaining: 764ms\n",
      "70:\tlearn: 0.4633818\ttotal: 58.3ms\tremaining: 762ms\n",
      "71:\tlearn: 0.4611597\ttotal: 59ms\tremaining: 761ms\n",
      "72:\tlearn: 0.4588296\ttotal: 59.8ms\tremaining: 759ms\n",
      "73:\tlearn: 0.4563189\ttotal: 60.5ms\tremaining: 758ms\n",
      "74:\tlearn: 0.4544379\ttotal: 61.3ms\tremaining: 756ms\n",
      "75:\tlearn: 0.4520368\ttotal: 62.1ms\tremaining: 755ms\n",
      "76:\tlearn: 0.4499509\ttotal: 62.8ms\tremaining: 753ms\n",
      "77:\tlearn: 0.4473856\ttotal: 63.6ms\tremaining: 752ms\n",
      "78:\tlearn: 0.4451579\ttotal: 64.4ms\tremaining: 750ms\n",
      "79:\tlearn: 0.4434445\ttotal: 65.1ms\tremaining: 749ms\n",
      "80:\tlearn: 0.4410435\ttotal: 65.9ms\tremaining: 747ms\n",
      "81:\tlearn: 0.4385541\ttotal: 66.6ms\tremaining: 746ms\n",
      "82:\tlearn: 0.4362346\ttotal: 67.4ms\tremaining: 745ms\n",
      "83:\tlearn: 0.4340894\ttotal: 68.2ms\tremaining: 744ms\n",
      "84:\tlearn: 0.4327869\ttotal: 68.7ms\tremaining: 739ms\n",
      "85:\tlearn: 0.4310690\ttotal: 69.4ms\tremaining: 738ms\n",
      "86:\tlearn: 0.4292675\ttotal: 70.1ms\tremaining: 736ms\n",
      "87:\tlearn: 0.4271586\ttotal: 70.9ms\tremaining: 735ms\n",
      "88:\tlearn: 0.4253686\ttotal: 71.6ms\tremaining: 733ms\n",
      "89:\tlearn: 0.4232568\ttotal: 72.4ms\tremaining: 732ms\n",
      "90:\tlearn: 0.4221019\ttotal: 73ms\tremaining: 729ms\n",
      "91:\tlearn: 0.4201194\ttotal: 73.8ms\tremaining: 728ms\n",
      "92:\tlearn: 0.4186350\ttotal: 74.2ms\tremaining: 724ms\n",
      "93:\tlearn: 0.4167727\ttotal: 75ms\tremaining: 723ms\n",
      "94:\tlearn: 0.4151599\ttotal: 75.8ms\tremaining: 722ms\n",
      "95:\tlearn: 0.4136037\ttotal: 76.5ms\tremaining: 721ms\n",
      "96:\tlearn: 0.4117959\ttotal: 77.3ms\tremaining: 719ms\n",
      "97:\tlearn: 0.4099109\ttotal: 78ms\tremaining: 718ms\n",
      "98:\tlearn: 0.4081245\ttotal: 78.8ms\tremaining: 717ms\n",
      "99:\tlearn: 0.4065649\ttotal: 79.5ms\tremaining: 716ms\n",
      "100:\tlearn: 0.4051642\ttotal: 80.3ms\tremaining: 715ms\n",
      "101:\tlearn: 0.4031288\ttotal: 81.1ms\tremaining: 714ms\n",
      "102:\tlearn: 0.4017582\ttotal: 81.9ms\tremaining: 714ms\n",
      "103:\tlearn: 0.4005959\ttotal: 82.7ms\tremaining: 713ms\n",
      "104:\tlearn: 0.3986606\ttotal: 83.5ms\tremaining: 711ms\n",
      "105:\tlearn: 0.3967366\ttotal: 84.2ms\tremaining: 710ms\n",
      "106:\tlearn: 0.3953816\ttotal: 85ms\tremaining: 709ms\n",
      "107:\tlearn: 0.3938634\ttotal: 85.7ms\tremaining: 708ms\n",
      "108:\tlearn: 0.3923307\ttotal: 86.5ms\tremaining: 707ms\n",
      "109:\tlearn: 0.3907604\ttotal: 87.3ms\tremaining: 706ms\n",
      "110:\tlearn: 0.3891964\ttotal: 88ms\tremaining: 705ms\n",
      "111:\tlearn: 0.3876661\ttotal: 88.8ms\tremaining: 704ms\n",
      "112:\tlearn: 0.3863811\ttotal: 89.6ms\tremaining: 703ms\n",
      "113:\tlearn: 0.3846394\ttotal: 90.3ms\tremaining: 702ms\n",
      "114:\tlearn: 0.3834960\ttotal: 91.1ms\tremaining: 701ms\n",
      "115:\tlearn: 0.3823632\ttotal: 91.8ms\tremaining: 700ms\n",
      "116:\tlearn: 0.3801933\ttotal: 92.6ms\tremaining: 699ms\n",
      "117:\tlearn: 0.3787948\ttotal: 93.3ms\tremaining: 697ms\n",
      "118:\tlearn: 0.3776303\ttotal: 94.1ms\tremaining: 696ms\n",
      "119:\tlearn: 0.3763759\ttotal: 94.8ms\tremaining: 695ms\n",
      "120:\tlearn: 0.3750939\ttotal: 95.7ms\tremaining: 695ms\n",
      "121:\tlearn: 0.3734565\ttotal: 96.4ms\tremaining: 694ms\n",
      "122:\tlearn: 0.3728587\ttotal: 96.9ms\tremaining: 691ms\n",
      "123:\tlearn: 0.3713744\ttotal: 97.7ms\tremaining: 690ms\n",
      "124:\tlearn: 0.3702346\ttotal: 98.4ms\tremaining: 689ms\n",
      "125:\tlearn: 0.3690096\ttotal: 99.2ms\tremaining: 688ms\n",
      "126:\tlearn: 0.3678785\ttotal: 99.9ms\tremaining: 687ms\n",
      "127:\tlearn: 0.3666012\ttotal: 101ms\tremaining: 686ms\n",
      "128:\tlearn: 0.3651603\ttotal: 101ms\tremaining: 685ms\n",
      "129:\tlearn: 0.3641240\ttotal: 102ms\tremaining: 684ms\n",
      "130:\tlearn: 0.3629044\ttotal: 103ms\tremaining: 683ms\n",
      "131:\tlearn: 0.3621974\ttotal: 103ms\tremaining: 680ms\n",
      "132:\tlearn: 0.3609978\ttotal: 104ms\tremaining: 679ms\n",
      "133:\tlearn: 0.3594926\ttotal: 105ms\tremaining: 678ms\n",
      "134:\tlearn: 0.3581089\ttotal: 106ms\tremaining: 677ms\n",
      "135:\tlearn: 0.3570817\ttotal: 106ms\tremaining: 676ms\n",
      "136:\tlearn: 0.3552675\ttotal: 107ms\tremaining: 675ms\n",
      "137:\tlearn: 0.3541634\ttotal: 108ms\tremaining: 674ms\n",
      "138:\tlearn: 0.3532240\ttotal: 109ms\tremaining: 673ms\n",
      "139:\tlearn: 0.3519512\ttotal: 109ms\tremaining: 672ms\n",
      "140:\tlearn: 0.3505952\ttotal: 110ms\tremaining: 671ms\n",
      "141:\tlearn: 0.3497849\ttotal: 111ms\tremaining: 670ms\n",
      "142:\tlearn: 0.3488064\ttotal: 112ms\tremaining: 669ms\n",
      "143:\tlearn: 0.3472029\ttotal: 112ms\tremaining: 668ms\n",
      "144:\tlearn: 0.3461476\ttotal: 113ms\tremaining: 667ms\n",
      "145:\tlearn: 0.3448626\ttotal: 114ms\tremaining: 666ms\n",
      "146:\tlearn: 0.3436986\ttotal: 115ms\tremaining: 665ms\n",
      "147:\tlearn: 0.3429861\ttotal: 115ms\tremaining: 664ms\n",
      "148:\tlearn: 0.3418384\ttotal: 116ms\tremaining: 663ms\n",
      "149:\tlearn: 0.3406787\ttotal: 117ms\tremaining: 662ms\n",
      "150:\tlearn: 0.3393708\ttotal: 118ms\tremaining: 662ms\n",
      "151:\tlearn: 0.3381056\ttotal: 118ms\tremaining: 660ms\n",
      "152:\tlearn: 0.3370441\ttotal: 119ms\tremaining: 659ms\n",
      "153:\tlearn: 0.3362300\ttotal: 120ms\tremaining: 658ms\n",
      "154:\tlearn: 0.3350409\ttotal: 121ms\tremaining: 657ms\n",
      "155:\tlearn: 0.3338857\ttotal: 121ms\tremaining: 657ms\n",
      "156:\tlearn: 0.3328171\ttotal: 122ms\tremaining: 656ms\n",
      "157:\tlearn: 0.3317875\ttotal: 123ms\tremaining: 655ms\n",
      "158:\tlearn: 0.3308033\ttotal: 124ms\tremaining: 654ms\n",
      "159:\tlearn: 0.3296489\ttotal: 124ms\tremaining: 653ms\n",
      "160:\tlearn: 0.3289185\ttotal: 125ms\tremaining: 652ms\n",
      "161:\tlearn: 0.3283060\ttotal: 126ms\tremaining: 651ms\n",
      "162:\tlearn: 0.3272627\ttotal: 127ms\tremaining: 650ms\n",
      "163:\tlearn: 0.3268363\ttotal: 127ms\tremaining: 648ms\n",
      "164:\tlearn: 0.3256957\ttotal: 128ms\tremaining: 647ms\n",
      "165:\tlearn: 0.3244943\ttotal: 129ms\tremaining: 646ms\n",
      "166:\tlearn: 0.3232307\ttotal: 129ms\tremaining: 646ms\n",
      "167:\tlearn: 0.3222962\ttotal: 130ms\tremaining: 645ms\n",
      "168:\tlearn: 0.3207276\ttotal: 131ms\tremaining: 645ms\n",
      "169:\tlearn: 0.3198594\ttotal: 132ms\tremaining: 645ms\n",
      "170:\tlearn: 0.3191529\ttotal: 133ms\tremaining: 645ms\n",
      "171:\tlearn: 0.3181479\ttotal: 134ms\tremaining: 644ms\n",
      "172:\tlearn: 0.3170160\ttotal: 135ms\tremaining: 643ms\n",
      "173:\tlearn: 0.3161231\ttotal: 135ms\tremaining: 643ms\n",
      "174:\tlearn: 0.3151805\ttotal: 136ms\tremaining: 642ms\n",
      "175:\tlearn: 0.3142322\ttotal: 137ms\tremaining: 641ms\n",
      "176:\tlearn: 0.3130827\ttotal: 138ms\tremaining: 640ms\n",
      "177:\tlearn: 0.3118176\ttotal: 138ms\tremaining: 639ms\n",
      "178:\tlearn: 0.3108753\ttotal: 139ms\tremaining: 638ms\n",
      "179:\tlearn: 0.3101708\ttotal: 140ms\tremaining: 637ms\n",
      "180:\tlearn: 0.3092087\ttotal: 141ms\tremaining: 637ms\n",
      "181:\tlearn: 0.3083770\ttotal: 142ms\tremaining: 636ms\n",
      "182:\tlearn: 0.3075107\ttotal: 142ms\tremaining: 636ms\n",
      "183:\tlearn: 0.3062834\ttotal: 143ms\tremaining: 635ms\n",
      "184:\tlearn: 0.3053945\ttotal: 144ms\tremaining: 634ms\n",
      "185:\tlearn: 0.3043516\ttotal: 145ms\tremaining: 633ms\n",
      "186:\tlearn: 0.3035432\ttotal: 145ms\tremaining: 632ms\n",
      "187:\tlearn: 0.3026621\ttotal: 146ms\tremaining: 632ms\n",
      "188:\tlearn: 0.3016584\ttotal: 147ms\tremaining: 631ms\n",
      "189:\tlearn: 0.3007617\ttotal: 148ms\tremaining: 630ms\n",
      "190:\tlearn: 0.3001668\ttotal: 149ms\tremaining: 629ms\n",
      "191:\tlearn: 0.2994139\ttotal: 149ms\tremaining: 629ms\n",
      "192:\tlearn: 0.2987843\ttotal: 150ms\tremaining: 628ms\n",
      "193:\tlearn: 0.2976239\ttotal: 151ms\tremaining: 628ms\n",
      "194:\tlearn: 0.2968201\ttotal: 152ms\tremaining: 627ms\n",
      "195:\tlearn: 0.2960890\ttotal: 153ms\tremaining: 627ms\n",
      "196:\tlearn: 0.2950658\ttotal: 154ms\tremaining: 626ms\n",
      "197:\tlearn: 0.2944891\ttotal: 154ms\tremaining: 626ms\n",
      "198:\tlearn: 0.2935687\ttotal: 155ms\tremaining: 625ms\n",
      "199:\tlearn: 0.2925046\ttotal: 156ms\tremaining: 624ms\n",
      "200:\tlearn: 0.2916356\ttotal: 157ms\tremaining: 623ms\n",
      "201:\tlearn: 0.2906626\ttotal: 157ms\tremaining: 622ms\n",
      "202:\tlearn: 0.2901979\ttotal: 158ms\tremaining: 621ms\n",
      "203:\tlearn: 0.2895448\ttotal: 159ms\tremaining: 621ms\n",
      "204:\tlearn: 0.2887567\ttotal: 160ms\tremaining: 621ms\n",
      "205:\tlearn: 0.2881743\ttotal: 161ms\tremaining: 620ms\n",
      "206:\tlearn: 0.2874299\ttotal: 162ms\tremaining: 620ms\n",
      "207:\tlearn: 0.2868571\ttotal: 162ms\tremaining: 619ms\n",
      "208:\tlearn: 0.2863688\ttotal: 163ms\tremaining: 618ms\n",
      "209:\tlearn: 0.2857666\ttotal: 164ms\tremaining: 617ms\n",
      "210:\tlearn: 0.2849921\ttotal: 165ms\tremaining: 616ms\n",
      "211:\tlearn: 0.2841783\ttotal: 166ms\tremaining: 615ms\n",
      "212:\tlearn: 0.2836319\ttotal: 166ms\tremaining: 615ms\n",
      "213:\tlearn: 0.2828225\ttotal: 167ms\tremaining: 614ms\n",
      "214:\tlearn: 0.2821056\ttotal: 168ms\tremaining: 613ms\n",
      "215:\tlearn: 0.2813923\ttotal: 169ms\tremaining: 612ms\n",
      "216:\tlearn: 0.2809398\ttotal: 170ms\tremaining: 612ms\n",
      "217:\tlearn: 0.2804144\ttotal: 170ms\tremaining: 611ms\n",
      "218:\tlearn: 0.2795299\ttotal: 171ms\tremaining: 610ms\n",
      "219:\tlearn: 0.2788841\ttotal: 172ms\tremaining: 610ms\n",
      "220:\tlearn: 0.2780356\ttotal: 173ms\tremaining: 610ms\n",
      "221:\tlearn: 0.2773682\ttotal: 174ms\tremaining: 609ms\n",
      "222:\tlearn: 0.2764869\ttotal: 175ms\tremaining: 608ms\n",
      "223:\tlearn: 0.2757189\ttotal: 175ms\tremaining: 607ms\n",
      "224:\tlearn: 0.2750025\ttotal: 176ms\tremaining: 606ms\n",
      "225:\tlearn: 0.2743987\ttotal: 177ms\tremaining: 606ms\n",
      "226:\tlearn: 0.2736956\ttotal: 178ms\tremaining: 605ms\n",
      "227:\tlearn: 0.2729888\ttotal: 179ms\tremaining: 605ms\n",
      "228:\tlearn: 0.2723009\ttotal: 179ms\tremaining: 604ms\n",
      "229:\tlearn: 0.2715863\ttotal: 180ms\tremaining: 603ms\n",
      "230:\tlearn: 0.2711482\ttotal: 181ms\tremaining: 603ms\n",
      "231:\tlearn: 0.2702293\ttotal: 182ms\tremaining: 602ms\n",
      "232:\tlearn: 0.2696775\ttotal: 183ms\tremaining: 601ms\n",
      "233:\tlearn: 0.2689392\ttotal: 183ms\tremaining: 600ms\n",
      "234:\tlearn: 0.2682987\ttotal: 184ms\tremaining: 600ms\n",
      "235:\tlearn: 0.2676851\ttotal: 185ms\tremaining: 599ms\n",
      "236:\tlearn: 0.2669071\ttotal: 186ms\tremaining: 598ms\n",
      "237:\tlearn: 0.2660040\ttotal: 187ms\tremaining: 598ms\n",
      "238:\tlearn: 0.2654114\ttotal: 187ms\tremaining: 597ms\n",
      "239:\tlearn: 0.2649564\ttotal: 188ms\tremaining: 596ms\n",
      "240:\tlearn: 0.2642004\ttotal: 189ms\tremaining: 596ms\n",
      "241:\tlearn: 0.2633220\ttotal: 190ms\tremaining: 595ms\n",
      "242:\tlearn: 0.2624747\ttotal: 191ms\tremaining: 594ms\n",
      "243:\tlearn: 0.2618468\ttotal: 191ms\tremaining: 593ms\n",
      "244:\tlearn: 0.2612120\ttotal: 192ms\tremaining: 592ms\n",
      "245:\tlearn: 0.2606929\ttotal: 193ms\tremaining: 592ms\n",
      "246:\tlearn: 0.2603726\ttotal: 194ms\tremaining: 591ms\n",
      "247:\tlearn: 0.2594481\ttotal: 194ms\tremaining: 590ms\n",
      "248:\tlearn: 0.2585725\ttotal: 195ms\tremaining: 589ms\n",
      "249:\tlearn: 0.2578467\ttotal: 196ms\tremaining: 588ms\n",
      "250:\tlearn: 0.2573581\ttotal: 197ms\tremaining: 587ms\n",
      "251:\tlearn: 0.2569785\ttotal: 198ms\tremaining: 587ms\n",
      "252:\tlearn: 0.2562695\ttotal: 198ms\tremaining: 586ms\n",
      "253:\tlearn: 0.2559100\ttotal: 199ms\tremaining: 585ms\n",
      "254:\tlearn: 0.2553201\ttotal: 200ms\tremaining: 584ms\n",
      "255:\tlearn: 0.2547110\ttotal: 201ms\tremaining: 583ms\n",
      "256:\tlearn: 0.2541825\ttotal: 201ms\tremaining: 582ms\n",
      "257:\tlearn: 0.2536980\ttotal: 202ms\tremaining: 581ms\n",
      "258:\tlearn: 0.2532795\ttotal: 203ms\tremaining: 580ms\n",
      "259:\tlearn: 0.2526985\ttotal: 204ms\tremaining: 579ms\n",
      "260:\tlearn: 0.2520081\ttotal: 204ms\tremaining: 579ms\n",
      "261:\tlearn: 0.2514392\ttotal: 205ms\tremaining: 578ms\n",
      "262:\tlearn: 0.2507656\ttotal: 206ms\tremaining: 577ms\n",
      "263:\tlearn: 0.2503211\ttotal: 207ms\tremaining: 576ms\n",
      "264:\tlearn: 0.2497199\ttotal: 207ms\tremaining: 575ms\n",
      "265:\tlearn: 0.2490040\ttotal: 208ms\tremaining: 574ms\n",
      "266:\tlearn: 0.2484637\ttotal: 209ms\tremaining: 573ms\n",
      "267:\tlearn: 0.2480574\ttotal: 210ms\tremaining: 573ms\n",
      "268:\tlearn: 0.2475880\ttotal: 210ms\tremaining: 572ms\n",
      "269:\tlearn: 0.2468586\ttotal: 211ms\tremaining: 571ms\n",
      "270:\tlearn: 0.2465148\ttotal: 212ms\tremaining: 570ms\n",
      "271:\tlearn: 0.2457500\ttotal: 213ms\tremaining: 570ms\n",
      "272:\tlearn: 0.2452142\ttotal: 214ms\tremaining: 569ms\n",
      "273:\tlearn: 0.2447916\ttotal: 214ms\tremaining: 568ms\n",
      "274:\tlearn: 0.2441227\ttotal: 215ms\tremaining: 567ms\n",
      "275:\tlearn: 0.2435091\ttotal: 216ms\tremaining: 566ms\n",
      "276:\tlearn: 0.2429304\ttotal: 217ms\tremaining: 565ms\n",
      "277:\tlearn: 0.2421452\ttotal: 217ms\tremaining: 564ms\n",
      "278:\tlearn: 0.2416742\ttotal: 218ms\tremaining: 563ms\n",
      "279:\tlearn: 0.2413078\ttotal: 219ms\tremaining: 563ms\n",
      "280:\tlearn: 0.2408097\ttotal: 220ms\tremaining: 562ms\n",
      "281:\tlearn: 0.2404598\ttotal: 220ms\tremaining: 561ms\n",
      "282:\tlearn: 0.2397379\ttotal: 221ms\tremaining: 560ms\n",
      "283:\tlearn: 0.2392221\ttotal: 222ms\tremaining: 559ms\n",
      "284:\tlearn: 0.2386102\ttotal: 222ms\tremaining: 558ms\n",
      "285:\tlearn: 0.2381887\ttotal: 223ms\tremaining: 557ms\n",
      "286:\tlearn: 0.2377665\ttotal: 224ms\tremaining: 556ms\n",
      "287:\tlearn: 0.2372638\ttotal: 225ms\tremaining: 556ms\n",
      "288:\tlearn: 0.2368570\ttotal: 226ms\tremaining: 555ms\n",
      "289:\tlearn: 0.2365555\ttotal: 226ms\tremaining: 554ms\n",
      "290:\tlearn: 0.2360151\ttotal: 227ms\tremaining: 553ms\n",
      "291:\tlearn: 0.2356564\ttotal: 228ms\tremaining: 552ms\n",
      "292:\tlearn: 0.2352696\ttotal: 229ms\tremaining: 551ms\n",
      "293:\tlearn: 0.2349551\ttotal: 229ms\tremaining: 551ms\n",
      "294:\tlearn: 0.2342619\ttotal: 230ms\tremaining: 550ms\n",
      "295:\tlearn: 0.2337713\ttotal: 231ms\tremaining: 549ms\n",
      "296:\tlearn: 0.2329870\ttotal: 232ms\tremaining: 548ms\n",
      "297:\tlearn: 0.2323583\ttotal: 232ms\tremaining: 547ms\n",
      "298:\tlearn: 0.2319433\ttotal: 233ms\tremaining: 546ms\n",
      "299:\tlearn: 0.2311764\ttotal: 234ms\tremaining: 546ms\n",
      "300:\tlearn: 0.2307569\ttotal: 235ms\tremaining: 545ms\n",
      "301:\tlearn: 0.2300833\ttotal: 235ms\tremaining: 544ms\n",
      "302:\tlearn: 0.2296732\ttotal: 236ms\tremaining: 543ms\n",
      "303:\tlearn: 0.2291730\ttotal: 237ms\tremaining: 542ms\n",
      "304:\tlearn: 0.2288543\ttotal: 238ms\tremaining: 541ms\n",
      "305:\tlearn: 0.2283524\ttotal: 238ms\tremaining: 541ms\n",
      "306:\tlearn: 0.2277919\ttotal: 239ms\tremaining: 540ms\n",
      "307:\tlearn: 0.2273574\ttotal: 240ms\tremaining: 539ms\n",
      "308:\tlearn: 0.2268644\ttotal: 241ms\tremaining: 538ms\n",
      "309:\tlearn: 0.2263102\ttotal: 241ms\tremaining: 537ms\n",
      "310:\tlearn: 0.2258942\ttotal: 242ms\tremaining: 536ms\n",
      "311:\tlearn: 0.2253615\ttotal: 243ms\tremaining: 536ms\n",
      "312:\tlearn: 0.2250468\ttotal: 244ms\tremaining: 535ms\n",
      "313:\tlearn: 0.2245202\ttotal: 244ms\tremaining: 534ms\n",
      "314:\tlearn: 0.2241888\ttotal: 245ms\tremaining: 533ms\n",
      "315:\tlearn: 0.2236962\ttotal: 246ms\tremaining: 532ms\n",
      "316:\tlearn: 0.2233796\ttotal: 247ms\tremaining: 531ms\n",
      "317:\tlearn: 0.2229978\ttotal: 247ms\tremaining: 530ms\n",
      "318:\tlearn: 0.2226062\ttotal: 248ms\tremaining: 530ms\n",
      "319:\tlearn: 0.2222326\ttotal: 249ms\tremaining: 529ms\n",
      "320:\tlearn: 0.2217284\ttotal: 250ms\tremaining: 528ms\n",
      "321:\tlearn: 0.2213271\ttotal: 250ms\tremaining: 527ms\n",
      "322:\tlearn: 0.2207865\ttotal: 251ms\tremaining: 526ms\n",
      "323:\tlearn: 0.2202021\ttotal: 252ms\tremaining: 525ms\n",
      "324:\tlearn: 0.2196619\ttotal: 253ms\tremaining: 524ms\n",
      "325:\tlearn: 0.2192301\ttotal: 253ms\tremaining: 524ms\n",
      "326:\tlearn: 0.2185730\ttotal: 254ms\tremaining: 523ms\n",
      "327:\tlearn: 0.2179305\ttotal: 255ms\tremaining: 522ms\n",
      "328:\tlearn: 0.2175791\ttotal: 255ms\tremaining: 521ms\n",
      "329:\tlearn: 0.2171806\ttotal: 256ms\tremaining: 520ms\n",
      "330:\tlearn: 0.2169168\ttotal: 257ms\tremaining: 519ms\n",
      "331:\tlearn: 0.2164165\ttotal: 258ms\tremaining: 519ms\n",
      "332:\tlearn: 0.2161592\ttotal: 258ms\tremaining: 518ms\n",
      "333:\tlearn: 0.2156943\ttotal: 259ms\tremaining: 517ms\n",
      "334:\tlearn: 0.2152150\ttotal: 260ms\tremaining: 516ms\n",
      "335:\tlearn: 0.2147317\ttotal: 261ms\tremaining: 515ms\n",
      "336:\tlearn: 0.2144737\ttotal: 261ms\tremaining: 514ms\n",
      "337:\tlearn: 0.2140519\ttotal: 262ms\tremaining: 513ms\n",
      "338:\tlearn: 0.2137141\ttotal: 263ms\tremaining: 513ms\n",
      "339:\tlearn: 0.2133831\ttotal: 264ms\tremaining: 512ms\n",
      "340:\tlearn: 0.2127432\ttotal: 264ms\tremaining: 511ms\n",
      "341:\tlearn: 0.2123545\ttotal: 265ms\tremaining: 510ms\n",
      "342:\tlearn: 0.2118836\ttotal: 266ms\tremaining: 509ms\n",
      "343:\tlearn: 0.2116837\ttotal: 267ms\tremaining: 509ms\n",
      "344:\tlearn: 0.2113685\ttotal: 267ms\tremaining: 508ms\n",
      "345:\tlearn: 0.2110473\ttotal: 268ms\tremaining: 507ms\n",
      "346:\tlearn: 0.2105424\ttotal: 269ms\tremaining: 506ms\n",
      "347:\tlearn: 0.2101818\ttotal: 270ms\tremaining: 505ms\n",
      "348:\tlearn: 0.2099036\ttotal: 270ms\tremaining: 504ms\n",
      "349:\tlearn: 0.2095449\ttotal: 271ms\tremaining: 504ms\n",
      "350:\tlearn: 0.2090646\ttotal: 272ms\tremaining: 503ms\n",
      "351:\tlearn: 0.2084851\ttotal: 273ms\tremaining: 502ms\n",
      "352:\tlearn: 0.2080819\ttotal: 274ms\tremaining: 501ms\n",
      "353:\tlearn: 0.2076174\ttotal: 274ms\tremaining: 500ms\n",
      "354:\tlearn: 0.2071286\ttotal: 275ms\tremaining: 500ms\n",
      "355:\tlearn: 0.2066936\ttotal: 276ms\tremaining: 499ms\n",
      "356:\tlearn: 0.2063815\ttotal: 276ms\tremaining: 498ms\n",
      "357:\tlearn: 0.2059944\ttotal: 277ms\tremaining: 497ms\n",
      "358:\tlearn: 0.2054873\ttotal: 278ms\tremaining: 496ms\n",
      "359:\tlearn: 0.2051713\ttotal: 279ms\tremaining: 495ms\n",
      "360:\tlearn: 0.2046693\ttotal: 279ms\tremaining: 495ms\n",
      "361:\tlearn: 0.2043203\ttotal: 280ms\tremaining: 494ms\n",
      "362:\tlearn: 0.2038059\ttotal: 281ms\tremaining: 493ms\n",
      "363:\tlearn: 0.2034189\ttotal: 282ms\tremaining: 492ms\n",
      "364:\tlearn: 0.2031779\ttotal: 282ms\tremaining: 491ms\n",
      "365:\tlearn: 0.2025299\ttotal: 283ms\tremaining: 490ms\n",
      "366:\tlearn: 0.2022656\ttotal: 284ms\tremaining: 490ms\n",
      "367:\tlearn: 0.2018002\ttotal: 285ms\tremaining: 489ms\n",
      "368:\tlearn: 0.2015015\ttotal: 285ms\tremaining: 488ms\n",
      "369:\tlearn: 0.2010868\ttotal: 286ms\tremaining: 487ms\n",
      "370:\tlearn: 0.2006654\ttotal: 287ms\tremaining: 486ms\n",
      "371:\tlearn: 0.2002822\ttotal: 288ms\tremaining: 486ms\n",
      "372:\tlearn: 0.1998810\ttotal: 288ms\tremaining: 485ms\n",
      "373:\tlearn: 0.1995281\ttotal: 289ms\tremaining: 484ms\n",
      "374:\tlearn: 0.1991262\ttotal: 290ms\tremaining: 483ms\n",
      "375:\tlearn: 0.1989897\ttotal: 291ms\tremaining: 482ms\n",
      "376:\tlearn: 0.1985467\ttotal: 291ms\tremaining: 482ms\n",
      "377:\tlearn: 0.1982128\ttotal: 292ms\tremaining: 481ms\n",
      "378:\tlearn: 0.1977782\ttotal: 293ms\tremaining: 480ms\n",
      "379:\tlearn: 0.1975548\ttotal: 294ms\tremaining: 479ms\n",
      "380:\tlearn: 0.1971654\ttotal: 294ms\tremaining: 478ms\n",
      "381:\tlearn: 0.1967611\ttotal: 295ms\tremaining: 477ms\n",
      "382:\tlearn: 0.1964008\ttotal: 296ms\tremaining: 477ms\n",
      "383:\tlearn: 0.1959102\ttotal: 297ms\tremaining: 476ms\n",
      "384:\tlearn: 0.1955022\ttotal: 297ms\tremaining: 475ms\n",
      "385:\tlearn: 0.1951002\ttotal: 298ms\tremaining: 474ms\n",
      "386:\tlearn: 0.1948376\ttotal: 299ms\tremaining: 474ms\n",
      "387:\tlearn: 0.1944793\ttotal: 300ms\tremaining: 473ms\n",
      "388:\tlearn: 0.1941906\ttotal: 301ms\tremaining: 472ms\n",
      "389:\tlearn: 0.1937366\ttotal: 302ms\tremaining: 472ms\n",
      "390:\tlearn: 0.1933551\ttotal: 303ms\tremaining: 471ms\n",
      "391:\tlearn: 0.1930094\ttotal: 303ms\tremaining: 470ms\n",
      "392:\tlearn: 0.1926220\ttotal: 304ms\tremaining: 470ms\n",
      "393:\tlearn: 0.1923578\ttotal: 305ms\tremaining: 469ms\n",
      "394:\tlearn: 0.1920051\ttotal: 306ms\tremaining: 468ms\n",
      "395:\tlearn: 0.1915633\ttotal: 306ms\tremaining: 467ms\n",
      "396:\tlearn: 0.1913196\ttotal: 307ms\tremaining: 467ms\n",
      "397:\tlearn: 0.1908762\ttotal: 308ms\tremaining: 466ms\n",
      "398:\tlearn: 0.1905243\ttotal: 309ms\tremaining: 465ms\n",
      "399:\tlearn: 0.1901466\ttotal: 310ms\tremaining: 465ms\n",
      "400:\tlearn: 0.1898159\ttotal: 310ms\tremaining: 464ms\n",
      "401:\tlearn: 0.1894697\ttotal: 311ms\tremaining: 463ms\n",
      "402:\tlearn: 0.1889116\ttotal: 312ms\tremaining: 462ms\n",
      "403:\tlearn: 0.1884161\ttotal: 313ms\tremaining: 462ms\n",
      "404:\tlearn: 0.1879975\ttotal: 314ms\tremaining: 461ms\n",
      "405:\tlearn: 0.1875270\ttotal: 315ms\tremaining: 460ms\n",
      "406:\tlearn: 0.1870680\ttotal: 315ms\tremaining: 460ms\n",
      "407:\tlearn: 0.1867653\ttotal: 316ms\tremaining: 459ms\n",
      "408:\tlearn: 0.1864357\ttotal: 317ms\tremaining: 458ms\n",
      "409:\tlearn: 0.1860088\ttotal: 318ms\tremaining: 457ms\n",
      "410:\tlearn: 0.1857171\ttotal: 319ms\tremaining: 457ms\n",
      "411:\tlearn: 0.1854819\ttotal: 319ms\tremaining: 456ms\n",
      "412:\tlearn: 0.1851455\ttotal: 320ms\tremaining: 455ms\n",
      "413:\tlearn: 0.1848130\ttotal: 321ms\tremaining: 454ms\n",
      "414:\tlearn: 0.1845486\ttotal: 322ms\tremaining: 454ms\n",
      "415:\tlearn: 0.1842678\ttotal: 322ms\tremaining: 453ms\n",
      "416:\tlearn: 0.1839584\ttotal: 323ms\tremaining: 452ms\n",
      "417:\tlearn: 0.1836173\ttotal: 324ms\tremaining: 451ms\n",
      "418:\tlearn: 0.1831532\ttotal: 325ms\tremaining: 450ms\n",
      "419:\tlearn: 0.1827546\ttotal: 326ms\tremaining: 450ms\n",
      "420:\tlearn: 0.1824802\ttotal: 327ms\tremaining: 449ms\n",
      "421:\tlearn: 0.1821287\ttotal: 327ms\tremaining: 448ms\n",
      "422:\tlearn: 0.1818043\ttotal: 328ms\tremaining: 448ms\n",
      "423:\tlearn: 0.1815767\ttotal: 330ms\tremaining: 448ms\n",
      "424:\tlearn: 0.1811645\ttotal: 330ms\tremaining: 447ms\n",
      "425:\tlearn: 0.1808969\ttotal: 331ms\tremaining: 446ms\n",
      "426:\tlearn: 0.1805600\ttotal: 332ms\tremaining: 446ms\n",
      "427:\tlearn: 0.1803152\ttotal: 333ms\tremaining: 445ms\n",
      "428:\tlearn: 0.1799270\ttotal: 334ms\tremaining: 444ms\n",
      "429:\tlearn: 0.1796838\ttotal: 335ms\tremaining: 444ms\n",
      "430:\tlearn: 0.1793585\ttotal: 335ms\tremaining: 443ms\n",
      "431:\tlearn: 0.1791017\ttotal: 336ms\tremaining: 442ms\n",
      "432:\tlearn: 0.1788417\ttotal: 337ms\tremaining: 441ms\n",
      "433:\tlearn: 0.1784322\ttotal: 338ms\tremaining: 440ms\n",
      "434:\tlearn: 0.1781623\ttotal: 339ms\tremaining: 440ms\n",
      "435:\tlearn: 0.1778975\ttotal: 339ms\tremaining: 439ms\n",
      "436:\tlearn: 0.1775269\ttotal: 340ms\tremaining: 438ms\n",
      "437:\tlearn: 0.1772508\ttotal: 341ms\tremaining: 438ms\n",
      "438:\tlearn: 0.1769115\ttotal: 342ms\tremaining: 437ms\n",
      "439:\tlearn: 0.1766156\ttotal: 343ms\tremaining: 436ms\n",
      "440:\tlearn: 0.1762361\ttotal: 343ms\tremaining: 435ms\n",
      "441:\tlearn: 0.1761031\ttotal: 344ms\tremaining: 434ms\n",
      "442:\tlearn: 0.1757957\ttotal: 345ms\tremaining: 434ms\n",
      "443:\tlearn: 0.1755277\ttotal: 346ms\tremaining: 433ms\n",
      "444:\tlearn: 0.1752585\ttotal: 347ms\tremaining: 432ms\n",
      "445:\tlearn: 0.1748113\ttotal: 347ms\tremaining: 431ms\n",
      "446:\tlearn: 0.1745204\ttotal: 348ms\tremaining: 431ms\n",
      "447:\tlearn: 0.1742057\ttotal: 349ms\tremaining: 430ms\n",
      "448:\tlearn: 0.1739093\ttotal: 350ms\tremaining: 429ms\n",
      "449:\tlearn: 0.1736132\ttotal: 351ms\tremaining: 429ms\n",
      "450:\tlearn: 0.1734485\ttotal: 351ms\tremaining: 428ms\n",
      "451:\tlearn: 0.1731282\ttotal: 352ms\tremaining: 427ms\n",
      "452:\tlearn: 0.1729005\ttotal: 353ms\tremaining: 426ms\n",
      "453:\tlearn: 0.1725017\ttotal: 354ms\tremaining: 425ms\n",
      "454:\tlearn: 0.1722864\ttotal: 355ms\tremaining: 425ms\n",
      "455:\tlearn: 0.1719689\ttotal: 355ms\tremaining: 424ms\n",
      "456:\tlearn: 0.1718462\ttotal: 356ms\tremaining: 423ms\n",
      "457:\tlearn: 0.1715116\ttotal: 357ms\tremaining: 423ms\n",
      "458:\tlearn: 0.1713077\ttotal: 358ms\tremaining: 422ms\n",
      "459:\tlearn: 0.1710418\ttotal: 359ms\tremaining: 421ms\n",
      "460:\tlearn: 0.1708625\ttotal: 359ms\tremaining: 420ms\n",
      "461:\tlearn: 0.1706376\ttotal: 360ms\tremaining: 419ms\n",
      "462:\tlearn: 0.1705228\ttotal: 361ms\tremaining: 419ms\n",
      "463:\tlearn: 0.1703400\ttotal: 362ms\tremaining: 418ms\n",
      "464:\tlearn: 0.1701024\ttotal: 362ms\tremaining: 417ms\n",
      "465:\tlearn: 0.1697592\ttotal: 363ms\tremaining: 416ms\n",
      "466:\tlearn: 0.1694190\ttotal: 364ms\tremaining: 415ms\n",
      "467:\tlearn: 0.1690019\ttotal: 365ms\tremaining: 415ms\n",
      "468:\tlearn: 0.1687802\ttotal: 365ms\tremaining: 414ms\n",
      "469:\tlearn: 0.1684296\ttotal: 366ms\tremaining: 413ms\n",
      "470:\tlearn: 0.1680605\ttotal: 367ms\tremaining: 412ms\n",
      "471:\tlearn: 0.1678049\ttotal: 368ms\tremaining: 411ms\n",
      "472:\tlearn: 0.1676659\ttotal: 369ms\tremaining: 411ms\n",
      "473:\tlearn: 0.1674194\ttotal: 369ms\tremaining: 410ms\n",
      "474:\tlearn: 0.1670651\ttotal: 370ms\tremaining: 409ms\n",
      "475:\tlearn: 0.1667637\ttotal: 371ms\tremaining: 408ms\n",
      "476:\tlearn: 0.1666252\ttotal: 371ms\tremaining: 407ms\n",
      "477:\tlearn: 0.1662054\ttotal: 372ms\tremaining: 406ms\n",
      "478:\tlearn: 0.1658929\ttotal: 373ms\tremaining: 406ms\n",
      "479:\tlearn: 0.1655720\ttotal: 374ms\tremaining: 405ms\n",
      "480:\tlearn: 0.1652664\ttotal: 374ms\tremaining: 404ms\n",
      "481:\tlearn: 0.1650333\ttotal: 375ms\tremaining: 403ms\n",
      "482:\tlearn: 0.1647475\ttotal: 376ms\tremaining: 402ms\n",
      "483:\tlearn: 0.1644981\ttotal: 377ms\tremaining: 402ms\n",
      "484:\tlearn: 0.1641521\ttotal: 378ms\tremaining: 401ms\n",
      "485:\tlearn: 0.1637560\ttotal: 378ms\tremaining: 400ms\n",
      "486:\tlearn: 0.1634683\ttotal: 379ms\tremaining: 399ms\n",
      "487:\tlearn: 0.1631269\ttotal: 380ms\tremaining: 398ms\n",
      "488:\tlearn: 0.1629668\ttotal: 381ms\tremaining: 398ms\n",
      "489:\tlearn: 0.1627983\ttotal: 381ms\tremaining: 397ms\n",
      "490:\tlearn: 0.1624646\ttotal: 382ms\tremaining: 396ms\n",
      "491:\tlearn: 0.1620680\ttotal: 383ms\tremaining: 395ms\n",
      "492:\tlearn: 0.1618536\ttotal: 384ms\tremaining: 394ms\n",
      "493:\tlearn: 0.1614345\ttotal: 384ms\tremaining: 394ms\n",
      "494:\tlearn: 0.1611942\ttotal: 385ms\tremaining: 393ms\n",
      "495:\tlearn: 0.1609554\ttotal: 386ms\tremaining: 392ms\n",
      "496:\tlearn: 0.1607619\ttotal: 387ms\tremaining: 391ms\n",
      "497:\tlearn: 0.1604107\ttotal: 387ms\tremaining: 390ms\n",
      "498:\tlearn: 0.1602269\ttotal: 388ms\tremaining: 390ms\n",
      "499:\tlearn: 0.1599166\ttotal: 389ms\tremaining: 389ms\n",
      "500:\tlearn: 0.1596913\ttotal: 390ms\tremaining: 388ms\n",
      "501:\tlearn: 0.1594527\ttotal: 390ms\tremaining: 387ms\n",
      "502:\tlearn: 0.1591471\ttotal: 391ms\tremaining: 386ms\n",
      "503:\tlearn: 0.1589785\ttotal: 392ms\tremaining: 385ms\n",
      "504:\tlearn: 0.1586662\ttotal: 392ms\tremaining: 385ms\n",
      "505:\tlearn: 0.1584354\ttotal: 393ms\tremaining: 384ms\n",
      "506:\tlearn: 0.1583011\ttotal: 394ms\tremaining: 383ms\n",
      "507:\tlearn: 0.1579267\ttotal: 395ms\tremaining: 382ms\n",
      "508:\tlearn: 0.1576925\ttotal: 395ms\tremaining: 381ms\n",
      "509:\tlearn: 0.1573811\ttotal: 396ms\tremaining: 381ms\n",
      "510:\tlearn: 0.1571842\ttotal: 397ms\tremaining: 380ms\n",
      "511:\tlearn: 0.1568896\ttotal: 398ms\tremaining: 379ms\n",
      "512:\tlearn: 0.1567017\ttotal: 399ms\tremaining: 378ms\n",
      "513:\tlearn: 0.1565508\ttotal: 399ms\tremaining: 378ms\n",
      "514:\tlearn: 0.1563128\ttotal: 400ms\tremaining: 377ms\n",
      "515:\tlearn: 0.1560685\ttotal: 401ms\tremaining: 376ms\n",
      "516:\tlearn: 0.1557654\ttotal: 402ms\tremaining: 375ms\n",
      "517:\tlearn: 0.1555700\ttotal: 402ms\tremaining: 374ms\n",
      "518:\tlearn: 0.1553756\ttotal: 403ms\tremaining: 374ms\n",
      "519:\tlearn: 0.1551678\ttotal: 404ms\tremaining: 373ms\n",
      "520:\tlearn: 0.1548588\ttotal: 405ms\tremaining: 372ms\n",
      "521:\tlearn: 0.1545162\ttotal: 405ms\tremaining: 371ms\n",
      "522:\tlearn: 0.1543054\ttotal: 406ms\tremaining: 370ms\n",
      "523:\tlearn: 0.1541396\ttotal: 407ms\tremaining: 370ms\n",
      "524:\tlearn: 0.1540348\ttotal: 408ms\tremaining: 369ms\n",
      "525:\tlearn: 0.1537565\ttotal: 408ms\tremaining: 368ms\n",
      "526:\tlearn: 0.1535507\ttotal: 409ms\tremaining: 367ms\n",
      "527:\tlearn: 0.1533633\ttotal: 410ms\tremaining: 366ms\n",
      "528:\tlearn: 0.1531306\ttotal: 411ms\tremaining: 366ms\n",
      "529:\tlearn: 0.1528571\ttotal: 411ms\tremaining: 365ms\n",
      "530:\tlearn: 0.1526028\ttotal: 412ms\tremaining: 364ms\n",
      "531:\tlearn: 0.1523144\ttotal: 413ms\tremaining: 363ms\n",
      "532:\tlearn: 0.1520467\ttotal: 414ms\tremaining: 362ms\n",
      "533:\tlearn: 0.1517854\ttotal: 414ms\tremaining: 362ms\n",
      "534:\tlearn: 0.1513948\ttotal: 415ms\tremaining: 361ms\n",
      "535:\tlearn: 0.1512032\ttotal: 416ms\tremaining: 360ms\n",
      "536:\tlearn: 0.1510560\ttotal: 417ms\tremaining: 359ms\n",
      "537:\tlearn: 0.1507493\ttotal: 417ms\tremaining: 358ms\n",
      "538:\tlearn: 0.1505586\ttotal: 418ms\tremaining: 358ms\n",
      "539:\tlearn: 0.1502486\ttotal: 419ms\tremaining: 357ms\n",
      "540:\tlearn: 0.1501058\ttotal: 419ms\tremaining: 356ms\n",
      "541:\tlearn: 0.1499920\ttotal: 420ms\tremaining: 355ms\n",
      "542:\tlearn: 0.1497285\ttotal: 421ms\tremaining: 354ms\n",
      "543:\tlearn: 0.1494809\ttotal: 422ms\tremaining: 353ms\n",
      "544:\tlearn: 0.1493456\ttotal: 422ms\tremaining: 353ms\n",
      "545:\tlearn: 0.1491678\ttotal: 423ms\tremaining: 352ms\n",
      "546:\tlearn: 0.1490319\ttotal: 424ms\tremaining: 351ms\n",
      "547:\tlearn: 0.1487286\ttotal: 425ms\tremaining: 350ms\n",
      "548:\tlearn: 0.1484653\ttotal: 425ms\tremaining: 350ms\n",
      "549:\tlearn: 0.1482432\ttotal: 426ms\tremaining: 349ms\n",
      "550:\tlearn: 0.1479714\ttotal: 427ms\tremaining: 348ms\n",
      "551:\tlearn: 0.1477401\ttotal: 428ms\tremaining: 347ms\n",
      "552:\tlearn: 0.1475642\ttotal: 428ms\tremaining: 346ms\n",
      "553:\tlearn: 0.1474032\ttotal: 429ms\tremaining: 346ms\n",
      "554:\tlearn: 0.1471643\ttotal: 430ms\tremaining: 345ms\n",
      "555:\tlearn: 0.1469579\ttotal: 431ms\tremaining: 344ms\n",
      "556:\tlearn: 0.1467129\ttotal: 431ms\tremaining: 343ms\n",
      "557:\tlearn: 0.1465154\ttotal: 432ms\tremaining: 342ms\n",
      "558:\tlearn: 0.1464111\ttotal: 433ms\tremaining: 342ms\n",
      "559:\tlearn: 0.1461349\ttotal: 434ms\tremaining: 341ms\n",
      "560:\tlearn: 0.1459183\ttotal: 434ms\tremaining: 340ms\n",
      "561:\tlearn: 0.1457588\ttotal: 435ms\tremaining: 339ms\n",
      "562:\tlearn: 0.1455352\ttotal: 436ms\tremaining: 338ms\n",
      "563:\tlearn: 0.1452297\ttotal: 437ms\tremaining: 338ms\n",
      "564:\tlearn: 0.1449787\ttotal: 437ms\tremaining: 337ms\n",
      "565:\tlearn: 0.1447308\ttotal: 438ms\tremaining: 336ms\n",
      "566:\tlearn: 0.1443651\ttotal: 439ms\tremaining: 335ms\n",
      "567:\tlearn: 0.1441475\ttotal: 440ms\tremaining: 334ms\n",
      "568:\tlearn: 0.1438808\ttotal: 440ms\tremaining: 334ms\n",
      "569:\tlearn: 0.1438099\ttotal: 441ms\tremaining: 333ms\n",
      "570:\tlearn: 0.1435327\ttotal: 442ms\tremaining: 332ms\n",
      "571:\tlearn: 0.1433660\ttotal: 443ms\tremaining: 331ms\n",
      "572:\tlearn: 0.1432592\ttotal: 443ms\tremaining: 330ms\n",
      "573:\tlearn: 0.1430436\ttotal: 444ms\tremaining: 330ms\n",
      "574:\tlearn: 0.1428066\ttotal: 445ms\tremaining: 329ms\n",
      "575:\tlearn: 0.1426751\ttotal: 446ms\tremaining: 328ms\n",
      "576:\tlearn: 0.1425058\ttotal: 446ms\tremaining: 327ms\n",
      "577:\tlearn: 0.1421155\ttotal: 447ms\tremaining: 326ms\n",
      "578:\tlearn: 0.1418946\ttotal: 448ms\tremaining: 326ms\n",
      "579:\tlearn: 0.1417408\ttotal: 449ms\tremaining: 325ms\n",
      "580:\tlearn: 0.1415603\ttotal: 449ms\tremaining: 324ms\n",
      "581:\tlearn: 0.1413726\ttotal: 450ms\tremaining: 323ms\n",
      "582:\tlearn: 0.1411898\ttotal: 451ms\tremaining: 323ms\n",
      "583:\tlearn: 0.1409128\ttotal: 452ms\tremaining: 322ms\n",
      "584:\tlearn: 0.1407438\ttotal: 452ms\tremaining: 321ms\n",
      "585:\tlearn: 0.1405171\ttotal: 453ms\tremaining: 320ms\n",
      "586:\tlearn: 0.1402635\ttotal: 454ms\tremaining: 319ms\n",
      "587:\tlearn: 0.1400954\ttotal: 455ms\tremaining: 319ms\n",
      "588:\tlearn: 0.1399671\ttotal: 455ms\tremaining: 318ms\n",
      "589:\tlearn: 0.1397845\ttotal: 456ms\tremaining: 317ms\n",
      "590:\tlearn: 0.1394130\ttotal: 457ms\tremaining: 316ms\n",
      "591:\tlearn: 0.1392484\ttotal: 458ms\tremaining: 316ms\n",
      "592:\tlearn: 0.1389616\ttotal: 459ms\tremaining: 315ms\n",
      "593:\tlearn: 0.1386577\ttotal: 459ms\tremaining: 314ms\n",
      "594:\tlearn: 0.1385001\ttotal: 460ms\tremaining: 313ms\n",
      "595:\tlearn: 0.1382822\ttotal: 461ms\tremaining: 313ms\n",
      "596:\tlearn: 0.1381236\ttotal: 462ms\tremaining: 312ms\n",
      "597:\tlearn: 0.1380160\ttotal: 463ms\tremaining: 311ms\n",
      "598:\tlearn: 0.1376907\ttotal: 463ms\tremaining: 310ms\n",
      "599:\tlearn: 0.1375335\ttotal: 464ms\tremaining: 309ms\n",
      "600:\tlearn: 0.1372585\ttotal: 465ms\tremaining: 309ms\n",
      "601:\tlearn: 0.1371003\ttotal: 466ms\tremaining: 308ms\n",
      "602:\tlearn: 0.1369360\ttotal: 466ms\tremaining: 307ms\n",
      "603:\tlearn: 0.1366916\ttotal: 467ms\tremaining: 306ms\n",
      "604:\tlearn: 0.1364526\ttotal: 468ms\tremaining: 306ms\n",
      "605:\tlearn: 0.1364291\ttotal: 469ms\tremaining: 305ms\n",
      "606:\tlearn: 0.1362116\ttotal: 470ms\tremaining: 304ms\n",
      "607:\tlearn: 0.1359501\ttotal: 471ms\tremaining: 303ms\n",
      "608:\tlearn: 0.1357228\ttotal: 471ms\tremaining: 303ms\n",
      "609:\tlearn: 0.1356016\ttotal: 472ms\tremaining: 302ms\n",
      "610:\tlearn: 0.1354417\ttotal: 473ms\tremaining: 301ms\n",
      "611:\tlearn: 0.1352226\ttotal: 474ms\tremaining: 300ms\n",
      "612:\tlearn: 0.1350090\ttotal: 475ms\tremaining: 300ms\n",
      "613:\tlearn: 0.1348036\ttotal: 475ms\tremaining: 299ms\n",
      "614:\tlearn: 0.1345539\ttotal: 476ms\tremaining: 298ms\n",
      "615:\tlearn: 0.1343433\ttotal: 477ms\tremaining: 297ms\n",
      "616:\tlearn: 0.1341347\ttotal: 478ms\tremaining: 297ms\n",
      "617:\tlearn: 0.1339308\ttotal: 479ms\tremaining: 296ms\n",
      "618:\tlearn: 0.1337214\ttotal: 479ms\tremaining: 295ms\n",
      "619:\tlearn: 0.1334388\ttotal: 480ms\tremaining: 294ms\n",
      "620:\tlearn: 0.1332091\ttotal: 481ms\tremaining: 293ms\n",
      "621:\tlearn: 0.1330530\ttotal: 482ms\tremaining: 293ms\n",
      "622:\tlearn: 0.1329038\ttotal: 482ms\tremaining: 292ms\n",
      "623:\tlearn: 0.1326185\ttotal: 483ms\tremaining: 291ms\n",
      "624:\tlearn: 0.1324466\ttotal: 484ms\tremaining: 290ms\n",
      "625:\tlearn: 0.1322277\ttotal: 485ms\tremaining: 290ms\n",
      "626:\tlearn: 0.1319829\ttotal: 486ms\tremaining: 289ms\n",
      "627:\tlearn: 0.1318240\ttotal: 486ms\tremaining: 288ms\n",
      "628:\tlearn: 0.1316837\ttotal: 487ms\tremaining: 287ms\n",
      "629:\tlearn: 0.1314606\ttotal: 488ms\tremaining: 287ms\n",
      "630:\tlearn: 0.1311639\ttotal: 489ms\tremaining: 286ms\n",
      "631:\tlearn: 0.1310116\ttotal: 489ms\tremaining: 285ms\n",
      "632:\tlearn: 0.1307973\ttotal: 490ms\tremaining: 284ms\n",
      "633:\tlearn: 0.1306590\ttotal: 491ms\tremaining: 283ms\n",
      "634:\tlearn: 0.1303730\ttotal: 492ms\tremaining: 283ms\n",
      "635:\tlearn: 0.1301781\ttotal: 493ms\tremaining: 282ms\n",
      "636:\tlearn: 0.1300595\ttotal: 493ms\tremaining: 281ms\n",
      "637:\tlearn: 0.1299202\ttotal: 494ms\tremaining: 280ms\n",
      "638:\tlearn: 0.1297346\ttotal: 495ms\tremaining: 280ms\n",
      "639:\tlearn: 0.1295652\ttotal: 496ms\tremaining: 279ms\n",
      "640:\tlearn: 0.1293202\ttotal: 497ms\tremaining: 278ms\n",
      "641:\tlearn: 0.1291059\ttotal: 498ms\tremaining: 277ms\n",
      "642:\tlearn: 0.1289190\ttotal: 498ms\tremaining: 277ms\n",
      "643:\tlearn: 0.1287044\ttotal: 499ms\tremaining: 276ms\n",
      "644:\tlearn: 0.1286044\ttotal: 500ms\tremaining: 275ms\n",
      "645:\tlearn: 0.1283666\ttotal: 501ms\tremaining: 274ms\n",
      "646:\tlearn: 0.1281898\ttotal: 502ms\tremaining: 274ms\n",
      "647:\tlearn: 0.1279624\ttotal: 503ms\tremaining: 273ms\n",
      "648:\tlearn: 0.1278346\ttotal: 503ms\tremaining: 272ms\n",
      "649:\tlearn: 0.1276650\ttotal: 504ms\tremaining: 271ms\n",
      "650:\tlearn: 0.1274188\ttotal: 505ms\tremaining: 271ms\n",
      "651:\tlearn: 0.1272692\ttotal: 506ms\tremaining: 270ms\n",
      "652:\tlearn: 0.1269874\ttotal: 507ms\tremaining: 269ms\n",
      "653:\tlearn: 0.1269015\ttotal: 508ms\tremaining: 269ms\n",
      "654:\tlearn: 0.1267242\ttotal: 508ms\tremaining: 268ms\n",
      "655:\tlearn: 0.1265965\ttotal: 509ms\tremaining: 267ms\n",
      "656:\tlearn: 0.1264341\ttotal: 510ms\tremaining: 266ms\n",
      "657:\tlearn: 0.1262617\ttotal: 511ms\tremaining: 266ms\n",
      "658:\tlearn: 0.1261306\ttotal: 512ms\tremaining: 265ms\n",
      "659:\tlearn: 0.1258747\ttotal: 513ms\tremaining: 264ms\n",
      "660:\tlearn: 0.1256521\ttotal: 513ms\tremaining: 263ms\n",
      "661:\tlearn: 0.1254721\ttotal: 514ms\tremaining: 262ms\n",
      "662:\tlearn: 0.1252851\ttotal: 515ms\tremaining: 262ms\n",
      "663:\tlearn: 0.1252036\ttotal: 516ms\tremaining: 261ms\n",
      "664:\tlearn: 0.1249705\ttotal: 516ms\tremaining: 260ms\n",
      "665:\tlearn: 0.1247900\ttotal: 517ms\tremaining: 259ms\n",
      "666:\tlearn: 0.1245860\ttotal: 518ms\tremaining: 259ms\n",
      "667:\tlearn: 0.1243028\ttotal: 519ms\tremaining: 258ms\n",
      "668:\tlearn: 0.1241856\ttotal: 520ms\tremaining: 257ms\n",
      "669:\tlearn: 0.1240016\ttotal: 520ms\tremaining: 256ms\n",
      "670:\tlearn: 0.1238540\ttotal: 521ms\tremaining: 256ms\n",
      "671:\tlearn: 0.1235802\ttotal: 522ms\tremaining: 255ms\n",
      "672:\tlearn: 0.1234171\ttotal: 523ms\tremaining: 254ms\n",
      "673:\tlearn: 0.1233129\ttotal: 524ms\tremaining: 253ms\n",
      "674:\tlearn: 0.1230965\ttotal: 524ms\tremaining: 252ms\n",
      "675:\tlearn: 0.1230051\ttotal: 525ms\tremaining: 252ms\n",
      "676:\tlearn: 0.1228659\ttotal: 526ms\tremaining: 251ms\n",
      "677:\tlearn: 0.1227155\ttotal: 527ms\tremaining: 250ms\n",
      "678:\tlearn: 0.1225682\ttotal: 528ms\tremaining: 249ms\n",
      "679:\tlearn: 0.1224149\ttotal: 528ms\tremaining: 249ms\n",
      "680:\tlearn: 0.1222540\ttotal: 529ms\tremaining: 248ms\n",
      "681:\tlearn: 0.1220565\ttotal: 530ms\tremaining: 247ms\n",
      "682:\tlearn: 0.1218170\ttotal: 531ms\tremaining: 246ms\n",
      "683:\tlearn: 0.1217089\ttotal: 532ms\tremaining: 246ms\n",
      "684:\tlearn: 0.1215489\ttotal: 532ms\tremaining: 245ms\n",
      "685:\tlearn: 0.1214038\ttotal: 533ms\tremaining: 244ms\n",
      "686:\tlearn: 0.1211888\ttotal: 534ms\tremaining: 243ms\n",
      "687:\tlearn: 0.1209991\ttotal: 535ms\tremaining: 242ms\n",
      "688:\tlearn: 0.1208608\ttotal: 535ms\tremaining: 242ms\n",
      "689:\tlearn: 0.1205947\ttotal: 536ms\tremaining: 241ms\n",
      "690:\tlearn: 0.1203624\ttotal: 537ms\tremaining: 240ms\n",
      "691:\tlearn: 0.1201655\ttotal: 538ms\tremaining: 239ms\n",
      "692:\tlearn: 0.1199260\ttotal: 539ms\tremaining: 239ms\n",
      "693:\tlearn: 0.1197227\ttotal: 540ms\tremaining: 238ms\n",
      "694:\tlearn: 0.1195495\ttotal: 540ms\tremaining: 237ms\n",
      "695:\tlearn: 0.1193486\ttotal: 541ms\tremaining: 236ms\n",
      "696:\tlearn: 0.1191775\ttotal: 542ms\tremaining: 236ms\n",
      "697:\tlearn: 0.1189887\ttotal: 543ms\tremaining: 235ms\n",
      "698:\tlearn: 0.1187723\ttotal: 544ms\tremaining: 234ms\n",
      "699:\tlearn: 0.1185565\ttotal: 544ms\tremaining: 233ms\n",
      "700:\tlearn: 0.1184356\ttotal: 545ms\tremaining: 232ms\n",
      "701:\tlearn: 0.1182681\ttotal: 546ms\tremaining: 232ms\n",
      "702:\tlearn: 0.1180609\ttotal: 547ms\tremaining: 231ms\n",
      "703:\tlearn: 0.1178490\ttotal: 547ms\tremaining: 230ms\n",
      "704:\tlearn: 0.1177039\ttotal: 548ms\tremaining: 229ms\n",
      "705:\tlearn: 0.1175270\ttotal: 549ms\tremaining: 229ms\n",
      "706:\tlearn: 0.1172957\ttotal: 550ms\tremaining: 228ms\n",
      "707:\tlearn: 0.1171607\ttotal: 550ms\tremaining: 227ms\n",
      "708:\tlearn: 0.1170643\ttotal: 551ms\tremaining: 226ms\n",
      "709:\tlearn: 0.1169093\ttotal: 552ms\tremaining: 225ms\n",
      "710:\tlearn: 0.1166485\ttotal: 553ms\tremaining: 225ms\n",
      "711:\tlearn: 0.1165343\ttotal: 553ms\tremaining: 224ms\n",
      "712:\tlearn: 0.1163273\ttotal: 554ms\tremaining: 223ms\n",
      "713:\tlearn: 0.1162451\ttotal: 555ms\tremaining: 222ms\n",
      "714:\tlearn: 0.1161114\ttotal: 556ms\tremaining: 221ms\n",
      "715:\tlearn: 0.1159632\ttotal: 556ms\tremaining: 221ms\n",
      "716:\tlearn: 0.1157987\ttotal: 557ms\tremaining: 220ms\n",
      "717:\tlearn: 0.1156089\ttotal: 558ms\tremaining: 219ms\n",
      "718:\tlearn: 0.1154701\ttotal: 559ms\tremaining: 218ms\n",
      "719:\tlearn: 0.1152919\ttotal: 559ms\tremaining: 218ms\n",
      "720:\tlearn: 0.1150976\ttotal: 560ms\tremaining: 217ms\n",
      "721:\tlearn: 0.1149511\ttotal: 561ms\tremaining: 216ms\n",
      "722:\tlearn: 0.1147120\ttotal: 562ms\tremaining: 215ms\n",
      "723:\tlearn: 0.1145887\ttotal: 562ms\tremaining: 214ms\n",
      "724:\tlearn: 0.1144427\ttotal: 563ms\tremaining: 214ms\n",
      "725:\tlearn: 0.1143114\ttotal: 564ms\tremaining: 213ms\n",
      "726:\tlearn: 0.1141348\ttotal: 565ms\tremaining: 212ms\n",
      "727:\tlearn: 0.1140308\ttotal: 565ms\tremaining: 211ms\n",
      "728:\tlearn: 0.1138725\ttotal: 566ms\tremaining: 210ms\n",
      "729:\tlearn: 0.1136952\ttotal: 567ms\tremaining: 210ms\n",
      "730:\tlearn: 0.1134977\ttotal: 568ms\tremaining: 209ms\n",
      "731:\tlearn: 0.1133248\ttotal: 568ms\tremaining: 208ms\n",
      "732:\tlearn: 0.1131369\ttotal: 569ms\tremaining: 207ms\n",
      "733:\tlearn: 0.1129647\ttotal: 570ms\tremaining: 207ms\n",
      "734:\tlearn: 0.1128640\ttotal: 571ms\tremaining: 206ms\n",
      "735:\tlearn: 0.1127950\ttotal: 571ms\tremaining: 205ms\n",
      "736:\tlearn: 0.1126131\ttotal: 572ms\tremaining: 204ms\n",
      "737:\tlearn: 0.1123843\ttotal: 573ms\tremaining: 203ms\n",
      "738:\tlearn: 0.1122664\ttotal: 574ms\tremaining: 203ms\n",
      "739:\tlearn: 0.1121207\ttotal: 574ms\tremaining: 202ms\n",
      "740:\tlearn: 0.1119486\ttotal: 575ms\tremaining: 201ms\n",
      "741:\tlearn: 0.1117983\ttotal: 576ms\tremaining: 200ms\n",
      "742:\tlearn: 0.1115935\ttotal: 577ms\tremaining: 199ms\n",
      "743:\tlearn: 0.1114578\ttotal: 577ms\tremaining: 199ms\n",
      "744:\tlearn: 0.1113252\ttotal: 578ms\tremaining: 198ms\n",
      "745:\tlearn: 0.1111447\ttotal: 579ms\tremaining: 197ms\n",
      "746:\tlearn: 0.1109590\ttotal: 580ms\tremaining: 196ms\n",
      "747:\tlearn: 0.1107854\ttotal: 580ms\tremaining: 196ms\n",
      "748:\tlearn: 0.1106576\ttotal: 581ms\tremaining: 195ms\n",
      "749:\tlearn: 0.1104994\ttotal: 582ms\tremaining: 194ms\n",
      "750:\tlearn: 0.1102808\ttotal: 583ms\tremaining: 193ms\n",
      "751:\tlearn: 0.1101889\ttotal: 583ms\tremaining: 192ms\n",
      "752:\tlearn: 0.1100024\ttotal: 584ms\tremaining: 192ms\n",
      "753:\tlearn: 0.1098757\ttotal: 585ms\tremaining: 191ms\n",
      "754:\tlearn: 0.1097311\ttotal: 586ms\tremaining: 190ms\n",
      "755:\tlearn: 0.1095714\ttotal: 586ms\tremaining: 189ms\n",
      "756:\tlearn: 0.1094132\ttotal: 587ms\tremaining: 188ms\n",
      "757:\tlearn: 0.1092696\ttotal: 588ms\tremaining: 188ms\n",
      "758:\tlearn: 0.1090520\ttotal: 589ms\tremaining: 187ms\n",
      "759:\tlearn: 0.1089441\ttotal: 589ms\tremaining: 186ms\n",
      "760:\tlearn: 0.1087564\ttotal: 590ms\tremaining: 185ms\n",
      "761:\tlearn: 0.1087306\ttotal: 591ms\tremaining: 184ms\n",
      "762:\tlearn: 0.1085369\ttotal: 591ms\tremaining: 184ms\n",
      "763:\tlearn: 0.1083400\ttotal: 592ms\tremaining: 183ms\n",
      "764:\tlearn: 0.1081794\ttotal: 593ms\tremaining: 182ms\n",
      "765:\tlearn: 0.1079819\ttotal: 594ms\tremaining: 181ms\n",
      "766:\tlearn: 0.1077575\ttotal: 594ms\tremaining: 181ms\n",
      "767:\tlearn: 0.1076397\ttotal: 595ms\tremaining: 180ms\n",
      "768:\tlearn: 0.1074710\ttotal: 596ms\tremaining: 179ms\n",
      "769:\tlearn: 0.1073479\ttotal: 597ms\tremaining: 178ms\n",
      "770:\tlearn: 0.1072393\ttotal: 597ms\tremaining: 177ms\n",
      "771:\tlearn: 0.1070733\ttotal: 598ms\tremaining: 177ms\n",
      "772:\tlearn: 0.1069987\ttotal: 599ms\tremaining: 176ms\n",
      "773:\tlearn: 0.1068781\ttotal: 600ms\tremaining: 175ms\n",
      "774:\tlearn: 0.1067318\ttotal: 600ms\tremaining: 174ms\n",
      "775:\tlearn: 0.1066171\ttotal: 601ms\tremaining: 173ms\n",
      "776:\tlearn: 0.1064322\ttotal: 602ms\tremaining: 173ms\n",
      "777:\tlearn: 0.1063410\ttotal: 603ms\tremaining: 172ms\n",
      "778:\tlearn: 0.1061928\ttotal: 603ms\tremaining: 171ms\n",
      "779:\tlearn: 0.1061008\ttotal: 604ms\tremaining: 170ms\n",
      "780:\tlearn: 0.1059667\ttotal: 605ms\tremaining: 170ms\n",
      "781:\tlearn: 0.1057493\ttotal: 606ms\tremaining: 169ms\n",
      "782:\tlearn: 0.1056470\ttotal: 606ms\tremaining: 168ms\n",
      "783:\tlearn: 0.1055086\ttotal: 607ms\tremaining: 167ms\n",
      "784:\tlearn: 0.1054008\ttotal: 608ms\tremaining: 166ms\n",
      "785:\tlearn: 0.1051729\ttotal: 609ms\tremaining: 166ms\n",
      "786:\tlearn: 0.1050413\ttotal: 609ms\tremaining: 165ms\n",
      "787:\tlearn: 0.1049044\ttotal: 610ms\tremaining: 164ms\n",
      "788:\tlearn: 0.1047702\ttotal: 611ms\tremaining: 163ms\n",
      "789:\tlearn: 0.1046719\ttotal: 612ms\tremaining: 163ms\n",
      "790:\tlearn: 0.1044905\ttotal: 612ms\tremaining: 162ms\n",
      "791:\tlearn: 0.1043715\ttotal: 613ms\tremaining: 161ms\n",
      "792:\tlearn: 0.1041827\ttotal: 614ms\tremaining: 160ms\n",
      "793:\tlearn: 0.1040495\ttotal: 615ms\tremaining: 159ms\n",
      "794:\tlearn: 0.1038925\ttotal: 615ms\tremaining: 159ms\n",
      "795:\tlearn: 0.1037415\ttotal: 616ms\tremaining: 158ms\n",
      "796:\tlearn: 0.1036148\ttotal: 617ms\tremaining: 157ms\n",
      "797:\tlearn: 0.1035506\ttotal: 617ms\tremaining: 156ms\n",
      "798:\tlearn: 0.1034212\ttotal: 618ms\tremaining: 156ms\n",
      "799:\tlearn: 0.1032680\ttotal: 619ms\tremaining: 155ms\n",
      "800:\tlearn: 0.1030755\ttotal: 620ms\tremaining: 154ms\n",
      "801:\tlearn: 0.1029196\ttotal: 620ms\tremaining: 153ms\n",
      "802:\tlearn: 0.1028105\ttotal: 621ms\tremaining: 152ms\n",
      "803:\tlearn: 0.1026507\ttotal: 622ms\tremaining: 152ms\n",
      "804:\tlearn: 0.1024293\ttotal: 623ms\tremaining: 151ms\n",
      "805:\tlearn: 0.1022844\ttotal: 623ms\tremaining: 150ms\n",
      "806:\tlearn: 0.1022120\ttotal: 624ms\tremaining: 149ms\n",
      "807:\tlearn: 0.1021162\ttotal: 625ms\tremaining: 149ms\n",
      "808:\tlearn: 0.1019456\ttotal: 626ms\tremaining: 148ms\n",
      "809:\tlearn: 0.1018015\ttotal: 626ms\tremaining: 147ms\n",
      "810:\tlearn: 0.1017195\ttotal: 627ms\tremaining: 146ms\n",
      "811:\tlearn: 0.1015679\ttotal: 628ms\tremaining: 145ms\n",
      "812:\tlearn: 0.1014344\ttotal: 629ms\tremaining: 145ms\n",
      "813:\tlearn: 0.1012898\ttotal: 629ms\tremaining: 144ms\n",
      "814:\tlearn: 0.1012029\ttotal: 630ms\tremaining: 143ms\n",
      "815:\tlearn: 0.1010346\ttotal: 631ms\tremaining: 142ms\n",
      "816:\tlearn: 0.1008883\ttotal: 632ms\tremaining: 141ms\n",
      "817:\tlearn: 0.1007025\ttotal: 632ms\tremaining: 141ms\n",
      "818:\tlearn: 0.1005574\ttotal: 633ms\tremaining: 140ms\n",
      "819:\tlearn: 0.1003804\ttotal: 634ms\tremaining: 139ms\n",
      "820:\tlearn: 0.1002094\ttotal: 635ms\tremaining: 138ms\n",
      "821:\tlearn: 0.1001213\ttotal: 635ms\tremaining: 138ms\n",
      "822:\tlearn: 0.0999583\ttotal: 636ms\tremaining: 137ms\n",
      "823:\tlearn: 0.0997605\ttotal: 637ms\tremaining: 136ms\n",
      "824:\tlearn: 0.0996262\ttotal: 638ms\tremaining: 135ms\n",
      "825:\tlearn: 0.0994698\ttotal: 639ms\tremaining: 135ms\n",
      "826:\tlearn: 0.0993163\ttotal: 640ms\tremaining: 134ms\n",
      "827:\tlearn: 0.0991584\ttotal: 641ms\tremaining: 133ms\n",
      "828:\tlearn: 0.0990030\ttotal: 641ms\tremaining: 132ms\n",
      "829:\tlearn: 0.0988718\ttotal: 642ms\tremaining: 132ms\n",
      "830:\tlearn: 0.0987652\ttotal: 643ms\tremaining: 131ms\n",
      "831:\tlearn: 0.0986504\ttotal: 644ms\tremaining: 130ms\n",
      "832:\tlearn: 0.0985162\ttotal: 645ms\tremaining: 129ms\n",
      "833:\tlearn: 0.0984039\ttotal: 645ms\tremaining: 128ms\n",
      "834:\tlearn: 0.0982525\ttotal: 646ms\tremaining: 128ms\n",
      "835:\tlearn: 0.0981174\ttotal: 647ms\tremaining: 127ms\n",
      "836:\tlearn: 0.0980019\ttotal: 648ms\tremaining: 126ms\n",
      "837:\tlearn: 0.0979051\ttotal: 649ms\tremaining: 125ms\n",
      "838:\tlearn: 0.0977557\ttotal: 649ms\tremaining: 125ms\n",
      "839:\tlearn: 0.0976292\ttotal: 650ms\tremaining: 124ms\n",
      "840:\tlearn: 0.0975047\ttotal: 651ms\tremaining: 123ms\n",
      "841:\tlearn: 0.0973614\ttotal: 652ms\tremaining: 122ms\n",
      "842:\tlearn: 0.0971994\ttotal: 653ms\tremaining: 122ms\n",
      "843:\tlearn: 0.0970948\ttotal: 653ms\tremaining: 121ms\n",
      "844:\tlearn: 0.0969873\ttotal: 654ms\tremaining: 120ms\n",
      "845:\tlearn: 0.0968269\ttotal: 655ms\tremaining: 119ms\n",
      "846:\tlearn: 0.0967044\ttotal: 656ms\tremaining: 118ms\n",
      "847:\tlearn: 0.0966496\ttotal: 656ms\tremaining: 118ms\n",
      "848:\tlearn: 0.0964992\ttotal: 657ms\tremaining: 117ms\n",
      "849:\tlearn: 0.0964000\ttotal: 658ms\tremaining: 116ms\n",
      "850:\tlearn: 0.0962553\ttotal: 658ms\tremaining: 115ms\n",
      "851:\tlearn: 0.0961117\ttotal: 659ms\tremaining: 115ms\n",
      "852:\tlearn: 0.0959607\ttotal: 660ms\tremaining: 114ms\n",
      "853:\tlearn: 0.0958881\ttotal: 661ms\tremaining: 113ms\n",
      "854:\tlearn: 0.0957571\ttotal: 662ms\tremaining: 112ms\n",
      "855:\tlearn: 0.0956307\ttotal: 663ms\tremaining: 111ms\n",
      "856:\tlearn: 0.0954620\ttotal: 663ms\tremaining: 111ms\n",
      "857:\tlearn: 0.0953344\ttotal: 664ms\tremaining: 110ms\n",
      "858:\tlearn: 0.0951856\ttotal: 665ms\tremaining: 109ms\n",
      "859:\tlearn: 0.0950701\ttotal: 666ms\tremaining: 108ms\n",
      "860:\tlearn: 0.0948673\ttotal: 667ms\tremaining: 108ms\n",
      "861:\tlearn: 0.0947345\ttotal: 668ms\tremaining: 107ms\n",
      "862:\tlearn: 0.0945836\ttotal: 669ms\tremaining: 106ms\n",
      "863:\tlearn: 0.0943924\ttotal: 669ms\tremaining: 105ms\n",
      "864:\tlearn: 0.0942615\ttotal: 670ms\tremaining: 105ms\n",
      "865:\tlearn: 0.0940571\ttotal: 671ms\tremaining: 104ms\n",
      "866:\tlearn: 0.0939467\ttotal: 672ms\tremaining: 103ms\n",
      "867:\tlearn: 0.0937631\ttotal: 673ms\tremaining: 102ms\n",
      "868:\tlearn: 0.0936104\ttotal: 674ms\tremaining: 102ms\n",
      "869:\tlearn: 0.0934925\ttotal: 674ms\tremaining: 101ms\n",
      "870:\tlearn: 0.0934226\ttotal: 675ms\tremaining: 100ms\n",
      "871:\tlearn: 0.0932481\ttotal: 676ms\tremaining: 99.2ms\n",
      "872:\tlearn: 0.0931047\ttotal: 677ms\tremaining: 98.5ms\n",
      "873:\tlearn: 0.0929768\ttotal: 678ms\tremaining: 97.7ms\n",
      "874:\tlearn: 0.0928407\ttotal: 679ms\tremaining: 96.9ms\n",
      "875:\tlearn: 0.0926912\ttotal: 679ms\tremaining: 96.2ms\n",
      "876:\tlearn: 0.0926039\ttotal: 680ms\tremaining: 95.4ms\n",
      "877:\tlearn: 0.0924933\ttotal: 681ms\tremaining: 94.7ms\n",
      "878:\tlearn: 0.0923617\ttotal: 682ms\tremaining: 93.9ms\n",
      "879:\tlearn: 0.0922512\ttotal: 683ms\tremaining: 93.1ms\n",
      "880:\tlearn: 0.0921313\ttotal: 684ms\tremaining: 92.4ms\n",
      "881:\tlearn: 0.0919617\ttotal: 685ms\tremaining: 91.6ms\n",
      "882:\tlearn: 0.0917969\ttotal: 686ms\tremaining: 90.8ms\n",
      "883:\tlearn: 0.0916731\ttotal: 686ms\tremaining: 90.1ms\n",
      "884:\tlearn: 0.0915564\ttotal: 687ms\tremaining: 89.3ms\n",
      "885:\tlearn: 0.0914404\ttotal: 688ms\tremaining: 88.5ms\n",
      "886:\tlearn: 0.0913373\ttotal: 689ms\tremaining: 87.7ms\n",
      "887:\tlearn: 0.0912362\ttotal: 690ms\tremaining: 87ms\n",
      "888:\tlearn: 0.0911216\ttotal: 690ms\tremaining: 86.2ms\n",
      "889:\tlearn: 0.0909391\ttotal: 691ms\tremaining: 85.4ms\n",
      "890:\tlearn: 0.0908060\ttotal: 692ms\tremaining: 84.7ms\n",
      "891:\tlearn: 0.0906848\ttotal: 693ms\tremaining: 83.9ms\n",
      "892:\tlearn: 0.0905217\ttotal: 694ms\tremaining: 83.1ms\n",
      "893:\tlearn: 0.0903846\ttotal: 694ms\tremaining: 82.3ms\n",
      "894:\tlearn: 0.0902461\ttotal: 695ms\tremaining: 81.6ms\n",
      "895:\tlearn: 0.0900791\ttotal: 696ms\tremaining: 80.8ms\n",
      "896:\tlearn: 0.0900084\ttotal: 697ms\tremaining: 80ms\n",
      "897:\tlearn: 0.0899439\ttotal: 698ms\tremaining: 79.3ms\n",
      "898:\tlearn: 0.0898331\ttotal: 699ms\tremaining: 78.5ms\n",
      "899:\tlearn: 0.0897002\ttotal: 699ms\tremaining: 77.7ms\n",
      "900:\tlearn: 0.0895992\ttotal: 700ms\tremaining: 76.9ms\n",
      "901:\tlearn: 0.0895050\ttotal: 701ms\tremaining: 76.2ms\n",
      "902:\tlearn: 0.0894015\ttotal: 702ms\tremaining: 75.4ms\n",
      "903:\tlearn: 0.0892935\ttotal: 703ms\tremaining: 74.6ms\n",
      "904:\tlearn: 0.0891616\ttotal: 704ms\tremaining: 73.9ms\n",
      "905:\tlearn: 0.0890713\ttotal: 705ms\tremaining: 73.1ms\n",
      "906:\tlearn: 0.0889590\ttotal: 705ms\tremaining: 72.3ms\n",
      "907:\tlearn: 0.0888057\ttotal: 706ms\tremaining: 71.6ms\n",
      "908:\tlearn: 0.0886445\ttotal: 707ms\tremaining: 70.8ms\n",
      "909:\tlearn: 0.0884645\ttotal: 708ms\tremaining: 70ms\n",
      "910:\tlearn: 0.0883439\ttotal: 709ms\tremaining: 69.2ms\n",
      "911:\tlearn: 0.0882410\ttotal: 709ms\tremaining: 68.5ms\n",
      "912:\tlearn: 0.0881261\ttotal: 710ms\tremaining: 67.7ms\n",
      "913:\tlearn: 0.0879393\ttotal: 711ms\tremaining: 66.9ms\n",
      "914:\tlearn: 0.0878035\ttotal: 712ms\tremaining: 66.1ms\n",
      "915:\tlearn: 0.0876558\ttotal: 713ms\tremaining: 65.3ms\n",
      "916:\tlearn: 0.0875829\ttotal: 713ms\tremaining: 64.6ms\n",
      "917:\tlearn: 0.0874611\ttotal: 714ms\tremaining: 63.8ms\n",
      "918:\tlearn: 0.0873806\ttotal: 715ms\tremaining: 63ms\n",
      "919:\tlearn: 0.0872534\ttotal: 716ms\tremaining: 62.2ms\n",
      "920:\tlearn: 0.0871160\ttotal: 717ms\tremaining: 61.5ms\n",
      "921:\tlearn: 0.0869548\ttotal: 717ms\tremaining: 60.7ms\n",
      "922:\tlearn: 0.0868429\ttotal: 718ms\tremaining: 59.9ms\n",
      "923:\tlearn: 0.0867030\ttotal: 719ms\tremaining: 59.1ms\n",
      "924:\tlearn: 0.0866005\ttotal: 720ms\tremaining: 58.4ms\n",
      "925:\tlearn: 0.0864822\ttotal: 721ms\tremaining: 57.6ms\n",
      "926:\tlearn: 0.0863712\ttotal: 721ms\tremaining: 56.8ms\n",
      "927:\tlearn: 0.0862816\ttotal: 722ms\tremaining: 56ms\n",
      "928:\tlearn: 0.0861820\ttotal: 723ms\tremaining: 55.3ms\n",
      "929:\tlearn: 0.0860868\ttotal: 724ms\tremaining: 54.5ms\n",
      "930:\tlearn: 0.0860357\ttotal: 725ms\tremaining: 53.7ms\n",
      "931:\tlearn: 0.0859296\ttotal: 726ms\tremaining: 52.9ms\n",
      "932:\tlearn: 0.0857982\ttotal: 726ms\tremaining: 52.2ms\n",
      "933:\tlearn: 0.0856993\ttotal: 727ms\tremaining: 51.4ms\n",
      "934:\tlearn: 0.0856300\ttotal: 728ms\tremaining: 50.6ms\n",
      "935:\tlearn: 0.0854673\ttotal: 729ms\tremaining: 49.8ms\n",
      "936:\tlearn: 0.0853810\ttotal: 729ms\tremaining: 49ms\n",
      "937:\tlearn: 0.0852696\ttotal: 730ms\tremaining: 48.3ms\n",
      "938:\tlearn: 0.0851629\ttotal: 731ms\tremaining: 47.5ms\n",
      "939:\tlearn: 0.0850712\ttotal: 732ms\tremaining: 46.7ms\n",
      "940:\tlearn: 0.0849425\ttotal: 732ms\tremaining: 45.9ms\n",
      "941:\tlearn: 0.0848307\ttotal: 733ms\tremaining: 45.1ms\n",
      "942:\tlearn: 0.0847587\ttotal: 734ms\tremaining: 44.4ms\n",
      "943:\tlearn: 0.0846365\ttotal: 735ms\tremaining: 43.6ms\n",
      "944:\tlearn: 0.0845695\ttotal: 735ms\tremaining: 42.8ms\n",
      "945:\tlearn: 0.0844569\ttotal: 736ms\tremaining: 42ms\n",
      "946:\tlearn: 0.0843220\ttotal: 737ms\tremaining: 41.2ms\n",
      "947:\tlearn: 0.0842199\ttotal: 738ms\tremaining: 40.5ms\n",
      "948:\tlearn: 0.0841521\ttotal: 738ms\tremaining: 39.7ms\n",
      "949:\tlearn: 0.0840827\ttotal: 739ms\tremaining: 38.9ms\n",
      "950:\tlearn: 0.0839339\ttotal: 740ms\tremaining: 38.1ms\n",
      "951:\tlearn: 0.0837782\ttotal: 741ms\tremaining: 37.3ms\n",
      "952:\tlearn: 0.0836670\ttotal: 741ms\tremaining: 36.6ms\n",
      "953:\tlearn: 0.0835823\ttotal: 742ms\tremaining: 35.8ms\n",
      "954:\tlearn: 0.0835448\ttotal: 743ms\tremaining: 35ms\n",
      "955:\tlearn: 0.0833850\ttotal: 744ms\tremaining: 34.2ms\n",
      "956:\tlearn: 0.0832262\ttotal: 744ms\tremaining: 33.5ms\n",
      "957:\tlearn: 0.0831044\ttotal: 745ms\tremaining: 32.7ms\n",
      "958:\tlearn: 0.0830120\ttotal: 746ms\tremaining: 31.9ms\n",
      "959:\tlearn: 0.0829541\ttotal: 747ms\tremaining: 31.1ms\n",
      "960:\tlearn: 0.0828093\ttotal: 748ms\tremaining: 30.3ms\n",
      "961:\tlearn: 0.0827058\ttotal: 748ms\tremaining: 29.6ms\n",
      "962:\tlearn: 0.0826153\ttotal: 749ms\tremaining: 28.8ms\n",
      "963:\tlearn: 0.0825845\ttotal: 750ms\tremaining: 28ms\n",
      "964:\tlearn: 0.0825511\ttotal: 750ms\tremaining: 27.2ms\n",
      "965:\tlearn: 0.0824020\ttotal: 751ms\tremaining: 26.4ms\n",
      "966:\tlearn: 0.0823314\ttotal: 752ms\tremaining: 25.7ms\n",
      "967:\tlearn: 0.0822111\ttotal: 753ms\tremaining: 24.9ms\n",
      "968:\tlearn: 0.0821514\ttotal: 753ms\tremaining: 24.1ms\n",
      "969:\tlearn: 0.0820090\ttotal: 754ms\tremaining: 23.3ms\n",
      "970:\tlearn: 0.0818855\ttotal: 755ms\tremaining: 22.6ms\n",
      "971:\tlearn: 0.0817978\ttotal: 756ms\tremaining: 21.8ms\n",
      "972:\tlearn: 0.0816722\ttotal: 757ms\tremaining: 21ms\n",
      "973:\tlearn: 0.0815254\ttotal: 757ms\tremaining: 20.2ms\n",
      "974:\tlearn: 0.0814197\ttotal: 758ms\tremaining: 19.4ms\n",
      "975:\tlearn: 0.0813120\ttotal: 759ms\tremaining: 18.7ms\n",
      "976:\tlearn: 0.0812126\ttotal: 760ms\tremaining: 17.9ms\n",
      "977:\tlearn: 0.0810808\ttotal: 760ms\tremaining: 17.1ms\n",
      "978:\tlearn: 0.0809767\ttotal: 761ms\tremaining: 16.3ms\n",
      "979:\tlearn: 0.0808759\ttotal: 762ms\tremaining: 15.6ms\n",
      "980:\tlearn: 0.0807193\ttotal: 763ms\tremaining: 14.8ms\n",
      "981:\tlearn: 0.0805975\ttotal: 763ms\tremaining: 14ms\n",
      "982:\tlearn: 0.0804843\ttotal: 764ms\tremaining: 13.2ms\n",
      "983:\tlearn: 0.0804156\ttotal: 765ms\tremaining: 12.4ms\n",
      "984:\tlearn: 0.0803206\ttotal: 766ms\tremaining: 11.7ms\n",
      "985:\tlearn: 0.0801618\ttotal: 766ms\tremaining: 10.9ms\n",
      "986:\tlearn: 0.0800390\ttotal: 767ms\tremaining: 10.1ms\n",
      "987:\tlearn: 0.0799428\ttotal: 768ms\tremaining: 9.33ms\n",
      "988:\tlearn: 0.0798465\ttotal: 769ms\tremaining: 8.55ms\n",
      "989:\tlearn: 0.0797541\ttotal: 769ms\tremaining: 7.77ms\n",
      "990:\tlearn: 0.0796158\ttotal: 770ms\tremaining: 6.99ms\n",
      "991:\tlearn: 0.0794602\ttotal: 771ms\tremaining: 6.22ms\n",
      "992:\tlearn: 0.0793606\ttotal: 772ms\tremaining: 5.44ms\n",
      "993:\tlearn: 0.0792352\ttotal: 772ms\tremaining: 4.66ms\n",
      "994:\tlearn: 0.0791476\ttotal: 773ms\tremaining: 3.88ms\n",
      "995:\tlearn: 0.0790666\ttotal: 774ms\tremaining: 3.11ms\n",
      "996:\tlearn: 0.0789295\ttotal: 775ms\tremaining: 2.33ms\n",
      "997:\tlearn: 0.0788620\ttotal: 775ms\tremaining: 1.55ms\n",
      "998:\tlearn: 0.0787786\ttotal: 776ms\tremaining: 776us\n",
      "999:\tlearn: 0.0786880\ttotal: 777ms\tremaining: 0us\n"
     ]
    },
    {
     "data": {
      "text/plain": [
       "86.67"
      ]
     },
     "execution_count": 127,
     "metadata": {},
     "output_type": "execute_result"
    }
   ],
   "source": [
    "from catboost import CatBoostClassifier\n",
    "from sklearn.metrics import accuracy_score, confusion_matrix\n",
    "cat_clf = CatBoostClassifier()\n",
    "cat_clf.fit(x_train,y_train)\n",
    "y_pred_cat = cat_clf.predict(x_test)\n",
    "cat_clf_acc = accuracy_score(y_test, y_pred_cat)\n",
    "accuracy_list.append(round(cat_clf_acc*100, 2))\n",
    "model_list.append('CatBoost')\n",
    "round(cat_clf_acc*100, 2)"
   ]
  },
  {
   "cell_type": "code",
   "execution_count": 128,
   "metadata": {},
   "outputs": [
    {
     "data": {
      "text/plain": [
       "0.8666666666666667"
      ]
     },
     "execution_count": 128,
     "metadata": {},
     "output_type": "execute_result"
    }
   ],
   "source": [
    "cat_clf.score(x_test, y_test)"
   ]
  },
  {
   "cell_type": "code",
   "execution_count": 129,
   "metadata": {},
   "outputs": [
    {
     "data": {
      "text/plain": [
       "array([[31,  5],\n",
       "       [ 3, 21]], dtype=int64)"
      ]
     },
     "execution_count": 129,
     "metadata": {},
     "output_type": "execute_result"
    }
   ],
   "source": [
    "confusion_matrix(y_test, y_pred_cat)"
   ]
  },
  {
   "cell_type": "code",
   "execution_count": 130,
   "metadata": {},
   "outputs": [
    {
     "data": {
      "text/plain": [
       "[83.33, 86.67, 80.0, 88.33, 60.0, 60.0, 73.33, 85.0, 80.0, 86.67]"
      ]
     },
     "execution_count": 130,
     "metadata": {},
     "output_type": "execute_result"
    }
   ],
   "source": [
    "accuracy_list"
   ]
  },
  {
   "cell_type": "code",
   "execution_count": 131,
   "metadata": {},
   "outputs": [
    {
     "data": {
      "text/plain": [
       "['AdaBoost',\n",
       " 'XGBoost',\n",
       " 'GradientBoost',\n",
       " 'Logistic Regression',\n",
       " 'SVC',\n",
       " 'KNN',\n",
       " 'Decision Tree',\n",
       " 'Random Forest',\n",
       " 'LGBM',\n",
       " 'CatBoost']"
      ]
     },
     "execution_count": 131,
     "metadata": {},
     "output_type": "execute_result"
    }
   ],
   "source": [
    "model_list"
   ]
  },
  {
   "cell_type": "code",
   "execution_count": 132,
   "metadata": {},
   "outputs": [
    {
     "data": {
      "text/html": [
       "<div>\n",
       "<style scoped>\n",
       "    .dataframe tbody tr th:only-of-type {\n",
       "        vertical-align: middle;\n",
       "    }\n",
       "\n",
       "    .dataframe tbody tr th {\n",
       "        vertical-align: top;\n",
       "    }\n",
       "\n",
       "    .dataframe thead th {\n",
       "        text-align: right;\n",
       "    }\n",
       "</style>\n",
       "<table border=\"1\" class=\"dataframe\">\n",
       "  <thead>\n",
       "    <tr style=\"text-align: right;\">\n",
       "      <th></th>\n",
       "      <th>x</th>\n",
       "      <th>y</th>\n",
       "    </tr>\n",
       "  </thead>\n",
       "  <tbody>\n",
       "    <tr>\n",
       "      <th>0</th>\n",
       "      <td>AdaBoost</td>\n",
       "      <td>83.33</td>\n",
       "    </tr>\n",
       "    <tr>\n",
       "      <th>1</th>\n",
       "      <td>XGBoost</td>\n",
       "      <td>86.67</td>\n",
       "    </tr>\n",
       "    <tr>\n",
       "      <th>2</th>\n",
       "      <td>GradientBoost</td>\n",
       "      <td>80.00</td>\n",
       "    </tr>\n",
       "    <tr>\n",
       "      <th>3</th>\n",
       "      <td>Logistic Regression</td>\n",
       "      <td>88.33</td>\n",
       "    </tr>\n",
       "    <tr>\n",
       "      <th>4</th>\n",
       "      <td>SVC</td>\n",
       "      <td>60.00</td>\n",
       "    </tr>\n",
       "    <tr>\n",
       "      <th>5</th>\n",
       "      <td>KNN</td>\n",
       "      <td>60.00</td>\n",
       "    </tr>\n",
       "    <tr>\n",
       "      <th>6</th>\n",
       "      <td>Decision Tree</td>\n",
       "      <td>73.33</td>\n",
       "    </tr>\n",
       "    <tr>\n",
       "      <th>7</th>\n",
       "      <td>Random Forest</td>\n",
       "      <td>85.00</td>\n",
       "    </tr>\n",
       "    <tr>\n",
       "      <th>8</th>\n",
       "      <td>LGBM</td>\n",
       "      <td>80.00</td>\n",
       "    </tr>\n",
       "    <tr>\n",
       "      <th>9</th>\n",
       "      <td>CatBoost</td>\n",
       "      <td>86.67</td>\n",
       "    </tr>\n",
       "  </tbody>\n",
       "</table>\n",
       "</div>"
      ],
      "text/plain": [
       "                     x      y\n",
       "0             AdaBoost  83.33\n",
       "1              XGBoost  86.67\n",
       "2        GradientBoost  80.00\n",
       "3  Logistic Regression  88.33\n",
       "4                  SVC  60.00\n",
       "5                  KNN  60.00\n",
       "6        Decision Tree  73.33\n",
       "7        Random Forest  85.00\n",
       "8                 LGBM  80.00\n",
       "9             CatBoost  86.67"
      ]
     },
     "execution_count": 132,
     "metadata": {},
     "output_type": "execute_result"
    }
   ],
   "source": [
    "dataset = pd.DataFrame({'x':model_list, 'y':accuracy_list})\n",
    "dataset"
   ]
  },
  {
   "cell_type": "code",
   "execution_count": 133,
   "metadata": {},
   "outputs": [
    {
     "data": {
      "image/png": "[encoded data removed]",
      "text/plain": [
       "<Figure size 1440x576 with 1 Axes>"
      ]
     },
     "metadata": {
      "needs_background": "light"
     },
     "output_type": "display_data"
    }
   ],
   "source": [
    "plt.rcParams['figure.figsize']=20,8\n",
    "plt.xlabel('Classifier Models', fontsize = 20)\n",
    "plt.ylabel('% of Accuracy', fontsize = 20)\n",
    "plt.bar(model_list, accuracy_list)\n",
    "for i, v in enumerate(model_list):\n",
    "    plt.text(v, accuracy_list[i], accuracy_list[i],  # 좌표 (x축 = v, y축 = y[0]..y[1], 표시 = y[0]..y[1])\n",
    "             fontsize='large',\n",
    "             horizontalalignment='center',  # horizontalalignment (left, center, right)\n",
    "             verticalalignment='bottom')    # verticalalignment (top, center, bottom)"
   ]
  }
 ],
 "metadata": {
  "kernelspec": {
   "display_name": "Python 3",
   "language": "python",
   "name": "python3"
  },
  "language_info": {
   "codemirror_mode": {
    "name": "ipython",
    "version": 3
   },
   "file_extension": ".py",
   "mimetype": "text/x-python",
   "name": "python",
   "nbconvert_exporter": "python",
   "pygments_lexer": "ipython3",
   "version": "3.8.5"
  }
 },
 "nbformat": 4,
 "nbformat_minor": 4
}
