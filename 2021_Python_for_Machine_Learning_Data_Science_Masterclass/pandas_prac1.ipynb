{
 "cells": [
  {
   "cell_type": "code",
   "execution_count": 1,
   "id": "0e11b039-4266-4f7d-9991-394970158ad4",
   "metadata": {},
   "outputs": [],
   "source": [
    "import numpy as np"
   ]
  },
  {
   "cell_type": "code",
   "execution_count": 2,
   "id": "f0588499-61ac-4e1a-89ab-548438ccfb86",
   "metadata": {},
   "outputs": [],
   "source": [
    "import pandas as pd"
   ]
  },
  {
   "cell_type": "code",
   "execution_count": 3,
   "id": "aa970789-acb5-4321-82a0-f0dd6b011b0c",
   "metadata": {},
   "outputs": [],
   "source": [
    "myindex = ['USA', 'Canda', 'Korea']"
   ]
  },
  {
   "cell_type": "code",
   "execution_count": 6,
   "id": "cc4fd54c-71cc-438b-bf59-a92e2855f164",
   "metadata": {},
   "outputs": [],
   "source": [
    "mydata = [1775, 1929, 5932]"
   ]
  },
  {
   "cell_type": "code",
   "execution_count": 7,
   "id": "f358fc10-5ff8-448a-b96b-8628d370a7ce",
   "metadata": {},
   "outputs": [],
   "source": [
    "myseries = pd.Series(data=mydata)"
   ]
  },
  {
   "cell_type": "code",
   "execution_count": 8,
   "id": "97871781-6412-4446-a1f0-2bb1ca01595d",
   "metadata": {},
   "outputs": [
    {
     "data": {
      "text/plain": [
       "0    1775\n",
       "1    1929\n",
       "2    5932\n",
       "dtype: int64"
      ]
     },
     "execution_count": 8,
     "metadata": {},
     "output_type": "execute_result"
    }
   ],
   "source": [
    "myseries"
   ]
  },
  {
   "cell_type": "code",
   "execution_count": 9,
   "id": "0c2811f7-9890-4e8c-9cf7-e5572496d226",
   "metadata": {},
   "outputs": [],
   "source": [
    "myseries = pd.Series(data=mydata, index=myindex)"
   ]
  },
  {
   "cell_type": "code",
   "execution_count": 10,
   "id": "072d95c8-cf08-436a-855a-87b9c054015f",
   "metadata": {},
   "outputs": [
    {
     "data": {
      "text/plain": [
       "USA      1775\n",
       "Canda    1929\n",
       "Korea    5932\n",
       "dtype: int64"
      ]
     },
     "execution_count": 10,
     "metadata": {},
     "output_type": "execute_result"
    }
   ],
   "source": [
    "myseries"
   ]
  },
  {
   "cell_type": "code",
   "execution_count": 11,
   "id": "fcd32c8f-c747-4a37-9eaf-c11c8be75246",
   "metadata": {},
   "outputs": [
    {
     "data": {
      "text/plain": [
       "1775"
      ]
     },
     "execution_count": 11,
     "metadata": {},
     "output_type": "execute_result"
    }
   ],
   "source": [
    "myseries[0]"
   ]
  },
  {
   "cell_type": "code",
   "execution_count": 12,
   "id": "307ce735-79fa-4dc6-bd9e-befe281753d3",
   "metadata": {},
   "outputs": [
    {
     "data": {
      "text/plain": [
       "1775"
      ]
     },
     "execution_count": 12,
     "metadata": {},
     "output_type": "execute_result"
    }
   ],
   "source": [
    "myseries['USA']"
   ]
  },
  {
   "cell_type": "code",
   "execution_count": 13,
   "id": "da6065d2-1124-4c3a-9cb1-e88c39e200da",
   "metadata": {},
   "outputs": [],
   "source": [
    "ages = {'yj':36, 'kelly':40, 'julie':39, 'daniel':10}"
   ]
  },
  {
   "cell_type": "code",
   "execution_count": 14,
   "id": "e98fcc53-42cf-493e-9814-ba2ea0515b9a",
   "metadata": {},
   "outputs": [
    {
     "data": {
      "text/plain": [
       "yj        36\n",
       "kelly     40\n",
       "julie     39\n",
       "daniel    10\n",
       "dtype: int64"
      ]
     },
     "execution_count": 14,
     "metadata": {},
     "output_type": "execute_result"
    }
   ],
   "source": [
    "pd.Series(ages)"
   ]
  },
  {
   "cell_type": "markdown",
   "id": "269b124b-aa43-4f28-b069-75df3b6e900a",
   "metadata": {},
   "source": [
    "## Lect #2. Series Part2"
   ]
  },
  {
   "cell_type": "code",
   "execution_count": 16,
   "id": "668cab7c-f25f-4585-b32e-a7d3df87f2c6",
   "metadata": {},
   "outputs": [],
   "source": [
    "q1 = {'Japan':80, 'China':450, 'India':200, 'USA':250}\n",
    "q2 = {'Brazil': 100, 'China':500, 'India':210, 'USA':260}"
   ]
  },
  {
   "cell_type": "code",
   "execution_count": 26,
   "id": "82802019-9ffa-4751-9280-619ff1916d95",
   "metadata": {},
   "outputs": [],
   "source": [
    "salesq1 = pd.Series(q1)"
   ]
  },
  {
   "cell_type": "code",
   "execution_count": 27,
   "id": "9a4d8452-27ac-431d-8386-6a986abccb13",
   "metadata": {},
   "outputs": [],
   "source": [
    "salesq2 = pd.Series(q2)"
   ]
  },
  {
   "cell_type": "code",
   "execution_count": 28,
   "id": "d735fa88-ef64-471f-8e4c-4d767066ef30",
   "metadata": {},
   "outputs": [
    {
     "data": {
      "text/plain": [
       "450"
      ]
     },
     "execution_count": 28,
     "metadata": {},
     "output_type": "execute_result"
    }
   ],
   "source": [
    "salesq1['China']"
   ]
  },
  {
   "cell_type": "code",
   "execution_count": 29,
   "id": "15faa05f-af48-42cb-aa62-ff894c2b3c45",
   "metadata": {},
   "outputs": [
    {
     "data": {
      "text/plain": [
       "Index(['Japan', 'China', 'India', 'USA'], dtype='object')"
      ]
     },
     "execution_count": 29,
     "metadata": {},
     "output_type": "execute_result"
    }
   ],
   "source": [
    "salesq1.keys()"
   ]
  },
  {
   "cell_type": "code",
   "execution_count": 30,
   "id": "42c14026-ffbb-45e1-8bfb-670d75409ed3",
   "metadata": {},
   "outputs": [
    {
     "data": {
      "text/plain": [
       "Brazil      NaN\n",
       "China     950.0\n",
       "India     410.0\n",
       "Japan       NaN\n",
       "USA       510.0\n",
       "dtype: float64"
      ]
     },
     "execution_count": 30,
     "metadata": {},
     "output_type": "execute_result"
    }
   ],
   "source": [
    "salesq1+salesq2"
   ]
  },
  {
   "cell_type": "code",
   "execution_count": 31,
   "id": "3e85c7a8-327d-4bc1-b4d5-2fbbbb848354",
   "metadata": {},
   "outputs": [
    {
     "data": {
      "text/plain": [
       "Brazil    100.0\n",
       "China     950.0\n",
       "India     410.0\n",
       "Japan      80.0\n",
       "USA       510.0\n",
       "dtype: float64"
      ]
     },
     "execution_count": 31,
     "metadata": {},
     "output_type": "execute_result"
    }
   ],
   "source": [
    "salesq1.add(salesq2, fill_value=0)"
   ]
  },
  {
   "cell_type": "code",
   "execution_count": 33,
   "id": "629876d3-8622-4513-9fa4-a4722112dc1f",
   "metadata": {},
   "outputs": [
    {
     "data": {
      "text/plain": [
       "dtype('int64')"
      ]
     },
     "execution_count": 33,
     "metadata": {},
     "output_type": "execute_result"
    }
   ],
   "source": [
    "salesq1.dtypes"
   ]
  },
  {
   "cell_type": "markdown",
   "id": "b7eb19da-da80-40f3-9a7c-eaebedbee1ad",
   "metadata": {},
   "source": [
    "## Lect #3. DataFrame Part1"
   ]
  },
  {
   "cell_type": "code",
   "execution_count": null,
   "id": "22317314-104a-4271-b185-94d821e1e2a3",
   "metadata": {},
   "outputs": [],
   "source": []
  }
 ],
 "metadata": {
  "kernelspec": {
   "display_name": "Python 3 (ipykernel)",
   "language": "python",
   "name": "python3"
  },
  "language_info": {
   "codemirror_mode": {
    "name": "ipython",
    "version": 3
   },
   "file_extension": ".py",
   "mimetype": "text/x-python",
   "name": "python",
   "nbconvert_exporter": "python",
   "pygments_lexer": "ipython3",
   "version": "3.9.7"
  }
 },
 "nbformat": 4,
 "nbformat_minor": 5
}
